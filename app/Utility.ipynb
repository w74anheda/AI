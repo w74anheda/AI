{
 "cells": [
  {
   "cell_type": "code",
   "execution_count": 7,
   "id": "1d7127f4",
   "metadata": {},
   "outputs": [],
   "source": [
    "import numpy as np\n",
    "from scipy import stats"
   ]
  },
  {
   "cell_type": "code",
   "execution_count": 1,
   "id": "db206280",
   "metadata": {},
   "outputs": [],
   "source": [
    "#convert byte to another\n",
    "import math\n",
    "def convert_size(size_bytes):\n",
    "   if size_bytes == 0:\n",
    "       return \"0B\"\n",
    "   size_name = (\"B\", \"KB\", \"MB\", \"GB\", \"TB\", \"PB\", \"EB\", \"ZB\", \"YB\")\n",
    "   i = int(math.floor(math.log(size_bytes, 1024)))\n",
    "   p = math.pow(1024, i)\n",
    "   s = round(size_bytes / p, 2)\n",
    "   return \"%s %s\" % (s, size_name[i])"
   ]
  },
  {
   "cell_type": "code",
   "execution_count": 5,
   "id": "68e1224f",
   "metadata": {},
   "outputs": [],
   "source": [
    "def KL_divergence(p,q):\n",
    "    return np.sum(\n",
    "        np.where(np.logical_and(p!=0,q!=0), p* np.log(p/q), 0 )\n",
    "    )"
   ]
  },
  {
   "cell_type": "code",
   "execution_count": 8,
   "id": "3d8ea4bf",
   "metadata": {},
   "outputs": [],
   "source": [
    "def Jenson_shanon(p,q):\n",
    "    p = p / np.linalg.norm(p, ord=1)\n",
    "    q = q / np.linalg.norm(q, ord=1)\n",
    "    m = .5 * (p + q)\n",
    "    return  .5 * ( stats.entropy(p,m) + stats.entropy(q,m) )"
   ]
  },
  {
   "cell_type": "code",
   "execution_count": 1,
   "id": "a5fa9082",
   "metadata": {},
   "outputs": [],
   "source": [
    "from sklearn.preprocessing import LabelEncoder\n",
    "from sklearn.compose import ColumnTransformer\n",
    "from sklearn.preprocessing import OneHotEncoder\n",
    "\n",
    "def columns_OHC_transforme(DF,columns):\n",
    "    merged = pd.DataFrame()\n",
    "    for column_name in columns:\n",
    "        label_encoder = LabelEncoder()\n",
    "        encoded = label_encoder.fit_transform(DF[column_name])\n",
    "        labels =pd.Series(label_encoder.classes_)\n",
    "\n",
    "        clmt = ColumnTransformer([(column_name,OneHotEncoder(),[0])], remainder='passthrough')\n",
    "        clmt_fited_data = clmt.fit_transform(DF[[column_name]]) \n",
    "        clmt_fited_data = clmt_fited_data if type(clmt_fited_data)== np.ndarray else clmt_fited_data.toarray()\n",
    "        NDF = pd.DataFrame(clmt_fited_data,columns=[f'{column_name}_{x}' for x in labels]).set_index(DF.index)\n",
    "        merged = pd.concat([merged,NDF],axis=1)\n",
    "    DF = DF.drop(columns=columns)\n",
    "    DF = DF.merge(merged, left_index=True,right_index=True)\n",
    "\n",
    "    return DF"
   ]
  },
  {
   "cell_type": "code",
   "execution_count": null,
   "id": "46a69867",
   "metadata": {},
   "outputs": [],
   "source": [
    "from sklearn.preprocessing import KBinsDiscretizer\n",
    "def Kbinser(DF,cols):\n",
    "    DF = DF.copy()\n",
    "    for col_name,Nbin in cols:\n",
    "        est = KBinsDiscretizer(n_bins=Nbin, encode='ordinal', strategy='uniform',random_state=3020)\n",
    "        DF[col_name] = est.fit_transform( DF[[col_name]] )\n",
    "    return DF"
   ]
  },
  {
   "cell_type": "code",
   "execution_count": null,
   "id": "f3d91c54",
   "metadata": {},
   "outputs": [],
   "source": [
    "from sklearn.preprocessing import LabelEncoder\n",
    "def label_encoder(DF,cols = []):\n",
    "    DF = DF.copy()\n",
    "    for col in cols:\n",
    "        encoder = LabelEncoder()\n",
    "        DF[col] = encoder.fit_transform(DF[col])\n",
    "    return DF"
   ]
  },
  {
   "cell_type": "code",
   "execution_count": null,
   "id": "cc47b5b7",
   "metadata": {},
   "outputs": [],
   "source": []
  },
  {
   "cell_type": "code",
   "execution_count": null,
   "id": "c0cea5f3",
   "metadata": {},
   "outputs": [],
   "source": []
  },
  {
   "cell_type": "code",
   "execution_count": null,
   "id": "6364a1f5",
   "metadata": {},
   "outputs": [],
   "source": []
  },
  {
   "cell_type": "code",
   "execution_count": null,
   "id": "ee5b40ba",
   "metadata": {},
   "outputs": [],
   "source": []
  }
 ],
 "metadata": {
  "kernelspec": {
   "display_name": "Python 3 (ipykernel)",
   "language": "python",
   "name": "python3"
  },
  "language_info": {
   "codemirror_mode": {
    "name": "ipython",
    "version": 3
   },
   "file_extension": ".py",
   "mimetype": "text/x-python",
   "name": "python",
   "nbconvert_exporter": "python",
   "pygments_lexer": "ipython3",
   "version": "3.9.13"
  }
 },
 "nbformat": 4,
 "nbformat_minor": 5
}
