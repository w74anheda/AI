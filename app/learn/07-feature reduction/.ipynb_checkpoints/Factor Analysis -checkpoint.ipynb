{
 "cells": [
  {
   "cell_type": "markdown",
   "id": "fff2017c",
   "metadata": {},
   "source": [
    "# <font color=\"brown\">Factor Analysis</font>\n",
    "\n",
    "<ul>\n",
    "    <li>remove multiple columns with max correlation with each other</li>\n",
    "</ul>\n",
    "\n",
    "\n",
    "\n",
    "\n",
    "\n",
    "\n",
    "\n",
    "\n",
    "\n",
    "\n"
   ]
  },
  {
   "cell_type": "code",
   "execution_count": 1,
   "id": "d0e4e8a8",
   "metadata": {},
   "outputs": [],
   "source": [
    "import pandas as pd\n",
    "import numpy  as np\n",
    "import seaborn as SB\n",
    "import matplotlib.pyplot as PLT\n",
    "import scipy.stats as STATS\n",
    "from sklearn.model_selection import train_test_split\n",
    "from sklearn.preprocessing import StandardScaler\n",
    "from sklearn.preprocessing import MinMaxScaler\n",
    "from sklearn import metrics\n",
    "from sklearn.preprocessing import Normalizer\n",
    "from sklearn.preprocessing import LabelEncoder\n",
    "from sklearn.compose import ColumnTransformer\n",
    "from sklearn.preprocessing import OneHotEncoder\n",
    "from sklearn.ensemble import GradientBoostingRegressor\n",
    "from sklearn.metrics import mean_absolute_error,r2_score"
   ]
  },
  {
   "cell_type": "code",
   "execution_count": 2,
   "id": "b09e9aef",
   "metadata": {},
   "outputs": [
    {
     "data": {
      "text/html": [
       "<div>\n",
       "<style scoped>\n",
       "    .dataframe tbody tr th:only-of-type {\n",
       "        vertical-align: middle;\n",
       "    }\n",
       "\n",
       "    .dataframe tbody tr th {\n",
       "        vertical-align: top;\n",
       "    }\n",
       "\n",
       "    .dataframe thead th {\n",
       "        text-align: right;\n",
       "    }\n",
       "</style>\n",
       "<table border=\"1\" class=\"dataframe\">\n",
       "  <thead>\n",
       "    <tr style=\"text-align: right;\">\n",
       "      <th></th>\n",
       "      <th>Id</th>\n",
       "      <th>MSSubClass</th>\n",
       "      <th>MSZoning</th>\n",
       "      <th>LotFrontage</th>\n",
       "      <th>LotArea</th>\n",
       "      <th>Street</th>\n",
       "      <th>Alley</th>\n",
       "      <th>LotShape</th>\n",
       "      <th>LandContour</th>\n",
       "      <th>Utilities</th>\n",
       "      <th>...</th>\n",
       "      <th>PoolArea</th>\n",
       "      <th>PoolQC</th>\n",
       "      <th>Fence</th>\n",
       "      <th>MiscFeature</th>\n",
       "      <th>MiscVal</th>\n",
       "      <th>MoSold</th>\n",
       "      <th>YrSold</th>\n",
       "      <th>SaleType</th>\n",
       "      <th>SaleCondition</th>\n",
       "      <th>SalePrice</th>\n",
       "    </tr>\n",
       "  </thead>\n",
       "  <tbody>\n",
       "    <tr>\n",
       "      <th>0</th>\n",
       "      <td>1</td>\n",
       "      <td>60</td>\n",
       "      <td>RL</td>\n",
       "      <td>65.0</td>\n",
       "      <td>8450</td>\n",
       "      <td>Pave</td>\n",
       "      <td>NaN</td>\n",
       "      <td>Reg</td>\n",
       "      <td>Lvl</td>\n",
       "      <td>AllPub</td>\n",
       "      <td>...</td>\n",
       "      <td>0</td>\n",
       "      <td>NaN</td>\n",
       "      <td>NaN</td>\n",
       "      <td>NaN</td>\n",
       "      <td>0</td>\n",
       "      <td>2</td>\n",
       "      <td>2008</td>\n",
       "      <td>WD</td>\n",
       "      <td>Normal</td>\n",
       "      <td>208500</td>\n",
       "    </tr>\n",
       "    <tr>\n",
       "      <th>1</th>\n",
       "      <td>2</td>\n",
       "      <td>20</td>\n",
       "      <td>RL</td>\n",
       "      <td>80.0</td>\n",
       "      <td>9600</td>\n",
       "      <td>Pave</td>\n",
       "      <td>NaN</td>\n",
       "      <td>Reg</td>\n",
       "      <td>Lvl</td>\n",
       "      <td>AllPub</td>\n",
       "      <td>...</td>\n",
       "      <td>0</td>\n",
       "      <td>NaN</td>\n",
       "      <td>NaN</td>\n",
       "      <td>NaN</td>\n",
       "      <td>0</td>\n",
       "      <td>5</td>\n",
       "      <td>2007</td>\n",
       "      <td>WD</td>\n",
       "      <td>Normal</td>\n",
       "      <td>181500</td>\n",
       "    </tr>\n",
       "    <tr>\n",
       "      <th>2</th>\n",
       "      <td>3</td>\n",
       "      <td>60</td>\n",
       "      <td>RL</td>\n",
       "      <td>68.0</td>\n",
       "      <td>11250</td>\n",
       "      <td>Pave</td>\n",
       "      <td>NaN</td>\n",
       "      <td>IR1</td>\n",
       "      <td>Lvl</td>\n",
       "      <td>AllPub</td>\n",
       "      <td>...</td>\n",
       "      <td>0</td>\n",
       "      <td>NaN</td>\n",
       "      <td>NaN</td>\n",
       "      <td>NaN</td>\n",
       "      <td>0</td>\n",
       "      <td>9</td>\n",
       "      <td>2008</td>\n",
       "      <td>WD</td>\n",
       "      <td>Normal</td>\n",
       "      <td>223500</td>\n",
       "    </tr>\n",
       "    <tr>\n",
       "      <th>3</th>\n",
       "      <td>4</td>\n",
       "      <td>70</td>\n",
       "      <td>RL</td>\n",
       "      <td>60.0</td>\n",
       "      <td>9550</td>\n",
       "      <td>Pave</td>\n",
       "      <td>NaN</td>\n",
       "      <td>IR1</td>\n",
       "      <td>Lvl</td>\n",
       "      <td>AllPub</td>\n",
       "      <td>...</td>\n",
       "      <td>0</td>\n",
       "      <td>NaN</td>\n",
       "      <td>NaN</td>\n",
       "      <td>NaN</td>\n",
       "      <td>0</td>\n",
       "      <td>2</td>\n",
       "      <td>2006</td>\n",
       "      <td>WD</td>\n",
       "      <td>Abnorml</td>\n",
       "      <td>140000</td>\n",
       "    </tr>\n",
       "    <tr>\n",
       "      <th>4</th>\n",
       "      <td>5</td>\n",
       "      <td>60</td>\n",
       "      <td>RL</td>\n",
       "      <td>84.0</td>\n",
       "      <td>14260</td>\n",
       "      <td>Pave</td>\n",
       "      <td>NaN</td>\n",
       "      <td>IR1</td>\n",
       "      <td>Lvl</td>\n",
       "      <td>AllPub</td>\n",
       "      <td>...</td>\n",
       "      <td>0</td>\n",
       "      <td>NaN</td>\n",
       "      <td>NaN</td>\n",
       "      <td>NaN</td>\n",
       "      <td>0</td>\n",
       "      <td>12</td>\n",
       "      <td>2008</td>\n",
       "      <td>WD</td>\n",
       "      <td>Normal</td>\n",
       "      <td>250000</td>\n",
       "    </tr>\n",
       "  </tbody>\n",
       "</table>\n",
       "<p>5 rows × 81 columns</p>\n",
       "</div>"
      ],
      "text/plain": [
       "   Id  MSSubClass MSZoning  LotFrontage  LotArea Street Alley LotShape  \\\n",
       "0   1          60       RL         65.0     8450   Pave   NaN      Reg   \n",
       "1   2          20       RL         80.0     9600   Pave   NaN      Reg   \n",
       "2   3          60       RL         68.0    11250   Pave   NaN      IR1   \n",
       "3   4          70       RL         60.0     9550   Pave   NaN      IR1   \n",
       "4   5          60       RL         84.0    14260   Pave   NaN      IR1   \n",
       "\n",
       "  LandContour Utilities  ... PoolArea PoolQC Fence MiscFeature MiscVal MoSold  \\\n",
       "0         Lvl    AllPub  ...        0    NaN   NaN         NaN       0      2   \n",
       "1         Lvl    AllPub  ...        0    NaN   NaN         NaN       0      5   \n",
       "2         Lvl    AllPub  ...        0    NaN   NaN         NaN       0      9   \n",
       "3         Lvl    AllPub  ...        0    NaN   NaN         NaN       0      2   \n",
       "4         Lvl    AllPub  ...        0    NaN   NaN         NaN       0     12   \n",
       "\n",
       "  YrSold  SaleType  SaleCondition  SalePrice  \n",
       "0   2008        WD         Normal     208500  \n",
       "1   2007        WD         Normal     181500  \n",
       "2   2008        WD         Normal     223500  \n",
       "3   2006        WD        Abnorml     140000  \n",
       "4   2008        WD         Normal     250000  \n",
       "\n",
       "[5 rows x 81 columns]"
      ]
     },
     "execution_count": 2,
     "metadata": {},
     "output_type": "execute_result"
    }
   ],
   "source": [
    "DF = pd.read_csv('../../datasets/competitions/house-prices/train.csv')\n",
    "DF.head()"
   ]
  },
  {
   "cell_type": "code",
   "execution_count": 3,
   "id": "a795ff9d",
   "metadata": {},
   "outputs": [],
   "source": [
    "CatCol = [\n",
    "    'MSSubClass','MSZoning','Street','LotShape','LandContour',\n",
    "    'LotConfig','LandSlope','Neighborhood','Condition1',\n",
    "    'Condition2','BldgType','HouseStyle','RoofStyle','RoofMatl','Exterior1st','ExterCond','ExterQual',\n",
    "    'MasVnrType','Foundation','BsmtQual','BsmtCond','BsmtExposure','BsmtFinType1','BsmtFinType2',\n",
    "    'Heating','HeatingQC','Electrical','Functional','FireplaceQu','GarageType','GarageFinish','GarageQual',\n",
    "    'GarageCond','PavedDrive','PoolQC','Fence','MiscFeature','MoSold','SaleType','SaleCondition','Exterior2nd','CentralAir','OverallQual','Alley','Utilities','KitchenQual'\n",
    "]\n",
    "NumCol = [\n",
    "    'LotFrontage','LotArea','OverallCond','MasVnrArea','BsmtFinSF1','BsmtFinSF2','BsmtUnfSF',\n",
    "    'TotalBsmtSF','1stFlrSF','2ndFlrSF','LowQualFinSF','GrLivArea','BsmtFullBath','BsmtHalfBath','FullBath',\n",
    "    'HalfBath','BedroomAbvGr','KitchenAbvGr','TotRmsAbvGrd','Fireplaces',\n",
    "    'GarageCars','GarageArea','WoodDeckSF','OpenPorchSF','EnclosedPorch','3SsnPorch',\n",
    "    'MiscVal','ScreenPorch','PoolArea','YearBuilt','GarageYrBlt','YearRemodAdd','YrSold'\n",
    "]\n",
    "DropedCols = ['Alley','FireplaceQu','PoolQC','Fence','MiscFeature']\n",
    "\n",
    "CatCol = [c for c in CatCol if c not in DropedCols]\n",
    "NumCol = [c for c in NumCol if c not in DropedCols]\n",
    "\n",
    "XCols = [*CatCol,*NumCol]\n",
    "YCol = 'SalePrice'"
   ]
  },
  {
   "cell_type": "code",
   "execution_count": 4,
   "id": "8c5fdc44",
   "metadata": {},
   "outputs": [
    {
     "data": {
      "image/png": "[encoded data removed]",
      "text/plain": [
       "<Figure size 1080x1440 with 36 Axes>"
      ]
     },
     "metadata": {
      "needs_background": "light"
     },
     "output_type": "display_data"
    }
   ],
   "source": [
    "DF[NumCol].hist(figsize=(15,20))\n",
    "PLT.show()"
   ]
  },
  {
   "cell_type": "code",
   "execution_count": 5,
   "id": "f4b21580",
   "metadata": {
    "scrolled": true
   },
   "outputs": [],
   "source": [
    "DF.drop(DropedCols,axis=1,inplace=True)\n",
    "DF.drop(DF[~DF['OverallCond'].isin(range(0,11))].index,inplace=True)\n",
    "DF['LotFrontage'].fillna(STATS.trim_mean(DF['LotFrontage'].dropna(),0.1),inplace=True)\n",
    "DF['GarageQual'].fillna(DF['GarageQual'].mode()[0],inplace=True) \n",
    "DF['Electrical'].fillna(DF['Electrical'].mode()[0],inplace=True)\n",
    "DF['BsmtFinType2'].fillna(DF['BsmtFinType2'].mode()[0],inplace=True)\n",
    "DF['BsmtFinType1'].fillna(DF['BsmtFinType1'].mode()[0],inplace=True)\n",
    "DF['BsmtExposure'].fillna(DF['BsmtExposure'].mode()[0],inplace=True)\n",
    "DF['MasVnrArea'].fillna(STATS.trim_mean(DF['MasVnrArea'].sort_values(),0.1),inplace=True)\n",
    "DF['BsmtCond'].fillna(DF['BsmtCond'].mode()[0],inplace=True)\n",
    "DF['BsmtQual'].fillna(DF['BsmtQual'].mode()[0],inplace=True)\n",
    "DF['GarageType'].fillna(DF['GarageType'].mode()[0],inplace=True)\n",
    "DF['GarageYrBlt'].fillna(DF['GarageYrBlt'].mode()[0],inplace=True)\n",
    "DF['GarageFinish'].fillna(DF['GarageFinish'].mode()[0],inplace=True)\n",
    "DF['GarageCond'].fillna(DF['GarageCond'].mode()[0],inplace=True)\n",
    "DF['MasVnrType'].fillna(DF['MasVnrType'].mode()[0],inplace=True)"
   ]
  },
  {
   "cell_type": "code",
   "execution_count": 6,
   "id": "ac3d639c",
   "metadata": {},
   "outputs": [],
   "source": [
    "def OHC_transformer_single_column(DF,columns):\n",
    "    \n",
    "    for column_name in columns:\n",
    "        label_encoder = LabelEncoder()\n",
    "        encoded = label_encoder.fit_transform(DF[column_name])\n",
    "        labels =pd.Series(label_encoder.classes_)\n",
    "\n",
    "        clmt = ColumnTransformer([(column_name,OneHotEncoder(),[0])], remainder='passthrough')\n",
    "        clmt_fited_data = clmt.fit_transform(DF[[column_name]]) \n",
    "        clmt_fited_data = clmt_fited_data if type(clmt_fited_data)== np.ndarray else clmt_fited_data.toarray()  \n",
    "        NDF = pd.DataFrame(clmt_fited_data,columns=[f'{column_name}_{x}' for x in labels])\n",
    "        \n",
    "        merged = DF.merge(NDF, left_index=True,right_index=True)\n",
    "        merged = merged.drop(columns=[column_name])\n",
    "        DF = merged\n",
    "    return DF"
   ]
  },
  {
   "cell_type": "code",
   "execution_count": 7,
   "id": "75a0885d",
   "metadata": {},
   "outputs": [],
   "source": [
    "DF = OHC_transformer_single_column(DF,CatCol)"
   ]
  },
  {
   "cell_type": "code",
   "execution_count": 8,
   "id": "7c3d22cf",
   "metadata": {},
   "outputs": [],
   "source": [
    "X = DF[DF.columns.difference(['id','SalePrice'])]\n",
    "Y = DF['SalePrice']\n",
    "minmaxSCL = MinMaxScaler(feature_range=(0,1))\n",
    "X  = minmaxSCL.fit_transform(X)"
   ]
  },
  {
   "cell_type": "code",
   "execution_count": 9,
   "id": "914102cd",
   "metadata": {},
   "outputs": [],
   "source": [
    "X_train,X_test,Y_train,Y_test = train_test_split(X,Y,random_state=3020,test_size=.25)"
   ]
  },
  {
   "cell_type": "code",
   "execution_count": 10,
   "id": "62a1d49f",
   "metadata": {},
   "outputs": [
    {
     "data": {
      "text/plain": [
       "0.9074683847188404"
      ]
     },
     "execution_count": 10,
     "metadata": {},
     "output_type": "execute_result"
    }
   ],
   "source": [
    "random_forest_gtboost = GradientBoostingRegressor(\n",
    "    random_state=3020,\n",
    "    n_estimators=500,\n",
    "    max_leaf_nodes=10,\n",
    "    subsample=.9\n",
    ")\n",
    "random_forest_gtboost.fit(X_train,Y_train)\n",
    "random_forest_gtboost.score(X_test,Y_test)"
   ]
  },
  {
   "cell_type": "code",
   "execution_count": 11,
   "id": "5372ace8",
   "metadata": {},
   "outputs": [
    {
     "data": {
      "text/plain": [
       "14719.906749169955"
      ]
     },
     "execution_count": 11,
     "metadata": {},
     "output_type": "execute_result"
    }
   ],
   "source": [
    "Y_predicted_gtboost = random_forest_gtboost.predict(X_test)\n",
    "mean_absolute_error(Y_test,Y_predicted_gtboost)"
   ]
  },
  {
   "cell_type": "markdown",
   "id": "defe55b2",
   "metadata": {},
   "source": [
    "## <font color=\"green\" >Factor Analysis  :</font>"
   ]
  },
  {
   "cell_type": "code",
   "execution_count": 12,
   "id": "599f0d07",
   "metadata": {},
   "outputs": [],
   "source": [
    "from sklearn.decomposition import FactorAnalysis"
   ]
  },
  {
   "cell_type": "code",
   "execution_count": 65,
   "id": "efab5196",
   "metadata": {},
   "outputs": [],
   "source": [
    "FA = FactorAnalysis(\n",
    "    n_components=10,random_state=3020,\n",
    "    max_iter=10000,\n",
    "    iterated_power=10,\n",
    "    rotation='quartimax'\n",
    ")\n",
    "XFA = FA.fit_transform(X)"
   ]
  },
  {
   "cell_type": "code",
   "execution_count": 66,
   "id": "e8a397c3",
   "metadata": {},
   "outputs": [],
   "source": [
    "X_train,X_test,Y_train,Y_test = train_test_split(XFA,Y,random_state=3020,test_size=.25)"
   ]
  },
  {
   "cell_type": "code",
   "execution_count": 67,
   "id": "47299043",
   "metadata": {},
   "outputs": [
    {
     "data": {
      "text/plain": [
       "0.8595325720830032"
      ]
     },
     "execution_count": 67,
     "metadata": {},
     "output_type": "execute_result"
    }
   ],
   "source": [
    "random_forest_gtboost = GradientBoostingRegressor(\n",
    "    random_state=3020,\n",
    "    n_estimators=500,\n",
    "    max_leaf_nodes=10,\n",
    "    subsample=.9\n",
    ")\n",
    "random_forest_gtboost.fit(X_train,Y_train)\n",
    "random_forest_gtboost.score(X_test,Y_test)"
   ]
  },
  {
   "cell_type": "code",
   "execution_count": 68,
   "id": "4c756f5c",
   "metadata": {},
   "outputs": [
    {
     "data": {
      "text/plain": [
       "18907.694368896635"
      ]
     },
     "execution_count": 68,
     "metadata": {},
     "output_type": "execute_result"
    }
   ],
   "source": [
    "Y_predicted_gtboost = random_forest_gtboost.predict(X_test)\n",
    "mean_absolute_error(Y_test,Y_predicted_gtboost)"
   ]
  },
  {
   "cell_type": "code",
   "execution_count": null,
   "id": "07e5296d",
   "metadata": {},
   "outputs": [],
   "source": []
  },
  {
   "cell_type": "code",
   "execution_count": null,
   "id": "184c23d4",
   "metadata": {},
   "outputs": [],
   "source": []
  },
  {
   "cell_type": "code",
   "execution_count": null,
   "id": "601eb6d2",
   "metadata": {},
   "outputs": [],
   "source": []
  },
  {
   "cell_type": "code",
   "execution_count": null,
   "id": "777064eb",
   "metadata": {},
   "outputs": [],
   "source": []
  },
  {
   "cell_type": "code",
   "execution_count": null,
   "id": "6afce706",
   "metadata": {},
   "outputs": [],
   "source": []
  },
  {
   "cell_type": "code",
   "execution_count": null,
   "id": "778b4cba",
   "metadata": {},
   "outputs": [],
   "source": []
  },
  {
   "cell_type": "code",
   "execution_count": null,
   "id": "f6597c5f",
   "metadata": {},
   "outputs": [],
   "source": []
  },
  {
   "cell_type": "code",
   "execution_count": null,
   "id": "41d89c2e",
   "metadata": {},
   "outputs": [],
   "source": []
  },
  {
   "cell_type": "code",
   "execution_count": null,
   "id": "f1ffa9a5",
   "metadata": {},
   "outputs": [],
   "source": []
  }
 ],
 "metadata": {
  "kernelspec": {
   "display_name": "Python 3 (ipykernel)",
   "language": "python",
   "name": "python3"
  },
  "language_info": {
   "codemirror_mode": {
    "name": "ipython",
    "version": 3
   },
   "file_extension": ".py",
   "mimetype": "text/x-python",
   "name": "python",
   "nbconvert_exporter": "python",
   "pygments_lexer": "ipython3",
   "version": "3.9.12"
  }
 },
 "nbformat": 4,
 "nbformat_minor": 5
}
