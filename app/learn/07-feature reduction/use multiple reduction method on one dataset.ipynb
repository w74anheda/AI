{
 "cells": [
  {
   "cell_type": "markdown",
   "id": "dc6702aa",
   "metadata": {},
   "source": [
    "## 1 - reduce cols with  multiple reduction method on dataset\n",
    "## 2 - incrase cols with concat multiple reduction method on main dataset\n",
    "<img src=\"../../img/Screenshot from 2022-11-05 22-57-21.png\" />"
   ]
  },
  {
   "cell_type": "code",
   "execution_count": null,
   "id": "566cea94",
   "metadata": {},
   "outputs": [],
   "source": []
  }
 ],
 "metadata": {
  "kernelspec": {
   "display_name": "Python 3 (ipykernel)",
   "language": "python",
   "name": "python3"
  },
  "language_info": {
   "codemirror_mode": {
    "name": "ipython",
    "version": 3
   },
   "file_extension": ".py",
   "mimetype": "text/x-python",
   "name": "python",
   "nbconvert_exporter": "python",
   "pygments_lexer": "ipython3",
   "version": "3.9.13"
  }
 },
 "nbformat": 4,
 "nbformat_minor": 5
}
