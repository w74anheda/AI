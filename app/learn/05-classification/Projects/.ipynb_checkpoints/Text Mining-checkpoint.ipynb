{
 "cells": [
  {
   "cell_type": "markdown",
   "id": "0b3bf60d",
   "metadata": {},
   "source": [
    "# <font color=\"orange\">Text Mining</font>\n",
    "\n",
    "<h3><strong class=\"ba\">Introduction to TF-IDF</strong></h3>    \n",
    "<p>Computers do not process textual data to greater extent, unlike the numbers. One of the most widely used technique to process textual data is Term Frequency-Inverse Data Frequency (TF-IDF) . In this article, we will discuss about what are it’s features and how it works!</p>\n",
    "\n",
    "<p>From our intuition, we think the words which appear most are significant and carry greater weight but that’s not the case in textual data analysis. The words such as “the”, “is”, “a”, “an” are called “Stop-words” and they appear most on corpus of text, but carry little significance and weight in textual data analysis. Instead, the words which are rare are the ones that actually help in distinguishing between data and carry more significance and weight.</p>\n",
    "\n",
    "<h4><strong class=\"ba\">Term Frequency (tf):</strong></h4>\n",
    "<p>Term Frequency gives the frequency of the word in each document in the corpus. The ratio of number of times the word appears in a document compared to the total number of words in that document. It increases as the number of occurrences of that word within the document increases. Each document has its own tf. The equation for tf is given below.</p>\n",
    "\n",
    "<h4><strong class=\"ba\">Inverse Data Frequency (idf):</strong></h4>\n",
    "<p>It calculates the weight of rare words across all documents in the corpus. The words which occur rarely in the corpus will have a high idf score. The equation of idf is given below.</p>\n",
    "\n",
    "<a href=\"https://medium.com/@imayan_blog/text-data-mining-using-term-frequency-inverse-data-frequency-tf-idf-aedd6f1d0b38\">read more...</a>\n",
    "###  <font color=\"brown\">Text preprocessing:</font>\n",
    "<ul>\n",
    "    <li>remove stubs words</li>\n",
    "    <li>stemming  <a href=\"https://towardsdatascience.com/stemming-of-words-in-natural-language-processing-what-is-it-41a33e8996e2#:~:text=To%20put%20simply%2C%20stemming%20is,to%20chop%20a%20word%20off.\">read more...</a></li>\n",
    "<ul>"
   ]
  },
  {
   "cell_type": "code",
   "execution_count": 1,
   "id": "136229af",
   "metadata": {},
   "outputs": [],
   "source": [
    "import pandas as pd\n",
    "import numpy as np"
   ]
  },
  {
   "cell_type": "code",
   "execution_count": null,
   "id": "c2f384b8",
   "metadata": {},
   "outputs": [],
   "source": []
  },
  {
   "cell_type": "code",
   "execution_count": null,
   "id": "fb9ab6be",
   "metadata": {},
   "outputs": [],
   "source": []
  },
  {
   "cell_type": "code",
   "execution_count": null,
   "id": "a506f3f7",
   "metadata": {},
   "outputs": [],
   "source": []
  },
  {
   "cell_type": "code",
   "execution_count": null,
   "id": "5aadbdda",
   "metadata": {},
   "outputs": [],
   "source": []
  },
  {
   "cell_type": "code",
   "execution_count": null,
   "id": "6901b0c5",
   "metadata": {},
   "outputs": [],
   "source": []
  },
  {
   "cell_type": "code",
   "execution_count": null,
   "id": "e2b85b6b",
   "metadata": {},
   "outputs": [],
   "source": []
  },
  {
   "cell_type": "code",
   "execution_count": null,
   "id": "1d53c3df",
   "metadata": {},
   "outputs": [],
   "source": []
  },
  {
   "cell_type": "code",
   "execution_count": null,
   "id": "90891d9b",
   "metadata": {},
   "outputs": [],
   "source": []
  },
  {
   "cell_type": "code",
   "execution_count": null,
   "id": "2e022688",
   "metadata": {},
   "outputs": [],
   "source": []
  }
 ],
 "metadata": {
  "kernelspec": {
   "display_name": "Python 3 (ipykernel)",
   "language": "python",
   "name": "python3"
  },
  "language_info": {
   "codemirror_mode": {
    "name": "ipython",
    "version": 3
   },
   "file_extension": ".py",
   "mimetype": "text/x-python",
   "name": "python",
   "nbconvert_exporter": "python",
   "pygments_lexer": "ipython3",
   "version": "3.9.12"
  }
 },
 "nbformat": 4,
 "nbformat_minor": 5
}
