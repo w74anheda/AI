{
 "cells": [
  {
   "cell_type": "markdown",
   "id": "0b3bf60d",
   "metadata": {},
   "source": [
    "# <font color=\"orange\">Text Mining</font>\n",
    "\n",
    "<h3><strong class=\"ba\">Introduction to TF-IDF</strong></h3>    \n",
    "<p>Computers do not process textual data to greater extent, unlike the numbers. One of the most widely used technique to process textual data is Term Frequency-Inverse Data Frequency (TF-IDF) . In this article, we will discuss about what are it’s features and how it works!</p>\n",
    "\n",
    "<p>From our intuition, we think the words which appear most are significant and carry greater weight but that’s not the case in textual data analysis. The words such as “the”, “is”, “a”, “an” are called “Stop-words” and they appear most on corpus of text, but carry little significance and weight in textual data analysis. Instead, the words which are rare are the ones that actually help in distinguishing between data and carry more significance and weight.</p>\n",
    "\n",
    "<h4><strong class=\"ba\">Term Frequency (tf):</strong></h4>\n",
    "<p>Term Frequency gives the frequency of the word in each document in the corpus. The ratio of number of times the word appears in a document compared to the total number of words in that document. It increases as the number of occurrences of that word within the document increases. Each document has its own tf. The equation for tf is given below.</p>\n",
    "\n",
    "<h4><strong class=\"ba\">Inverse Data Frequency (idf):</strong></h4>\n",
    "<p>It calculates the weight of rare words across all documents in the corpus. The words which occur rarely in the corpus will have a high idf score. The equation of idf is given below.</p>\n",
    "\n",
    "<a href=\"https://medium.com/@imayan_blog/text-data-mining-using-term-frequency-inverse-data-frequency-tf-idf-aedd6f1d0b38\">read more...</a>\n",
    "###  <font color=\"brown\">Text preprocessing:</font>\n",
    "<ul>\n",
    "    <li>remove stubs words</li>\n",
    "    <li>stemming  <a href=\"https://towardsdatascience.com/stemming-of-words-in-natural-language-processing-what-is-it-41a33e8996e2#:~:text=To%20put%20simply%2C%20stemming%20is,to%20chop%20a%20word%20off.\">read more...</a></li>\n",
    "    <li>lemmatizer <a href=\"https://github.com/sobhe/hazm\">read more...</a></li>\n",
    "<ul>"
   ]
  },
  {
   "cell_type": "code",
   "execution_count": 1,
   "id": "136229af",
   "metadata": {},
   "outputs": [],
   "source": [
    "import pandas as pd\n",
    "import numpy as np\n",
    "import nltk\n",
    "import hazm\n",
    "from sklearn.feature_extraction.text import TfidfVectorizer\n",
    "from sklearn.preprocessing import LabelEncoder\n",
    "from sklearn.svm import SVC\n",
    "from sklearn.model_selection import train_test_split\n",
    "from sklearn.metrics import confusion_matrix,classification_report"
   ]
  },
  {
   "cell_type": "code",
   "execution_count": 3,
   "id": "c2f384b8",
   "metadata": {},
   "outputs": [],
   "source": [
    "DT = pd.read_csv('../../../../datasets/per.csv')"
   ]
  },
  {
   "cell_type": "code",
   "execution_count": 4,
   "id": "f0f90b7f",
   "metadata": {},
   "outputs": [
    {
     "data": {
      "text/html": [
       "<div>\n",
       "<style scoped>\n",
       "    .dataframe tbody tr th:only-of-type {\n",
       "        vertical-align: middle;\n",
       "    }\n",
       "\n",
       "    .dataframe tbody tr th {\n",
       "        vertical-align: top;\n",
       "    }\n",
       "\n",
       "    .dataframe thead th {\n",
       "        text-align: right;\n",
       "    }\n",
       "</style>\n",
       "<table border=\"1\" class=\"dataframe\">\n",
       "  <thead>\n",
       "    <tr style=\"text-align: right;\">\n",
       "      <th></th>\n",
       "      <th>NewsID</th>\n",
       "      <th>Title</th>\n",
       "      <th>Body</th>\n",
       "      <th>Date</th>\n",
       "      <th>Time</th>\n",
       "      <th>Category</th>\n",
       "      <th>Category2</th>\n",
       "    </tr>\n",
       "  </thead>\n",
       "  <tbody>\n",
       "    <tr>\n",
       "      <th>0</th>\n",
       "      <td>843656</td>\n",
       "      <td>\\nوزير علوم درجمع استادان نمونه: سن بازنشستگي ...</td>\n",
       "      <td>\\nوزير علوم در جمع استادان نمونه كشور گفت: از ...</td>\n",
       "      <td>\\n138/5//09</td>\n",
       "      <td>\\n0:9::18</td>\n",
       "      <td>\\nآموزشي-</td>\n",
       "      <td>\\nآموزشي</td>\n",
       "    </tr>\n",
       "    <tr>\n",
       "      <th>1</th>\n",
       "      <td>837144</td>\n",
       "      <td>\\nگردهمايي دانش‌آموختگان موسسه آموزش عالي سوره...</td>\n",
       "      <td>\\nبه گزارش سرويس صنفي آموزشي خبرگزاري دانشجويا...</td>\n",
       "      <td>\\n138/5//09</td>\n",
       "      <td>\\n1:4::11</td>\n",
       "      <td>\\nآموزشي-</td>\n",
       "      <td>\\nآموزشي</td>\n",
       "    </tr>\n",
       "    <tr>\n",
       "      <th>2</th>\n",
       "      <td>436862</td>\n",
       "      <td>\\nنتايج آزمون دوره‌هاي فراگير دانشگاه پيام‌نور...</td>\n",
       "      <td>\\nنتايج آزمون دوره‌هاي فراگير مقاطع كارشناسي و...</td>\n",
       "      <td>\\n138/3//07</td>\n",
       "      <td>\\n1:0::03</td>\n",
       "      <td>\\nآموزشي-</td>\n",
       "      <td>\\nآموزشي</td>\n",
       "    </tr>\n",
       "    <tr>\n",
       "      <th>3</th>\n",
       "      <td>227781</td>\n",
       "      <td>\\nهمايش يكروزه آسيب شناسي مفهوم روابط عمومي در...</td>\n",
       "      <td>\\n</td>\n",
       "      <td>\\n138/2//02</td>\n",
       "      <td>\\n1:3::42</td>\n",
       "      <td>\\nاجتماعي-خانواده-</td>\n",
       "      <td>\\nاجتماعي</td>\n",
       "    </tr>\n",
       "    <tr>\n",
       "      <th>4</th>\n",
       "      <td>174187</td>\n",
       "      <td>\\nوضعيت اقتصادي و ميزان تحصيلات والدين از مهمت...</td>\n",
       "      <td>\\nمحمدتقي علوي يزدي، مجري اين طرح پژوهشي در اي...</td>\n",
       "      <td>\\n138/1//08</td>\n",
       "      <td>\\n1:1::49</td>\n",
       "      <td>\\nآموزشي-</td>\n",
       "      <td>\\nآموزشي</td>\n",
       "    </tr>\n",
       "  </tbody>\n",
       "</table>\n",
       "</div>"
      ],
      "text/plain": [
       "   NewsID                                              Title  \\\n",
       "0  843656  \\nوزير علوم درجمع استادان نمونه: سن بازنشستگي ...   \n",
       "1  837144  \\nگردهمايي دانش‌آموختگان موسسه آموزش عالي سوره...   \n",
       "2  436862  \\nنتايج آزمون دوره‌هاي فراگير دانشگاه پيام‌نور...   \n",
       "3  227781  \\nهمايش يكروزه آسيب شناسي مفهوم روابط عمومي در...   \n",
       "4  174187  \\nوضعيت اقتصادي و ميزان تحصيلات والدين از مهمت...   \n",
       "\n",
       "                                                Body         Date       Time  \\\n",
       "0  \\nوزير علوم در جمع استادان نمونه كشور گفت: از ...  \\n138/5//09  \\n0:9::18   \n",
       "1  \\nبه گزارش سرويس صنفي آموزشي خبرگزاري دانشجويا...  \\n138/5//09  \\n1:4::11   \n",
       "2  \\nنتايج آزمون دوره‌هاي فراگير مقاطع كارشناسي و...  \\n138/3//07  \\n1:0::03   \n",
       "3                                                 \\n  \\n138/2//02  \\n1:3::42   \n",
       "4  \\nمحمدتقي علوي يزدي، مجري اين طرح پژوهشي در اي...  \\n138/1//08  \\n1:1::49   \n",
       "\n",
       "             Category  Category2  \n",
       "0           \\nآموزشي-   \\nآموزشي  \n",
       "1           \\nآموزشي-   \\nآموزشي  \n",
       "2           \\nآموزشي-   \\nآموزشي  \n",
       "3  \\nاجتماعي-خانواده-  \\nاجتماعي  \n",
       "4           \\nآموزشي-   \\nآموزشي  "
      ]
     },
     "execution_count": 4,
     "metadata": {},
     "output_type": "execute_result"
    }
   ],
   "source": [
    "DT.head()"
   ]
  },
  {
   "cell_type": "code",
   "execution_count": 6,
   "id": "a506f3f7",
   "metadata": {},
   "outputs": [
    {
     "data": {
      "text/plain": [
       "1316"
      ]
     },
     "execution_count": 6,
     "metadata": {},
     "output_type": "execute_result"
    }
   ],
   "source": [
    "with open('../../../../datasets/stopwords.txt') as stopwords_file:\n",
    "    stopwords = stopwords_file.readlines()\n",
    "stopwords = [w.strip() for w in stopwords]\n",
    "len(stopwords)"
   ]
  },
  {
   "cell_type": "code",
   "execution_count": 7,
   "id": "5aadbdda",
   "metadata": {},
   "outputs": [
    {
     "name": "stdout",
     "output_type": "stream",
     "text": [
      "[nltk_data] Downloading package stopwords to /root/nltk_data...\n",
      "[nltk_data]   Package stopwords is already up-to-date!\n",
      "[nltk_data] Downloading package punkt to /root/nltk_data...\n",
      "[nltk_data]   Package punkt is already up-to-date!\n"
     ]
    },
    {
     "data": {
      "text/plain": [
       "True"
      ]
     },
     "execution_count": 7,
     "metadata": {},
     "output_type": "execute_result"
    }
   ],
   "source": [
    "nltk.download('stopwords')\n",
    "nltk.download('punkt')"
   ]
  },
  {
   "cell_type": "code",
   "execution_count": 8,
   "id": "6901b0c5",
   "metadata": {},
   "outputs": [],
   "source": [
    "nltk_en_stopwords = nltk.corpus.stopwords.words('english')\n",
    "nltk_ar_stopwords = nltk.corpus.stopwords.words('arabic')\n",
    "\n",
    "stopwords.extend(nltk_en_stopwords)\n",
    "stopwords.extend(nltk_ar_stopwords)"
   ]
  },
  {
   "cell_type": "code",
   "execution_count": 9,
   "id": "e2b85b6b",
   "metadata": {},
   "outputs": [],
   "source": [
    "stemmer = hazm.Stemmer()\n",
    "lemmatizer = hazm.Lemmatizer()"
   ]
  },
  {
   "cell_type": "code",
   "execution_count": 10,
   "id": "342d4200",
   "metadata": {},
   "outputs": [],
   "source": [
    "DT['title_body'] = DT['Title']+ ' '+ DT['Body']\n",
    "DT['title_body'] = DT['title_body'].apply(\n",
    "    lambda w : ' '.join( [(lemmatizer.lemmatize(stemmer.stem(w))).replace('#',' ').strip() for w in hazm.word_tokenize(w) if w not in stopwords] )\n",
    ")"
   ]
  },
  {
   "cell_type": "code",
   "execution_count": 11,
   "id": "a7bdee23",
   "metadata": {},
   "outputs": [],
   "source": [
    "DT['category'] = DT['Category2'].str.strip()\n",
    "DF = DT[['title_body','category']]"
   ]
  },
  {
   "cell_type": "code",
   "execution_count": 39,
   "id": "feabf59b",
   "metadata": {},
   "outputs": [],
   "source": [
    "# DF.to_csv('./cleaned_news.csv',encoding='utf-8')\n",
    "# DF = pd.read_csv('./cleaned_news.csv')"
   ]
  },
  {
   "cell_type": "code",
   "execution_count": 12,
   "id": "c5711ba0",
   "metadata": {},
   "outputs": [
    {
     "name": "stderr",
     "output_type": "stream",
     "text": [
      "/tmp/ipykernel_2288/1637441918.py:1: SettingWithCopyWarning: \n",
      "A value is trying to be set on a copy of a slice from a DataFrame.\n",
      "Try using .loc[row_indexer,col_indexer] = value instead\n",
      "\n",
      "See the caveats in the documentation: https://pandas.pydata.org/pandas-docs/stable/user_guide/indexing.html#returning-a-view-versus-a-copy\n",
      "  DF.iloc[:,1] = DF['category'].apply(lambda w : w.replace('-',' ').replace('\\u200c',' ').strip())\n"
     ]
    }
   ],
   "source": [
    "DF.iloc[:,1] = DF['category'].apply(lambda w : w.replace('-',' ').replace('\\u200c',' ').strip())"
   ]
  },
  {
   "cell_type": "code",
   "execution_count": 13,
   "id": "95faa4b0",
   "metadata": {},
   "outputs": [],
   "source": [
    "vectorizer = TfidfVectorizer(ngram_range=(1,3))"
   ]
  },
  {
   "cell_type": "code",
   "execution_count": 14,
   "id": "5f2b596d",
   "metadata": {},
   "outputs": [],
   "source": [
    "vectorizer.fit(DF['title_body'])\n",
    "X = vectorizer.transform(DF['title_body'])"
   ]
  },
  {
   "cell_type": "code",
   "execution_count": 19,
   "id": "a5207884",
   "metadata": {},
   "outputs": [],
   "source": [
    "np.random.seed(3020) # set random state in numpy"
   ]
  },
  {
   "cell_type": "code",
   "execution_count": 15,
   "id": "c6b525c0",
   "metadata": {},
   "outputs": [
    {
     "data": {
      "text/plain": [
       "<10999x3864455 sparse matrix of type '<class 'numpy.float64'>'\n",
       "\twith 7952922 stored elements in Compressed Sparse Row format>"
      ]
     },
     "execution_count": 15,
     "metadata": {},
     "output_type": "execute_result"
    }
   ],
   "source": [
    "X"
   ]
  },
  {
   "cell_type": "code",
   "execution_count": 18,
   "id": "a867d433",
   "metadata": {},
   "outputs": [
    {
     "data": {
      "text/plain": [
       "<100x100 sparse matrix of type '<class 'numpy.float64'>'\n",
       "\twith 0 stored elements in Compressed Sparse Row format>"
      ]
     },
     "execution_count": 18,
     "metadata": {},
     "output_type": "execute_result"
    }
   ],
   "source": [
    "X[:100,:100]"
   ]
  },
  {
   "cell_type": "code",
   "execution_count": null,
   "id": "8f527dd5",
   "metadata": {},
   "outputs": [],
   "source": [
    "X[:100,:100].todense()"
   ]
  },
  {
   "cell_type": "code",
   "execution_count": 76,
   "id": "b8a7f6ff",
   "metadata": {},
   "outputs": [],
   "source": [
    "label_encoder = LabelEncoder()\n",
    "Y = label_encoder.fit_transform(DF['category'])"
   ]
  },
  {
   "cell_type": "code",
   "execution_count": 77,
   "id": "1398ad2b",
   "metadata": {},
   "outputs": [],
   "source": [
    "X_train, X_test, y_train, y_test = train_test_split(X, Y, test_size=0.33, random_state=42)"
   ]
  },
  {
   "cell_type": "code",
   "execution_count": 78,
   "id": "be63e52c",
   "metadata": {},
   "outputs": [],
   "source": [
    "svmc = SVC()"
   ]
  },
  {
   "cell_type": "code",
   "execution_count": null,
   "id": "8c7e1956",
   "metadata": {},
   "outputs": [],
   "source": [
    "svmc.fit(X_train,y_train)"
   ]
  },
  {
   "cell_type": "code",
   "execution_count": null,
   "id": "5bc8ce6c",
   "metadata": {},
   "outputs": [],
   "source": [
    "accuracy = svmc.score(X_test,y_test)\n",
    "accuracy"
   ]
  },
  {
   "cell_type": "code",
   "execution_count": null,
   "id": "7a4aa8e7",
   "metadata": {},
   "outputs": [],
   "source": [
    "y_predict = svmc.predict(X_test)"
   ]
  },
  {
   "cell_type": "code",
   "execution_count": null,
   "id": "a5e0846c",
   "metadata": {},
   "outputs": [],
   "source": [
    "report = metrics.classification_report(y_test,y_predict)\n",
    "print(report)"
   ]
  },
  {
   "cell_type": "code",
   "execution_count": null,
   "id": "b88fc562",
   "metadata": {},
   "outputs": [],
   "source": [
    "print(confusion_matrix(y_test,y_predict))"
   ]
  },
  {
   "cell_type": "code",
   "execution_count": null,
   "id": "039d3a8f",
   "metadata": {},
   "outputs": [],
   "source": []
  },
  {
   "cell_type": "code",
   "execution_count": null,
   "id": "ce281d38",
   "metadata": {},
   "outputs": [],
   "source": []
  },
  {
   "cell_type": "code",
   "execution_count": null,
   "id": "8c3914a6",
   "metadata": {},
   "outputs": [],
   "source": []
  },
  {
   "cell_type": "code",
   "execution_count": null,
   "id": "2ce89945",
   "metadata": {},
   "outputs": [],
   "source": []
  },
  {
   "cell_type": "code",
   "execution_count": null,
   "id": "2405b8c0",
   "metadata": {},
   "outputs": [],
   "source": []
  },
  {
   "cell_type": "code",
   "execution_count": null,
   "id": "d41331df",
   "metadata": {},
   "outputs": [],
   "source": []
  },
  {
   "cell_type": "code",
   "execution_count": null,
   "id": "7be43462",
   "metadata": {},
   "outputs": [],
   "source": []
  },
  {
   "cell_type": "code",
   "execution_count": null,
   "id": "a85f7ba2",
   "metadata": {},
   "outputs": [],
   "source": []
  },
  {
   "cell_type": "code",
   "execution_count": null,
   "id": "31f6a62f",
   "metadata": {},
   "outputs": [],
   "source": []
  }
 ],
 "metadata": {
  "kernelspec": {
   "display_name": "Python 3 (ipykernel)",
   "language": "python",
   "name": "python3"
  },
  "language_info": {
   "codemirror_mode": {
    "name": "ipython",
    "version": 3
   },
   "file_extension": ".py",
   "mimetype": "text/x-python",
   "name": "python",
   "nbconvert_exporter": "python",
   "pygments_lexer": "ipython3",
   "version": "3.9.12"
  }
 },
 "nbformat": 4,
 "nbformat_minor": 5
}
