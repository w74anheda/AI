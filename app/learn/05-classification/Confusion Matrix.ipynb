{
 "cells": [
  {
   "cell_type": "markdown",
   "id": "0a44c82d",
   "metadata": {},
   "source": [
    "# <font color=\"orange\">Confusion Matrix</font>\n",
    "\n",
    "<p>A confusion matrix is a table that is often used to <strong>describe the performance of a classification model</strong> (or \"classifier\") on a set of test data for which the true values are known. The confusion matrix itself is relatively simple to understand.</p>\n",
    "\n",
    "<img src=\"../../img/confusion_matrix_simple2.png\">\n",
    "\n",
    "<p>What can we learn from this matrix?</p>\n",
    "<ul>\n",
    "<li>There are two possible predicted classes: \"yes\" and \"no\". If we were predicting the presence of a disease, for example, \"yes\" would mean they have the disease, and \"no\" would mean they don't have the disease.</li>\n",
    "<li>The classifier made a total of 165 predictions (e.g., 165 patients were being tested for the presence of that disease).</li>\n",
    "<li>Out of those 165 cases, the classifier predicted \"yes\" 110 times, and \"no\" 55 times.</li>\n",
    "<li>In reality, 105 patients in the sample have the disease, and 60 patients do not.</li>\n",
    "</ul>\n",
    "\n",
    "<p>Let's now define the most basic terms, which are whole numbers (not rates):</p>\n",
    "<ul>\n",
    "<li><strong>true positives (TP):</strong> These are cases in which we predicted yes (they have the disease), and they do have the disease.</li>\n",
    "<li><strong>true negatives (TN):</strong> We predicted no, and they don't have the disease.</li>\n",
    "<li><strong>false positives (FP):</strong> We predicted yes, but they don't actually have the disease. (Also known as a \"Type I error.\")</li>\n",
    "<li><strong>false negatives (FN):</strong> We predicted no, but they actually do have the disease. (Also known as a \"Type II error.\")</li>\n",
    "</ul>\n",
    "\n",
    "\n",
    "<p>Let's now define the most basic terms, which are whole numbers (not rates):</p>\n",
    "<img src=\"../../img/confusion_matrix2.png\">\n",
    "\n",
    "<ul>\n",
    "<li><strong>Accuracy:</strong> Overall, how often is the classifier correct?\n",
    "<ul>\n",
    "<li>(TP+TN)/total = (100+50)/165 = 0.91</li>\n",
    "</ul>\n",
    "</li>\n",
    "<li><strong>Misclassification Rate:</strong> Overall, how often is it wrong?\n",
    "<ul>\n",
    "<li>(FP+FN)/total = (10+5)/165 = 0.09</li>\n",
    "<li>equivalent to 1 minus Accuracy</li>\n",
    "<li>also known as \"Error Rate\"</li>\n",
    "</ul>\n",
    "</li>\n",
    "<li><strong>True Positive Rate:</strong> When it's actually yes, how often does it predict yes?\n",
    "<ul>\n",
    "<li>TP/actual yes = 100/105 = 0.95</li>\n",
    "<li>also known as \"Sensitivity\" or \"Recall\"</li>\n",
    "</ul>\n",
    "</li>\n",
    "<li><strong>False Positive Rate:</strong> When it's actually no, how often does it predict yes?\n",
    "<ul>\n",
    "<li>FP/actual no = 10/60 = 0.17</li>\n",
    "</ul>\n",
    "</li>\n",
    "<li><strong>True Negative Rate:</strong> When it's actually no, how often does it predict no?\n",
    "<ul>\n",
    "<li>TN/actual no = 50/60 = 0.83</li>\n",
    "<li>equivalent to 1 minus False Positive Rate</li>\n",
    "<li>also known as \"Specificity\"</li>\n",
    "</ul>\n",
    "</li>\n",
    "<li><strong>Precision:</strong> When it predicts yes, how often is it correct?\n",
    "<ul>\n",
    "<li>TP/predicted yes = 100/110 = 0.91</li>\n",
    "</ul>\n",
    "</li>\n",
    "<li><strong>Prevalence:</strong> How often does the yes condition actually occur in our sample?\n",
    "<ul>\n",
    "<li>actual yes/total = 105/165 = 0.64</li>\n",
    "</ul>\n",
    "</li>\n",
    "</ul>\n",
    "\n",
    "<p>A couple other terms are also worth mentioning:</p>\n",
    "\n",
    "<ul>\n",
    "<li><strong>Null Error Rate:</strong> This is how often you would be wrong if you always predicted the majority class. (In our example, the null error rate would be 60/165=0.36 because if you always predicted yes, you would only be wrong for the 60 \"no\" cases.) This can be a useful baseline metric to compare your classifier against. However, the best classifier for a particular application will sometimes have a higher error rate than the null error rate, as demonstrated by the <a href=\"http://en.wikipedia.org/wiki/Accuracy_paradox\">Accuracy Paradox</a>.</li>\n",
    "<li><strong>Cohen's Kappa:</strong> This is essentially a measure of how well the classifier performed as compared to how well it would have performed simply by chance. In other words, a model will have a high Kappa score if there is a big difference between the accuracy and the null error rate. (<a href=\"http://en.wikipedia.org/wiki/Cohen's_kappa\">More details about Cohen's Kappa.</a>)</li>\n",
    "<li><strong>F Score:</strong> This is a weighted average of the true positive rate (recall) and precision. (<a href=\"http://en.wikipedia.org/wiki/F1_score\">More details about the F Score.</a>)</li>\n",
    "<li><strong>ROC Curve:</strong> This is a commonly used graph that summarizes the performance of a classifier over all possible thresholds. It is generated by plotting the True Positive Rate (y-axis) against the False Positive Rate (x-axis) as you vary the threshold for assigning observations to a given class. (<a href=\"https://www.dataschool.io/roc-curves-and-auc-explained/\">More details about ROC Curves.</a>)</li>\n",
    "</ul>\n",
    "\n",
    "\n",
    "<img src=\"../../img/1_BT3awaBdZHsit5s41LPb9A.png\">\n",
    "<img src=\"../../img/1_QRIZDkk_FffXKs_07ZlhZw.png\">\n",
    "<img src=\"../../img/1_98FaAKfPWo-EBTbjsxm4GA.png\">\n",
    "\n"
   ]
  },
  {
   "cell_type": "code",
   "execution_count": 1,
   "id": "9a79093a",
   "metadata": {},
   "outputs": [],
   "source": [
    "from sklearn.datasets import make_blobs\n",
    "import matplotlib.pyplot as PLT\n",
    "import numpy as np\n",
    "import pandas as pd\n",
    "from matplotlib import pyplot as PLT, cm as CMAP\n",
    "from sklearn import datasets\n",
    "from sklearn.svm import SVC\n",
    "from sklearn import metrics"
   ]
  },
  {
   "cell_type": "code",
   "execution_count": 2,
   "id": "01928090",
   "metadata": {},
   "outputs": [],
   "source": [
    "DT = datasets.load_digits()"
   ]
  },
  {
   "cell_type": "code",
   "execution_count": 3,
   "id": "cf6e7b28",
   "metadata": {},
   "outputs": [
    {
     "data": {
      "image/png": "[encoded data removed]",
      "text/plain": [
       "<Figure size 432x288 with 4 Axes>"
      ]
     },
     "metadata": {
      "needs_background": "light"
     },
     "output_type": "display_data"
    }
   ],
   "source": [
    "img_labels = list(zip(DT.images,DT.target))\n",
    "for index,(image,label) in enumerate(img_labels[100:104]):\n",
    "    PLT.subplot(1,4,index+1)\n",
    "    PLT.imshow(image,cmap=CMAP.gray_r)\n",
    "    PLT.title(label)"
   ]
  },
  {
   "cell_type": "code",
   "execution_count": 4,
   "id": "a4acbdc0",
   "metadata": {},
   "outputs": [],
   "source": [
    "X = DT.images.reshape(len(DT.images),-1)\n",
    "Y = DT.target"
   ]
  },
  {
   "cell_type": "code",
   "execution_count": 5,
   "id": "5842181d",
   "metadata": {},
   "outputs": [],
   "source": [
    "svm_classifier = SVC(C=1)"
   ]
  },
  {
   "cell_type": "code",
   "execution_count": 6,
   "id": "da530060",
   "metadata": {},
   "outputs": [
    {
     "data": {
      "text/plain": [
       "SVC(C=1)"
      ]
     },
     "execution_count": 6,
     "metadata": {},
     "output_type": "execute_result"
    }
   ],
   "source": [
    "svm_classifier.fit(X[:1000],Y[:1000])"
   ]
  },
  {
   "cell_type": "code",
   "execution_count": 7,
   "id": "7842faaa",
   "metadata": {},
   "outputs": [],
   "source": [
    "predicted = svm_classifier.predict(X[1000:])\n",
    "expected = Y[1000:]"
   ]
  },
  {
   "cell_type": "code",
   "execution_count": 8,
   "id": "02e7081b",
   "metadata": {
    "scrolled": false
   },
   "outputs": [
    {
     "name": "stdout",
     "output_type": "stream",
     "text": [
      "              precision    recall  f1-score   support\n",
      "\n",
      "           0       0.99      0.99      0.99        79\n",
      "           1       0.97      0.96      0.97        80\n",
      "           2       1.00      0.97      0.99        77\n",
      "           3       0.97      0.85      0.91        79\n",
      "           4       0.99      0.95      0.97        83\n",
      "           5       0.92      0.99      0.95        82\n",
      "           6       0.99      0.99      0.99        80\n",
      "           7       0.94      0.99      0.96        80\n",
      "           8       0.92      0.96      0.94        76\n",
      "           9       0.92      0.95      0.93        81\n",
      "\n",
      "    accuracy                           0.96       797\n",
      "   macro avg       0.96      0.96      0.96       797\n",
      "weighted avg       0.96      0.96      0.96       797\n",
      "\n"
     ]
    }
   ],
   "source": [
    "report = metrics.classification_report(expected,predicted)\n",
    "print(report)"
   ]
  },
  {
   "cell_type": "code",
   "execution_count": 9,
   "id": "4c44b495",
   "metadata": {
    "scrolled": true
   },
   "outputs": [
    {
     "data": {
      "text/plain": [
       "array([[78,  0,  0,  0,  1,  0,  0,  0,  0,  0],\n",
       "       [ 0, 77,  0,  0,  0,  0,  0,  0,  1,  2],\n",
       "       [ 1,  0, 75,  1,  0,  0,  0,  0,  0,  0],\n",
       "       [ 0,  0,  0, 67,  0,  3,  0,  4,  5,  0],\n",
       "       [ 0,  0,  0,  0, 79,  0,  0,  0,  0,  4],\n",
       "       [ 0,  0,  0,  0,  0, 81,  1,  0,  0,  0],\n",
       "       [ 0,  1,  0,  0,  0,  0, 79,  0,  0,  0],\n",
       "       [ 0,  0,  0,  0,  0,  1,  0, 79,  0,  0],\n",
       "       [ 0,  1,  0,  0,  0,  1,  0,  0, 73,  1],\n",
       "       [ 0,  0,  0,  1,  0,  2,  0,  1,  0, 77]])"
      ]
     },
     "execution_count": 9,
     "metadata": {},
     "output_type": "execute_result"
    }
   ],
   "source": [
    "metrics.confusion_matrix(expected,predicted)"
   ]
  },
  {
   "cell_type": "code",
   "execution_count": null,
   "id": "5b2fdba8",
   "metadata": {},
   "outputs": [],
   "source": []
  }
 ],
 "metadata": {
  "kernelspec": {
   "display_name": "Python 3 (ipykernel)",
   "language": "python",
   "name": "python3"
  },
  "language_info": {
   "codemirror_mode": {
    "name": "ipython",
    "version": 3
   },
   "file_extension": ".py",
   "mimetype": "text/x-python",
   "name": "python",
   "nbconvert_exporter": "python",
   "pygments_lexer": "ipython3",
   "version": "3.9.12"
  }
 },
 "nbformat": 4,
 "nbformat_minor": 5
}
