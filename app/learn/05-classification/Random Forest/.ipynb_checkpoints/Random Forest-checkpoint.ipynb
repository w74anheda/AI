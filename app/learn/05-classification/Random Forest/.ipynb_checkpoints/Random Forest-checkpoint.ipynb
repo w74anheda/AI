{
 "cells": [
  {
   "cell_type": "markdown",
   "id": "7afbf9db",
   "metadata": {
    "jupyter": {
     "source_hidden": true
    },
    "tags": []
   },
   "source": [
    "# <font color=\"orange\">Random Forests Classification (ensemble method)</font>\n",
    "<p id=\"9631\" class=\"pw-post-body-paragraph kl km ig kn b ko kp jh kq kr ks jk kt ku kv kw kx ky kz la lb lc ld le lf lg hz gh\" data-selectable-paragraph=\"\">Before we start our discussion on random forests, we first need to understand Bagging. <mark class=\"wg wh pi\">Bagging is a simple and a very powerful ensemble method. It is a general procedure that can be used to reduce our model’s variance.</mark> A higher variance means that your model is overfitted. Certain algorithms such as decision trees usually suffer from high variance. In another way, decision trees are extremely sensitive to the data on which they have been trained. If the underlying data is changed even a little bit, then the resulting decision tree can be very different and as result our model’s predictions will change drastically. Bagging offers a solution to the problem of high variance. It can systematically reduce overfitting by taking an average of several decision trees. Bagging uses bootstrap sampling and finally aggregates the individual models by averaging to get the ultimate predictions. <strong class=\"kn ih\">Bootstrap sampling simply means sampling rows at random from the training dataset with replacement.</strong>\n",
    "\n",
    "Random forest is one of the most widely used ensemble learning algorithms. Why is it so effective? The reason is that by using multiple samples of the original dataset, we reduce the variance of the final model. Remember that the low variance means low overfitting. Overfitting happens when our model tries to explain small variations in the dataset because our dataset is just a small sample of the population of all possible examples of the phenomenon we try to model. \n",
    "\n",
    "</p>\n",
    "\n",
    "\n",
    "<img src=\"../../../img/1_5Spqp6X1fDbWlNyCgTMzdQ.png\">\n",
    "<img src=\"../../../img/1_l16JAxJR5MJea12jut-FLQ.png\">\n",
    "<img src=\"../../../img/1_5vlUF8FRR6flPPWK4wt-Kw.png\">\n"
   ]
  },
  {
   "cell_type": "code",
   "execution_count": 7,
   "id": "c4db8efd",
   "metadata": {},
   "outputs": [],
   "source": [
    "import numpy as np\n",
    "import pandas as pd\n",
    "from matplotlib import pyplot as PLT, cm as CMAP\n",
    "from sklearn import datasets\n",
    "from sklearn.ensemble import RandomForestClassifier\n",
    "from sklearn import metrics"
   ]
  },
  {
   "cell_type": "code",
   "execution_count": 8,
   "id": "01928090",
   "metadata": {},
   "outputs": [],
   "source": [
    "DT = datasets.load_digits()"
   ]
  },
  {
   "cell_type": "code",
   "execution_count": 9,
   "id": "8273cbd8",
   "metadata": {},
   "outputs": [],
   "source": [
    "X = DT.images.reshape(len(DT.images),-1)\n",
    "Y = DT.target"
   ]
  },
  {
   "cell_type": "code",
   "execution_count": 11,
   "id": "a4acbdc0",
   "metadata": {},
   "outputs": [
    {
     "name": "stderr",
     "output_type": "stream",
     "text": [
      "[Parallel(n_jobs=1)]: Using backend SequentialBackend with 1 concurrent workers.\n",
      "[Parallel(n_jobs=1)]: Done 1000 out of 1000 | elapsed:    4.1s finished\n",
      "[Parallel(n_jobs=1)]: Using backend SequentialBackend with 1 concurrent workers.\n"
     ]
    },
    {
     "name": "stdout",
     "output_type": "stream",
     "text": [
      "              precision    recall  f1-score   support\n",
      "\n",
      "           0       0.99      0.99      0.99        79\n",
      "           1       0.93      0.89      0.91        80\n",
      "           2       1.00      0.91      0.95        77\n",
      "           3       0.90      0.84      0.87        79\n",
      "           4       0.98      0.95      0.96        83\n",
      "           5       0.89      0.98      0.93        82\n",
      "           6       0.98      0.99      0.98        80\n",
      "           7       0.93      0.99      0.96        80\n",
      "           8       0.88      0.91      0.90        76\n",
      "           9       0.88      0.91      0.90        81\n",
      "\n",
      "    accuracy                           0.93       797\n",
      "   macro avg       0.94      0.93      0.93       797\n",
      "weighted avg       0.94      0.93      0.93       797\n",
      "\n"
     ]
    },
    {
     "name": "stderr",
     "output_type": "stream",
     "text": [
      "[Parallel(n_jobs=1)]: Done 1000 out of 1000 | elapsed:    0.2s finished\n"
     ]
    }
   ],
   "source": [
    "random_forest_classifier = RandomForestClassifier(n_estimators=1000,verbose=True)\n",
    "random_forest_classifier.fit(X[:1000],Y[:1000])\n",
    "\n",
    "predicted = random_forest_classifier.predict(X[1000:])\n",
    "expected = Y[1000:]\n",
    "\n",
    "report = metrics.classification_report(expected,predicted)\n",
    "print(report)"
   ]
  },
  {
   "cell_type": "code",
   "execution_count": null,
   "id": "15894743",
   "metadata": {},
   "outputs": [],
   "source": []
  },
  {
   "cell_type": "code",
   "execution_count": null,
   "id": "5a3b9817",
   "metadata": {},
   "outputs": [],
   "source": []
  },
  {
   "cell_type": "code",
   "execution_count": null,
   "id": "43a6eb8c",
   "metadata": {},
   "outputs": [],
   "source": []
  },
  {
   "cell_type": "code",
   "execution_count": null,
   "id": "b09e5e09",
   "metadata": {},
   "outputs": [],
   "source": []
  },
  {
   "cell_type": "code",
   "execution_count": null,
   "id": "8f617e13",
   "metadata": {},
   "outputs": [],
   "source": []
  },
  {
   "cell_type": "code",
   "execution_count": null,
   "id": "252cc2ca",
   "metadata": {},
   "outputs": [],
   "source": []
  },
  {
   "cell_type": "code",
   "execution_count": null,
   "id": "616a6660",
   "metadata": {},
   "outputs": [],
   "source": []
  }
 ],
 "metadata": {
  "kernelspec": {
   "display_name": "Python 3 (ipykernel)",
   "language": "python",
   "name": "python3"
  },
  "language_info": {
   "codemirror_mode": {
    "name": "ipython",
    "version": 3
   },
   "file_extension": ".py",
   "mimetype": "text/x-python",
   "name": "python",
   "nbconvert_exporter": "python",
   "pygments_lexer": "ipython3",
   "version": "3.9.13"
  }
 },
 "nbformat": 4,
 "nbformat_minor": 5
}
