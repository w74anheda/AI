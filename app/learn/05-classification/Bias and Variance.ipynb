{
 "cells": [
  {
   "cell_type": "markdown",
   "id": "95ffd35a",
   "metadata": {},
   "source": [
    "# <font color=\"orange\">Bias and Variance</font>\n",
    "\n",
    "<p>high variance (over fit)</p>\n",
    "<p>high bias (under fit)</p>\n",
    "\n",
    "<p>Whenever we discuss model prediction, it’s important to understand prediction errors (bias and variance). There is a tradeoff between a model’s ability to minimize bias and variance. Gaining a proper understanding of these errors would help us not only to build accurate models but also to avoid the mistake of overfitting and underfitting.</p>\n",
    "\n",
    "<p><strong class=\"lq ks\">What is bias?</strong></p>\n",
    "<p>Bias is the difference between the average prediction of our model and the correct value which we are trying to predict. Model with high bias pays very little attention to the training data and oversimplifies the model. It always leads to high error on training and test data.</p>\n",
    "\n",
    "<p><strong class=\"lq ks\">What is variance?</strong></p>\n",
    "<p>Variance is the variability of model prediction for a given data point or a value which tells us spread of our data. <mark class=\"sh si ol\">Model with high variance pays a lot of attention to training data and does not generalize on the data which it hasn’t seen before.</mark> As a result, such models perform very well on training data but has high error rates on test data.</p>\n",
    "\n",
    "<p>Irreducible error is the error that can’t be reduced by creating good models. It is a measure of the amount of noise in our data. Here it is important to understand that no matter how good we make our model, our data will have certain amount of noise or irreducible error that can not be removed.</p>\n",
    "\n",
    "<img src=\"../../img/1_CgIdnlB6JK8orFKPXpc7Rg.png\">\n",
    "<img src=\"../../img/1_9hPX9pAO3jqLrzt0IE3JzA.png\">\n",
    "<img src=\"../../img/1_8sV6Sr9uc0Ef39YBivLzrw.jpeg\">\n",
    "<img src=\"../../img/bias-and-variance-in-machine-learning5.png\">\n",
    "\n"
   ]
  },
  {
   "cell_type": "code",
   "execution_count": null,
   "id": "1d617e7f",
   "metadata": {},
   "outputs": [],
   "source": []
  },
  {
   "cell_type": "code",
   "execution_count": null,
   "id": "522a60f9",
   "metadata": {},
   "outputs": [],
   "source": []
  },
  {
   "cell_type": "code",
   "execution_count": null,
   "id": "1f790d27",
   "metadata": {},
   "outputs": [],
   "source": []
  },
  {
   "cell_type": "code",
   "execution_count": null,
   "id": "fc8bf91a",
   "metadata": {},
   "outputs": [],
   "source": []
  },
  {
   "cell_type": "code",
   "execution_count": null,
   "id": "a31dc8c8",
   "metadata": {},
   "outputs": [],
   "source": []
  },
  {
   "cell_type": "code",
   "execution_count": null,
   "id": "e21a0970",
   "metadata": {},
   "outputs": [],
   "source": []
  },
  {
   "cell_type": "code",
   "execution_count": null,
   "id": "efae1f7a",
   "metadata": {},
   "outputs": [],
   "source": []
  }
 ],
 "metadata": {
  "kernelspec": {
   "display_name": "Python 3 (ipykernel)",
   "language": "python",
   "name": "python3"
  },
  "language_info": {
   "codemirror_mode": {
    "name": "ipython",
    "version": 3
   },
   "file_extension": ".py",
   "mimetype": "text/x-python",
   "name": "python",
   "nbconvert_exporter": "python",
   "pygments_lexer": "ipython3",
   "version": "3.9.12"
  }
 },
 "nbformat": 4,
 "nbformat_minor": 5
}
