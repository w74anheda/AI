{
 "cells": [
  {
   "cell_type": "code",
   "execution_count": 1,
   "metadata": {},
   "outputs": [],
   "source": [
    "import pandas as pd \n",
    "import numpy as np "
   ]
  },
  {
   "cell_type": "code",
   "execution_count": 2,
   "metadata": {},
   "outputs": [
    {
     "data": {
      "text/html": [
       "<div>\n",
       "<style scoped>\n",
       "    .dataframe tbody tr th:only-of-type {\n",
       "        vertical-align: middle;\n",
       "    }\n",
       "\n",
       "    .dataframe tbody tr th {\n",
       "        vertical-align: top;\n",
       "    }\n",
       "\n",
       "    .dataframe thead th {\n",
       "        text-align: right;\n",
       "    }\n",
       "</style>\n",
       "<table border=\"1\" class=\"dataframe\">\n",
       "  <thead>\n",
       "    <tr style=\"text-align: right;\">\n",
       "      <th></th>\n",
       "      <th>Outlook</th>\n",
       "      <th>Temperature</th>\n",
       "      <th>Humidity</th>\n",
       "      <th>Wind</th>\n",
       "      <th>Play Tennis</th>\n",
       "    </tr>\n",
       "  </thead>\n",
       "  <tbody>\n",
       "    <tr>\n",
       "      <th>0</th>\n",
       "      <td>Sunny</td>\n",
       "      <td>Hot</td>\n",
       "      <td>High</td>\n",
       "      <td>Weak</td>\n",
       "      <td>No</td>\n",
       "    </tr>\n",
       "    <tr>\n",
       "      <th>1</th>\n",
       "      <td>Sunny</td>\n",
       "      <td>Hot</td>\n",
       "      <td>High</td>\n",
       "      <td>Strong</td>\n",
       "      <td>No</td>\n",
       "    </tr>\n",
       "    <tr>\n",
       "      <th>2</th>\n",
       "      <td>Overcast</td>\n",
       "      <td>Hot</td>\n",
       "      <td>High</td>\n",
       "      <td>Weak</td>\n",
       "      <td>Yes</td>\n",
       "    </tr>\n",
       "    <tr>\n",
       "      <th>3</th>\n",
       "      <td>Rain</td>\n",
       "      <td>Mild</td>\n",
       "      <td>High</td>\n",
       "      <td>Weak</td>\n",
       "      <td>Yes</td>\n",
       "    </tr>\n",
       "    <tr>\n",
       "      <th>4</th>\n",
       "      <td>Rain</td>\n",
       "      <td>Cool</td>\n",
       "      <td>Normal</td>\n",
       "      <td>Weak</td>\n",
       "      <td>Yes</td>\n",
       "    </tr>\n",
       "    <tr>\n",
       "      <th>5</th>\n",
       "      <td>Rain</td>\n",
       "      <td>Cool</td>\n",
       "      <td>Normal</td>\n",
       "      <td>Strong</td>\n",
       "      <td>No</td>\n",
       "    </tr>\n",
       "    <tr>\n",
       "      <th>6</th>\n",
       "      <td>Overcast</td>\n",
       "      <td>Cool</td>\n",
       "      <td>Normal</td>\n",
       "      <td>Strong</td>\n",
       "      <td>Yes</td>\n",
       "    </tr>\n",
       "    <tr>\n",
       "      <th>7</th>\n",
       "      <td>Sunny</td>\n",
       "      <td>Mild</td>\n",
       "      <td>High</td>\n",
       "      <td>Weak</td>\n",
       "      <td>No</td>\n",
       "    </tr>\n",
       "    <tr>\n",
       "      <th>8</th>\n",
       "      <td>Sunny</td>\n",
       "      <td>Cool</td>\n",
       "      <td>Normal</td>\n",
       "      <td>Weak</td>\n",
       "      <td>Yes</td>\n",
       "    </tr>\n",
       "    <tr>\n",
       "      <th>9</th>\n",
       "      <td>Rain</td>\n",
       "      <td>Mild</td>\n",
       "      <td>Normal</td>\n",
       "      <td>Weak</td>\n",
       "      <td>Yes</td>\n",
       "    </tr>\n",
       "    <tr>\n",
       "      <th>10</th>\n",
       "      <td>Sunny</td>\n",
       "      <td>Mild</td>\n",
       "      <td>Normal</td>\n",
       "      <td>Strong</td>\n",
       "      <td>Yes</td>\n",
       "    </tr>\n",
       "    <tr>\n",
       "      <th>11</th>\n",
       "      <td>Overcast</td>\n",
       "      <td>Mild</td>\n",
       "      <td>High</td>\n",
       "      <td>Strong</td>\n",
       "      <td>Yes</td>\n",
       "    </tr>\n",
       "    <tr>\n",
       "      <th>12</th>\n",
       "      <td>Overcast</td>\n",
       "      <td>Hot</td>\n",
       "      <td>Normal</td>\n",
       "      <td>Weak</td>\n",
       "      <td>Yes</td>\n",
       "    </tr>\n",
       "    <tr>\n",
       "      <th>13</th>\n",
       "      <td>Rain</td>\n",
       "      <td>Mild</td>\n",
       "      <td>High</td>\n",
       "      <td>Strong</td>\n",
       "      <td>No</td>\n",
       "    </tr>\n",
       "  </tbody>\n",
       "</table>\n",
       "</div>"
      ],
      "text/plain": [
       "     Outlook Temperature Humidity    Wind Play Tennis\n",
       "0      Sunny         Hot     High    Weak          No\n",
       "1      Sunny         Hot     High  Strong          No\n",
       "2   Overcast         Hot     High    Weak         Yes\n",
       "3       Rain        Mild     High    Weak         Yes\n",
       "4       Rain        Cool   Normal    Weak         Yes\n",
       "5       Rain        Cool   Normal  Strong          No\n",
       "6   Overcast        Cool   Normal  Strong         Yes\n",
       "7      Sunny        Mild     High    Weak          No\n",
       "8      Sunny        Cool   Normal    Weak         Yes\n",
       "9       Rain        Mild   Normal    Weak         Yes\n",
       "10     Sunny        Mild   Normal  Strong         Yes\n",
       "11  Overcast        Mild     High  Strong         Yes\n",
       "12  Overcast         Hot   Normal    Weak         Yes\n",
       "13      Rain        Mild     High  Strong          No"
      ]
     },
     "execution_count": 2,
     "metadata": {},
     "output_type": "execute_result"
    }
   ],
   "source": [
    "DT =pd.read_csv(\"PlayTennis.csv\") \n",
    "DT"
   ]
  },
  {
   "cell_type": "code",
   "execution_count": 3,
   "metadata": {},
   "outputs": [],
   "source": [
    "def calc_total_entropy(DT,label):\n",
    "    entropy = 0\n",
    "    DT_count = len(DT)\n",
    "    for _class in DT[label].unique():\n",
    "        class_count = len(DT[DT[label]==_class])\n",
    "        entropy+= - (class_count/DT_count) * np.log2(class_count/DT_count)\n",
    "    return entropy"
   ]
  },
  {
   "cell_type": "code",
   "execution_count": 4,
   "metadata": {},
   "outputs": [
    {
     "data": {
      "text/plain": [
       "0.9402859586706311"
      ]
     },
     "execution_count": 4,
     "metadata": {},
     "output_type": "execute_result"
    }
   ],
   "source": [
    "calc_total_entropy(DT,'Play Tennis')"
   ]
  },
  {
   "cell_type": "code",
   "execution_count": 5,
   "metadata": {},
   "outputs": [],
   "source": [
    "def calc_entropy(DT, feature_label, class_label):\n",
    "    entropy = {}\n",
    "    uniqued_feature = DT[feature_label].unique()\n",
    "    uniqued_class = DT[class_label].unique()\n",
    "\n",
    "    for feature in uniqued_feature:\n",
    "        entropy_sum = 0\n",
    "        feature_class_entropy = 0\n",
    "        feature_count = len(DT[DT[feature_label]==feature])\n",
    "        feature_p = feature_count / len(DT[feature_label])\n",
    "        \n",
    "        for _class in uniqued_class:\n",
    "            feature_class_count = len(DT[ (DT[feature_label]==feature) & (DT[class_label]==_class) ][feature_label])            \n",
    "            if feature_class_count != 0:\n",
    "                feature_class_probability = feature_class_count/feature_count \n",
    "                feature_class_entropy = - feature_class_probability * np.log2(feature_class_probability) \n",
    "            entropy_sum += feature_class_entropy\n",
    "        entropy[feature] = {'P':feature_p,'H':entropy_sum}\n",
    "        \n",
    "    return entropy\n",
    "# calc_entropy(DT,'Outlook','Play Tennis')"
   ]
  },
  {
   "cell_type": "code",
   "execution_count": 6,
   "metadata": {},
   "outputs": [
    {
     "data": {
      "text/plain": [
       "{'gains': {'Humidity': 0.15183550136234159,\n",
       "  'Outlook': 0.24674981977443933,\n",
       "  'Temperature': 0.02922256565895487,\n",
       "  'Wind': 0.04812703040826949},\n",
       " 'best': {'key': 'Outlook', 'value': 0.24674981977443933}}"
      ]
     },
     "execution_count": 6,
     "metadata": {},
     "output_type": "execute_result"
    }
   ],
   "source": [
    "def calc_gain(DT,class_label):\n",
    "    import operator\n",
    "    features = DT.columns.difference([class_label])\n",
    "    total_entropy = calc_total_entropy(DT,class_label)\n",
    "    \n",
    "    gains = {}\n",
    "    for feature in features:\n",
    "        I = 0\n",
    "        entropies = calc_entropy(DT,feature,class_label)\n",
    "        for item in entropies.keys() :\n",
    "            I += entropies[item]['P'] * entropies[item]['H']\n",
    "        gains[feature] = total_entropy - I\n",
    "    best_feature = max(gains.items(), key=operator.itemgetter(1))[0]\n",
    "    return {\n",
    "        'gains' : gains,\n",
    "        'best' : {\n",
    "            'key' : best_feature,\n",
    "            'value' : gains[best_feature],\n",
    "        }\n",
    "    }\n",
    "calc_gain(DT,'Play Tennis')"
   ]
  },
  {
   "cell_type": "code",
   "execution_count": 7,
   "metadata": {
    "scrolled": false
   },
   "outputs": [],
   "source": [
    "def sub_tree_maker(best_feature, DT, target):\n",
    "    class_list = DT[target].unique()\n",
    "    tree = {} \n",
    "    best_feature_unique_list = DT[best_feature].value_counts(sort=False)\n",
    "    \n",
    "    for best_feature_item_name, best_feature_count in best_feature_unique_list.iteritems():\n",
    "        best_feature_data = DT[DT[best_feature] == best_feature_item_name]\n",
    "        branch_node = False \n",
    "        for _class in class_list: \n",
    "            class_count = len(best_feature_data[best_feature_data[target] == _class])\n",
    "            if class_count == best_feature_count:\n",
    "                tree[best_feature_item_name] = _class \n",
    "                DT = DT[DT[best_feature] != best_feature_item_name] \n",
    "                branch_node = True\n",
    "            if not branch_node: \n",
    "                tree[best_feature_item_name] = \"Branch\"\n",
    "    return tree, DT\n",
    "# sub_tree_maker('Outlook',DT,'Play Tennis')"
   ]
  },
  {
   "cell_type": "code",
   "execution_count": 8,
   "metadata": {},
   "outputs": [],
   "source": [
    "def tree_maker(DT, class_label, class_unique_value, root, node=None):\n",
    "\n",
    "    if len(DT) == 0: return False\n",
    "    \n",
    "    best_feature = calc_gain(DT, class_label)['best']['key'] \n",
    "    sub_tree, DT = sub_tree_maker(best_feature, DT, class_label) \n",
    "    \n",
    "    next_root = None \n",
    "    if node != None: \n",
    "        root[node] = {}\n",
    "        root[node][best_feature] = sub_tree\n",
    "        next_root = root[node][best_feature]\n",
    "    else: \n",
    "        root[best_feature] = sub_tree\n",
    "        next_root = root[best_feature]      \n",
    "    for node, branch in list(next_root.items()): \n",
    "        if branch == \"Branch\": \n",
    "            feature_value_data = DT[DT[best_feature] == node] \n",
    "            tree_maker(feature_value_data, class_label, class_unique_value, next_root, node)"
   ]
  },
  {
   "cell_type": "code",
   "execution_count": 9,
   "metadata": {},
   "outputs": [],
   "source": [
    "def predict(tree, new_instance):\n",
    "    if not isinstance(tree, dict): \n",
    "        return tree \n",
    "    else:\n",
    "        root_node = next(iter(tree))\n",
    "        feature_value = new_instance[root_node] \n",
    "        if feature_value in tree[root_node]: \n",
    "            return predict(tree[root_node][feature_value], new_instance) \n",
    "        else:\n",
    "            return None"
   ]
  },
  {
   "cell_type": "code",
   "execution_count": 10,
   "metadata": {},
   "outputs": [],
   "source": [
    "def metrics_report(DTTEST,tree):\n",
    "    correct_count = 0\n",
    "    wrong_count = 0\n",
    "\n",
    "    for index,r in DTTEST.iterrows(): \n",
    "        result = predict(tree, DTTEST.iloc[index]) \n",
    "        if result == DTTEST[target].iloc[index]: \n",
    "            correct_count += 1 \n",
    "        else:\n",
    "            wrong_count+= 1 \n",
    "    accuracy =  correct_count / ( correct_count + wrong_count) \n",
    "    return accuracy"
   ]
  },
  {
   "cell_type": "code",
   "execution_count": null,
   "metadata": {},
   "outputs": [],
   "source": []
  },
  {
   "cell_type": "markdown",
   "metadata": {},
   "source": [
    "# __main__"
   ]
  },
  {
   "cell_type": "code",
   "execution_count": 11,
   "metadata": {},
   "outputs": [
    {
     "ename": "NameError",
     "evalue": "name 'class_label' is not defined",
     "output_type": "error",
     "traceback": [
      "\u001b[0;31m---------------------------------------------------------------------------\u001b[0m",
      "\u001b[0;31mNameError\u001b[0m                                 Traceback (most recent call last)",
      "Input \u001b[0;32mIn [11]\u001b[0m, in \u001b[0;36m<cell line: 1>\u001b[0;34m()\u001b[0m\n\u001b[0;32m----> 1\u001b[0m class_uniqued_value \u001b[38;5;241m=\u001b[39m DT[\u001b[43mclass_label\u001b[49m]\u001b[38;5;241m.\u001b[39munique()\n\u001b[1;32m      2\u001b[0m tree \u001b[38;5;241m=\u001b[39m {} \n\u001b[1;32m      3\u001b[0m class_label \u001b[38;5;241m=\u001b[39m \u001b[38;5;124m'\u001b[39m\u001b[38;5;124mPlay Tennis\u001b[39m\u001b[38;5;124m'\u001b[39m\n",
      "\u001b[0;31mNameError\u001b[0m: name 'class_label' is not defined"
     ]
    }
   ],
   "source": [
    "class_uniqued_value = DT[class_label].unique()\n",
    "tree = {} \n",
    "class_label = 'Play Tennis'\n",
    "\n",
    "tree_maker(DT, class_label, class_uniqued_value, tree) \n",
    "display(root)"
   ]
  },
  {
   "cell_type": "code",
   "execution_count": null,
   "metadata": {},
   "outputs": [],
   "source": [
    "DTTEST = pd.read_csv(\"PlayTennis_Test.csv\")\n",
    "metrics_report(DTTEST,tree)"
   ]
  },
  {
   "cell_type": "code",
   "execution_count": null,
   "metadata": {},
   "outputs": [],
   "source": []
  },
  {
   "cell_type": "code",
   "execution_count": null,
   "metadata": {},
   "outputs": [],
   "source": []
  },
  {
   "cell_type": "code",
   "execution_count": null,
   "metadata": {},
   "outputs": [],
   "source": []
  },
  {
   "cell_type": "code",
   "execution_count": null,
   "metadata": {},
   "outputs": [],
   "source": []
  },
  {
   "cell_type": "code",
   "execution_count": null,
   "metadata": {},
   "outputs": [],
   "source": []
  }
 ],
 "metadata": {
  "kernelspec": {
   "display_name": "Python 3 (ipykernel)",
   "language": "python",
   "name": "python3"
  },
  "language_info": {
   "codemirror_mode": {
    "name": "ipython",
    "version": 3
   },
   "file_extension": ".py",
   "mimetype": "text/x-python",
   "name": "python",
   "nbconvert_exporter": "python",
   "pygments_lexer": "ipython3",
   "version": "3.9.12"
  }
 },
 "nbformat": 4,
 "nbformat_minor": 2
}
