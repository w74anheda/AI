{
 "cells": [
  {
   "cell_type": "markdown",
   "id": "4f5b2c8f",
   "metadata": {},
   "source": [
    "# <font color=\"orange\">KNN is lazy algoritm  (minkowski distance / manhatan distance)</font>\n",
    "\n",
    "<p><strong>KNN</strong>: K Nearest Neighbor is one of the fundamental algorithms in machine learning. Machine learning models use a set of input values to predict output values. KNN is one of the simplest forms of machine learning algorithms mostly used for classification. It classifies the data point on how its neighbor is classified.</p>\n",
    "\n",
    "<p>K in KNN represents the number of the nearest neighbors we used to classify new data points.</p>\n",
    "<p>\n",
    "By choosing the value of K we square root the total number of data points available in the dataset.<br/>\n",
    "a. K = sqrt (total number of data points).<br/>\n",
    "b. Odd value of K is always selected to avoid confusion between 2 classe\n",
    "</p>\n",
    "\n",
    "<p><strong class=\"jx iz\">When is KNN?</strong></p>\n",
    "<p>a. We have properly labeled data. For example, if we are predicting someone is having diabetes or not the final label can be 1 or 0. It cannot be NaN or -1.</p>\n",
    "<p>b. Data is noise-free. For the diabetes data set we cannot have a Glucose level as 0 or 10000. It’s practically impossible.</p>\n",
    "<p>c. Small dataset.</p>\n",
    "<p>d. Not create model / is lazy and calculate neighbors every time.</p>\n",
    "\n",
    "<p><strong class=\"jx iz\">How does KNN work?</strong></p>\n",
    "<p>We usually use Euclidean distance to calculate the nearest neighbor. If we have two points (x, y) and (a, b). The formula for Euclidean distance (d) will be</p>\n",
    "<p>d = sqrt((x-a)²+(y-b)²)</p>\n",
    "\n",
    "\n",
    "\n",
    "\n",
    "\n",
    "\n",
    "\n",
    "\n",
    "\n",
    "\n",
    "\n",
    "\n",
    "\n",
    "\n",
    "\n",
    "<img src=\"../../../img/Screenshot from 2022-10-15 10-47-38.png\">\n",
    "\n",
    "<p>We try to get the smallest Euclidean distance and based on the number of smaller distances we perform our calculation.</p>\n",
    "\n",
    "\n"
   ]
  },
  {
   "cell_type": "code",
   "execution_count": 1,
   "id": "9bf90bfd",
   "metadata": {},
   "outputs": [],
   "source": [
    "from sklearn.neighbors import KNeighborsClassifier\n",
    "import matplotlib.pyplot as PLT\n",
    "import numpy as np\n",
    "import pandas as pd\n",
    "from matplotlib import pyplot as PLT, cm as CMAP\n",
    "from sklearn import datasets\n",
    "from sklearn import metrics\n",
    "import seaborn as SB"
   ]
  },
  {
   "cell_type": "code",
   "execution_count": 3,
   "id": "c175b7e1",
   "metadata": {},
   "outputs": [],
   "source": [
    "DT = datasets.load_digits()"
   ]
  },
  {
   "cell_type": "code",
   "execution_count": 4,
   "id": "cbae8420",
   "metadata": {},
   "outputs": [],
   "source": [
    "X = DT.images.reshape(len(DT.images),-1)\n",
    "Y = DT.target"
   ]
  },
  {
   "cell_type": "code",
   "execution_count": 5,
   "id": "da9e17bc",
   "metadata": {},
   "outputs": [
    {
     "name": "stdout",
     "output_type": "stream",
     "text": [
      "              precision    recall  f1-score   support\n",
      "\n",
      "           0       0.99      1.00      0.99        79\n",
      "           1       0.95      0.97      0.96        80\n",
      "           2       0.97      0.94      0.95        77\n",
      "           3       0.91      0.90      0.90        79\n",
      "           4       1.00      0.95      0.98        83\n",
      "           5       0.94      0.99      0.96        82\n",
      "           6       0.99      1.00      0.99        80\n",
      "           7       0.94      1.00      0.97        80\n",
      "           8       0.95      0.91      0.93        76\n",
      "           9       0.94      0.91      0.92        81\n",
      "\n",
      "    accuracy                           0.96       797\n",
      "   macro avg       0.96      0.96      0.96       797\n",
      "weighted avg       0.96      0.96      0.96       797\n",
      "\n"
     ]
    }
   ],
   "source": [
    "knn_classifier = KNeighborsClassifier(n_neighbors=5)\n",
    "knn_classifier.fit(X[:1000],Y[:1000])\n",
    "\n",
    "predicted = knn_classifier.predict(X[1000:])\n",
    "expected = Y[1000:]\n",
    "\n",
    "report = metrics.classification_report(expected,predicted,output_dict=False)\n",
    "print(report)"
   ]
  },
  {
   "cell_type": "code",
   "execution_count": null,
   "id": "be63f066",
   "metadata": {},
   "outputs": [],
   "source": []
  },
  {
   "cell_type": "code",
   "execution_count": null,
   "id": "d76989f9",
   "metadata": {},
   "outputs": [],
   "source": []
  },
  {
   "cell_type": "code",
   "execution_count": null,
   "id": "d11d059f",
   "metadata": {},
   "outputs": [],
   "source": []
  },
  {
   "cell_type": "code",
   "execution_count": null,
   "id": "64559a5a",
   "metadata": {},
   "outputs": [],
   "source": []
  },
  {
   "cell_type": "code",
   "execution_count": null,
   "id": "60ee56f9",
   "metadata": {},
   "outputs": [],
   "source": []
  },
  {
   "cell_type": "code",
   "execution_count": null,
   "id": "b5632d46",
   "metadata": {},
   "outputs": [],
   "source": []
  },
  {
   "cell_type": "code",
   "execution_count": null,
   "id": "3fee1a2a",
   "metadata": {},
   "outputs": [],
   "source": []
  },
  {
   "cell_type": "code",
   "execution_count": null,
   "id": "7751b0b6",
   "metadata": {},
   "outputs": [],
   "source": []
  }
 ],
 "metadata": {
  "kernelspec": {
   "display_name": "Python 3 (ipykernel)",
   "language": "python",
   "name": "python3"
  },
  "language_info": {
   "codemirror_mode": {
    "name": "ipython",
    "version": 3
   },
   "file_extension": ".py",
   "mimetype": "text/x-python",
   "name": "python",
   "nbconvert_exporter": "python",
   "pygments_lexer": "ipython3",
   "version": "3.9.12"
  }
 },
 "nbformat": 4,
 "nbformat_minor": 5
}
