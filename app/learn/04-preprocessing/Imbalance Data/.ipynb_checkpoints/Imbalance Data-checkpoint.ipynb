{
 "cells": [
  {
   "cell_type": "markdown",
   "id": "afdf033c",
   "metadata": {},
   "source": [
    "# Imbalance Data"
   ]
  },
  {
   "cell_type": "code",
   "execution_count": 1,
   "id": "d0e4e8a8",
   "metadata": {},
   "outputs": [],
   "source": [
    "import pandas as pd\n",
    "import numpy  as np\n",
    "import seaborn as SB\n",
    "import matplotlib.pyplot as PLT\n",
    "import scipy.stats as STATS\n",
    "from sklearn.model_selection import train_test_split\n",
    "from sklearn.preprocessing import StandardScaler\n",
    "from sklearn.preprocessing import MinMaxScaler\n",
    "from sklearn import metrics\n",
    "from sklearn.preprocessing import Normalizer\n",
    "from sklearn.preprocessing import LabelEncoder\n",
    "from sklearn.compose import ColumnTransformer\n",
    "from sklearn.preprocessing import OneHotEncoder\n",
    "from sklearn.ensemble import GradientBoostingRegressor\n",
    "from sklearn.metrics import mean_absolute_error,r2_score\n",
    "from sklearn import metrics"
   ]
  },
  {
   "cell_type": "code",
   "execution_count": null,
   "id": "081806fb",
   "metadata": {},
   "outputs": [],
   "source": [
    "# n = 1000\n",
    "# skip = sorted(random.sample(range(1,50000),50000-n))\n",
    "# pd.read_csv('../asdasda',skip_rows=skip)"
   ]
  },
  {
   "cell_type": "code",
   "execution_count": 2,
   "id": "607101a5",
   "metadata": {},
   "outputs": [
    {
     "data": {
      "text/html": [
       "<div>\n",
       "<style scoped>\n",
       "    .dataframe tbody tr th:only-of-type {\n",
       "        vertical-align: middle;\n",
       "    }\n",
       "\n",
       "    .dataframe tbody tr th {\n",
       "        vertical-align: top;\n",
       "    }\n",
       "\n",
       "    .dataframe thead th {\n",
       "        text-align: right;\n",
       "    }\n",
       "</style>\n",
       "<table border=\"1\" class=\"dataframe\">\n",
       "  <thead>\n",
       "    <tr style=\"text-align: right;\">\n",
       "      <th></th>\n",
       "      <th>id</th>\n",
       "      <th>HeartDisease</th>\n",
       "      <th>BMI</th>\n",
       "      <th>Smoking</th>\n",
       "      <th>AlcoholDrinking</th>\n",
       "      <th>Stroke</th>\n",
       "      <th>PhysicalHealth</th>\n",
       "      <th>MentalHealth</th>\n",
       "      <th>DiffWalking</th>\n",
       "      <th>Sex</th>\n",
       "      <th>AgeCategory</th>\n",
       "      <th>Race</th>\n",
       "      <th>Diabetic</th>\n",
       "      <th>PhysicalActivity</th>\n",
       "      <th>GenHealth</th>\n",
       "      <th>SleepTime</th>\n",
       "      <th>Asthma</th>\n",
       "      <th>KidneyDisease</th>\n",
       "      <th>SkinCancer</th>\n",
       "    </tr>\n",
       "  </thead>\n",
       "  <tbody>\n",
       "    <tr>\n",
       "      <th>0</th>\n",
       "      <td>0</td>\n",
       "      <td>No</td>\n",
       "      <td>16.60</td>\n",
       "      <td>Yes</td>\n",
       "      <td>No</td>\n",
       "      <td>No</td>\n",
       "      <td>3.0</td>\n",
       "      <td>30.0</td>\n",
       "      <td>No</td>\n",
       "      <td>Female</td>\n",
       "      <td>55-59</td>\n",
       "      <td>White</td>\n",
       "      <td>Yes</td>\n",
       "      <td>Yes</td>\n",
       "      <td>Very good</td>\n",
       "      <td>5.0</td>\n",
       "      <td>Yes</td>\n",
       "      <td>No</td>\n",
       "      <td>Yes</td>\n",
       "    </tr>\n",
       "    <tr>\n",
       "      <th>1</th>\n",
       "      <td>1</td>\n",
       "      <td>No</td>\n",
       "      <td>20.34</td>\n",
       "      <td>No</td>\n",
       "      <td>No</td>\n",
       "      <td>Yes</td>\n",
       "      <td>0.0</td>\n",
       "      <td>0.0</td>\n",
       "      <td>No</td>\n",
       "      <td>Female</td>\n",
       "      <td>80 or older</td>\n",
       "      <td>White</td>\n",
       "      <td>No</td>\n",
       "      <td>Yes</td>\n",
       "      <td>Very good</td>\n",
       "      <td>7.0</td>\n",
       "      <td>No</td>\n",
       "      <td>No</td>\n",
       "      <td>No</td>\n",
       "    </tr>\n",
       "    <tr>\n",
       "      <th>2</th>\n",
       "      <td>2</td>\n",
       "      <td>No</td>\n",
       "      <td>26.58</td>\n",
       "      <td>Yes</td>\n",
       "      <td>No</td>\n",
       "      <td>No</td>\n",
       "      <td>20.0</td>\n",
       "      <td>30.0</td>\n",
       "      <td>No</td>\n",
       "      <td>Male</td>\n",
       "      <td>65-69</td>\n",
       "      <td>White</td>\n",
       "      <td>Yes</td>\n",
       "      <td>Yes</td>\n",
       "      <td>Fair</td>\n",
       "      <td>8.0</td>\n",
       "      <td>Yes</td>\n",
       "      <td>No</td>\n",
       "      <td>No</td>\n",
       "    </tr>\n",
       "    <tr>\n",
       "      <th>3</th>\n",
       "      <td>3</td>\n",
       "      <td>No</td>\n",
       "      <td>24.21</td>\n",
       "      <td>No</td>\n",
       "      <td>No</td>\n",
       "      <td>No</td>\n",
       "      <td>0.0</td>\n",
       "      <td>0.0</td>\n",
       "      <td>No</td>\n",
       "      <td>Female</td>\n",
       "      <td>75-79</td>\n",
       "      <td>White</td>\n",
       "      <td>No</td>\n",
       "      <td>No</td>\n",
       "      <td>Good</td>\n",
       "      <td>6.0</td>\n",
       "      <td>No</td>\n",
       "      <td>No</td>\n",
       "      <td>Yes</td>\n",
       "    </tr>\n",
       "    <tr>\n",
       "      <th>4</th>\n",
       "      <td>4</td>\n",
       "      <td>No</td>\n",
       "      <td>23.71</td>\n",
       "      <td>No</td>\n",
       "      <td>No</td>\n",
       "      <td>No</td>\n",
       "      <td>28.0</td>\n",
       "      <td>0.0</td>\n",
       "      <td>Yes</td>\n",
       "      <td>Female</td>\n",
       "      <td>40-44</td>\n",
       "      <td>White</td>\n",
       "      <td>No</td>\n",
       "      <td>Yes</td>\n",
       "      <td>Very good</td>\n",
       "      <td>8.0</td>\n",
       "      <td>No</td>\n",
       "      <td>No</td>\n",
       "      <td>No</td>\n",
       "    </tr>\n",
       "  </tbody>\n",
       "</table>\n",
       "</div>"
      ],
      "text/plain": [
       "   id HeartDisease    BMI Smoking AlcoholDrinking Stroke  PhysicalHealth  \\\n",
       "0   0           No  16.60     Yes              No     No             3.0   \n",
       "1   1           No  20.34      No              No    Yes             0.0   \n",
       "2   2           No  26.58     Yes              No     No            20.0   \n",
       "3   3           No  24.21      No              No     No             0.0   \n",
       "4   4           No  23.71      No              No     No            28.0   \n",
       "\n",
       "   MentalHealth DiffWalking     Sex  AgeCategory   Race Diabetic  \\\n",
       "0          30.0          No  Female        55-59  White      Yes   \n",
       "1           0.0          No  Female  80 or older  White       No   \n",
       "2          30.0          No    Male        65-69  White      Yes   \n",
       "3           0.0          No  Female        75-79  White       No   \n",
       "4           0.0         Yes  Female        40-44  White       No   \n",
       "\n",
       "  PhysicalActivity  GenHealth  SleepTime Asthma KidneyDisease SkinCancer  \n",
       "0              Yes  Very good        5.0    Yes            No        Yes  \n",
       "1              Yes  Very good        7.0     No            No         No  \n",
       "2              Yes       Fair        8.0    Yes            No         No  \n",
       "3               No       Good        6.0     No            No        Yes  \n",
       "4              Yes  Very good        8.0     No            No         No  "
      ]
     },
     "execution_count": 2,
     "metadata": {},
     "output_type": "execute_result"
    }
   ],
   "source": [
    "DF = pd.read_csv('../../../datasets/heart_2020_cleaned.csv')\n",
    "DF = DF.reset_index().rename(columns={'index':'id'})\n",
    "DF.head()"
   ]
  },
  {
   "cell_type": "code",
   "execution_count": 3,
   "id": "fec2473d",
   "metadata": {},
   "outputs": [],
   "source": [
    "CatCols = [\n",
    "    'Smoking','AlcoholDrinking','Stroke','DiffWalking','Sex','AgeCategory','Race','Diabetic',\n",
    "    'PhysicalActivity','GenHealth','Asthma','KidneyDisease','SkinCancer'\n",
    "]\n",
    "NumCols = [\n",
    "    'BMI', 'PhysicalHealth', 'MentalHealth', 'SleepTime'\n",
    "]"
   ]
  },
  {
   "cell_type": "code",
   "execution_count": 4,
   "id": "049516b9",
   "metadata": {},
   "outputs": [
    {
     "name": "stderr",
     "output_type": "stream",
     "text": [
      "/opt/conda/lib/python3.9/site-packages/xgboost/compat.py:36: FutureWarning: pandas.Int64Index is deprecated and will be removed from pandas in a future version. Use pandas.Index with the appropriate dtype instead.\n",
      "  from pandas import MultiIndex, Int64Index\n"
     ]
    }
   ],
   "source": [
    "from catboost import CatBoostClassifier\n",
    "from sklearn.model_selection import train_test_split"
   ]
  },
  {
   "cell_type": "code",
   "execution_count": 5,
   "id": "22bf4110",
   "metadata": {},
   "outputs": [],
   "source": [
    "X = DF[DF.columns.difference(['id','HeartDisease'])]\n",
    "Y = DF['HeartDisease']\n",
    "X_train,X_test,Y_train,Y_test = train_test_split(X,Y,random_state=3020)"
   ]
  },
  {
   "cell_type": "code",
   "execution_count": 3,
   "id": "0b106480",
   "metadata": {
    "scrolled": true
   },
   "outputs": [
    {
     "name": "stderr",
     "output_type": "stream",
     "text": [
      "/opt/conda/lib/python3.9/site-packages/seaborn/_decorators.py:36: FutureWarning: Pass the following variable as a keyword arg: x. From version 0.12, the only valid positional argument will be `data`, and passing other arguments without an explicit keyword will result in an error or misinterpretation.\n",
      "  warnings.warn(\n"
     ]
    },
    {
     "data": {
      "text/plain": [
       "<AxesSubplot:xlabel='HeartDisease', ylabel='count'>"
      ]
     },
     "execution_count": 3,
     "metadata": {},
     "output_type": "execute_result"
    },
    {
     "data": {
      "image/png": "[encoded data removed]",
      "text/plain": [
       "<Figure size 432x288 with 1 Axes>"
      ]
     },
     "metadata": {
      "needs_background": "light"
     },
     "output_type": "display_data"
    }
   ],
   "source": [
    "SB.countplot('HeartDisease',data=DF)"
   ]
  },
  {
   "cell_type": "code",
   "execution_count": 26,
   "id": "ef85d57e",
   "metadata": {},
   "outputs": [
    {
     "name": "stdout",
     "output_type": "stream",
     "text": [
      "0:\tlearn: 0.9147370\ttotal: 89.5ms\tremaining: 8.86s\n",
      "1:\tlearn: 0.9148037\ttotal: 216ms\tremaining: 10.6s\n",
      "2:\tlearn: 0.9150997\ttotal: 326ms\tremaining: 10.5s\n",
      "3:\tlearn: 0.9151914\ttotal: 410ms\tremaining: 9.85s\n",
      "4:\tlearn: 0.9152373\ttotal: 491ms\tremaining: 9.32s\n",
      "5:\tlearn: 0.9151914\ttotal: 551ms\tremaining: 8.64s\n",
      "6:\tlearn: 0.9153207\ttotal: 634ms\tremaining: 8.43s\n",
      "7:\tlearn: 0.9154374\ttotal: 714ms\tremaining: 8.21s\n",
      "8:\tlearn: 0.9154124\ttotal: 811ms\tremaining: 8.2s\n",
      "9:\tlearn: 0.9154708\ttotal: 892ms\tremaining: 8.02s\n",
      "10:\tlearn: 0.9154207\ttotal: 972ms\tremaining: 7.87s\n",
      "11:\tlearn: 0.9154041\ttotal: 1.04s\tremaining: 7.62s\n",
      "12:\tlearn: 0.9154332\ttotal: 1.13s\tremaining: 7.53s\n",
      "13:\tlearn: 0.9154541\ttotal: 1.19s\tremaining: 7.28s\n",
      "14:\tlearn: 0.9154583\ttotal: 1.27s\tremaining: 7.23s\n",
      "15:\tlearn: 0.9154916\ttotal: 1.36s\tremaining: 7.13s\n",
      "16:\tlearn: 0.9154791\ttotal: 1.44s\tremaining: 7.04s\n",
      "17:\tlearn: 0.9154874\ttotal: 1.54s\tremaining: 7.01s\n",
      "18:\tlearn: 0.9155041\ttotal: 1.61s\tremaining: 6.89s\n",
      "19:\tlearn: 0.9155625\ttotal: 1.69s\tremaining: 6.77s\n",
      "20:\tlearn: 0.9156334\ttotal: 1.76s\tremaining: 6.63s\n",
      "21:\tlearn: 0.9156917\ttotal: 1.85s\tremaining: 6.55s\n",
      "22:\tlearn: 0.9157668\ttotal: 1.92s\tremaining: 6.44s\n",
      "23:\tlearn: 0.9157918\ttotal: 2.02s\tremaining: 6.39s\n",
      "24:\tlearn: 0.9158126\ttotal: 2.1s\tremaining: 6.3s\n",
      "25:\tlearn: 0.9158377\ttotal: 2.18s\tremaining: 6.2s\n",
      "26:\tlearn: 0.9157960\ttotal: 2.28s\tremaining: 6.16s\n",
      "27:\tlearn: 0.9158502\ttotal: 2.36s\tremaining: 6.07s\n",
      "28:\tlearn: 0.9159377\ttotal: 2.44s\tremaining: 5.98s\n",
      "29:\tlearn: 0.9159878\ttotal: 2.55s\tremaining: 5.95s\n",
      "30:\tlearn: 0.9159961\ttotal: 2.63s\tremaining: 5.87s\n",
      "31:\tlearn: 0.9160962\ttotal: 2.72s\tremaining: 5.78s\n",
      "32:\tlearn: 0.9162212\ttotal: 2.82s\tremaining: 5.73s\n",
      "33:\tlearn: 0.9162754\ttotal: 2.9s\tremaining: 5.63s\n",
      "34:\tlearn: 0.9163255\ttotal: 2.98s\tremaining: 5.54s\n",
      "35:\tlearn: 0.9163422\ttotal: 3.08s\tremaining: 5.48s\n",
      "36:\tlearn: 0.9163171\ttotal: 3.17s\tremaining: 5.39s\n",
      "37:\tlearn: 0.9163880\ttotal: 3.25s\tremaining: 5.3s\n",
      "38:\tlearn: 0.9163588\ttotal: 3.35s\tremaining: 5.24s\n",
      "39:\tlearn: 0.9163755\ttotal: 3.43s\tremaining: 5.15s\n",
      "40:\tlearn: 0.9164922\ttotal: 3.51s\tremaining: 5.05s\n",
      "41:\tlearn: 0.9165298\ttotal: 3.61s\tremaining: 4.98s\n",
      "42:\tlearn: 0.9164881\ttotal: 3.69s\tremaining: 4.89s\n",
      "43:\tlearn: 0.9165214\ttotal: 3.77s\tremaining: 4.8s\n",
      "44:\tlearn: 0.9164839\ttotal: 3.86s\tremaining: 4.72s\n",
      "45:\tlearn: 0.9165256\ttotal: 3.94s\tremaining: 4.63s\n",
      "46:\tlearn: 0.9165089\ttotal: 4.02s\tremaining: 4.53s\n",
      "47:\tlearn: 0.9165881\ttotal: 4.12s\tremaining: 4.46s\n",
      "48:\tlearn: 0.9165798\ttotal: 4.2s\tremaining: 4.37s\n",
      "49:\tlearn: 0.9165465\ttotal: 4.28s\tremaining: 4.28s\n",
      "50:\tlearn: 0.9165756\ttotal: 4.38s\tremaining: 4.21s\n",
      "51:\tlearn: 0.9165673\ttotal: 4.46s\tremaining: 4.12s\n",
      "52:\tlearn: 0.9166007\ttotal: 4.55s\tremaining: 4.04s\n",
      "53:\tlearn: 0.9165756\ttotal: 4.66s\tremaining: 3.96s\n",
      "54:\tlearn: 0.9165798\ttotal: 4.74s\tremaining: 3.88s\n",
      "55:\tlearn: 0.9165756\ttotal: 4.82s\tremaining: 3.79s\n",
      "56:\tlearn: 0.9165756\ttotal: 4.93s\tremaining: 3.72s\n",
      "57:\tlearn: 0.9166423\ttotal: 5.03s\tremaining: 3.64s\n",
      "58:\tlearn: 0.9166632\ttotal: 5.12s\tremaining: 3.56s\n",
      "59:\tlearn: 0.9166382\ttotal: 5.23s\tremaining: 3.48s\n",
      "60:\tlearn: 0.9166507\ttotal: 5.32s\tremaining: 3.4s\n",
      "61:\tlearn: 0.9166757\ttotal: 5.41s\tremaining: 3.32s\n",
      "62:\tlearn: 0.9166674\ttotal: 5.48s\tremaining: 3.22s\n",
      "63:\tlearn: 0.9167091\ttotal: 5.59s\tremaining: 3.15s\n",
      "64:\tlearn: 0.9166965\ttotal: 5.72s\tremaining: 3.08s\n",
      "65:\tlearn: 0.9167424\ttotal: 5.85s\tremaining: 3.01s\n",
      "66:\tlearn: 0.9167424\ttotal: 5.99s\tremaining: 2.95s\n",
      "67:\tlearn: 0.9167299\ttotal: 6.17s\tremaining: 2.9s\n",
      "68:\tlearn: 0.9167424\ttotal: 6.26s\tremaining: 2.81s\n",
      "69:\tlearn: 0.9167924\ttotal: 6.35s\tremaining: 2.72s\n",
      "70:\tlearn: 0.9167674\ttotal: 6.49s\tremaining: 2.65s\n",
      "71:\tlearn: 0.9167591\ttotal: 6.62s\tremaining: 2.57s\n",
      "72:\tlearn: 0.9167716\ttotal: 6.74s\tremaining: 2.49s\n",
      "73:\tlearn: 0.9168258\ttotal: 6.89s\tremaining: 2.42s\n",
      "74:\tlearn: 0.9168466\ttotal: 7.04s\tremaining: 2.35s\n",
      "75:\tlearn: 0.9168383\ttotal: 7.17s\tremaining: 2.26s\n",
      "76:\tlearn: 0.9168550\ttotal: 7.21s\tremaining: 2.15s\n",
      "77:\tlearn: 0.9168675\ttotal: 7.31s\tremaining: 2.06s\n",
      "78:\tlearn: 0.9168800\ttotal: 7.39s\tremaining: 1.97s\n",
      "79:\tlearn: 0.9168675\ttotal: 7.48s\tremaining: 1.87s\n",
      "80:\tlearn: 0.9169050\ttotal: 7.6s\tremaining: 1.78s\n",
      "81:\tlearn: 0.9169092\ttotal: 7.68s\tremaining: 1.69s\n",
      "82:\tlearn: 0.9168967\ttotal: 7.75s\tremaining: 1.59s\n",
      "83:\tlearn: 0.9168717\ttotal: 7.84s\tremaining: 1.49s\n",
      "84:\tlearn: 0.9168341\ttotal: 7.92s\tremaining: 1.4s\n",
      "85:\tlearn: 0.9168425\ttotal: 8s\tremaining: 1.3s\n",
      "86:\tlearn: 0.9168341\ttotal: 8.1s\tremaining: 1.21s\n",
      "87:\tlearn: 0.9169175\ttotal: 8.18s\tremaining: 1.11s\n",
      "88:\tlearn: 0.9169175\ttotal: 8.26s\tremaining: 1.02s\n",
      "89:\tlearn: 0.9169384\ttotal: 8.36s\tremaining: 929ms\n",
      "90:\tlearn: 0.9169509\ttotal: 8.44s\tremaining: 834ms\n",
      "91:\tlearn: 0.9169425\ttotal: 8.53s\tremaining: 741ms\n",
      "92:\tlearn: 0.9169467\ttotal: 8.68s\tremaining: 653ms\n",
      "93:\tlearn: 0.9169759\ttotal: 8.78s\tremaining: 560ms\n",
      "94:\tlearn: 0.9169759\ttotal: 8.86s\tremaining: 466ms\n",
      "95:\tlearn: 0.9170468\ttotal: 8.95s\tremaining: 373ms\n",
      "96:\tlearn: 0.9170634\ttotal: 9.03s\tremaining: 279ms\n",
      "97:\tlearn: 0.9170634\ttotal: 9.11s\tremaining: 186ms\n",
      "98:\tlearn: 0.9170801\ttotal: 9.2s\tremaining: 92.9ms\n",
      "99:\tlearn: 0.9170468\ttotal: 9.28s\tremaining: 0us\n"
     ]
    },
    {
     "data": {
      "text/plain": [
       "<catboost.core.CatBoostClassifier at 0x7f2d84b18880>"
      ]
     },
     "execution_count": 26,
     "metadata": {},
     "output_type": "execute_result"
    }
   ],
   "source": [
    "model = CatBoostClassifier(iterations=100,learning_rate=.1,depth=6,eval_metric='Accuracy',random_state=3020)\n",
    "model.fit(X_train,Y_train,cat_features=CatCols)\n",
    "Y_predict = model.predict(X_test)"
   ]
  },
  {
   "cell_type": "code",
   "execution_count": 31,
   "id": "a8b7d2ad",
   "metadata": {},
   "outputs": [
    {
     "name": "stdout",
     "output_type": "stream",
     "text": [
      "              precision    recall  f1-score   support\n",
      "\n",
      "          No       0.92      0.99      0.96     73026\n",
      "         Yes       0.60      0.09      0.16      6923\n",
      "\n",
      "    accuracy                           0.92     79949\n",
      "   macro avg       0.76      0.54      0.56     79949\n",
      "weighted avg       0.89      0.92      0.89     79949\n",
      "\n"
     ]
    }
   ],
   "source": [
    "report = metrics.classification_report(Y_test,Y_predict)\n",
    "print(report)"
   ]
  },
  {
   "cell_type": "code",
   "execution_count": 33,
   "id": "e3cb1e8f",
   "metadata": {},
   "outputs": [
    {
     "data": {
      "text/plain": [
       "array([[72594,   432],\n",
       "       [ 6285,   638]])"
      ]
     },
     "execution_count": 33,
     "metadata": {},
     "output_type": "execute_result"
    }
   ],
   "source": [
    "metrics.confusion_matrix(Y_test,Y_predict)"
   ]
  },
  {
   "cell_type": "code",
   "execution_count": 4,
   "id": "de84c71a",
   "metadata": {},
   "outputs": [
    {
     "data": {
      "text/plain": [
       "HeartDisease\n",
       "No     91.440454\n",
       "Yes     8.559546\n",
       "Name: id, dtype: float64"
      ]
     },
     "execution_count": 4,
     "metadata": {},
     "output_type": "execute_result"
    }
   ],
   "source": [
    "(DF.groupby('HeartDisease').count()['id'] / len(DF['id'])) * 100"
   ]
  },
  {
   "cell_type": "markdown",
   "id": "1022d084",
   "metadata": {},
   "source": [
    "# Under Sampling"
   ]
  },
  {
   "cell_type": "code",
   "execution_count": 20,
   "id": "96dce759",
   "metadata": {},
   "outputs": [],
   "source": [
    "from imblearn.under_sampling import RandomUnderSampler "
   ]
  },
  {
   "cell_type": "code",
   "execution_count": 52,
   "id": "50ab60f6",
   "metadata": {},
   "outputs": [],
   "source": [
    "rus = RandomUnderSampler(random_state=3020)\n",
    "X_rus, Y_rus = rus.fit_resample(X,Y)\n",
    "DF_rus = pd.concat([X_rus,Y_rus],axis=1)"
   ]
  },
  {
   "cell_type": "code",
   "execution_count": 53,
   "id": "d25aa0ad",
   "metadata": {},
   "outputs": [
    {
     "name": "stderr",
     "output_type": "stream",
     "text": [
      "/opt/conda/lib/python3.9/site-packages/seaborn/_decorators.py:36: FutureWarning: Pass the following variable as a keyword arg: x. From version 0.12, the only valid positional argument will be `data`, and passing other arguments without an explicit keyword will result in an error or misinterpretation.\n",
      "  warnings.warn(\n"
     ]
    },
    {
     "data": {
      "text/plain": [
       "<AxesSubplot:xlabel='HeartDisease', ylabel='count'>"
      ]
     },
     "execution_count": 53,
     "metadata": {},
     "output_type": "execute_result"
    },
    {
     "data": {
      "image/png": "[encoded data removed]",
      "text/plain": [
       "<Figure size 432x288 with 1 Axes>"
      ]
     },
     "metadata": {
      "needs_background": "light"
     },
     "output_type": "display_data"
    }
   ],
   "source": [
    "SB.countplot('HeartDisease',data=DF_rus)"
   ]
  },
  {
   "cell_type": "code",
   "execution_count": 54,
   "id": "f33a89b1",
   "metadata": {},
   "outputs": [],
   "source": [
    "X_train,X_test,Y_train,Y_test = train_test_split(X_rus,Y_rus,random_state=3020)"
   ]
  },
  {
   "cell_type": "code",
   "execution_count": 61,
   "id": "76d7c221",
   "metadata": {},
   "outputs": [
    {
     "name": "stdout",
     "output_type": "stream",
     "text": [
      "0:\tlearn: 0.7491171\ttotal: 81.1ms\tremaining: 16.1s\n",
      "1:\tlearn: 0.7534280\ttotal: 158ms\tremaining: 15.6s\n",
      "2:\tlearn: 0.7538420\ttotal: 227ms\tremaining: 14.9s\n",
      "3:\tlearn: 0.7549624\ttotal: 306ms\tremaining: 15s\n",
      "4:\tlearn: 0.7549624\ttotal: 391ms\tremaining: 15.3s\n",
      "5:\tlearn: 0.7555469\ttotal: 457ms\tremaining: 14.8s\n",
      "6:\tlearn: 0.7559122\ttotal: 534ms\tremaining: 14.7s\n",
      "7:\tlearn: 0.7564237\ttotal: 588ms\tremaining: 14.1s\n",
      "8:\tlearn: 0.7581285\ttotal: 660ms\tremaining: 14s\n",
      "9:\tlearn: 0.7580555\ttotal: 745ms\tremaining: 14.2s\n",
      "10:\tlearn: 0.7595411\ttotal: 830ms\tremaining: 14.3s\n",
      "11:\tlearn: 0.7610999\ttotal: 906ms\tremaining: 14.2s\n",
      "12:\tlearn: 0.7614896\ttotal: 1.01s\tremaining: 14.6s\n",
      "13:\tlearn: 0.7611242\ttotal: 1.1s\tremaining: 14.6s\n",
      "14:\tlearn: 0.7629996\ttotal: 1.17s\tremaining: 14.5s\n",
      "15:\tlearn: 0.7632675\ttotal: 1.27s\tremaining: 14.6s\n",
      "16:\tlearn: 0.7641443\ttotal: 1.34s\tremaining: 14.5s\n",
      "17:\tlearn: 0.7654108\ttotal: 1.42s\tremaining: 14.4s\n",
      "18:\tlearn: 0.7653620\ttotal: 1.51s\tremaining: 14.4s\n",
      "19:\tlearn: 0.7656299\ttotal: 1.59s\tremaining: 14.3s\n",
      "20:\tlearn: 0.7659953\ttotal: 1.66s\tremaining: 14.1s\n",
      "21:\tlearn: 0.7663362\ttotal: 1.81s\tremaining: 14.6s\n",
      "22:\tlearn: 0.7659222\ttotal: 1.92s\tremaining: 14.8s\n",
      "23:\tlearn: 0.7669938\ttotal: 2.03s\tremaining: 14.9s\n",
      "24:\tlearn: 0.7671887\ttotal: 2.14s\tremaining: 15s\n",
      "25:\tlearn: 0.7671400\ttotal: 2.21s\tremaining: 14.8s\n",
      "26:\tlearn: 0.7671400\ttotal: 2.31s\tremaining: 14.8s\n",
      "27:\tlearn: 0.7673592\ttotal: 2.36s\tremaining: 14.5s\n",
      "28:\tlearn: 0.7674566\ttotal: 2.45s\tremaining: 14.4s\n",
      "29:\tlearn: 0.7677001\ttotal: 2.54s\tremaining: 14.4s\n",
      "30:\tlearn: 0.7681385\ttotal: 2.62s\tremaining: 14.3s\n",
      "31:\tlearn: 0.7679437\ttotal: 2.7s\tremaining: 14.2s\n",
      "32:\tlearn: 0.7680655\ttotal: 2.79s\tremaining: 14.1s\n",
      "33:\tlearn: 0.7682360\ttotal: 2.88s\tremaining: 14s\n",
      "34:\tlearn: 0.7686013\ttotal: 2.96s\tremaining: 14s\n",
      "35:\tlearn: 0.7689666\ttotal: 3.06s\tremaining: 13.9s\n",
      "36:\tlearn: 0.7690397\ttotal: 3.14s\tremaining: 13.8s\n",
      "37:\tlearn: 0.7693076\ttotal: 3.22s\tremaining: 13.7s\n",
      "38:\tlearn: 0.7696729\ttotal: 3.32s\tremaining: 13.7s\n",
      "39:\tlearn: 0.7695024\ttotal: 3.41s\tremaining: 13.6s\n",
      "40:\tlearn: 0.7693563\ttotal: 3.5s\tremaining: 13.6s\n",
      "41:\tlearn: 0.7697216\ttotal: 3.59s\tremaining: 13.5s\n",
      "42:\tlearn: 0.7695998\ttotal: 3.72s\tremaining: 13.6s\n",
      "43:\tlearn: 0.7697703\ttotal: 3.83s\tremaining: 13.6s\n",
      "44:\tlearn: 0.7700869\ttotal: 3.94s\tremaining: 13.6s\n",
      "45:\tlearn: 0.7702574\ttotal: 4.05s\tremaining: 13.6s\n",
      "46:\tlearn: 0.7700869\ttotal: 4.17s\tremaining: 13.6s\n",
      "47:\tlearn: 0.7702331\ttotal: 4.27s\tremaining: 13.5s\n",
      "48:\tlearn: 0.7704523\ttotal: 4.37s\tremaining: 13.5s\n",
      "49:\tlearn: 0.7706471\ttotal: 4.45s\tremaining: 13.4s\n",
      "50:\tlearn: 0.7705984\ttotal: 4.54s\tremaining: 13.3s\n",
      "51:\tlearn: 0.7707202\ttotal: 4.63s\tremaining: 13.2s\n",
      "52:\tlearn: 0.7708907\ttotal: 4.72s\tremaining: 13.1s\n",
      "53:\tlearn: 0.7711342\ttotal: 4.8s\tremaining: 13s\n",
      "54:\tlearn: 0.7712073\ttotal: 4.89s\tremaining: 12.9s\n",
      "55:\tlearn: 0.7714021\ttotal: 4.96s\tremaining: 12.8s\n",
      "56:\tlearn: 0.7713291\ttotal: 5.06s\tremaining: 12.7s\n",
      "57:\tlearn: 0.7714021\ttotal: 5.15s\tremaining: 12.6s\n",
      "58:\tlearn: 0.7716457\ttotal: 5.24s\tremaining: 12.5s\n",
      "59:\tlearn: 0.7717431\ttotal: 5.36s\tremaining: 12.5s\n",
      "60:\tlearn: 0.7716944\ttotal: 5.48s\tremaining: 12.5s\n",
      "61:\tlearn: 0.7719867\ttotal: 5.59s\tremaining: 12.5s\n",
      "62:\tlearn: 0.7719379\ttotal: 5.71s\tremaining: 12.4s\n",
      "63:\tlearn: 0.7719867\ttotal: 5.79s\tremaining: 12.3s\n",
      "64:\tlearn: 0.7722546\ttotal: 5.9s\tremaining: 12.2s\n",
      "65:\tlearn: 0.7722546\ttotal: 5.98s\tremaining: 12.1s\n",
      "66:\tlearn: 0.7723763\ttotal: 6.05s\tremaining: 12s\n",
      "67:\tlearn: 0.7724007\ttotal: 6.15s\tremaining: 11.9s\n",
      "68:\tlearn: 0.7723520\ttotal: 6.22s\tremaining: 11.8s\n",
      "69:\tlearn: 0.7724494\ttotal: 6.29s\tremaining: 11.7s\n",
      "70:\tlearn: 0.7723033\ttotal: 6.37s\tremaining: 11.6s\n",
      "71:\tlearn: 0.7723276\ttotal: 6.47s\tremaining: 11.5s\n",
      "72:\tlearn: 0.7724981\ttotal: 6.55s\tremaining: 11.4s\n",
      "73:\tlearn: 0.7726930\ttotal: 6.64s\tremaining: 11.3s\n",
      "74:\tlearn: 0.7726199\ttotal: 6.71s\tremaining: 11.2s\n",
      "75:\tlearn: 0.7730339\ttotal: 6.8s\tremaining: 11.1s\n",
      "76:\tlearn: 0.7728878\ttotal: 6.9s\tremaining: 11s\n",
      "77:\tlearn: 0.7731801\ttotal: 7.01s\tremaining: 11s\n",
      "78:\tlearn: 0.7732044\ttotal: 7.12s\tremaining: 10.9s\n",
      "79:\tlearn: 0.7731070\ttotal: 7.24s\tremaining: 10.9s\n",
      "80:\tlearn: 0.7730339\ttotal: 7.32s\tremaining: 10.8s\n",
      "81:\tlearn: 0.7732775\ttotal: 7.45s\tremaining: 10.7s\n",
      "82:\tlearn: 0.7732288\ttotal: 7.53s\tremaining: 10.6s\n",
      "83:\tlearn: 0.7733993\ttotal: 7.62s\tremaining: 10.5s\n",
      "84:\tlearn: 0.7734236\ttotal: 7.69s\tremaining: 10.4s\n",
      "85:\tlearn: 0.7734723\ttotal: 7.79s\tremaining: 10.3s\n",
      "86:\tlearn: 0.7735941\ttotal: 7.87s\tremaining: 10.2s\n",
      "87:\tlearn: 0.7736185\ttotal: 7.94s\tremaining: 10.1s\n",
      "88:\tlearn: 0.7740812\ttotal: 8.03s\tremaining: 10s\n",
      "89:\tlearn: 0.7741543\ttotal: 8.1s\tremaining: 9.9s\n",
      "90:\tlearn: 0.7742273\ttotal: 8.19s\tremaining: 9.8s\n",
      "91:\tlearn: 0.7742760\ttotal: 8.27s\tremaining: 9.71s\n",
      "92:\tlearn: 0.7741786\ttotal: 8.35s\tremaining: 9.6s\n",
      "93:\tlearn: 0.7742517\ttotal: 8.44s\tremaining: 9.51s\n",
      "94:\tlearn: 0.7741056\ttotal: 8.52s\tremaining: 9.42s\n",
      "95:\tlearn: 0.7741299\ttotal: 8.6s\tremaining: 9.31s\n",
      "96:\tlearn: 0.7740812\ttotal: 8.62s\tremaining: 9.15s\n",
      "97:\tlearn: 0.7741786\ttotal: 8.69s\tremaining: 9.05s\n",
      "98:\tlearn: 0.7745439\ttotal: 8.78s\tremaining: 8.95s\n",
      "99:\tlearn: 0.7747144\ttotal: 8.85s\tremaining: 8.85s\n",
      "100:\tlearn: 0.7746901\ttotal: 8.92s\tremaining: 8.74s\n",
      "101:\tlearn: 0.7747388\ttotal: 8.99s\tremaining: 8.64s\n",
      "102:\tlearn: 0.7746901\ttotal: 9.09s\tremaining: 8.56s\n",
      "103:\tlearn: 0.7748606\ttotal: 9.16s\tremaining: 8.46s\n",
      "104:\tlearn: 0.7747631\ttotal: 9.24s\tremaining: 8.36s\n",
      "105:\tlearn: 0.7750554\ttotal: 9.32s\tremaining: 8.26s\n",
      "106:\tlearn: 0.7752015\ttotal: 9.4s\tremaining: 8.17s\n",
      "107:\tlearn: 0.7752502\ttotal: 9.48s\tremaining: 8.08s\n",
      "108:\tlearn: 0.7753720\ttotal: 9.58s\tremaining: 8s\n",
      "109:\tlearn: 0.7754451\ttotal: 9.66s\tremaining: 7.91s\n",
      "110:\tlearn: 0.7757130\ttotal: 9.75s\tremaining: 7.82s\n",
      "111:\tlearn: 0.7756886\ttotal: 9.83s\tremaining: 7.72s\n",
      "112:\tlearn: 0.7757617\ttotal: 9.9s\tremaining: 7.62s\n",
      "113:\tlearn: 0.7757861\ttotal: 9.98s\tremaining: 7.53s\n",
      "114:\tlearn: 0.7758104\ttotal: 10s\tremaining: 7.41s\n",
      "115:\tlearn: 0.7758591\ttotal: 10.1s\tremaining: 7.3s\n",
      "116:\tlearn: 0.7760053\ttotal: 10.2s\tremaining: 7.2s\n",
      "117:\tlearn: 0.7760540\ttotal: 10.2s\tremaining: 7.11s\n",
      "118:\tlearn: 0.7762488\ttotal: 10.3s\tremaining: 7.02s\n",
      "119:\tlearn: 0.7763219\ttotal: 10.4s\tremaining: 6.93s\n",
      "120:\tlearn: 0.7764924\ttotal: 10.5s\tremaining: 6.84s\n",
      "121:\tlearn: 0.7766872\ttotal: 10.6s\tremaining: 6.75s\n",
      "122:\tlearn: 0.7767359\ttotal: 10.6s\tremaining: 6.66s\n",
      "123:\tlearn: 0.7768577\ttotal: 10.7s\tremaining: 6.58s\n",
      "124:\tlearn: 0.7774422\ttotal: 10.8s\tremaining: 6.48s\n",
      "125:\tlearn: 0.7775153\ttotal: 10.9s\tremaining: 6.39s\n",
      "126:\tlearn: 0.7777588\ttotal: 11s\tremaining: 6.31s\n",
      "127:\tlearn: 0.7777832\ttotal: 11.1s\tremaining: 6.22s\n",
      "128:\tlearn: 0.7776371\ttotal: 11.2s\tremaining: 6.14s\n",
      "129:\tlearn: 0.7776127\ttotal: 11.2s\tremaining: 6.05s\n",
      "130:\tlearn: 0.7778319\ttotal: 11.3s\tremaining: 5.96s\n",
      "131:\tlearn: 0.7777832\ttotal: 11.4s\tremaining: 5.87s\n",
      "132:\tlearn: 0.7778319\ttotal: 11.5s\tremaining: 5.8s\n",
      "133:\tlearn: 0.7778319\ttotal: 11.6s\tremaining: 5.7s\n",
      "134:\tlearn: 0.7777588\ttotal: 11.6s\tremaining: 5.61s\n",
      "135:\tlearn: 0.7778563\ttotal: 11.7s\tremaining: 5.52s\n",
      "136:\tlearn: 0.7780024\ttotal: 11.8s\tremaining: 5.43s\n",
      "137:\tlearn: 0.7781242\ttotal: 11.9s\tremaining: 5.34s\n",
      "138:\tlearn: 0.7782459\ttotal: 12s\tremaining: 5.25s\n",
      "139:\tlearn: 0.7782703\ttotal: 12s\tremaining: 5.16s\n",
      "140:\tlearn: 0.7784895\ttotal: 12.1s\tremaining: 5.07s\n",
      "141:\tlearn: 0.7785138\ttotal: 12.2s\tremaining: 4.98s\n",
      "142:\tlearn: 0.7784651\ttotal: 12.3s\tremaining: 4.89s\n",
      "143:\tlearn: 0.7785138\ttotal: 12.3s\tremaining: 4.8s\n",
      "144:\tlearn: 0.7784408\ttotal: 12.4s\tremaining: 4.72s\n",
      "145:\tlearn: 0.7785382\ttotal: 12.6s\tremaining: 4.64s\n",
      "146:\tlearn: 0.7785382\ttotal: 12.7s\tremaining: 4.57s\n",
      "147:\tlearn: 0.7785869\ttotal: 12.8s\tremaining: 4.49s\n",
      "148:\tlearn: 0.7786843\ttotal: 12.9s\tremaining: 4.4s\n",
      "149:\tlearn: 0.7787330\ttotal: 12.9s\tremaining: 4.31s\n",
      "150:\tlearn: 0.7787574\ttotal: 13s\tremaining: 4.22s\n",
      "151:\tlearn: 0.7788305\ttotal: 13.1s\tremaining: 4.13s\n",
      "152:\tlearn: 0.7790740\ttotal: 13.2s\tremaining: 4.04s\n",
      "153:\tlearn: 0.7790497\ttotal: 13.2s\tremaining: 3.96s\n",
      "154:\tlearn: 0.7792932\ttotal: 13.3s\tremaining: 3.86s\n",
      "155:\tlearn: 0.7794150\ttotal: 13.4s\tremaining: 3.77s\n",
      "156:\tlearn: 0.7795124\ttotal: 13.5s\tremaining: 3.68s\n",
      "157:\tlearn: 0.7793419\ttotal: 13.5s\tremaining: 3.6s\n",
      "158:\tlearn: 0.7794881\ttotal: 13.6s\tremaining: 3.5s\n",
      "159:\tlearn: 0.7795124\ttotal: 13.7s\tremaining: 3.42s\n",
      "160:\tlearn: 0.7795611\ttotal: 13.7s\tremaining: 3.33s\n"
     ]
    },
    {
     "name": "stdout",
     "output_type": "stream",
     "text": [
      "161:\tlearn: 0.7797073\ttotal: 13.8s\tremaining: 3.24s\n",
      "162:\tlearn: 0.7796829\ttotal: 13.9s\tremaining: 3.15s\n",
      "163:\tlearn: 0.7797560\ttotal: 14s\tremaining: 3.06s\n",
      "164:\tlearn: 0.7798290\ttotal: 14s\tremaining: 2.98s\n",
      "165:\tlearn: 0.7799508\ttotal: 14.1s\tremaining: 2.89s\n",
      "166:\tlearn: 0.7798290\ttotal: 14.2s\tremaining: 2.8s\n",
      "167:\tlearn: 0.7798290\ttotal: 14.3s\tremaining: 2.72s\n",
      "168:\tlearn: 0.7797803\ttotal: 14.4s\tremaining: 2.63s\n",
      "169:\tlearn: 0.7797803\ttotal: 14.4s\tremaining: 2.54s\n",
      "170:\tlearn: 0.7798777\ttotal: 14.5s\tremaining: 2.45s\n",
      "171:\tlearn: 0.7799021\ttotal: 14.5s\tremaining: 2.37s\n",
      "172:\tlearn: 0.7799021\ttotal: 14.6s\tremaining: 2.28s\n",
      "173:\tlearn: 0.7798777\ttotal: 14.7s\tremaining: 2.19s\n",
      "174:\tlearn: 0.7798777\ttotal: 14.8s\tremaining: 2.11s\n",
      "175:\tlearn: 0.7798777\ttotal: 14.8s\tremaining: 2.02s\n",
      "176:\tlearn: 0.7798534\ttotal: 14.9s\tremaining: 1.94s\n",
      "177:\tlearn: 0.7800239\ttotal: 15s\tremaining: 1.85s\n",
      "178:\tlearn: 0.7799995\ttotal: 15s\tremaining: 1.76s\n",
      "179:\tlearn: 0.7799752\ttotal: 15.1s\tremaining: 1.68s\n",
      "180:\tlearn: 0.7799995\ttotal: 15.1s\tremaining: 1.59s\n",
      "181:\tlearn: 0.7799995\ttotal: 15.2s\tremaining: 1.5s\n",
      "182:\tlearn: 0.7801944\ttotal: 15.3s\tremaining: 1.42s\n",
      "183:\tlearn: 0.7803892\ttotal: 15.4s\tremaining: 1.34s\n",
      "184:\tlearn: 0.7803648\ttotal: 15.4s\tremaining: 1.25s\n",
      "185:\tlearn: 0.7803648\ttotal: 15.5s\tremaining: 1.17s\n",
      "186:\tlearn: 0.7803648\ttotal: 15.5s\tremaining: 1.08s\n",
      "187:\tlearn: 0.7804379\ttotal: 15.6s\tremaining: 997ms\n",
      "188:\tlearn: 0.7803405\ttotal: 15.7s\tremaining: 913ms\n",
      "189:\tlearn: 0.7804623\ttotal: 15.8s\tremaining: 830ms\n",
      "190:\tlearn: 0.7805353\ttotal: 15.8s\tremaining: 746ms\n",
      "191:\tlearn: 0.7805353\ttotal: 15.9s\tremaining: 661ms\n",
      "192:\tlearn: 0.7806571\ttotal: 15.9s\tremaining: 578ms\n",
      "193:\tlearn: 0.7805840\ttotal: 16s\tremaining: 495ms\n",
      "194:\tlearn: 0.7806571\ttotal: 16.1s\tremaining: 413ms\n",
      "195:\tlearn: 0.7807302\ttotal: 16.2s\tremaining: 330ms\n",
      "196:\tlearn: 0.7806084\ttotal: 16.2s\tremaining: 247ms\n",
      "197:\tlearn: 0.7807058\ttotal: 16.3s\tremaining: 165ms\n",
      "198:\tlearn: 0.7808519\ttotal: 16.4s\tremaining: 82.3ms\n",
      "199:\tlearn: 0.7808276\ttotal: 16.5s\tremaining: 0us\n"
     ]
    }
   ],
   "source": [
    "model = CatBoostClassifier(iterations=200,learning_rate=.05,depth=8,eval_metric='Accuracy',random_state=3020)\n",
    "model.fit(X_train,Y_train,cat_features=CatCols)\n",
    "Y_predict = model.predict(X_test)"
   ]
  },
  {
   "cell_type": "code",
   "execution_count": 62,
   "id": "80eb7f82",
   "metadata": {},
   "outputs": [
    {
     "name": "stdout",
     "output_type": "stream",
     "text": [
      "              precision    recall  f1-score   support\n",
      "\n",
      "          No       0.80      0.73      0.76      6839\n",
      "         Yes       0.75      0.82      0.78      6848\n",
      "\n",
      "    accuracy                           0.77     13687\n",
      "   macro avg       0.77      0.77      0.77     13687\n",
      "weighted avg       0.77      0.77      0.77     13687\n",
      "\n",
      "[[4971 1868]\n",
      " [1254 5594]]\n"
     ]
    }
   ],
   "source": [
    "print(metrics.classification_report(Y_test,Y_predict))\n",
    "print(metrics.confusion_matrix(Y_test,Y_predict))"
   ]
  },
  {
   "cell_type": "markdown",
   "id": "6d6e49c1",
   "metadata": {},
   "source": [
    "# Random Over Sampler"
   ]
  },
  {
   "cell_type": "code",
   "execution_count": 63,
   "id": "aafe1bad",
   "metadata": {},
   "outputs": [],
   "source": [
    "from imblearn.over_sampling import RandomOverSampler"
   ]
  },
  {
   "cell_type": "code",
   "execution_count": 64,
   "id": "3b2c41ee",
   "metadata": {},
   "outputs": [],
   "source": [
    "rus = RandomOverSampler(random_state=3020)\n",
    "X_ros, Y_ros = rus.fit_resample(X,Y)\n",
    "DF_ros = pd.concat([X_ros,Y_ros],axis=1)"
   ]
  },
  {
   "cell_type": "code",
   "execution_count": 65,
   "id": "94f5b547",
   "metadata": {},
   "outputs": [
    {
     "name": "stderr",
     "output_type": "stream",
     "text": [
      "/opt/conda/lib/python3.9/site-packages/seaborn/_decorators.py:36: FutureWarning: Pass the following variable as a keyword arg: x. From version 0.12, the only valid positional argument will be `data`, and passing other arguments without an explicit keyword will result in an error or misinterpretation.\n",
      "  warnings.warn(\n"
     ]
    },
    {
     "data": {
      "text/plain": [
       "<AxesSubplot:xlabel='HeartDisease', ylabel='count'>"
      ]
     },
     "execution_count": 65,
     "metadata": {},
     "output_type": "execute_result"
    },
    {
     "data": {
      "image/png": "[encoded data removed]",
      "text/plain": [
       "<Figure size 432x288 with 1 Axes>"
      ]
     },
     "metadata": {
      "needs_background": "light"
     },
     "output_type": "display_data"
    }
   ],
   "source": [
    "SB.countplot('HeartDisease',data=DF_ros)"
   ]
  },
  {
   "cell_type": "code",
   "execution_count": 66,
   "id": "7a531cc5",
   "metadata": {},
   "outputs": [],
   "source": [
    "X_train,X_test,Y_train,Y_test = train_test_split(X_ros,Y_ros,random_state=3020)"
   ]
  },
  {
   "cell_type": "code",
   "execution_count": 69,
   "id": "a1123f81",
   "metadata": {},
   "outputs": [
    {
     "name": "stdout",
     "output_type": "stream",
     "text": [
      "0:\tlearn: 0.7527318\ttotal: 667ms\tremaining: 2m 12s\n",
      "1:\tlearn: 0.7542205\ttotal: 1.12s\tremaining: 1m 51s\n",
      "2:\tlearn: 0.7524559\ttotal: 1.56s\tremaining: 1m 42s\n",
      "3:\tlearn: 0.7522211\ttotal: 2.01s\tremaining: 1m 38s\n",
      "4:\tlearn: 0.7525448\ttotal: 2.53s\tremaining: 1m 38s\n",
      "5:\tlearn: 0.7524628\ttotal: 3.08s\tremaining: 1m 39s\n",
      "6:\tlearn: 0.7525950\ttotal: 3.59s\tremaining: 1m 39s\n",
      "7:\tlearn: 0.7553216\ttotal: 4.33s\tremaining: 1m 43s\n",
      "8:\tlearn: 0.7566576\ttotal: 4.82s\tremaining: 1m 42s\n",
      "9:\tlearn: 0.7614156\ttotal: 5.31s\tremaining: 1m 40s\n",
      "10:\tlearn: 0.7615752\ttotal: 5.83s\tremaining: 1m 40s\n",
      "11:\tlearn: 0.7617644\ttotal: 6.26s\tremaining: 1m 38s\n",
      "12:\tlearn: 0.7620061\ttotal: 6.65s\tremaining: 1m 35s\n",
      "13:\tlearn: 0.7626467\ttotal: 7.08s\tremaining: 1m 34s\n",
      "14:\tlearn: 0.7632941\ttotal: 7.56s\tremaining: 1m 33s\n",
      "15:\tlearn: 0.7629567\ttotal: 7.96s\tremaining: 1m 31s\n",
      "16:\tlearn: 0.7647760\ttotal: 8.41s\tremaining: 1m 30s\n",
      "17:\tlearn: 0.7651089\ttotal: 8.9s\tremaining: 1m 30s\n",
      "18:\tlearn: 0.7655261\ttotal: 9.32s\tremaining: 1m 28s\n",
      "19:\tlearn: 0.7657928\ttotal: 9.78s\tremaining: 1m 28s\n",
      "20:\tlearn: 0.7661097\ttotal: 10.3s\tremaining: 1m 27s\n",
      "21:\tlearn: 0.7663217\ttotal: 10.8s\tremaining: 1m 27s\n",
      "22:\tlearn: 0.7664768\ttotal: 11.3s\tremaining: 1m 26s\n",
      "23:\tlearn: 0.7665041\ttotal: 11.7s\tremaining: 1m 26s\n",
      "24:\tlearn: 0.7667709\ttotal: 12.2s\tremaining: 1m 25s\n",
      "25:\tlearn: 0.7665657\ttotal: 12.7s\tremaining: 1m 24s\n",
      "26:\tlearn: 0.7665953\ttotal: 13.2s\tremaining: 1m 24s\n",
      "27:\tlearn: 0.7666569\ttotal: 13.7s\tremaining: 1m 24s\n",
      "28:\tlearn: 0.7670171\ttotal: 14.2s\tremaining: 1m 23s\n",
      "29:\tlearn: 0.7671014\ttotal: 14.6s\tremaining: 1m 23s\n",
      "30:\tlearn: 0.7672929\ttotal: 15.1s\tremaining: 1m 22s\n",
      "31:\tlearn: 0.7674639\ttotal: 15.6s\tremaining: 1m 22s\n",
      "32:\tlearn: 0.7674138\ttotal: 16.1s\tremaining: 1m 21s\n",
      "33:\tlearn: 0.7673955\ttotal: 16.7s\tremaining: 1m 21s\n",
      "34:\tlearn: 0.7676121\ttotal: 17.1s\tremaining: 1m 20s\n",
      "35:\tlearn: 0.7676075\ttotal: 17.6s\tremaining: 1m 20s\n",
      "36:\tlearn: 0.7677785\ttotal: 18s\tremaining: 1m 19s\n",
      "37:\tlearn: 0.7676942\ttotal: 18.4s\tremaining: 1m 18s\n",
      "38:\tlearn: 0.7679792\ttotal: 19s\tremaining: 1m 18s\n",
      "39:\tlearn: 0.7679655\ttotal: 19.5s\tremaining: 1m 18s\n",
      "40:\tlearn: 0.7681456\ttotal: 20s\tremaining: 1m 17s\n",
      "41:\tlearn: 0.7682550\ttotal: 20.5s\tremaining: 1m 16s\n",
      "42:\tlearn: 0.7683416\ttotal: 21s\tremaining: 1m 16s\n",
      "43:\tlearn: 0.7684123\ttotal: 21.5s\tremaining: 1m 16s\n",
      "44:\tlearn: 0.7684670\ttotal: 22s\tremaining: 1m 15s\n",
      "45:\tlearn: 0.7686380\ttotal: 22.6s\tremaining: 1m 15s\n",
      "46:\tlearn: 0.7686084\ttotal: 23.1s\tremaining: 1m 15s\n",
      "47:\tlearn: 0.7685833\ttotal: 23.6s\tremaining: 1m 14s\n",
      "48:\tlearn: 0.7686859\ttotal: 24.1s\tremaining: 1m 14s\n",
      "49:\tlearn: 0.7688592\ttotal: 24.7s\tremaining: 1m 14s\n",
      "50:\tlearn: 0.7688523\ttotal: 25.2s\tremaining: 1m 13s\n",
      "51:\tlearn: 0.7688683\ttotal: 25.7s\tremaining: 1m 13s\n",
      "52:\tlearn: 0.7689640\ttotal: 26.3s\tremaining: 1m 12s\n",
      "53:\tlearn: 0.7692558\ttotal: 26.9s\tremaining: 1m 12s\n",
      "54:\tlearn: 0.7693653\ttotal: 27.4s\tremaining: 1m 12s\n",
      "55:\tlearn: 0.7693128\ttotal: 28s\tremaining: 1m 11s\n",
      "56:\tlearn: 0.7697825\ttotal: 28.5s\tremaining: 1m 11s\n",
      "57:\tlearn: 0.7697255\ttotal: 29.1s\tremaining: 1m 11s\n",
      "58:\tlearn: 0.7697574\ttotal: 29.7s\tremaining: 1m 10s\n",
      "59:\tlearn: 0.7696753\ttotal: 30.2s\tremaining: 1m 10s\n",
      "60:\tlearn: 0.7698714\ttotal: 30.7s\tremaining: 1m 10s\n",
      "61:\tlearn: 0.7699899\ttotal: 31.3s\tremaining: 1m 9s\n",
      "62:\tlearn: 0.7700333\ttotal: 31.9s\tremaining: 1m 9s\n",
      "63:\tlearn: 0.7700880\ttotal: 32.5s\tremaining: 1m 8s\n",
      "64:\tlearn: 0.7699421\ttotal: 33s\tremaining: 1m 8s\n",
      "65:\tlearn: 0.7700287\ttotal: 33.5s\tremaining: 1m 8s\n",
      "66:\tlearn: 0.7701974\ttotal: 34s\tremaining: 1m 7s\n",
      "67:\tlearn: 0.7702316\ttotal: 34.6s\tremaining: 1m 7s\n",
      "68:\tlearn: 0.7705462\ttotal: 35.1s\tremaining: 1m 6s\n",
      "69:\tlearn: 0.7707104\ttotal: 35.7s\tremaining: 1m 6s\n",
      "70:\tlearn: 0.7707081\ttotal: 36.2s\tremaining: 1m 5s\n",
      "71:\tlearn: 0.7707582\ttotal: 36.8s\tremaining: 1m 5s\n",
      "72:\tlearn: 0.7709315\ttotal: 37.3s\tremaining: 1m 4s\n",
      "73:\tlearn: 0.7709520\ttotal: 37.9s\tremaining: 1m 4s\n",
      "74:\tlearn: 0.7710683\ttotal: 38.5s\tremaining: 1m 4s\n",
      "75:\tlearn: 0.7711458\ttotal: 39s\tremaining: 1m 3s\n",
      "76:\tlearn: 0.7711344\ttotal: 39.6s\tremaining: 1m 3s\n",
      "77:\tlearn: 0.7712210\ttotal: 40.1s\tremaining: 1m 2s\n",
      "78:\tlearn: 0.7711572\ttotal: 40.6s\tremaining: 1m 2s\n",
      "79:\tlearn: 0.7713920\ttotal: 41.2s\tremaining: 1m 1s\n",
      "80:\tlearn: 0.7715379\ttotal: 41.7s\tremaining: 1m 1s\n",
      "81:\tlearn: 0.7716861\ttotal: 42.2s\tremaining: 1m\n",
      "82:\tlearn: 0.7717659\ttotal: 42.7s\tremaining: 1m\n",
      "83:\tlearn: 0.7718457\ttotal: 43.2s\tremaining: 59.7s\n",
      "84:\tlearn: 0.7718913\ttotal: 43.8s\tremaining: 59.2s\n",
      "85:\tlearn: 0.7718936\ttotal: 44.3s\tremaining: 58.8s\n",
      "86:\tlearn: 0.7719506\ttotal: 45s\tremaining: 58.4s\n",
      "87:\tlearn: 0.7722424\ttotal: 45.5s\tremaining: 57.9s\n",
      "88:\tlearn: 0.7721216\ttotal: 46.1s\tremaining: 57.5s\n",
      "89:\tlearn: 0.7722812\ttotal: 46.6s\tremaining: 57s\n",
      "90:\tlearn: 0.7723199\ttotal: 47.2s\tremaining: 56.5s\n",
      "91:\tlearn: 0.7723268\ttotal: 47.7s\tremaining: 56s\n",
      "92:\tlearn: 0.7724020\ttotal: 48.3s\tremaining: 55.5s\n",
      "93:\tlearn: 0.7724772\ttotal: 48.8s\tremaining: 55s\n",
      "94:\tlearn: 0.7724841\ttotal: 49.2s\tremaining: 54.4s\n",
      "95:\tlearn: 0.7725844\ttotal: 49.8s\tremaining: 54s\n",
      "96:\tlearn: 0.7724772\ttotal: 50.4s\tremaining: 53.5s\n",
      "97:\tlearn: 0.7725411\ttotal: 50.9s\tremaining: 53s\n",
      "98:\tlearn: 0.7726231\ttotal: 51.5s\tremaining: 52.6s\n",
      "99:\tlearn: 0.7726801\ttotal: 52.1s\tremaining: 52.1s\n",
      "100:\tlearn: 0.7726892\ttotal: 52.6s\tremaining: 51.6s\n",
      "101:\tlearn: 0.7726550\ttotal: 53.2s\tremaining: 51.1s\n",
      "102:\tlearn: 0.7728488\ttotal: 53.7s\tremaining: 50.6s\n",
      "103:\tlearn: 0.7729423\ttotal: 54.2s\tremaining: 50s\n",
      "104:\tlearn: 0.7730289\ttotal: 54.7s\tremaining: 49.5s\n",
      "105:\tlearn: 0.7730905\ttotal: 55.3s\tremaining: 49s\n",
      "106:\tlearn: 0.7732022\ttotal: 55.9s\tremaining: 48.6s\n",
      "107:\tlearn: 0.7732546\ttotal: 56.4s\tremaining: 48.1s\n",
      "108:\tlearn: 0.7732843\ttotal: 57s\tremaining: 47.6s\n",
      "109:\tlearn: 0.7732569\ttotal: 57.5s\tremaining: 47.1s\n",
      "110:\tlearn: 0.7734302\ttotal: 58.1s\tremaining: 46.6s\n",
      "111:\tlearn: 0.7734074\ttotal: 58.5s\tremaining: 46s\n",
      "112:\tlearn: 0.7736399\ttotal: 59s\tremaining: 45.4s\n",
      "113:\tlearn: 0.7737015\ttotal: 59.4s\tremaining: 44.8s\n",
      "114:\tlearn: 0.7737972\ttotal: 60s\tremaining: 44.3s\n",
      "115:\tlearn: 0.7738063\ttotal: 1m\tremaining: 43.8s\n",
      "116:\tlearn: 0.7739158\ttotal: 1m 1s\tremaining: 43.3s\n",
      "117:\tlearn: 0.7739409\ttotal: 1m 1s\tremaining: 42.8s\n",
      "118:\tlearn: 0.7741096\ttotal: 1m 2s\tremaining: 42.3s\n",
      "119:\tlearn: 0.7741734\ttotal: 1m 2s\tremaining: 41.7s\n",
      "120:\tlearn: 0.7742555\ttotal: 1m 3s\tremaining: 41.2s\n",
      "121:\tlearn: 0.7742327\ttotal: 1m 3s\tremaining: 40.7s\n",
      "122:\tlearn: 0.7743261\ttotal: 1m 4s\tremaining: 40.1s\n",
      "123:\tlearn: 0.7743239\ttotal: 1m 4s\tremaining: 39.4s\n",
      "124:\tlearn: 0.7744401\ttotal: 1m 4s\tremaining: 38.9s\n",
      "125:\tlearn: 0.7743900\ttotal: 1m 5s\tremaining: 38.4s\n",
      "126:\tlearn: 0.7746111\ttotal: 1m 5s\tremaining: 37.8s\n",
      "127:\tlearn: 0.7748391\ttotal: 1m 6s\tremaining: 37.3s\n",
      "128:\tlearn: 0.7748801\ttotal: 1m 6s\tremaining: 36.8s\n",
      "129:\tlearn: 0.7750192\ttotal: 1m 7s\tremaining: 36.2s\n",
      "130:\tlearn: 0.7751948\ttotal: 1m 7s\tremaining: 35.7s\n",
      "131:\tlearn: 0.7752654\ttotal: 1m 8s\tremaining: 35.1s\n",
      "132:\tlearn: 0.7752540\ttotal: 1m 8s\tremaining: 34.7s\n",
      "133:\tlearn: 0.7753201\ttotal: 1m 9s\tremaining: 34.1s\n",
      "134:\tlearn: 0.7752996\ttotal: 1m 9s\tremaining: 33.6s\n",
      "135:\tlearn: 0.7753749\ttotal: 1m 10s\tremaining: 33.1s\n",
      "136:\tlearn: 0.7754615\ttotal: 1m 10s\tremaining: 32.6s\n",
      "137:\tlearn: 0.7754911\ttotal: 1m 11s\tremaining: 32.1s\n",
      "138:\tlearn: 0.7754364\ttotal: 1m 11s\tremaining: 31.6s\n",
      "139:\tlearn: 0.7754911\ttotal: 1m 12s\tremaining: 31s\n",
      "140:\tlearn: 0.7755572\ttotal: 1m 12s\tremaining: 30.5s\n",
      "141:\tlearn: 0.7756553\ttotal: 1m 13s\tremaining: 30s\n",
      "142:\tlearn: 0.7756256\ttotal: 1m 13s\tremaining: 29.5s\n",
      "143:\tlearn: 0.7757191\ttotal: 1m 14s\tremaining: 28.9s\n",
      "144:\tlearn: 0.7757145\ttotal: 1m 15s\tremaining: 28.5s\n",
      "145:\tlearn: 0.7756826\ttotal: 1m 15s\tremaining: 27.9s\n",
      "146:\tlearn: 0.7757009\ttotal: 1m 15s\tremaining: 27.4s\n",
      "147:\tlearn: 0.7757123\ttotal: 1m 16s\tremaining: 26.9s\n",
      "148:\tlearn: 0.7757579\ttotal: 1m 16s\tremaining: 26.3s\n",
      "149:\tlearn: 0.7758878\ttotal: 1m 17s\tremaining: 25.8s\n",
      "150:\tlearn: 0.7760064\ttotal: 1m 17s\tremaining: 25.3s\n",
      "151:\tlearn: 0.7761135\ttotal: 1m 18s\tremaining: 24.8s\n",
      "152:\tlearn: 0.7761500\ttotal: 1m 19s\tremaining: 24.3s\n",
      "153:\tlearn: 0.7761318\ttotal: 1m 19s\tremaining: 23.6s\n",
      "154:\tlearn: 0.7761705\ttotal: 1m 19s\tremaining: 23.2s\n",
      "155:\tlearn: 0.7762093\ttotal: 1m 20s\tremaining: 22.7s\n",
      "156:\tlearn: 0.7762891\ttotal: 1m 20s\tremaining: 22.2s\n",
      "157:\tlearn: 0.7762708\ttotal: 1m 21s\tremaining: 21.6s\n",
      "158:\tlearn: 0.7762822\ttotal: 1m 21s\tremaining: 21s\n",
      "159:\tlearn: 0.7762913\ttotal: 1m 22s\tremaining: 20.5s\n"
     ]
    },
    {
     "name": "stdout",
     "output_type": "stream",
     "text": [
      "160:\tlearn: 0.7764304\ttotal: 1m 22s\tremaining: 20s\n",
      "161:\tlearn: 0.7765284\ttotal: 1m 23s\tremaining: 19.5s\n",
      "162:\tlearn: 0.7765946\ttotal: 1m 23s\tremaining: 19s\n",
      "163:\tlearn: 0.7766698\ttotal: 1m 24s\tremaining: 18.5s\n",
      "164:\tlearn: 0.7767017\ttotal: 1m 24s\tremaining: 18s\n",
      "165:\tlearn: 0.7767040\ttotal: 1m 25s\tremaining: 17.5s\n",
      "166:\tlearn: 0.7767564\ttotal: 1m 25s\tremaining: 16.9s\n",
      "167:\tlearn: 0.7769320\ttotal: 1m 26s\tremaining: 16.4s\n",
      "168:\tlearn: 0.7770232\ttotal: 1m 26s\tremaining: 15.9s\n",
      "169:\tlearn: 0.7770961\ttotal: 1m 27s\tremaining: 15.4s\n",
      "170:\tlearn: 0.7772397\ttotal: 1m 27s\tremaining: 14.9s\n",
      "171:\tlearn: 0.7772192\ttotal: 1m 28s\tremaining: 14.3s\n",
      "172:\tlearn: 0.7772899\ttotal: 1m 28s\tremaining: 13.9s\n",
      "173:\tlearn: 0.7774381\ttotal: 1m 29s\tremaining: 13.3s\n",
      "174:\tlearn: 0.7774062\ttotal: 1m 29s\tremaining: 12.8s\n",
      "175:\tlearn: 0.7775156\ttotal: 1m 30s\tremaining: 12.3s\n",
      "176:\tlearn: 0.7774677\ttotal: 1m 31s\tremaining: 11.8s\n",
      "177:\tlearn: 0.7776182\ttotal: 1m 31s\tremaining: 11.3s\n",
      "178:\tlearn: 0.7775954\ttotal: 1m 32s\tremaining: 10.8s\n",
      "179:\tlearn: 0.7776980\ttotal: 1m 32s\tremaining: 10.3s\n",
      "180:\tlearn: 0.7779191\ttotal: 1m 33s\tremaining: 9.79s\n",
      "181:\tlearn: 0.7780035\ttotal: 1m 33s\tremaining: 9.29s\n",
      "182:\tlearn: 0.7780787\ttotal: 1m 34s\tremaining: 8.77s\n",
      "183:\tlearn: 0.7782201\ttotal: 1m 34s\tremaining: 8.26s\n",
      "184:\tlearn: 0.7782269\ttotal: 1m 35s\tremaining: 7.74s\n",
      "185:\tlearn: 0.7782406\ttotal: 1m 36s\tremaining: 7.23s\n",
      "186:\tlearn: 0.7782725\ttotal: 1m 36s\tremaining: 6.71s\n",
      "187:\tlearn: 0.7783021\ttotal: 1m 37s\tremaining: 6.2s\n",
      "188:\tlearn: 0.7782748\ttotal: 1m 37s\tremaining: 5.68s\n",
      "189:\tlearn: 0.7783455\ttotal: 1m 38s\tremaining: 5.17s\n",
      "190:\tlearn: 0.7783660\ttotal: 1m 38s\tremaining: 4.65s\n",
      "191:\tlearn: 0.7784412\ttotal: 1m 39s\tremaining: 4.14s\n",
      "192:\tlearn: 0.7784366\ttotal: 1m 39s\tremaining: 3.62s\n",
      "193:\tlearn: 0.7784663\ttotal: 1m 40s\tremaining: 3.1s\n",
      "194:\tlearn: 0.7786167\ttotal: 1m 41s\tremaining: 2.59s\n",
      "195:\tlearn: 0.7786715\ttotal: 1m 41s\tremaining: 2.07s\n",
      "196:\tlearn: 0.7786920\ttotal: 1m 42s\tremaining: 1.55s\n",
      "197:\tlearn: 0.7787763\ttotal: 1m 42s\tremaining: 1.04s\n",
      "198:\tlearn: 0.7787991\ttotal: 1m 43s\tremaining: 518ms\n",
      "199:\tlearn: 0.7788219\ttotal: 1m 43s\tremaining: 0us\n"
     ]
    }
   ],
   "source": [
    "model = CatBoostClassifier(iterations=200,learning_rate=.05,depth=8,eval_metric='Accuracy',random_state=3020)\n",
    "model.fit(X_train,Y_train,cat_features=CatCols)\n",
    "Y_predict = model.predict(X_test)"
   ]
  },
  {
   "cell_type": "code",
   "execution_count": 95,
   "id": "d0c06963",
   "metadata": {},
   "outputs": [
    {
     "name": "stdout",
     "output_type": "stream",
     "text": [
      "              precision    recall  f1-score   support\n",
      "\n",
      "          No       0.92      0.99      0.95     71015\n",
      "         Yes       0.59      0.11      0.18      6939\n",
      "\n",
      "    accuracy                           0.91     77954\n",
      "   macro avg       0.75      0.55      0.57     77954\n",
      "weighted avg       0.89      0.91      0.89     77954\n",
      "\n",
      "[[70494   521]\n",
      " [ 6202   737]]\n"
     ]
    }
   ],
   "source": [
    "print(metrics.classification_report(Y_test,Y_predict))\n",
    "print(metrics.confusion_matrix(Y_test,Y_predict))"
   ]
  },
  {
   "cell_type": "markdown",
   "id": "8052f0b9",
   "metadata": {},
   "source": [
    "# TomekLinks"
   ]
  },
  {
   "cell_type": "code",
   "execution_count": 74,
   "id": "1fc15337",
   "metadata": {},
   "outputs": [],
   "source": [
    "from sklearn.preprocessing import LabelEncoder\n",
    "from sklearn.compose import ColumnTransformer\n",
    "from sklearn.preprocessing import OneHotEncoder\n",
    "\n",
    "def OHC_transformer_single_column(DF,columns):\n",
    "    \n",
    "    for column_name in columns:\n",
    "        label_encoder = LabelEncoder()\n",
    "        encoded = label_encoder.fit_transform(DF[column_name])\n",
    "        labels =pd.Series(label_encoder.classes_)\n",
    "\n",
    "        clmt = ColumnTransformer([(column_name,OneHotEncoder(),[0])], remainder='passthrough')\n",
    "        clmt_fited_data = clmt.fit_transform(DF[[column_name]]) \n",
    "        clmt_fited_data = clmt_fited_data if type(clmt_fited_data)== np.ndarray else clmt_fited_data.toarray()  \n",
    "        NDF = pd.DataFrame(clmt_fited_data,columns=[f'{column_name}_{x}' for x in labels])\n",
    "        \n",
    "        merged = DF.merge(NDF, left_index=True,right_index=True)\n",
    "        merged = merged.drop(columns=[column_name])\n",
    "        DF = merged\n",
    "    return DF"
   ]
  },
  {
   "cell_type": "code",
   "execution_count": 89,
   "id": "2ed16b27",
   "metadata": {},
   "outputs": [],
   "source": [
    "X = OHC_transformer_single_column(X,CatCols)"
   ]
  },
  {
   "cell_type": "code",
   "execution_count": 71,
   "id": "c886b244",
   "metadata": {},
   "outputs": [],
   "source": [
    "from imblearn.under_sampling import TomekLinks"
   ]
  },
  {
   "cell_type": "code",
   "execution_count": 90,
   "id": "a6ab7659",
   "metadata": {},
   "outputs": [],
   "source": [
    "toml = TomekLinks()\n",
    "X_toml, Y_toml = toml.fit_resample(X,Y)\n",
    "DF_toml = pd.concat([X_toml,Y_toml],axis=1)"
   ]
  },
  {
   "cell_type": "code",
   "execution_count": 91,
   "id": "cf6556c7",
   "metadata": {},
   "outputs": [
    {
     "name": "stderr",
     "output_type": "stream",
     "text": [
      "/opt/conda/lib/python3.9/site-packages/seaborn/_decorators.py:36: FutureWarning: Pass the following variable as a keyword arg: x. From version 0.12, the only valid positional argument will be `data`, and passing other arguments without an explicit keyword will result in an error or misinterpretation.\n",
      "  warnings.warn(\n"
     ]
    },
    {
     "data": {
      "text/plain": [
       "<AxesSubplot:xlabel='HeartDisease', ylabel='count'>"
      ]
     },
     "execution_count": 91,
     "metadata": {},
     "output_type": "execute_result"
    },
    {
     "data": {
      "image/png": "[encoded data removed]",
      "text/plain": [
       "<Figure size 432x288 with 1 Axes>"
      ]
     },
     "metadata": {
      "needs_background": "light"
     },
     "output_type": "display_data"
    }
   ],
   "source": [
    "SB.countplot('HeartDisease',data=DF_toml)"
   ]
  },
  {
   "cell_type": "code",
   "execution_count": 92,
   "id": "ec346fae",
   "metadata": {},
   "outputs": [],
   "source": [
    "X_train,X_test,Y_train,Y_test = train_test_split(X_toml,Y_toml,random_state=3020)"
   ]
  },
  {
   "cell_type": "code",
   "execution_count": 94,
   "id": "9e0388d4",
   "metadata": {},
   "outputs": [
    {
     "name": "stdout",
     "output_type": "stream",
     "text": [
      "0:\tlearn: 0.9147563\ttotal: 87.3ms\tremaining: 17.4s\n",
      "1:\tlearn: 0.9146708\ttotal: 159ms\tremaining: 15.8s\n",
      "2:\tlearn: 0.9146879\ttotal: 216ms\tremaining: 14.2s\n",
      "3:\tlearn: 0.9146280\ttotal: 266ms\tremaining: 13.1s\n",
      "4:\tlearn: 0.9146922\ttotal: 334ms\tremaining: 13s\n",
      "5:\tlearn: 0.9148290\ttotal: 387ms\tremaining: 12.5s\n",
      "6:\tlearn: 0.9149445\ttotal: 442ms\tremaining: 12.2s\n",
      "7:\tlearn: 0.9150428\ttotal: 494ms\tremaining: 11.9s\n",
      "8:\tlearn: 0.9151369\ttotal: 558ms\tremaining: 11.8s\n",
      "9:\tlearn: 0.9149188\ttotal: 629ms\tremaining: 11.9s\n",
      "10:\tlearn: 0.9151112\ttotal: 684ms\tremaining: 11.7s\n",
      "11:\tlearn: 0.9151112\ttotal: 745ms\tremaining: 11.7s\n",
      "12:\tlearn: 0.9151754\ttotal: 817ms\tremaining: 11.8s\n",
      "13:\tlearn: 0.9152481\ttotal: 882ms\tremaining: 11.7s\n",
      "14:\tlearn: 0.9153208\ttotal: 944ms\tremaining: 11.6s\n",
      "15:\tlearn: 0.9151797\ttotal: 981ms\tremaining: 11.3s\n",
      "16:\tlearn: 0.9152010\ttotal: 1.05s\tremaining: 11.3s\n",
      "17:\tlearn: 0.9152737\ttotal: 1.11s\tremaining: 11.3s\n",
      "18:\tlearn: 0.9153293\ttotal: 1.18s\tremaining: 11.3s\n",
      "19:\tlearn: 0.9154191\ttotal: 1.24s\tremaining: 11.2s\n",
      "20:\tlearn: 0.9153507\ttotal: 1.31s\tremaining: 11.2s\n",
      "21:\tlearn: 0.9153079\ttotal: 1.37s\tremaining: 11.1s\n",
      "22:\tlearn: 0.9152438\ttotal: 1.4s\tremaining: 10.8s\n",
      "23:\tlearn: 0.9152139\ttotal: 1.46s\tremaining: 10.7s\n",
      "24:\tlearn: 0.9152267\ttotal: 1.52s\tremaining: 10.6s\n",
      "25:\tlearn: 0.9153336\ttotal: 1.6s\tremaining: 10.7s\n",
      "26:\tlearn: 0.9153507\ttotal: 1.7s\tremaining: 10.9s\n",
      "27:\tlearn: 0.9153422\ttotal: 1.79s\tremaining: 11s\n",
      "28:\tlearn: 0.9154405\ttotal: 1.88s\tremaining: 11.1s\n",
      "29:\tlearn: 0.9154491\ttotal: 1.95s\tremaining: 11.1s\n",
      "30:\tlearn: 0.9154875\ttotal: 2.04s\tremaining: 11.1s\n",
      "31:\tlearn: 0.9156030\ttotal: 2.09s\tremaining: 11s\n",
      "32:\tlearn: 0.9156115\ttotal: 2.15s\tremaining: 10.9s\n",
      "33:\tlearn: 0.9156415\ttotal: 2.21s\tremaining: 10.8s\n",
      "34:\tlearn: 0.9155859\ttotal: 2.27s\tremaining: 10.7s\n",
      "35:\tlearn: 0.9156329\ttotal: 2.33s\tremaining: 10.6s\n",
      "36:\tlearn: 0.9156971\ttotal: 2.39s\tremaining: 10.5s\n",
      "37:\tlearn: 0.9157398\ttotal: 2.45s\tremaining: 10.5s\n",
      "38:\tlearn: 0.9157869\ttotal: 2.53s\tremaining: 10.4s\n",
      "39:\tlearn: 0.9157740\ttotal: 2.59s\tremaining: 10.3s\n",
      "40:\tlearn: 0.9157783\ttotal: 2.64s\tremaining: 10.2s\n",
      "41:\tlearn: 0.9158253\ttotal: 2.7s\tremaining: 10.2s\n",
      "42:\tlearn: 0.9158638\ttotal: 2.77s\tremaining: 10.1s\n",
      "43:\tlearn: 0.9158809\ttotal: 2.83s\tremaining: 10s\n",
      "44:\tlearn: 0.9159707\ttotal: 2.89s\tremaining: 9.94s\n",
      "45:\tlearn: 0.9160135\ttotal: 2.94s\tremaining: 9.86s\n",
      "46:\tlearn: 0.9160135\ttotal: 3.02s\tremaining: 9.83s\n",
      "47:\tlearn: 0.9160563\ttotal: 3.09s\tremaining: 9.78s\n",
      "48:\tlearn: 0.9160605\ttotal: 3.15s\tremaining: 9.71s\n",
      "49:\tlearn: 0.9160691\ttotal: 3.2s\tremaining: 9.61s\n",
      "50:\tlearn: 0.9160776\ttotal: 3.27s\tremaining: 9.55s\n",
      "51:\tlearn: 0.9161418\ttotal: 3.33s\tremaining: 9.47s\n",
      "52:\tlearn: 0.9161803\ttotal: 3.38s\tremaining: 9.37s\n",
      "53:\tlearn: 0.9162102\ttotal: 3.43s\tremaining: 9.28s\n",
      "54:\tlearn: 0.9161888\ttotal: 3.5s\tremaining: 9.24s\n",
      "55:\tlearn: 0.9162102\ttotal: 3.56s\tremaining: 9.15s\n",
      "56:\tlearn: 0.9162187\ttotal: 3.62s\tremaining: 9.07s\n",
      "57:\tlearn: 0.9162786\ttotal: 3.67s\tremaining: 8.99s\n",
      "58:\tlearn: 0.9162658\ttotal: 3.73s\tremaining: 8.92s\n",
      "59:\tlearn: 0.9162957\ttotal: 3.78s\tremaining: 8.82s\n",
      "60:\tlearn: 0.9163085\ttotal: 3.84s\tremaining: 8.74s\n",
      "61:\tlearn: 0.9163428\ttotal: 3.89s\tremaining: 8.67s\n",
      "62:\tlearn: 0.9163898\ttotal: 3.95s\tremaining: 8.6s\n",
      "63:\tlearn: 0.9164283\ttotal: 4.01s\tremaining: 8.53s\n",
      "64:\tlearn: 0.9164539\ttotal: 4.07s\tremaining: 8.44s\n",
      "65:\tlearn: 0.9164967\ttotal: 4.12s\tremaining: 8.37s\n",
      "66:\tlearn: 0.9165181\ttotal: 4.18s\tremaining: 8.3s\n",
      "67:\tlearn: 0.9165694\ttotal: 4.24s\tremaining: 8.22s\n",
      "68:\tlearn: 0.9165865\ttotal: 4.3s\tremaining: 8.16s\n",
      "69:\tlearn: 0.9166293\ttotal: 4.38s\tremaining: 8.14s\n",
      "70:\tlearn: 0.9166335\ttotal: 4.47s\tremaining: 8.12s\n",
      "71:\tlearn: 0.9166506\ttotal: 4.55s\tremaining: 8.09s\n",
      "72:\tlearn: 0.9166464\ttotal: 4.65s\tremaining: 8.08s\n",
      "73:\tlearn: 0.9166977\ttotal: 4.71s\tremaining: 8.01s\n",
      "74:\tlearn: 0.9166977\ttotal: 4.76s\tremaining: 7.93s\n",
      "75:\tlearn: 0.9167490\ttotal: 4.81s\tremaining: 7.85s\n",
      "76:\tlearn: 0.9167575\ttotal: 4.87s\tremaining: 7.79s\n",
      "77:\tlearn: 0.9168431\ttotal: 4.93s\tremaining: 7.71s\n",
      "78:\tlearn: 0.9168730\ttotal: 4.98s\tremaining: 7.63s\n",
      "79:\tlearn: 0.9168944\ttotal: 5.04s\tremaining: 7.56s\n",
      "80:\tlearn: 0.9168516\ttotal: 5.1s\tremaining: 7.5s\n",
      "81:\tlearn: 0.9168773\ttotal: 5.16s\tremaining: 7.42s\n",
      "82:\tlearn: 0.9168944\ttotal: 5.21s\tremaining: 7.35s\n",
      "83:\tlearn: 0.9169286\ttotal: 5.26s\tremaining: 7.27s\n",
      "84:\tlearn: 0.9170227\ttotal: 5.32s\tremaining: 7.2s\n",
      "85:\tlearn: 0.9170227\ttotal: 5.38s\tremaining: 7.13s\n",
      "86:\tlearn: 0.9170312\ttotal: 5.44s\tremaining: 7.06s\n",
      "87:\tlearn: 0.9170141\ttotal: 5.49s\tremaining: 6.99s\n",
      "88:\tlearn: 0.9170825\ttotal: 5.56s\tremaining: 6.93s\n",
      "89:\tlearn: 0.9171082\ttotal: 5.62s\tremaining: 6.86s\n",
      "90:\tlearn: 0.9171167\ttotal: 5.67s\tremaining: 6.79s\n",
      "91:\tlearn: 0.9171124\ttotal: 5.72s\tremaining: 6.72s\n",
      "92:\tlearn: 0.9171338\ttotal: 5.78s\tremaining: 6.65s\n",
      "93:\tlearn: 0.9171595\ttotal: 5.86s\tremaining: 6.61s\n",
      "94:\tlearn: 0.9171680\ttotal: 5.92s\tremaining: 6.54s\n",
      "95:\tlearn: 0.9171766\ttotal: 5.97s\tremaining: 6.47s\n",
      "96:\tlearn: 0.9171509\ttotal: 6.04s\tremaining: 6.41s\n",
      "97:\tlearn: 0.9171937\ttotal: 6.09s\tremaining: 6.34s\n",
      "98:\tlearn: 0.9171980\ttotal: 6.15s\tremaining: 6.27s\n",
      "99:\tlearn: 0.9172065\ttotal: 6.2s\tremaining: 6.2s\n",
      "100:\tlearn: 0.9172749\ttotal: 6.27s\tremaining: 6.14s\n",
      "101:\tlearn: 0.9172792\ttotal: 6.32s\tremaining: 6.07s\n",
      "102:\tlearn: 0.9173091\ttotal: 6.37s\tremaining: 6s\n",
      "103:\tlearn: 0.9173690\ttotal: 6.45s\tremaining: 5.96s\n",
      "104:\tlearn: 0.9174075\ttotal: 6.55s\tremaining: 5.92s\n",
      "105:\tlearn: 0.9174032\ttotal: 6.62s\tremaining: 5.87s\n",
      "106:\tlearn: 0.9174417\ttotal: 6.67s\tremaining: 5.8s\n",
      "107:\tlearn: 0.9174887\ttotal: 6.72s\tremaining: 5.73s\n",
      "108:\tlearn: 0.9175058\ttotal: 6.79s\tremaining: 5.67s\n",
      "109:\tlearn: 0.9175230\ttotal: 6.86s\tremaining: 5.61s\n",
      "110:\tlearn: 0.9175443\ttotal: 6.92s\tremaining: 5.55s\n",
      "111:\tlearn: 0.9175828\ttotal: 7.02s\tremaining: 5.51s\n",
      "112:\tlearn: 0.9176299\ttotal: 7.12s\tremaining: 5.48s\n",
      "113:\tlearn: 0.9176683\ttotal: 7.2s\tremaining: 5.43s\n",
      "114:\tlearn: 0.9176726\ttotal: 7.29s\tremaining: 5.39s\n",
      "115:\tlearn: 0.9177025\ttotal: 7.35s\tremaining: 5.33s\n",
      "116:\tlearn: 0.9177154\ttotal: 7.41s\tremaining: 5.25s\n",
      "117:\tlearn: 0.9177239\ttotal: 7.46s\tremaining: 5.18s\n",
      "118:\tlearn: 0.9177368\ttotal: 7.52s\tremaining: 5.12s\n",
      "119:\tlearn: 0.9177453\ttotal: 7.6s\tremaining: 5.07s\n",
      "120:\tlearn: 0.9177581\ttotal: 7.68s\tremaining: 5.02s\n",
      "121:\tlearn: 0.9177539\ttotal: 7.77s\tremaining: 4.97s\n",
      "122:\tlearn: 0.9177667\ttotal: 7.83s\tremaining: 4.9s\n",
      "123:\tlearn: 0.9177795\ttotal: 7.89s\tremaining: 4.83s\n",
      "124:\tlearn: 0.9177881\ttotal: 7.94s\tremaining: 4.76s\n",
      "125:\tlearn: 0.9177667\ttotal: 8.03s\tremaining: 4.72s\n",
      "126:\tlearn: 0.9177710\ttotal: 8.13s\tremaining: 4.67s\n",
      "127:\tlearn: 0.9178180\ttotal: 8.19s\tremaining: 4.61s\n",
      "128:\tlearn: 0.9178223\ttotal: 8.25s\tremaining: 4.54s\n",
      "129:\tlearn: 0.9178137\ttotal: 8.31s\tremaining: 4.47s\n",
      "130:\tlearn: 0.9178223\ttotal: 8.37s\tremaining: 4.41s\n",
      "131:\tlearn: 0.9178394\ttotal: 8.42s\tremaining: 4.34s\n",
      "132:\tlearn: 0.9178779\ttotal: 8.48s\tremaining: 4.27s\n",
      "133:\tlearn: 0.9178864\ttotal: 8.54s\tremaining: 4.2s\n",
      "134:\tlearn: 0.9179164\ttotal: 8.59s\tremaining: 4.14s\n",
      "135:\tlearn: 0.9179249\ttotal: 8.65s\tremaining: 4.07s\n",
      "136:\tlearn: 0.9179206\ttotal: 8.71s\tremaining: 4s\n",
      "137:\tlearn: 0.9179719\ttotal: 8.77s\tremaining: 3.94s\n",
      "138:\tlearn: 0.9179848\ttotal: 8.82s\tremaining: 3.87s\n",
      "139:\tlearn: 0.9179719\ttotal: 8.87s\tremaining: 3.8s\n",
      "140:\tlearn: 0.9179890\ttotal: 8.94s\tremaining: 3.74s\n",
      "141:\tlearn: 0.9179890\ttotal: 8.99s\tremaining: 3.67s\n",
      "142:\tlearn: 0.9180104\ttotal: 9.04s\tremaining: 3.6s\n",
      "143:\tlearn: 0.9180703\ttotal: 9.1s\tremaining: 3.54s\n",
      "144:\tlearn: 0.9181173\ttotal: 9.16s\tremaining: 3.48s\n",
      "145:\tlearn: 0.9181857\ttotal: 9.22s\tremaining: 3.41s\n",
      "146:\tlearn: 0.9181986\ttotal: 9.27s\tremaining: 3.34s\n",
      "147:\tlearn: 0.9181900\ttotal: 9.32s\tremaining: 3.27s\n",
      "148:\tlearn: 0.9181900\ttotal: 9.38s\tremaining: 3.21s\n",
      "149:\tlearn: 0.9182028\ttotal: 9.44s\tremaining: 3.15s\n",
      "150:\tlearn: 0.9182071\ttotal: 9.49s\tremaining: 3.08s\n",
      "151:\tlearn: 0.9182371\ttotal: 9.54s\tremaining: 3.01s\n",
      "152:\tlearn: 0.9182627\ttotal: 9.6s\tremaining: 2.95s\n",
      "153:\tlearn: 0.9182755\ttotal: 9.66s\tremaining: 2.88s\n",
      "154:\tlearn: 0.9182670\ttotal: 9.71s\tremaining: 2.82s\n",
      "155:\tlearn: 0.9183012\ttotal: 9.77s\tremaining: 2.75s\n",
      "156:\tlearn: 0.9183226\ttotal: 9.82s\tremaining: 2.69s\n",
      "157:\tlearn: 0.9183696\ttotal: 9.88s\tremaining: 2.63s\n",
      "158:\tlearn: 0.9183653\ttotal: 9.93s\tremaining: 2.56s\n",
      "159:\tlearn: 0.9184167\ttotal: 9.99s\tremaining: 2.5s\n",
      "160:\tlearn: 0.9184423\ttotal: 10.1s\tremaining: 2.43s\n",
      "161:\tlearn: 0.9185022\ttotal: 10.1s\tremaining: 2.37s\n",
      "162:\tlearn: 0.9184893\ttotal: 10.2s\tremaining: 2.31s\n",
      "163:\tlearn: 0.9185236\ttotal: 10.2s\tremaining: 2.24s\n"
     ]
    },
    {
     "name": "stdout",
     "output_type": "stream",
     "text": [
      "164:\tlearn: 0.9185150\ttotal: 10.3s\tremaining: 2.18s\n",
      "165:\tlearn: 0.9185364\ttotal: 10.3s\tremaining: 2.12s\n",
      "166:\tlearn: 0.9185321\ttotal: 10.4s\tremaining: 2.05s\n",
      "167:\tlearn: 0.9184893\ttotal: 10.4s\tremaining: 1.99s\n",
      "168:\tlearn: 0.9185107\ttotal: 10.5s\tremaining: 1.93s\n",
      "169:\tlearn: 0.9185321\ttotal: 10.6s\tremaining: 1.87s\n",
      "170:\tlearn: 0.9185364\ttotal: 10.7s\tremaining: 1.81s\n",
      "171:\tlearn: 0.9185620\ttotal: 10.7s\tremaining: 1.75s\n",
      "172:\tlearn: 0.9185706\ttotal: 10.8s\tremaining: 1.68s\n",
      "173:\tlearn: 0.9185706\ttotal: 10.8s\tremaining: 1.62s\n",
      "174:\tlearn: 0.9186005\ttotal: 10.9s\tremaining: 1.56s\n",
      "175:\tlearn: 0.9185877\ttotal: 11s\tremaining: 1.5s\n",
      "176:\tlearn: 0.9186604\ttotal: 11.1s\tremaining: 1.44s\n",
      "177:\tlearn: 0.9186561\ttotal: 11.1s\tremaining: 1.37s\n",
      "178:\tlearn: 0.9187117\ttotal: 11.2s\tremaining: 1.31s\n",
      "179:\tlearn: 0.9187288\ttotal: 11.2s\tremaining: 1.25s\n",
      "180:\tlearn: 0.9187074\ttotal: 11.3s\tremaining: 1.18s\n",
      "181:\tlearn: 0.9187545\ttotal: 11.3s\tremaining: 1.12s\n",
      "182:\tlearn: 0.9187630\ttotal: 11.4s\tremaining: 1.06s\n",
      "183:\tlearn: 0.9187929\ttotal: 11.5s\tremaining: 996ms\n",
      "184:\tlearn: 0.9187673\ttotal: 11.5s\tremaining: 933ms\n",
      "185:\tlearn: 0.9187673\ttotal: 11.6s\tremaining: 870ms\n",
      "186:\tlearn: 0.9187673\ttotal: 11.6s\tremaining: 808ms\n",
      "187:\tlearn: 0.9187716\ttotal: 11.7s\tremaining: 746ms\n",
      "188:\tlearn: 0.9188229\ttotal: 11.8s\tremaining: 684ms\n",
      "189:\tlearn: 0.9188400\ttotal: 11.8s\tremaining: 622ms\n",
      "190:\tlearn: 0.9188913\ttotal: 11.9s\tremaining: 559ms\n",
      "191:\tlearn: 0.9188614\ttotal: 11.9s\tremaining: 497ms\n",
      "192:\tlearn: 0.9189127\ttotal: 12s\tremaining: 435ms\n",
      "193:\tlearn: 0.9189469\ttotal: 12.1s\tremaining: 373ms\n",
      "194:\tlearn: 0.9189683\ttotal: 12.1s\tremaining: 311ms\n",
      "195:\tlearn: 0.9189640\ttotal: 12.2s\tremaining: 249ms\n",
      "196:\tlearn: 0.9189811\ttotal: 12.2s\tremaining: 187ms\n",
      "197:\tlearn: 0.9189939\ttotal: 12.3s\tremaining: 124ms\n",
      "198:\tlearn: 0.9190367\ttotal: 12.4s\tremaining: 62.2ms\n",
      "199:\tlearn: 0.9190239\ttotal: 12.4s\tremaining: 0us\n"
     ]
    }
   ],
   "source": [
    "model = CatBoostClassifier(iterations=200,learning_rate=.05,depth=8,eval_metric='Accuracy',random_state=3020)\n",
    "model.fit(X_train,Y_train)\n",
    "Y_predict = model.predict(X_test)"
   ]
  },
  {
   "cell_type": "code",
   "execution_count": null,
   "id": "7a19ca52",
   "metadata": {},
   "outputs": [],
   "source": [
    "print(metrics.classification_report(Y_test,Y_predict))\n",
    "print(metrics.confusion_matrix(Y_test,Y_predict))"
   ]
  },
  {
   "cell_type": "markdown",
   "id": "f00a0778",
   "metadata": {},
   "source": [
    "# SMOTE"
   ]
  },
  {
   "cell_type": "code",
   "execution_count": 6,
   "id": "b870f2c3",
   "metadata": {},
   "outputs": [],
   "source": [
    "from imblearn.over_sampling import SMOTE"
   ]
  },
  {
   "cell_type": "code",
   "execution_count": 7,
   "id": "cfc154a2",
   "metadata": {},
   "outputs": [
    {
     "ename": "ValueError",
     "evalue": "could not convert string to float: '55-59'",
     "output_type": "error",
     "traceback": [
      "\u001b[0;31m---------------------------------------------------------------------------\u001b[0m",
      "\u001b[0;31mValueError\u001b[0m                                Traceback (most recent call last)",
      "Input \u001b[0;32mIn [7]\u001b[0m, in \u001b[0;36m<cell line: 2>\u001b[0;34m()\u001b[0m\n\u001b[1;32m      1\u001b[0m smote \u001b[38;5;241m=\u001b[39m SMOTE()\n\u001b[0;32m----> 2\u001b[0m X_smote, Y_smote \u001b[38;5;241m=\u001b[39m \u001b[43msmote\u001b[49m\u001b[38;5;241;43m.\u001b[39;49m\u001b[43mfit_resample\u001b[49m\u001b[43m(\u001b[49m\u001b[43mX\u001b[49m\u001b[43m,\u001b[49m\u001b[43mY\u001b[49m\u001b[43m)\u001b[49m\n\u001b[1;32m      3\u001b[0m DF_smote \u001b[38;5;241m=\u001b[39m pd\u001b[38;5;241m.\u001b[39mconcat([X_smote,Y_smote],axis\u001b[38;5;241m=\u001b[39m\u001b[38;5;241m1\u001b[39m)\n",
      "File \u001b[0;32m/opt/conda/lib/python3.9/site-packages/imblearn/base.py:77\u001b[0m, in \u001b[0;36mSamplerMixin.fit_resample\u001b[0;34m(self, X, y)\u001b[0m\n\u001b[1;32m     75\u001b[0m check_classification_targets(y)\n\u001b[1;32m     76\u001b[0m arrays_transformer \u001b[38;5;241m=\u001b[39m ArraysTransformer(X, y)\n\u001b[0;32m---> 77\u001b[0m X, y, binarize_y \u001b[38;5;241m=\u001b[39m \u001b[38;5;28;43mself\u001b[39;49m\u001b[38;5;241;43m.\u001b[39;49m\u001b[43m_check_X_y\u001b[49m\u001b[43m(\u001b[49m\u001b[43mX\u001b[49m\u001b[43m,\u001b[49m\u001b[43m \u001b[49m\u001b[43my\u001b[49m\u001b[43m)\u001b[49m\n\u001b[1;32m     79\u001b[0m \u001b[38;5;28mself\u001b[39m\u001b[38;5;241m.\u001b[39msampling_strategy_ \u001b[38;5;241m=\u001b[39m check_sampling_strategy(\n\u001b[1;32m     80\u001b[0m     \u001b[38;5;28mself\u001b[39m\u001b[38;5;241m.\u001b[39msampling_strategy, y, \u001b[38;5;28mself\u001b[39m\u001b[38;5;241m.\u001b[39m_sampling_type\n\u001b[1;32m     81\u001b[0m )\n\u001b[1;32m     83\u001b[0m output \u001b[38;5;241m=\u001b[39m \u001b[38;5;28mself\u001b[39m\u001b[38;5;241m.\u001b[39m_fit_resample(X, y)\n",
      "File \u001b[0;32m/opt/conda/lib/python3.9/site-packages/imblearn/base.py:132\u001b[0m, in \u001b[0;36mBaseSampler._check_X_y\u001b[0;34m(self, X, y, accept_sparse)\u001b[0m\n\u001b[1;32m    130\u001b[0m     accept_sparse \u001b[38;5;241m=\u001b[39m [\u001b[38;5;124m\"\u001b[39m\u001b[38;5;124mcsr\u001b[39m\u001b[38;5;124m\"\u001b[39m, \u001b[38;5;124m\"\u001b[39m\u001b[38;5;124mcsc\u001b[39m\u001b[38;5;124m\"\u001b[39m]\n\u001b[1;32m    131\u001b[0m y, binarize_y \u001b[38;5;241m=\u001b[39m check_target_type(y, indicate_one_vs_all\u001b[38;5;241m=\u001b[39m\u001b[38;5;28;01mTrue\u001b[39;00m)\n\u001b[0;32m--> 132\u001b[0m X, y \u001b[38;5;241m=\u001b[39m \u001b[38;5;28;43mself\u001b[39;49m\u001b[38;5;241;43m.\u001b[39;49m\u001b[43m_validate_data\u001b[49m\u001b[43m(\u001b[49m\u001b[43mX\u001b[49m\u001b[43m,\u001b[49m\u001b[43m \u001b[49m\u001b[43my\u001b[49m\u001b[43m,\u001b[49m\u001b[43m \u001b[49m\u001b[43mreset\u001b[49m\u001b[38;5;241;43m=\u001b[39;49m\u001b[38;5;28;43;01mTrue\u001b[39;49;00m\u001b[43m,\u001b[49m\u001b[43m \u001b[49m\u001b[43maccept_sparse\u001b[49m\u001b[38;5;241;43m=\u001b[39;49m\u001b[43maccept_sparse\u001b[49m\u001b[43m)\u001b[49m\n\u001b[1;32m    133\u001b[0m \u001b[38;5;28;01mreturn\u001b[39;00m X, y, binarize_y\n",
      "File \u001b[0;32m/opt/conda/lib/python3.9/site-packages/sklearn/base.py:581\u001b[0m, in \u001b[0;36mBaseEstimator._validate_data\u001b[0;34m(self, X, y, reset, validate_separately, **check_params)\u001b[0m\n\u001b[1;32m    579\u001b[0m         y \u001b[38;5;241m=\u001b[39m check_array(y, \u001b[38;5;241m*\u001b[39m\u001b[38;5;241m*\u001b[39mcheck_y_params)\n\u001b[1;32m    580\u001b[0m     \u001b[38;5;28;01melse\u001b[39;00m:\n\u001b[0;32m--> 581\u001b[0m         X, y \u001b[38;5;241m=\u001b[39m \u001b[43mcheck_X_y\u001b[49m\u001b[43m(\u001b[49m\u001b[43mX\u001b[49m\u001b[43m,\u001b[49m\u001b[43m \u001b[49m\u001b[43my\u001b[49m\u001b[43m,\u001b[49m\u001b[43m \u001b[49m\u001b[38;5;241;43m*\u001b[39;49m\u001b[38;5;241;43m*\u001b[39;49m\u001b[43mcheck_params\u001b[49m\u001b[43m)\u001b[49m\n\u001b[1;32m    582\u001b[0m     out \u001b[38;5;241m=\u001b[39m X, y\n\u001b[1;32m    584\u001b[0m \u001b[38;5;28;01mif\u001b[39;00m \u001b[38;5;129;01mnot\u001b[39;00m no_val_X \u001b[38;5;129;01mand\u001b[39;00m check_params\u001b[38;5;241m.\u001b[39mget(\u001b[38;5;124m\"\u001b[39m\u001b[38;5;124mensure_2d\u001b[39m\u001b[38;5;124m\"\u001b[39m, \u001b[38;5;28;01mTrue\u001b[39;00m):\n",
      "File \u001b[0;32m/opt/conda/lib/python3.9/site-packages/sklearn/utils/validation.py:964\u001b[0m, in \u001b[0;36mcheck_X_y\u001b[0;34m(X, y, accept_sparse, accept_large_sparse, dtype, order, copy, force_all_finite, ensure_2d, allow_nd, multi_output, ensure_min_samples, ensure_min_features, y_numeric, estimator)\u001b[0m\n\u001b[1;32m    961\u001b[0m \u001b[38;5;28;01mif\u001b[39;00m y \u001b[38;5;129;01mis\u001b[39;00m \u001b[38;5;28;01mNone\u001b[39;00m:\n\u001b[1;32m    962\u001b[0m     \u001b[38;5;28;01mraise\u001b[39;00m \u001b[38;5;167;01mValueError\u001b[39;00m(\u001b[38;5;124m\"\u001b[39m\u001b[38;5;124my cannot be None\u001b[39m\u001b[38;5;124m\"\u001b[39m)\n\u001b[0;32m--> 964\u001b[0m X \u001b[38;5;241m=\u001b[39m \u001b[43mcheck_array\u001b[49m\u001b[43m(\u001b[49m\n\u001b[1;32m    965\u001b[0m \u001b[43m    \u001b[49m\u001b[43mX\u001b[49m\u001b[43m,\u001b[49m\n\u001b[1;32m    966\u001b[0m \u001b[43m    \u001b[49m\u001b[43maccept_sparse\u001b[49m\u001b[38;5;241;43m=\u001b[39;49m\u001b[43maccept_sparse\u001b[49m\u001b[43m,\u001b[49m\n\u001b[1;32m    967\u001b[0m \u001b[43m    \u001b[49m\u001b[43maccept_large_sparse\u001b[49m\u001b[38;5;241;43m=\u001b[39;49m\u001b[43maccept_large_sparse\u001b[49m\u001b[43m,\u001b[49m\n\u001b[1;32m    968\u001b[0m \u001b[43m    \u001b[49m\u001b[43mdtype\u001b[49m\u001b[38;5;241;43m=\u001b[39;49m\u001b[43mdtype\u001b[49m\u001b[43m,\u001b[49m\n\u001b[1;32m    969\u001b[0m \u001b[43m    \u001b[49m\u001b[43morder\u001b[49m\u001b[38;5;241;43m=\u001b[39;49m\u001b[43morder\u001b[49m\u001b[43m,\u001b[49m\n\u001b[1;32m    970\u001b[0m \u001b[43m    \u001b[49m\u001b[43mcopy\u001b[49m\u001b[38;5;241;43m=\u001b[39;49m\u001b[43mcopy\u001b[49m\u001b[43m,\u001b[49m\n\u001b[1;32m    971\u001b[0m \u001b[43m    \u001b[49m\u001b[43mforce_all_finite\u001b[49m\u001b[38;5;241;43m=\u001b[39;49m\u001b[43mforce_all_finite\u001b[49m\u001b[43m,\u001b[49m\n\u001b[1;32m    972\u001b[0m \u001b[43m    \u001b[49m\u001b[43mensure_2d\u001b[49m\u001b[38;5;241;43m=\u001b[39;49m\u001b[43mensure_2d\u001b[49m\u001b[43m,\u001b[49m\n\u001b[1;32m    973\u001b[0m \u001b[43m    \u001b[49m\u001b[43mallow_nd\u001b[49m\u001b[38;5;241;43m=\u001b[39;49m\u001b[43mallow_nd\u001b[49m\u001b[43m,\u001b[49m\n\u001b[1;32m    974\u001b[0m \u001b[43m    \u001b[49m\u001b[43mensure_min_samples\u001b[49m\u001b[38;5;241;43m=\u001b[39;49m\u001b[43mensure_min_samples\u001b[49m\u001b[43m,\u001b[49m\n\u001b[1;32m    975\u001b[0m \u001b[43m    \u001b[49m\u001b[43mensure_min_features\u001b[49m\u001b[38;5;241;43m=\u001b[39;49m\u001b[43mensure_min_features\u001b[49m\u001b[43m,\u001b[49m\n\u001b[1;32m    976\u001b[0m \u001b[43m    \u001b[49m\u001b[43mestimator\u001b[49m\u001b[38;5;241;43m=\u001b[39;49m\u001b[43mestimator\u001b[49m\u001b[43m,\u001b[49m\n\u001b[1;32m    977\u001b[0m \u001b[43m\u001b[49m\u001b[43m)\u001b[49m\n\u001b[1;32m    979\u001b[0m y \u001b[38;5;241m=\u001b[39m _check_y(y, multi_output\u001b[38;5;241m=\u001b[39mmulti_output, y_numeric\u001b[38;5;241m=\u001b[39my_numeric)\n\u001b[1;32m    981\u001b[0m check_consistent_length(X, y)\n",
      "File \u001b[0;32m/opt/conda/lib/python3.9/site-packages/sklearn/utils/validation.py:746\u001b[0m, in \u001b[0;36mcheck_array\u001b[0;34m(array, accept_sparse, accept_large_sparse, dtype, order, copy, force_all_finite, ensure_2d, allow_nd, ensure_min_samples, ensure_min_features, estimator)\u001b[0m\n\u001b[1;32m    744\u001b[0m         array \u001b[38;5;241m=\u001b[39m array\u001b[38;5;241m.\u001b[39mastype(dtype, casting\u001b[38;5;241m=\u001b[39m\u001b[38;5;124m\"\u001b[39m\u001b[38;5;124munsafe\u001b[39m\u001b[38;5;124m\"\u001b[39m, copy\u001b[38;5;241m=\u001b[39m\u001b[38;5;28;01mFalse\u001b[39;00m)\n\u001b[1;32m    745\u001b[0m     \u001b[38;5;28;01melse\u001b[39;00m:\n\u001b[0;32m--> 746\u001b[0m         array \u001b[38;5;241m=\u001b[39m \u001b[43mnp\u001b[49m\u001b[38;5;241;43m.\u001b[39;49m\u001b[43masarray\u001b[49m\u001b[43m(\u001b[49m\u001b[43marray\u001b[49m\u001b[43m,\u001b[49m\u001b[43m \u001b[49m\u001b[43morder\u001b[49m\u001b[38;5;241;43m=\u001b[39;49m\u001b[43morder\u001b[49m\u001b[43m,\u001b[49m\u001b[43m \u001b[49m\u001b[43mdtype\u001b[49m\u001b[38;5;241;43m=\u001b[39;49m\u001b[43mdtype\u001b[49m\u001b[43m)\u001b[49m\n\u001b[1;32m    747\u001b[0m \u001b[38;5;28;01mexcept\u001b[39;00m ComplexWarning \u001b[38;5;28;01mas\u001b[39;00m complex_warning:\n\u001b[1;32m    748\u001b[0m     \u001b[38;5;28;01mraise\u001b[39;00m \u001b[38;5;167;01mValueError\u001b[39;00m(\n\u001b[1;32m    749\u001b[0m         \u001b[38;5;124m\"\u001b[39m\u001b[38;5;124mComplex data not supported\u001b[39m\u001b[38;5;130;01m\\n\u001b[39;00m\u001b[38;5;132;01m{}\u001b[39;00m\u001b[38;5;130;01m\\n\u001b[39;00m\u001b[38;5;124m\"\u001b[39m\u001b[38;5;241m.\u001b[39mformat(array)\n\u001b[1;32m    750\u001b[0m     ) \u001b[38;5;28;01mfrom\u001b[39;00m \u001b[38;5;21;01mcomplex_warning\u001b[39;00m\n",
      "File \u001b[0;32m/opt/conda/lib/python3.9/site-packages/pandas/core/generic.py:2064\u001b[0m, in \u001b[0;36mNDFrame.__array__\u001b[0;34m(self, dtype)\u001b[0m\n\u001b[1;32m   2063\u001b[0m \u001b[38;5;28;01mdef\u001b[39;00m \u001b[38;5;21m__array__\u001b[39m(\u001b[38;5;28mself\u001b[39m, dtype: npt\u001b[38;5;241m.\u001b[39mDTypeLike \u001b[38;5;241m|\u001b[39m \u001b[38;5;28;01mNone\u001b[39;00m \u001b[38;5;241m=\u001b[39m \u001b[38;5;28;01mNone\u001b[39;00m) \u001b[38;5;241m-\u001b[39m\u001b[38;5;241m>\u001b[39m np\u001b[38;5;241m.\u001b[39mndarray:\n\u001b[0;32m-> 2064\u001b[0m     \u001b[38;5;28;01mreturn\u001b[39;00m \u001b[43mnp\u001b[49m\u001b[38;5;241;43m.\u001b[39;49m\u001b[43masarray\u001b[49m\u001b[43m(\u001b[49m\u001b[38;5;28;43mself\u001b[39;49m\u001b[38;5;241;43m.\u001b[39;49m\u001b[43m_values\u001b[49m\u001b[43m,\u001b[49m\u001b[43m \u001b[49m\u001b[43mdtype\u001b[49m\u001b[38;5;241;43m=\u001b[39;49m\u001b[43mdtype\u001b[49m\u001b[43m)\u001b[49m\n",
      "\u001b[0;31mValueError\u001b[0m: could not convert string to float: '55-59'"
     ]
    }
   ],
   "source": [
    "smote = SMOTE()\n",
    "X_smote, Y_smote = smote.fit_resample(X,Y)\n",
    "DF_smote = pd.concat([X_smote,Y_smote],axis=1)"
   ]
  },
  {
   "cell_type": "code",
   "execution_count": 8,
   "id": "bdc4a433",
   "metadata": {},
   "outputs": [
    {
     "ename": "NameError",
     "evalue": "name 'DF_smote' is not defined",
     "output_type": "error",
     "traceback": [
      "\u001b[0;31m---------------------------------------------------------------------------\u001b[0m",
      "\u001b[0;31mNameError\u001b[0m                                 Traceback (most recent call last)",
      "Input \u001b[0;32mIn [8]\u001b[0m, in \u001b[0;36m<cell line: 1>\u001b[0;34m()\u001b[0m\n\u001b[0;32m----> 1\u001b[0m SB\u001b[38;5;241m.\u001b[39mcountplot(\u001b[38;5;124m'\u001b[39m\u001b[38;5;124mHeartDisease\u001b[39m\u001b[38;5;124m'\u001b[39m,data\u001b[38;5;241m=\u001b[39m\u001b[43mDF_smote\u001b[49m)\n",
      "\u001b[0;31mNameError\u001b[0m: name 'DF_smote' is not defined"
     ]
    }
   ],
   "source": [
    "SB.countplot('HeartDisease',data=DF_smote)"
   ]
  },
  {
   "cell_type": "code",
   "execution_count": null,
   "id": "97934987",
   "metadata": {},
   "outputs": [],
   "source": [
    "X_train,X_test,Y_train,Y_test = train_test_split(X_smote,Y_smote,random_state=3020)"
   ]
  },
  {
   "cell_type": "code",
   "execution_count": null,
   "id": "f38b40a9",
   "metadata": {},
   "outputs": [],
   "source": [
    "model = CatBoostClassifier(iterations=200,learning_rate=.05,depth=8,eval_metric='Accuracy',random_state=3020)\n",
    "model.fit(X_train,Y_train,cat_features=CatCols)\n",
    "Y_predict = model.predict(X_test)"
   ]
  },
  {
   "cell_type": "code",
   "execution_count": null,
   "id": "10198278",
   "metadata": {},
   "outputs": [],
   "source": [
    "print(metrics.classification_report(Y_test,Y_predict))\n",
    "print(metrics.confusion_matrix(Y_test,Y_predict))"
   ]
  },
  {
   "cell_type": "markdown",
   "id": "ce014acc",
   "metadata": {},
   "source": [
    "# SMOTETomek"
   ]
  },
  {
   "cell_type": "code",
   "execution_count": null,
   "id": "48ca1ef5",
   "metadata": {},
   "outputs": [],
   "source": [
    "from imblearn.combine import SMOTETomek"
   ]
  },
  {
   "cell_type": "code",
   "execution_count": null,
   "id": "612362c6",
   "metadata": {},
   "outputs": [],
   "source": [
    "smoteomek = SMOTE()\n",
    "X_smoteomek, Y_smoteomek = smoteomek.fit_resample(X,Y)\n",
    "DF_smoteomek = pd.concat([X_smoteomek,Y_smoteomek],axis=1)"
   ]
  },
  {
   "cell_type": "code",
   "execution_count": null,
   "id": "494d5bb4",
   "metadata": {},
   "outputs": [],
   "source": [
    "SB.countplot('HeartDisease',data=DF_smoteomek)"
   ]
  },
  {
   "cell_type": "code",
   "execution_count": null,
   "id": "c1571f79",
   "metadata": {},
   "outputs": [],
   "source": [
    "X_train,X_test,Y_train,Y_test = train_test_split(X_smoteomek,Y_smoteomek,random_state=3020)"
   ]
  },
  {
   "cell_type": "code",
   "execution_count": null,
   "id": "c0022ded",
   "metadata": {},
   "outputs": [],
   "source": [
    "model = CatBoostClassifier(iterations=200,learning_rate=.05,depth=8,eval_metric='Accuracy',random_state=3020)\n",
    "model.fit(X_train,Y_train,cat_features=CatCols)\n",
    "Y_predict = model.predict(X_test)"
   ]
  },
  {
   "cell_type": "code",
   "execution_count": null,
   "id": "1c977876",
   "metadata": {},
   "outputs": [],
   "source": [
    "print(metrics.classification_report(Y_test,Y_predict))\n",
    "print(metrics.confusion_matrix(Y_test,Y_predict))"
   ]
  },
  {
   "cell_type": "code",
   "execution_count": null,
   "id": "03566221",
   "metadata": {},
   "outputs": [],
   "source": []
  },
  {
   "cell_type": "code",
   "execution_count": null,
   "id": "3a5b1090",
   "metadata": {},
   "outputs": [],
   "source": []
  },
  {
   "cell_type": "code",
   "execution_count": null,
   "id": "ecd187f0",
   "metadata": {},
   "outputs": [],
   "source": []
  },
  {
   "cell_type": "code",
   "execution_count": null,
   "id": "454925f8",
   "metadata": {},
   "outputs": [],
   "source": []
  },
  {
   "cell_type": "code",
   "execution_count": null,
   "id": "1f0c6ae2",
   "metadata": {},
   "outputs": [],
   "source": []
  }
 ],
 "metadata": {
  "kernelspec": {
   "display_name": "Python 3 (ipykernel)",
   "language": "python",
   "name": "python3"
  },
  "language_info": {
   "codemirror_mode": {
    "name": "ipython",
    "version": 3
   },
   "file_extension": ".py",
   "mimetype": "text/x-python",
   "name": "python",
   "nbconvert_exporter": "python",
   "pygments_lexer": "ipython3",
   "version": "3.9.12"
  }
 },
 "nbformat": 4,
 "nbformat_minor": 5
}
