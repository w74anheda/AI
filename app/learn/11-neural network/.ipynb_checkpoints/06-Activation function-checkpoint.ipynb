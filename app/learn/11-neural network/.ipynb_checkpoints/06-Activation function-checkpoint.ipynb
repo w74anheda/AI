{
 "cells": [
  {
   "cell_type": "markdown",
   "id": "d7ffa77f",
   "metadata": {},
   "source": [
    "<img src='../../img/epoch-fwd-bwd-pass.png'>\n",
    "<img src='../../img/Common-activation-functions-in-artificial-neural-networks-NNs-that-introduce.png' width=\"400px\">\n",
    "<hr style=\"height: 2px;\"/>\n",
    "\n",
    "\n",
    "# Sigmoid\n",
    "<img src='../../img/Plot-of-Inputs-vs-Outputs-for-the-Sigmoid-Activation-Function.webp' width=\"400px\">\n",
    "<hr style=\"height: 2px;\"/>\n",
    "\n",
    "# Tanh\n",
    "<img src='../../img/tanh.png' width=\"400px\">\n",
    "<hr style=\"height: 2px;\"/>\n",
    "\n",
    "# Relu:\n",
    "<img src='../../img/relu.webp' width=\"400px\">\n",
    "<hr style=\"height: 2px;\"/>\n",
    "\n",
    "# LeakyRelu: \n",
    "<img src='../../img/leaky_relu_plot.png' width=\"400px\">\n",
    "<hr style=\"height: 2px;\"/>\n",
    "\n",
    "# Softmax: <small>for multi label is good</small>\n",
    "<img src='../../img/softmax.jpg' width=\"400px\">\n",
    "<img src='../../img/sosdfsafasf.png' width=\"400px\">\n",
    "<hr style=\"height: 2px;\"/>\n",
    "\n",
    "# Sofsign: <small>for multi label is good</small>\n",
    "<img src='../../img/Screen_Shot_2020-05-27_at_4.35.34_PM_07Nzs7R.png' width=\"400px\">\n",
    "<hr style=\"height: 2px;\"/>\n",
    "\n",
    "# Elu\n",
    "<img src='../../img/ELU.png' width=\"400px\">\n",
    "\n"
   ]
  },
  {
   "cell_type": "code",
   "execution_count": null,
   "id": "d309d308",
   "metadata": {},
   "outputs": [],
   "source": []
  },
  {
   "cell_type": "code",
   "execution_count": null,
   "id": "f2d2ed42",
   "metadata": {},
   "outputs": [],
   "source": []
  }
 ],
 "metadata": {
  "kernelspec": {
   "display_name": "Python 3 (ipykernel)",
   "language": "python",
   "name": "python3"
  },
  "language_info": {
   "codemirror_mode": {
    "name": "ipython",
    "version": 3
   },
   "file_extension": ".py",
   "mimetype": "text/x-python",
   "name": "python",
   "nbconvert_exporter": "python",
   "pygments_lexer": "ipython3",
   "version": "3.9.12"
  }
 },
 "nbformat": 4,
 "nbformat_minor": 5
}
