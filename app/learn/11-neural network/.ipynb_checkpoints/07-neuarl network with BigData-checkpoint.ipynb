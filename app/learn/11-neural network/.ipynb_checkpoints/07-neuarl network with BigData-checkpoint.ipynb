{
 "cells": [
  {
   "cell_type": "code",
   "execution_count": 1,
   "id": "eaace6ab",
   "metadata": {
    "scrolled": true
   },
   "outputs": [
    {
     "name": "stderr",
     "output_type": "stream",
     "text": [
      "2022-11-28 09:05:29.303522: I tensorflow/core/platform/cpu_feature_guard.cc:193] This TensorFlow binary is optimized with oneAPI Deep Neural Network Library (oneDNN) to use the following CPU instructions in performance-critical operations:  SSE4.1 SSE4.2 AVX\n",
      "To enable them in other operations, rebuild TensorFlow with the appropriate compiler flags.\n"
     ]
    }
   ],
   "source": [
    "import numpy as np\n",
    "import pandas as pd\n",
    "import matplotlib.pyplot as PLT\n",
    "from tensorflow.keras import Sequential\n",
    "from tensorflow.keras.layers import Dense, Flatten, Conv2D, MaxPool2D,ZeroPadding2D, Dropout\n",
    "from tensorflow.keras.utils import to_categorical\n",
    "from tensorflow.keras.optimizers import Adam\n",
    "from tensorflow.keras.preprocessing.image import ImageDataGenerator\n",
    "import tensorflow as tf"
   ]
  },
  {
   "cell_type": "code",
   "execution_count": 12,
   "id": "3faa8d2f",
   "metadata": {},
   "outputs": [
    {
     "name": "stdout",
     "output_type": "stream",
     "text": [
      "Found 1000 images belonging to 2 classes.\n",
      "Found 400 images belonging to 2 classes.\n"
     ]
    }
   ],
   "source": [
    "BCSIZE = 100\n",
    "IMG_SHAPE = (250,250)\n",
    "\n",
    "data_generator_train = ImageDataGenerator(\n",
    "                    rescale=1.0/255.0,\n",
    "                    zoom_range=.6,\n",
    "                    horizontal_flip=True,\n",
    "                    vertical_flip=True,\n",
    "                    rotation_range=90,\n",
    "                    width_shift_range=.4,\n",
    "                    height_shift_range=.4,\n",
    "                    shear_range=.6,\n",
    "                    fill_mode='nearest',\n",
    "                )\n",
    "\n",
    "train_data = data_generator_train.flow_from_directory(\n",
    "                        directory='../../img/catvsdog/train/',\n",
    "                        class_mode='binary',#'categorical'\n",
    "                        batch_size=BCSIZE,\n",
    "                        target_size=IMG_SHAPE,\n",
    "                        shuffle=True,\n",
    "                        color_mode='rgb',#'grayscale'\n",
    "                        )\n",
    "\n",
    "data_generator_test = ImageDataGenerator(rescale=1.0/255.0)\n",
    "test_data = data_generator_test.flow_from_directory(\n",
    "                        directory='../../img/catvsdog/test/',\n",
    "                        class_mode='binary',\n",
    "                        batch_size=BCSIZE,\n",
    "                        target_size=IMG_SHAPE,\n",
    "                        shuffle=True,\n",
    "                        color_mode='rgb',\n",
    "                        )"
   ]
  },
  {
   "cell_type": "code",
   "execution_count": 13,
   "id": "5abba8cc",
   "metadata": {},
   "outputs": [],
   "source": [
    "model = Sequential()\n",
    "model.add(Conv2D(2,3,activation='relu',padding='same',input_shape=(*IMG_SHAPE,3)))\n",
    "model.add(MaxPool2D((2,2)))\n",
    "model.add(Flatten())\n",
    "model.add(Dense(10,activation='relu'))\n",
    "model.add(Dense(1,activation='sigmoid'))\n",
    "model.compile(\n",
    "    optimizer=Adam(),\n",
    "    loss='binary_crossentropy',\n",
    "    metrics=['accuracy']\n",
    ")"
   ]
  },
  {
   "cell_type": "code",
   "execution_count": 14,
   "id": "939d7df3",
   "metadata": {},
   "outputs": [
    {
     "name": "stderr",
     "output_type": "stream",
     "text": [
      "/tmp/ipykernel_3130/1058973003.py:1: UserWarning: `Model.fit_generator` is deprecated and will be removed in a future version. Please use `Model.fit`, which supports generators.\n",
      "  history = model.fit_generator(\n"
     ]
    },
    {
     "name": "stdout",
     "output_type": "stream",
     "text": [
      "Epoch 1/10\n",
      "10/10 [==============================] - 44s 4s/step - loss: 3.4690 - accuracy: 0.4850 - val_loss: 1.6273 - val_accuracy: 0.5000\n",
      "Epoch 2/10\n",
      "10/10 [==============================] - 41s 4s/step - loss: 2.2704 - accuracy: 0.4880 - val_loss: 1.4798 - val_accuracy: 0.5000\n",
      "Epoch 3/10\n",
      "10/10 [==============================] - 39s 4s/step - loss: 1.1682 - accuracy: 0.4990 - val_loss: 1.2231 - val_accuracy: 0.5000\n",
      "Epoch 4/10\n",
      "10/10 [==============================] - 38s 4s/step - loss: 0.9085 - accuracy: 0.4900 - val_loss: 0.9497 - val_accuracy: 0.5000\n",
      "Epoch 5/10\n",
      "10/10 [==============================] - 41s 4s/step - loss: 0.7743 - accuracy: 0.5490 - val_loss: 0.7197 - val_accuracy: 0.5075\n",
      "Epoch 6/10\n",
      "10/10 [==============================] - 43s 4s/step - loss: 0.7078 - accuracy: 0.5090 - val_loss: 0.7111 - val_accuracy: 0.5025\n",
      "Epoch 7/10\n",
      "10/10 [==============================] - 43s 4s/step - loss: 0.7166 - accuracy: 0.4920 - val_loss: 0.7114 - val_accuracy: 0.4975\n",
      "Epoch 8/10\n",
      "10/10 [==============================] - 36s 4s/step - loss: 0.7239 - accuracy: 0.4910 - val_loss: 0.7188 - val_accuracy: 0.5000\n",
      "Epoch 9/10\n",
      "10/10 [==============================] - 36s 4s/step - loss: 0.7061 - accuracy: 0.5040 - val_loss: 0.6954 - val_accuracy: 0.5000\n",
      "Epoch 10/10\n",
      "10/10 [==============================] - 37s 4s/step - loss: 0.7057 - accuracy: 0.4800 - val_loss: 0.6958 - val_accuracy: 0.4950\n"
     ]
    }
   ],
   "source": [
    "history = model.fit_generator(\n",
    "            train_data,\n",
    "            steps_per_epoch=len(train_data),\n",
    "            validation_data=test_data,\n",
    "            validation_steps=len(test_data),\n",
    "            epochs=10\n",
    "        )"
   ]
  },
  {
   "cell_type": "code",
   "execution_count": 15,
   "id": "5931fc07",
   "metadata": {},
   "outputs": [
    {
     "data": {
      "text/plain": [
       "[<matplotlib.lines.Line2D at 0x7fc288f373d0>]"
      ]
     },
     "execution_count": 15,
     "metadata": {},
     "output_type": "execute_result"
    },
    {
     "data": {
      "image/png": "[encoded data removed]",
      "text/plain": [
       "<Figure size 432x288 with 1 Axes>"
      ]
     },
     "metadata": {
      "needs_background": "light"
     },
     "output_type": "display_data"
    }
   ],
   "source": [
    "PLT.plot(history.history['accuracy'],color='green')\n",
    "PLT.plot(history.history['val_accuracy'],color='blue')"
   ]
  },
  {
   "cell_type": "code",
   "execution_count": null,
   "id": "fb8b5cb3",
   "metadata": {},
   "outputs": [],
   "source": []
  },
  {
   "cell_type": "code",
   "execution_count": null,
   "id": "1088cd4f",
   "metadata": {},
   "outputs": [],
   "source": []
  },
  {
   "cell_type": "code",
   "execution_count": null,
   "id": "ce03e859",
   "metadata": {},
   "outputs": [],
   "source": []
  },
  {
   "cell_type": "code",
   "execution_count": null,
   "id": "949903e9",
   "metadata": {},
   "outputs": [],
   "source": []
  },
  {
   "cell_type": "code",
   "execution_count": null,
   "id": "88e1a3a4",
   "metadata": {},
   "outputs": [],
   "source": []
  },
  {
   "cell_type": "code",
   "execution_count": null,
   "id": "319f4552",
   "metadata": {},
   "outputs": [],
   "source": []
  },
  {
   "cell_type": "code",
   "execution_count": null,
   "id": "6fb0dadc",
   "metadata": {},
   "outputs": [],
   "source": []
  },
  {
   "cell_type": "code",
   "execution_count": null,
   "id": "577bca2c",
   "metadata": {},
   "outputs": [],
   "source": []
  },
  {
   "cell_type": "code",
   "execution_count": null,
   "id": "c709653e",
   "metadata": {},
   "outputs": [],
   "source": []
  },
  {
   "cell_type": "code",
   "execution_count": null,
   "id": "d309d308",
   "metadata": {},
   "outputs": [],
   "source": []
  },
  {
   "cell_type": "code",
   "execution_count": null,
   "id": "f2d2ed42",
   "metadata": {},
   "outputs": [],
   "source": []
  }
 ],
 "metadata": {
  "kernelspec": {
   "display_name": "Python 3 (ipykernel)",
   "language": "python",
   "name": "python3"
  },
  "language_info": {
   "codemirror_mode": {
    "name": "ipython",
    "version": 3
   },
   "file_extension": ".py",
   "mimetype": "text/x-python",
   "name": "python",
   "nbconvert_exporter": "python",
   "pygments_lexer": "ipython3",
   "version": "3.9.12"
  }
 },
 "nbformat": 4,
 "nbformat_minor": 5
}
