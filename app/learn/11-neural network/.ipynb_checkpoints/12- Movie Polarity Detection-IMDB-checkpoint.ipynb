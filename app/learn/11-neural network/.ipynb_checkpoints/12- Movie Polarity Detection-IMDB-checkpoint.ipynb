{
 "cells": [
  {
   "cell_type": "markdown",
   "id": "96449a73",
   "metadata": {},
   "source": [
    "# CNN Movie Polarity Detection\n",
    "\n",
    "### dataset url : https://www.cs.cornell.edu/people/pabo/movie-review-data/\n",
    "\n",
    "## search  : keras text_generation"
   ]
  },
  {
   "cell_type": "code",
   "execution_count": 2,
   "id": "f377ed16",
   "metadata": {},
   "outputs": [],
   "source": [
    "import os\n",
    "import pandas as pd\n",
    "from bs4 import BeautifulSoup\n",
    "import numpy as np\n",
    "from nltk.corpus import stopwords\n",
    "from nltk import word_tokenize\n",
    "import matplotlib.pyplot as PLT\n",
    "from sklearn.model_selection import train_test_split\n",
    "from tensorflow.keras.preprocessing.text import Tokenizer\n",
    "from tensorflow.keras.preprocessing.sequence import pad_sequences\n",
    "from sklearn.preprocessing import LabelBinarizer\n",
    "from tensorflow.keras.optimizers.legacy import Adam\n",
    "from tensorflow.keras.utils import plot_model\n",
    "from tensorflow.keras.models import Model,Sequential,load_model\n",
    "from tensorflow.keras.layers import Input,Dense,Flatten,Embedding,Conv1D,MaxPool1D,concatenate,Dropout,Conv2D,MaxPool2D,Activation,BatchNormalization"
   ]
  },
  {
   "cell_type": "code",
   "execution_count": 4,
   "id": "9b03ce73",
   "metadata": {},
   "outputs": [
    {
     "name": "stdout",
     "output_type": "stream",
     "text": [
      "[PhysicalDevice(name='/physical_device:GPU:0', device_type='GPU')]\n"
     ]
    }
   ],
   "source": [
    "import tensorflow as tf; print(tf.config.list_physical_devices('GPU'))"
   ]
  },
  {
   "cell_type": "code",
   "execution_count": 5,
   "id": "a140cacb",
   "metadata": {},
   "outputs": [
    {
     "name": "stderr",
     "output_type": "stream",
     "text": [
      "[nltk_data] Downloading package stopwords to /home/masoud/nltk_data...\n",
      "[nltk_data]   Package stopwords is already up-to-date!\n"
     ]
    },
    {
     "data": {
      "text/plain": [
       "True"
      ]
     },
     "execution_count": 5,
     "metadata": {},
     "output_type": "execute_result"
    }
   ],
   "source": [
    "import nltk\n",
    "from nltk.stem import PorterStemmer\n",
    "from nltk.stem import WordNetLemmatizer\n",
    "# nltk.download('punkt')\n",
    "nltk.download('stopwords')\n",
    "# nltk.download('wordnet')\n",
    "# nltk.download('omw-1.4')"
   ]
  },
  {
   "cell_type": "code",
   "execution_count": 6,
   "id": "589770e6",
   "metadata": {},
   "outputs": [],
   "source": [
    "from string import punctuation\n",
    "def punctuation_cleaner(string):\n",
    "    global punctuation\n",
    "    punctuation = punctuation+'\\n\\\\//'\n",
    "    s = str.maketrans('','',punctuation)\n",
    "    return string.translate(s)\n",
    "\n",
    "stopwords_en = stopwords.words('english')"
   ]
  },
  {
   "cell_type": "code",
   "execution_count": 7,
   "id": "91c66691",
   "metadata": {},
   "outputs": [
    {
     "data": {
      "text/html": [
       "<div>\n",
       "<style scoped>\n",
       "    .dataframe tbody tr th:only-of-type {\n",
       "        vertical-align: middle;\n",
       "    }\n",
       "\n",
       "    .dataframe tbody tr th {\n",
       "        vertical-align: top;\n",
       "    }\n",
       "\n",
       "    .dataframe thead th {\n",
       "        text-align: right;\n",
       "    }\n",
       "</style>\n",
       "<table border=\"1\" class=\"dataframe\">\n",
       "  <thead>\n",
       "    <tr style=\"text-align: right;\">\n",
       "      <th></th>\n",
       "      <th>text</th>\n",
       "      <th>target</th>\n",
       "    </tr>\n",
       "  </thead>\n",
       "  <tbody>\n",
       "    <tr>\n",
       "      <th>0</th>\n",
       "      <td>One of the other reviewers has mentioned that ...</td>\n",
       "      <td>positive</td>\n",
       "    </tr>\n",
       "    <tr>\n",
       "      <th>1</th>\n",
       "      <td>A wonderful little production. &lt;br /&gt;&lt;br /&gt;The...</td>\n",
       "      <td>positive</td>\n",
       "    </tr>\n",
       "    <tr>\n",
       "      <th>2</th>\n",
       "      <td>I thought this was a wonderful way to spend ti...</td>\n",
       "      <td>positive</td>\n",
       "    </tr>\n",
       "    <tr>\n",
       "      <th>3</th>\n",
       "      <td>Basically there's a family where a little boy ...</td>\n",
       "      <td>negative</td>\n",
       "    </tr>\n",
       "    <tr>\n",
       "      <th>4</th>\n",
       "      <td>Petter Mattei's \"Love in the Time of Money\" is...</td>\n",
       "      <td>positive</td>\n",
       "    </tr>\n",
       "  </tbody>\n",
       "</table>\n",
       "</div>"
      ],
      "text/plain": [
       "                                                text    target\n",
       "0  One of the other reviewers has mentioned that ...  positive\n",
       "1  A wonderful little production. <br /><br />The...  positive\n",
       "2  I thought this was a wonderful way to spend ti...  positive\n",
       "3  Basically there's a family where a little boy ...  negative\n",
       "4  Petter Mattei's \"Love in the Time of Money\" is...  positive"
      ]
     },
     "execution_count": 7,
     "metadata": {},
     "output_type": "execute_result"
    }
   ],
   "source": [
    "DF = pd.read_csv('../../../datasets/IMDB Dataset.csv')\n",
    "DF.rename(columns={'review':'text','sentiment':'target'},inplace=True)\n",
    "DF = DF.drop_duplicates()\n",
    "DF.head()"
   ]
  },
  {
   "cell_type": "code",
   "execution_count": 8,
   "id": "d4c29f79",
   "metadata": {},
   "outputs": [
    {
     "name": "stderr",
     "output_type": "stream",
     "text": [
      "/home/masoud/anaconda3/lib/python3.9/site-packages/bs4/__init__.py:435: MarkupResemblesLocatorWarning: The input looks more like a filename than markup. You may want to open this file and pass the filehandle into Beautiful Soup.\n",
      "  warnings.warn(\n"
     ]
    }
   ],
   "source": [
    "def html_cleaner(row):\n",
    "    soup = BeautifulSoup(row['text'], 'html.parser')\n",
    "    row['text'] = soup.get_text()\n",
    "    return row\n",
    "\n",
    "def target_encoder(row):\n",
    "    row['target'] = 1 if row['target'] =='positive' else 0\n",
    "    return row\n",
    "\n",
    "DF = DF.apply(html_cleaner,axis=1)\n",
    "DF = DF.apply(target_encoder,axis=1)"
   ]
  },
  {
   "cell_type": "code",
   "execution_count": 9,
   "id": "9cf3e04c",
   "metadata": {},
   "outputs": [],
   "source": [
    "def text_preprocess(row):\n",
    "    text = row['text']\n",
    "    text = punctuation_cleaner(text)\n",
    "    text = word_tokenize(text)\n",
    "    text = [w for w in text if w not in stopwords_en]\n",
    "    text = [lemmatizer.lemmatize(w) for w in text]\n",
    "    text = set([stemmer.stem(w) for w in text])\n",
    "    row['text'] = text\n",
    "    return row\n",
    "\n",
    "DF = DF.apply(html_cleaner,axis=1)"
   ]
  },
  {
   "cell_type": "code",
   "execution_count": 10,
   "id": "85a33491",
   "metadata": {},
   "outputs": [
    {
     "data": {
      "text/plain": [
       "(49582, 2)"
      ]
     },
     "execution_count": 10,
     "metadata": {},
     "output_type": "execute_result"
    }
   ],
   "source": [
    "DF.shape"
   ]
  },
  {
   "cell_type": "code",
   "execution_count": 11,
   "id": "ad4f13a5",
   "metadata": {
    "scrolled": true
   },
   "outputs": [
    {
     "data": {
      "text/html": [
       "<div>\n",
       "<style scoped>\n",
       "    .dataframe tbody tr th:only-of-type {\n",
       "        vertical-align: middle;\n",
       "    }\n",
       "\n",
       "    .dataframe tbody tr th {\n",
       "        vertical-align: top;\n",
       "    }\n",
       "\n",
       "    .dataframe thead th {\n",
       "        text-align: right;\n",
       "    }\n",
       "</style>\n",
       "<table border=\"1\" class=\"dataframe\">\n",
       "  <thead>\n",
       "    <tr style=\"text-align: right;\">\n",
       "      <th></th>\n",
       "      <th>text</th>\n",
       "      <th>target</th>\n",
       "    </tr>\n",
       "  </thead>\n",
       "  <tbody>\n",
       "    <tr>\n",
       "      <th>0</th>\n",
       "      <td>One of the other reviewers has mentioned that ...</td>\n",
       "      <td>1</td>\n",
       "    </tr>\n",
       "    <tr>\n",
       "      <th>1</th>\n",
       "      <td>A wonderful little production. The filming tec...</td>\n",
       "      <td>1</td>\n",
       "    </tr>\n",
       "    <tr>\n",
       "      <th>2</th>\n",
       "      <td>I thought this was a wonderful way to spend ti...</td>\n",
       "      <td>1</td>\n",
       "    </tr>\n",
       "    <tr>\n",
       "      <th>3</th>\n",
       "      <td>Basically there's a family where a little boy ...</td>\n",
       "      <td>0</td>\n",
       "    </tr>\n",
       "    <tr>\n",
       "      <th>4</th>\n",
       "      <td>Petter Mattei's \"Love in the Time of Money\" is...</td>\n",
       "      <td>1</td>\n",
       "    </tr>\n",
       "  </tbody>\n",
       "</table>\n",
       "</div>"
      ],
      "text/plain": [
       "                                                text  target\n",
       "0  One of the other reviewers has mentioned that ...       1\n",
       "1  A wonderful little production. The filming tec...       1\n",
       "2  I thought this was a wonderful way to spend ti...       1\n",
       "3  Basically there's a family where a little boy ...       0\n",
       "4  Petter Mattei's \"Love in the Time of Money\" is...       1"
      ]
     },
     "execution_count": 11,
     "metadata": {},
     "output_type": "execute_result"
    }
   ],
   "source": [
    "DF.head()"
   ]
  },
  {
   "cell_type": "code",
   "execution_count": 12,
   "id": "ff759aea",
   "metadata": {},
   "outputs": [],
   "source": [
    "max_len = DF['text'].str.split(' ').str.len().max() "
   ]
  },
  {
   "cell_type": "code",
   "execution_count": 13,
   "id": "f472a7b6",
   "metadata": {},
   "outputs": [],
   "source": [
    "X_train,X_test,Y_train,Y_test = train_test_split(DF.iloc[:,:-1],DF['target'],test_size=.3)"
   ]
  },
  {
   "cell_type": "code",
   "execution_count": 14,
   "id": "bdf9f139",
   "metadata": {},
   "outputs": [],
   "source": [
    "tokenizer = Tokenizer()\n",
    "tokenizer.fit_on_texts(X_train['text'])"
   ]
  },
  {
   "cell_type": "code",
   "execution_count": 15,
   "id": "82c7a071",
   "metadata": {},
   "outputs": [],
   "source": [
    "vocab_len = len(tokenizer.word_index) + 1 "
   ]
  },
  {
   "cell_type": "code",
   "execution_count": 16,
   "id": "910999b3",
   "metadata": {},
   "outputs": [],
   "source": [
    "X_train = tokenizer.texts_to_sequences(X_train['text'])\n",
    "X_train = pad_sequences(X_train,maxlen=max_len,padding='post')"
   ]
  },
  {
   "cell_type": "code",
   "execution_count": 17,
   "id": "783f9c8e",
   "metadata": {},
   "outputs": [],
   "source": [
    "X_test = tokenizer.texts_to_sequences(X_test['text'])\n",
    "X_test = pad_sequences(X_test,maxlen=max_len,padding='post')"
   ]
  },
  {
   "cell_type": "code",
   "execution_count": 18,
   "id": "a60be821",
   "metadata": {},
   "outputs": [
    {
     "data": {
      "text/plain": [
       "array([[   13,     3,   331, ...,     0,     0,     0],\n",
       "       [    7,   440,  7336, ...,     0,     0,     0],\n",
       "       [    9,   274,    10, ...,     0,     0,     0],\n",
       "       ...,\n",
       "       [ 4473, 11631,     6, ...,     0,     0,     0],\n",
       "       [ 2997,  2997,  2997, ...,     0,     0,     0],\n",
       "       [ 1941,     3,   182, ...,     0,     0,     0]], dtype=int32)"
      ]
     },
     "execution_count": 18,
     "metadata": {},
     "output_type": "execute_result"
    }
   ],
   "source": [
    "X_train"
   ]
  },
  {
   "cell_type": "code",
   "execution_count": 23,
   "id": "c15f588d",
   "metadata": {},
   "outputs": [],
   "source": [
    "model = Sequential([\n",
    "    Embedding(input_dim=vocab_len,output_dim=400,input_shape=(max_len,)),\n",
    "    Conv1D(filters=64, kernel_size=32, activation='relu'),\n",
    "    Dropout(.4),\n",
    "    MaxPool1D(pool_size=20),\n",
    "    Flatten(),\n",
    "    Dense(100,activation='relu'),\n",
    "    Dense(1,activation='sigmoid')\n",
    "])\n",
    "model.compile(\n",
    "    loss='binary_crossentropy',\n",
    "    optimizer = Adam(.001),\n",
    "    metrics=['accuracy']\n",
    ")"
   ]
  },
  {
   "cell_type": "code",
   "execution_count": 21,
   "id": "d4edb639",
   "metadata": {},
   "outputs": [
    {
     "name": "stdout",
     "output_type": "stream",
     "text": [
      "Epoch 1/10\n"
     ]
    },
    {
     "name": "stderr",
     "output_type": "stream",
     "text": [
      "2023-03-09 20:51:01.868663: I tensorflow/compiler/xla/stream_executor/cuda/cuda_dnn.cc:428] Loaded cuDNN version 8100\n",
      "2023-03-09 20:51:03.022775: I tensorflow/tsl/platform/default/subprocess.cc:304] Start cannot spawn child process: No such file or directory\n",
      "2023-03-09 20:51:03.023286: I tensorflow/tsl/platform/default/subprocess.cc:304] Start cannot spawn child process: No such file or directory\n",
      "2023-03-09 20:51:03.023300: W tensorflow/compiler/xla/stream_executor/gpu/asm_compiler.cc:85] Couldn't get ptxas version string: INTERNAL: Couldn't invoke ptxas --version\n",
      "2023-03-09 20:51:03.023835: I tensorflow/tsl/platform/default/subprocess.cc:304] Start cannot spawn child process: No such file or directory\n",
      "2023-03-09 20:51:03.023877: W tensorflow/compiler/xla/stream_executor/gpu/redzone_allocator.cc:318] INTERNAL: Failed to launch ptxas\n",
      "Relying on driver to perform ptx compilation. \n",
      "Modify $PATH to customize ptxas location.\n",
      "This message will be only logged once.\n",
      "2023-03-09 20:51:04.093272: I tensorflow/compiler/xla/stream_executor/cuda/cuda_blas.cc:630] TensorFloat-32 will be used for the matrix multiplication. This will only be logged once.\n"
     ]
    },
    {
     "name": "stdout",
     "output_type": "stream",
     "text": [
      "1736/1736 [==============================] - 87s 48ms/step - loss: 0.3174 - accuracy: 0.8558 - val_loss: 0.2711 - val_accuracy: 0.9005\n",
      "Epoch 2/10\n",
      "1736/1736 [==============================] - 82s 47ms/step - loss: 0.1162 - accuracy: 0.9574 - val_loss: 0.2580 - val_accuracy: 0.8974\n",
      "Epoch 3/10\n",
      "1736/1736 [==============================] - 83s 48ms/step - loss: 0.0471 - accuracy: 0.9842 - val_loss: 0.3359 - val_accuracy: 0.8887\n",
      "Epoch 4/10\n",
      "1736/1736 [==============================] - 83s 48ms/step - loss: 0.0321 - accuracy: 0.9892 - val_loss: 0.3861 - val_accuracy: 0.8897\n",
      "Epoch 5/10\n",
      "1736/1736 [==============================] - 83s 48ms/step - loss: 0.0201 - accuracy: 0.9933 - val_loss: 0.4609 - val_accuracy: 0.8932\n",
      "Epoch 6/10\n",
      "1736/1736 [==============================] - 83s 48ms/step - loss: 0.0166 - accuracy: 0.9949 - val_loss: 0.4855 - val_accuracy: 0.8846\n",
      "Epoch 7/10\n",
      "1736/1736 [==============================] - 83s 48ms/step - loss: 0.0170 - accuracy: 0.9942 - val_loss: 0.5099 - val_accuracy: 0.8900\n",
      "Epoch 8/10\n",
      "1736/1736 [==============================] - 83s 48ms/step - loss: 0.0108 - accuracy: 0.9962 - val_loss: 0.5087 - val_accuracy: 0.8913\n",
      "Epoch 9/10\n",
      "1736/1736 [==============================] - 83s 48ms/step - loss: 0.0119 - accuracy: 0.9962 - val_loss: 0.7300 - val_accuracy: 0.8921\n",
      "Epoch 10/10\n",
      "1736/1736 [==============================] - 83s 48ms/step - loss: 0.0102 - accuracy: 0.9969 - val_loss: 0.6916 - val_accuracy: 0.8872\n"
     ]
    }
   ],
   "source": [
    "history = model.fit(X_train,Y_train,epochs=10, batch_size=20,validation_data=(X_test,Y_test))"
   ]
  },
  {
   "cell_type": "code",
   "execution_count": 22,
   "id": "05fabc91",
   "metadata": {},
   "outputs": [
    {
     "data": {
      "text/plain": [
       "[<matplotlib.lines.Line2D at 0x7fd551b26310>]"
      ]
     },
     "execution_count": 22,
     "metadata": {},
     "output_type": "execute_result"
    },
    {
     "data": {
      "image/png": "[encoded data removed]",
      "text/plain": [
       "<Figure size 640x480 with 1 Axes>"
      ]
     },
     "metadata": {},
     "output_type": "display_data"
    }
   ],
   "source": [
    "PLT.plot(history.history['accuracy'], color='green', label='train data')\n",
    "PLT.plot(history.history['val_accuracy'], color='red', label='test data')"
   ]
  },
  {
   "cell_type": "markdown",
   "id": "06029899",
   "metadata": {},
   "source": [
    "## Multi Channel"
   ]
  },
  {
   "cell_type": "code",
   "execution_count": 20,
   "id": "a0f29287",
   "metadata": {},
   "outputs": [],
   "source": [
    "input1 = Input(shape=(max_len,))\n",
    "embeding1 = Embedding(vocab_len,500)(input1)\n",
    "conv1 = Conv1D(filters=32, kernel_size=4, activation='relu')(embeding1)\n",
    "# dropout1 = Dropout(.5)(conv1)\n",
    "maxpool1 = MaxPool1D(pool_size=2)(conv1)\n",
    "flat1 = Flatten()(maxpool1)\n",
    "\n",
    "input2 = Input(shape=(max_len,))\n",
    "embeding2 = Embedding(vocab_len,500)(input2)\n",
    "conv2 = Conv1D(filters=32, kernel_size=6, activation='relu')(embeding2)\n",
    "# dropout2 = Dropout(.5)(conv2)\n",
    "maxpool2 = MaxPool1D(pool_size=2)(conv2)\n",
    "flat2 = Flatten()(maxpool2)\n",
    "\n",
    "input3 = Input(shape=(max_len,))\n",
    "embeding3 = Embedding(vocab_len,500)(input3)\n",
    "conv3 = Conv1D(filters=32, kernel_size=8, activation='relu')(embeding3)\n",
    "# dropout3 = Dropout(.5)(conv3)\n",
    "maxpool3 = MaxPool1D(pool_size=2)(conv3)\n",
    "flat3 = Flatten()(maxpool3)\n",
    "\n",
    "flatX = concatenate([flat1,flat2,flat3])\n",
    "dense1 = Dense(100,activation='relu')(flatX)\n",
    "dense2 = Dense(10,activation='relu')(dense1)\n",
    "output = Dense(1,activation='sigmoid')(dense2)"
   ]
  },
  {
   "cell_type": "code",
   "execution_count": 21,
   "id": "f924fadc",
   "metadata": {},
   "outputs": [],
   "source": [
    "model = Model(inputs=[input1,input2,input3],outputs=output)\n",
    "model.compile(\n",
    "    loss='binary_crossentropy',\n",
    "    optimizer = Adam(),\n",
    "    metrics=['accuracy']\n",
    ")"
   ]
  },
  {
   "cell_type": "code",
   "execution_count": 125,
   "id": "ef5a2d0a",
   "metadata": {},
   "outputs": [
    {
     "name": "stdout",
     "output_type": "stream",
     "text": [
      "You must install pydot (`pip install pydot`) and install graphviz (see instructions at https://graphviz.gitlab.io/download/) for plot_model to work.\n"
     ]
    }
   ],
   "source": [
    "plot_model(model,show_layer_names=False,show_layer_activations=True)"
   ]
  },
  {
   "cell_type": "code",
   "execution_count": 23,
   "id": "5ebca5ee",
   "metadata": {},
   "outputs": [
    {
     "name": "stdout",
     "output_type": "stream",
     "text": [
      "Epoch 1/5\n",
      "70/70 [==============================] - 3s 41ms/step - loss: 0.2921 - accuracy: 0.8536 - val_loss: 0.0267 - val_accuracy: 0.9900\n",
      "Epoch 2/5\n",
      "70/70 [==============================] - 3s 39ms/step - loss: 0.0110 - accuracy: 0.9971 - val_loss: 0.0273 - val_accuracy: 0.9867\n",
      "Epoch 3/5\n",
      "70/70 [==============================] - 3s 39ms/step - loss: 0.0013 - accuracy: 0.9993 - val_loss: 0.0140 - val_accuracy: 0.9917\n",
      "Epoch 4/5\n",
      "70/70 [==============================] - 3s 39ms/step - loss: 2.7489e-04 - accuracy: 1.0000 - val_loss: 0.0167 - val_accuracy: 0.9917\n",
      "Epoch 5/5\n",
      "70/70 [==============================] - 3s 40ms/step - loss: 1.5077e-04 - accuracy: 1.0000 - val_loss: 0.0163 - val_accuracy: 0.9917\n"
     ]
    }
   ],
   "source": [
    "history = model.fit(\n",
    "    [X_train,X_train,X_train],\n",
    "    Y_train,\n",
    "    epochs=5,\n",
    "    batch_size=20,\n",
    "    validation_data=([X_test,X_test,X_test],Y_test)\n",
    ")"
   ]
  },
  {
   "cell_type": "code",
   "execution_count": 24,
   "id": "ff6e5cab",
   "metadata": {},
   "outputs": [],
   "source": [
    "model.save('../../../datasets/models/movie_polarity_detection.h5')"
   ]
  },
  {
   "cell_type": "code",
   "execution_count": 33,
   "id": "6cccdf6d",
   "metadata": {},
   "outputs": [
    {
     "data": {
      "text/plain": [
       "[<matplotlib.lines.Line2D at 0x7f265c2ed070>]"
      ]
     },
     "execution_count": 33,
     "metadata": {},
     "output_type": "execute_result"
    },
    {
     "data": {
      "image/png": "[encoded data removed]",
      "text/plain": [
       "<Figure size 640x480 with 1 Axes>"
      ]
     },
     "metadata": {},
     "output_type": "display_data"
    }
   ],
   "source": [
    "PLT.plot(history.history['accuracy'], color='green', label='train data')\n",
    "PLT.plot(history.history['val_accuracy'], color='red', label='test data')"
   ]
  }
 ],
 "metadata": {
  "kernelspec": {
   "display_name": "Python 3 (ipykernel)",
   "language": "python",
   "name": "python3"
  },
  "language_info": {
   "codemirror_mode": {
    "name": "ipython",
    "version": 3
   },
   "file_extension": ".py",
   "mimetype": "text/x-python",
   "name": "python",
   "nbconvert_exporter": "python",
   "pygments_lexer": "ipython3",
   "version": "3.9.13"
  }
 },
 "nbformat": 4,
 "nbformat_minor": 5
}
