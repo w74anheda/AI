{
 "cells": [
  {
   "cell_type": "markdown",
   "id": "d7ffa77f",
   "metadata": {},
   "source": [
    "# relu: <small>activation function</small>\n",
    "<img src='../../img/relu.webp' width=\"400px\">\n",
    "\n",
    "# softmax: <small>activation function, for multi label is good</small>\n",
    "<img src='../../img/softmax.jpg' width=\"400px\">\n",
    "\n"
   ]
  },
  {
   "cell_type": "code",
   "execution_count": 1,
   "id": "eaace6ab",
   "metadata": {
    "scrolled": true
   },
   "outputs": [
    {
     "name": "stderr",
     "output_type": "stream",
     "text": [
      "2022-11-24 14:07:15.831763: I tensorflow/core/platform/cpu_feature_guard.cc:193] This TensorFlow binary is optimized with oneAPI Deep Neural Network Library (oneDNN) to use the following CPU instructions in performance-critical operations:  SSE4.1 SSE4.2 AVX\n",
      "To enable them in other operations, rebuild TensorFlow with the appropriate compiler flags.\n"
     ]
    }
   ],
   "source": [
    "import numpy as np\n",
    "import pandas as pd\n",
    "import tensorflow as tf\n",
    "import tensorflow_datasets as tfds"
   ]
  },
  {
   "cell_type": "code",
   "execution_count": 14,
   "id": "d3064650",
   "metadata": {},
   "outputs": [],
   "source": [
    "(train, test), info = tfds.load('mnist',split=['train','test'], as_supervised=True, with_info=True)"
   ]
  },
  {
   "cell_type": "code",
   "execution_count": 15,
   "id": "95230352",
   "metadata": {},
   "outputs": [],
   "source": [
    "def max_normalization(image,label):\n",
    "    return tf.cast(image,tf.float32)/256, label\n",
    "train = train.map(max_normalization)\n",
    "test = test.map(max_normalization)"
   ]
  },
  {
   "cell_type": "code",
   "execution_count": 16,
   "id": "d9e07068",
   "metadata": {},
   "outputs": [],
   "source": [
    "train = train.cache().shuffle(info.splits['train'].num_examples).batch(256)\n",
    "train = train.prefetch(tf.data.experimental.AUTOTUNE)\n",
    "test = test.cache().shuffle(info.splits['test'].num_examples).batch(256)\n",
    "test = test.prefetch(tf.data.experimental.AUTOTUNE)"
   ]
  },
  {
   "cell_type": "code",
   "execution_count": 23,
   "id": "667a2a2d",
   "metadata": {},
   "outputs": [],
   "source": [
    "# relu ==> less than zero = zero, more than zero khoedsh\n",
    "model = tf.keras.models.Sequential([\n",
    "    tf.keras.layers.Flatten(input_shape=(28,28)),\n",
    "    tf.keras.layers.Dense(100, activation='relu'),\n",
    "    tf.keras.layers.Dense(10,activation='softmax')\n",
    "])\n",
    "model.compile(\n",
    "    optimizer=tf.keras.optimizers.Adam(0.001),\n",
    "    loss=tf.keras.losses.SparseCategoricalCrossentropy(from_logits=True),\n",
    "    metrics=[tf.keras.metrics.SparseCategoricalAccuracy()]\n",
    ")"
   ]
  },
  {
   "cell_type": "code",
   "execution_count": 26,
   "id": "8818ebe0",
   "metadata": {},
   "outputs": [
    {
     "name": "stdout",
     "output_type": "stream",
     "text": [
      "Epoch 1/50\n",
      "235/235 [==============================] - 4s 17ms/step - loss: 0.0671 - sparse_categorical_accuracy: 0.9823 - val_loss: 0.0934 - val_sparse_categorical_accuracy: 0.9719\n",
      "Epoch 2/50\n",
      "235/235 [==============================] - 5s 19ms/step - loss: 0.0660 - sparse_categorical_accuracy: 0.9827 - val_loss: 0.0931 - val_sparse_categorical_accuracy: 0.9727\n",
      "Epoch 3/50\n",
      "235/235 [==============================] - 4s 18ms/step - loss: 0.0648 - sparse_categorical_accuracy: 0.9827 - val_loss: 0.0924 - val_sparse_categorical_accuracy: 0.9725\n",
      "Epoch 4/50\n",
      "235/235 [==============================] - 4s 18ms/step - loss: 0.0637 - sparse_categorical_accuracy: 0.9834 - val_loss: 0.0918 - val_sparse_categorical_accuracy: 0.9724\n",
      "Epoch 5/50\n",
      "235/235 [==============================] - 5s 20ms/step - loss: 0.0627 - sparse_categorical_accuracy: 0.9833 - val_loss: 0.0914 - val_sparse_categorical_accuracy: 0.9728\n",
      "Epoch 6/50\n",
      "235/235 [==============================] - 5s 22ms/step - loss: 0.0616 - sparse_categorical_accuracy: 0.9838 - val_loss: 0.0908 - val_sparse_categorical_accuracy: 0.9729\n",
      "Epoch 7/50\n",
      "235/235 [==============================] - 5s 22ms/step - loss: 0.0606 - sparse_categorical_accuracy: 0.9844 - val_loss: 0.0895 - val_sparse_categorical_accuracy: 0.9727\n",
      "Epoch 8/50\n",
      "235/235 [==============================] - 5s 22ms/step - loss: 0.0595 - sparse_categorical_accuracy: 0.9844 - val_loss: 0.0895 - val_sparse_categorical_accuracy: 0.9727\n",
      "Epoch 9/50\n",
      "235/235 [==============================] - 5s 22ms/step - loss: 0.0587 - sparse_categorical_accuracy: 0.9848 - val_loss: 0.0884 - val_sparse_categorical_accuracy: 0.9736\n",
      "Epoch 10/50\n",
      "235/235 [==============================] - 5s 22ms/step - loss: 0.0577 - sparse_categorical_accuracy: 0.9848 - val_loss: 0.0877 - val_sparse_categorical_accuracy: 0.9741\n",
      "Epoch 11/50\n",
      "235/235 [==============================] - 4s 18ms/step - loss: 0.0568 - sparse_categorical_accuracy: 0.9854 - val_loss: 0.0876 - val_sparse_categorical_accuracy: 0.9734\n",
      "Epoch 12/50\n",
      "235/235 [==============================] - 5s 22ms/step - loss: 0.0559 - sparse_categorical_accuracy: 0.9856 - val_loss: 0.0873 - val_sparse_categorical_accuracy: 0.9736\n",
      "Epoch 13/50\n",
      "235/235 [==============================] - 5s 21ms/step - loss: 0.0550 - sparse_categorical_accuracy: 0.9858 - val_loss: 0.0866 - val_sparse_categorical_accuracy: 0.9741\n",
      "Epoch 14/50\n",
      "235/235 [==============================] - 5s 23ms/step - loss: 0.0540 - sparse_categorical_accuracy: 0.9862 - val_loss: 0.0863 - val_sparse_categorical_accuracy: 0.9735\n",
      "Epoch 15/50\n",
      "235/235 [==============================] - 4s 18ms/step - loss: 0.0532 - sparse_categorical_accuracy: 0.9862 - val_loss: 0.0855 - val_sparse_categorical_accuracy: 0.9735\n",
      "Epoch 16/50\n",
      "235/235 [==============================] - 6s 24ms/step - loss: 0.0524 - sparse_categorical_accuracy: 0.9866 - val_loss: 0.0850 - val_sparse_categorical_accuracy: 0.9735\n",
      "Epoch 17/50\n",
      "235/235 [==============================] - 6s 23ms/step - loss: 0.0516 - sparse_categorical_accuracy: 0.9870 - val_loss: 0.0843 - val_sparse_categorical_accuracy: 0.9744\n",
      "Epoch 18/50\n",
      "235/235 [==============================] - 6s 25ms/step - loss: 0.0507 - sparse_categorical_accuracy: 0.9869 - val_loss: 0.0843 - val_sparse_categorical_accuracy: 0.9740\n",
      "Epoch 19/50\n",
      "235/235 [==============================] - 6s 24ms/step - loss: 0.0499 - sparse_categorical_accuracy: 0.9876 - val_loss: 0.0841 - val_sparse_categorical_accuracy: 0.9740\n",
      "Epoch 20/50\n",
      "235/235 [==============================] - 4s 18ms/step - loss: 0.0491 - sparse_categorical_accuracy: 0.9876 - val_loss: 0.0835 - val_sparse_categorical_accuracy: 0.9752\n",
      "Epoch 21/50\n",
      "235/235 [==============================] - 5s 20ms/step - loss: 0.0483 - sparse_categorical_accuracy: 0.9881 - val_loss: 0.0831 - val_sparse_categorical_accuracy: 0.9752\n",
      "Epoch 22/50\n",
      "235/235 [==============================] - 6s 24ms/step - loss: 0.0477 - sparse_categorical_accuracy: 0.9882 - val_loss: 0.0831 - val_sparse_categorical_accuracy: 0.9746\n",
      "Epoch 23/50\n",
      "235/235 [==============================] - 4s 15ms/step - loss: 0.0468 - sparse_categorical_accuracy: 0.9884 - val_loss: 0.0826 - val_sparse_categorical_accuracy: 0.9750\n",
      "Epoch 24/50\n",
      "235/235 [==============================] - 3s 14ms/step - loss: 0.0462 - sparse_categorical_accuracy: 0.9884 - val_loss: 0.0829 - val_sparse_categorical_accuracy: 0.9744\n",
      "Epoch 25/50\n",
      "235/235 [==============================] - 4s 16ms/step - loss: 0.0455 - sparse_categorical_accuracy: 0.9888 - val_loss: 0.0822 - val_sparse_categorical_accuracy: 0.9748\n",
      "Epoch 26/50\n",
      "235/235 [==============================] - 3s 14ms/step - loss: 0.0448 - sparse_categorical_accuracy: 0.9892 - val_loss: 0.0814 - val_sparse_categorical_accuracy: 0.9749\n",
      "Epoch 27/50\n",
      "235/235 [==============================] - 5s 21ms/step - loss: 0.0441 - sparse_categorical_accuracy: 0.9893 - val_loss: 0.0816 - val_sparse_categorical_accuracy: 0.9752\n",
      "Epoch 28/50\n",
      "235/235 [==============================] - 5s 20ms/step - loss: 0.0434 - sparse_categorical_accuracy: 0.9895 - val_loss: 0.0810 - val_sparse_categorical_accuracy: 0.9758\n",
      "Epoch 29/50\n",
      "235/235 [==============================] - 4s 18ms/step - loss: 0.0428 - sparse_categorical_accuracy: 0.9898 - val_loss: 0.0809 - val_sparse_categorical_accuracy: 0.9748\n",
      "Epoch 30/50\n",
      "235/235 [==============================] - 5s 20ms/step - loss: 0.0421 - sparse_categorical_accuracy: 0.9897 - val_loss: 0.0811 - val_sparse_categorical_accuracy: 0.9751\n",
      "Epoch 31/50\n",
      "235/235 [==============================] - 5s 23ms/step - loss: 0.0415 - sparse_categorical_accuracy: 0.9898 - val_loss: 0.0798 - val_sparse_categorical_accuracy: 0.9753\n",
      "Epoch 32/50\n",
      "235/235 [==============================] - 3s 14ms/step - loss: 0.0408 - sparse_categorical_accuracy: 0.9899 - val_loss: 0.0810 - val_sparse_categorical_accuracy: 0.9756\n",
      "Epoch 33/50\n",
      "235/235 [==============================] - 4s 18ms/step - loss: 0.0401 - sparse_categorical_accuracy: 0.9903 - val_loss: 0.0797 - val_sparse_categorical_accuracy: 0.9754\n",
      "Epoch 34/50\n",
      "235/235 [==============================] - 4s 18ms/step - loss: 0.0396 - sparse_categorical_accuracy: 0.9906 - val_loss: 0.0795 - val_sparse_categorical_accuracy: 0.9755\n",
      "Epoch 35/50\n",
      "235/235 [==============================] - 4s 18ms/step - loss: 0.0390 - sparse_categorical_accuracy: 0.9907 - val_loss: 0.0788 - val_sparse_categorical_accuracy: 0.9761\n",
      "Epoch 36/50\n",
      "235/235 [==============================] - 6s 26ms/step - loss: 0.0384 - sparse_categorical_accuracy: 0.9909 - val_loss: 0.0789 - val_sparse_categorical_accuracy: 0.9759\n",
      "Epoch 37/50\n",
      "235/235 [==============================] - 7s 27ms/step - loss: 0.0378 - sparse_categorical_accuracy: 0.9911 - val_loss: 0.0787 - val_sparse_categorical_accuracy: 0.9761\n",
      "Epoch 38/50\n",
      "235/235 [==============================] - 8s 31ms/step - loss: 0.0372 - sparse_categorical_accuracy: 0.9912 - val_loss: 0.0786 - val_sparse_categorical_accuracy: 0.9757\n",
      "Epoch 39/50\n",
      "235/235 [==============================] - 7s 27ms/step - loss: 0.0367 - sparse_categorical_accuracy: 0.9913 - val_loss: 0.0787 - val_sparse_categorical_accuracy: 0.9758\n",
      "Epoch 40/50\n",
      "235/235 [==============================] - 7s 28ms/step - loss: 0.0361 - sparse_categorical_accuracy: 0.9915 - val_loss: 0.0779 - val_sparse_categorical_accuracy: 0.9765\n",
      "Epoch 41/50\n",
      "235/235 [==============================] - 7s 28ms/step - loss: 0.0356 - sparse_categorical_accuracy: 0.9916 - val_loss: 0.0791 - val_sparse_categorical_accuracy: 0.9754\n",
      "Epoch 42/50\n",
      "235/235 [==============================] - 7s 30ms/step - loss: 0.0350 - sparse_categorical_accuracy: 0.9920 - val_loss: 0.0776 - val_sparse_categorical_accuracy: 0.9761\n",
      "Epoch 43/50\n",
      "235/235 [==============================] - 6s 26ms/step - loss: 0.0345 - sparse_categorical_accuracy: 0.9923 - val_loss: 0.0775 - val_sparse_categorical_accuracy: 0.9764\n",
      "Epoch 44/50\n",
      "235/235 [==============================] - 6s 26ms/step - loss: 0.0339 - sparse_categorical_accuracy: 0.9925 - val_loss: 0.0775 - val_sparse_categorical_accuracy: 0.9756\n",
      "Epoch 45/50\n",
      "235/235 [==============================] - 4s 16ms/step - loss: 0.0335 - sparse_categorical_accuracy: 0.9925 - val_loss: 0.0780 - val_sparse_categorical_accuracy: 0.9758\n",
      "Epoch 46/50\n"
     ]
    },
    {
     "name": "stdout",
     "output_type": "stream",
     "text": [
      "235/235 [==============================] - 4s 16ms/step - loss: 0.0330 - sparse_categorical_accuracy: 0.9926 - val_loss: 0.0768 - val_sparse_categorical_accuracy: 0.9763\n",
      "Epoch 47/50\n",
      "235/235 [==============================] - 4s 16ms/step - loss: 0.0324 - sparse_categorical_accuracy: 0.9929 - val_loss: 0.0771 - val_sparse_categorical_accuracy: 0.9764\n",
      "Epoch 48/50\n",
      "235/235 [==============================] - 5s 19ms/step - loss: 0.0320 - sparse_categorical_accuracy: 0.9930 - val_loss: 0.0781 - val_sparse_categorical_accuracy: 0.9755\n",
      "Epoch 49/50\n",
      "235/235 [==============================] - 5s 19ms/step - loss: 0.0316 - sparse_categorical_accuracy: 0.9932 - val_loss: 0.0766 - val_sparse_categorical_accuracy: 0.9766\n",
      "Epoch 50/50\n",
      "235/235 [==============================] - 5s 18ms/step - loss: 0.0311 - sparse_categorical_accuracy: 0.9932 - val_loss: 0.0764 - val_sparse_categorical_accuracy: 0.9765\n"
     ]
    },
    {
     "data": {
      "text/plain": [
       "<keras.callbacks.History at 0x7f666ded41f0>"
      ]
     },
     "execution_count": 26,
     "metadata": {},
     "output_type": "execute_result"
    }
   ],
   "source": [
    "model.fit(train, epochs=10, validation_data=test)"
   ]
  },
  {
   "cell_type": "code",
   "execution_count": 37,
   "id": "eea4e5e1",
   "metadata": {},
   "outputs": [
    {
     "name": "stdout",
     "output_type": "stream",
     "text": [
      "40/40 [==============================] - 0s 10ms/step\n"
     ]
    },
    {
     "data": {
      "text/plain": [
       "3"
      ]
     },
     "execution_count": 37,
     "metadata": {},
     "output_type": "execute_result"
    }
   ],
   "source": [
    "np.argmax(\n",
    "    model.predict(test)[0]\n",
    ")"
   ]
  },
  {
   "cell_type": "code",
   "execution_count": null,
   "id": "fd8710a1",
   "metadata": {},
   "outputs": [],
   "source": []
  },
  {
   "cell_type": "code",
   "execution_count": null,
   "id": "bb219235",
   "metadata": {},
   "outputs": [],
   "source": []
  },
  {
   "cell_type": "code",
   "execution_count": null,
   "id": "11ca9941",
   "metadata": {},
   "outputs": [],
   "source": []
  },
  {
   "cell_type": "code",
   "execution_count": null,
   "id": "3faa8d2f",
   "metadata": {},
   "outputs": [],
   "source": []
  },
  {
   "cell_type": "code",
   "execution_count": null,
   "id": "88e1a3a4",
   "metadata": {},
   "outputs": [],
   "source": []
  },
  {
   "cell_type": "code",
   "execution_count": null,
   "id": "319f4552",
   "metadata": {},
   "outputs": [],
   "source": []
  },
  {
   "cell_type": "code",
   "execution_count": null,
   "id": "6fb0dadc",
   "metadata": {},
   "outputs": [],
   "source": []
  },
  {
   "cell_type": "code",
   "execution_count": null,
   "id": "577bca2c",
   "metadata": {},
   "outputs": [],
   "source": []
  },
  {
   "cell_type": "code",
   "execution_count": null,
   "id": "c709653e",
   "metadata": {},
   "outputs": [],
   "source": []
  },
  {
   "cell_type": "code",
   "execution_count": null,
   "id": "d309d308",
   "metadata": {},
   "outputs": [],
   "source": []
  },
  {
   "cell_type": "code",
   "execution_count": null,
   "id": "f2d2ed42",
   "metadata": {},
   "outputs": [],
   "source": []
  }
 ],
 "metadata": {
  "kernelspec": {
   "display_name": "Python 3 (ipykernel)",
   "language": "python",
   "name": "python3"
  },
  "language_info": {
   "codemirror_mode": {
    "name": "ipython",
    "version": 3
   },
   "file_extension": ".py",
   "mimetype": "text/x-python",
   "name": "python",
   "nbconvert_exporter": "python",
   "pygments_lexer": "ipython3",
   "version": "3.9.12"
  }
 },
 "nbformat": 4,
 "nbformat_minor": 5
}
