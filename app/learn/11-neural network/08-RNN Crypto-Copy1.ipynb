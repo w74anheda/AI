{
 "cells": [
  {
   "cell_type": "code",
   "execution_count": 75,
   "id": "eaace6ab",
   "metadata": {
    "scrolled": false
   },
   "outputs": [],
   "source": [
    "import numpy as np\n",
    "import pandas as pd\n",
    "import random\n",
    "import matplotlib.pyplot as PLT\n",
    "from tensorflow.keras.models import Sequential\n",
    "from tensorflow.keras.layers import Dense,SimpleRNN,Dropout,LSTM,GRU,BatchNormalization,Activation\n",
    "from sklearn.model_selection import train_test_split\n",
    "from sklearn.model_selection import train_test_split\n",
    "from sklearn import metrics\n",
    "from collections import deque\n",
    "from sklearn import preprocessing\n",
    "import datetime as dt\n",
    "import pandas_datareader as web \n",
    "import requests\n",
    "from cryptocmd import CmcScraper\n",
    "from tensorflow.keras.callbacks import ModelCheckpoint,EarlyStopping"
   ]
  },
  {
   "cell_type": "code",
   "execution_count": null,
   "id": "13bb5eb6",
   "metadata": {},
   "outputs": [],
   "source": [
    "# DF = pd.read_csv('../../../datasets/foolad.csv')\n",
    "# DF = DF.sort_values(by='<DTYYYYMMDD>').reset_index(drop=True)\n",
    "# DF['<DTYYYYMMDD>'] = DF['<DTYYYYMMDD>'].apply(lambda date: ''.join([ f'{v}-' if i in [3,5] else v for (i,v) in enumerate(str(date)) ]))\n",
    "# DF['<DTYYYYMMDD>'] = pd.to_datetime(DF['<DTYYYYMMDD>'])\n",
    "# DF.rename(columns={\n",
    "#     '<DTYYYYMMDD>' : 'Date',\n",
    "#     '<FIRST>':'Open',\n",
    "#     '<HIGH>':'High',\n",
    "#     '<LOW>':'Low',\n",
    "#     '<CLOSE>':'Close',\n",
    "#     '<VALUE>':'Volume',\n",
    "# },inplace=True)\n",
    "# DF.set_index('Date',inplace=True)\n",
    "# DF = DF[['Open','High','Low','Close','Volume']]\n",
    "# DF.head()"
   ]
  },
  {
   "cell_type": "code",
   "execution_count": 29,
   "id": "c5cbd88f",
   "metadata": {},
   "outputs": [],
   "source": [
    "# start = dt.datetime(2018,1,1)\n",
    "# end = dt.datetime.now()\n",
    "# DOGE = web.DataReader('DOGE-USD', 'yahoo', start, end)\n",
    "\n",
    "\n",
    "# DOGE = DOGE.reset_index()\n",
    "# DOGE['Date'] = pd.to_datetime(DOGE['Date'])\n",
    "# DOGE = DOGE.rename(columns={'Date':'Date'})\n",
    "# DOGE.drop(columns=['Adj Close'],inplace=True)\n",
    "# DOGE.set_index('Date',inplace=True)"
   ]
  },
  {
   "cell_type": "code",
   "execution_count": 237,
   "id": "a5addf9c",
   "metadata": {},
   "outputs": [],
   "source": [
    "SYMBOL = 'DOGE'\n",
    "start = dt.datetime(2018,1,1)\n",
    "end = dt.datetime.now()\n",
    "scraper = CmcScraper(SYMBOL,'01-01-2018','19-12-2022')\n",
    "DF = scraper.get_dataframe()"
   ]
  },
  {
   "cell_type": "code",
   "execution_count": 238,
   "id": "373abaa6",
   "metadata": {},
   "outputs": [
    {
     "data": {
      "text/html": [
       "<div>\n",
       "<style scoped>\n",
       "    .dataframe tbody tr th:only-of-type {\n",
       "        vertical-align: middle;\n",
       "    }\n",
       "\n",
       "    .dataframe tbody tr th {\n",
       "        vertical-align: top;\n",
       "    }\n",
       "\n",
       "    .dataframe thead th {\n",
       "        text-align: right;\n",
       "    }\n",
       "</style>\n",
       "<table border=\"1\" class=\"dataframe\">\n",
       "  <thead>\n",
       "    <tr style=\"text-align: right;\">\n",
       "      <th></th>\n",
       "      <th>Open</th>\n",
       "      <th>High</th>\n",
       "      <th>Low</th>\n",
       "      <th>Close</th>\n",
       "      <th>Volume</th>\n",
       "      <th>Market Cap</th>\n",
       "    </tr>\n",
       "    <tr>\n",
       "      <th>Date</th>\n",
       "      <th></th>\n",
       "      <th></th>\n",
       "      <th></th>\n",
       "      <th></th>\n",
       "      <th></th>\n",
       "      <th></th>\n",
       "    </tr>\n",
       "  </thead>\n",
       "  <tbody>\n",
       "    <tr>\n",
       "      <th>2018-01-01</th>\n",
       "      <td>0.009031</td>\n",
       "      <td>0.009063</td>\n",
       "      <td>0.008101</td>\n",
       "      <td>0.008909</td>\n",
       "      <td>50616900.0</td>\n",
       "      <td>1.003050e+09</td>\n",
       "    </tr>\n",
       "    <tr>\n",
       "      <th>2018-01-02</th>\n",
       "      <td>0.008873</td>\n",
       "      <td>0.009598</td>\n",
       "      <td>0.008551</td>\n",
       "      <td>0.009145</td>\n",
       "      <td>89424096.0</td>\n",
       "      <td>1.029797e+09</td>\n",
       "    </tr>\n",
       "    <tr>\n",
       "      <th>2018-01-03</th>\n",
       "      <td>0.009088</td>\n",
       "      <td>0.009584</td>\n",
       "      <td>0.008882</td>\n",
       "      <td>0.009320</td>\n",
       "      <td>66349900.0</td>\n",
       "      <td>1.049588e+09</td>\n",
       "    </tr>\n",
       "    <tr>\n",
       "      <th>2018-01-04</th>\n",
       "      <td>0.009346</td>\n",
       "      <td>0.010036</td>\n",
       "      <td>0.008768</td>\n",
       "      <td>0.009644</td>\n",
       "      <td>108986000.0</td>\n",
       "      <td>1.086239e+09</td>\n",
       "    </tr>\n",
       "    <tr>\n",
       "      <th>2018-01-05</th>\n",
       "      <td>0.009660</td>\n",
       "      <td>0.012283</td>\n",
       "      <td>0.009589</td>\n",
       "      <td>0.012167</td>\n",
       "      <td>212383008.0</td>\n",
       "      <td>1.370605e+09</td>\n",
       "    </tr>\n",
       "  </tbody>\n",
       "</table>\n",
       "</div>"
      ],
      "text/plain": [
       "                Open      High       Low     Close       Volume    Market Cap\n",
       "Date                                                                         \n",
       "2018-01-01  0.009031  0.009063  0.008101  0.008909   50616900.0  1.003050e+09\n",
       "2018-01-02  0.008873  0.009598  0.008551  0.009145   89424096.0  1.029797e+09\n",
       "2018-01-03  0.009088  0.009584  0.008882  0.009320   66349900.0  1.049588e+09\n",
       "2018-01-04  0.009346  0.010036  0.008768  0.009644  108986000.0  1.086239e+09\n",
       "2018-01-05  0.009660  0.012283  0.009589  0.012167  212383008.0  1.370605e+09"
      ]
     },
     "execution_count": 238,
     "metadata": {},
     "output_type": "execute_result"
    }
   ],
   "source": [
    "DF = DF.reset_index(drop=True)\n",
    "DF['Date'] = pd.to_datetime(DF['Date'])\n",
    "# DF.drop(columns=['Market Cap'],inplace=True)\n",
    "DF.set_index('Date',inplace=True)\n",
    "DF= DF.iloc[::-1]\n",
    "DF.head()"
   ]
  },
  {
   "cell_type": "code",
   "execution_count": 239,
   "id": "f916f6d2",
   "metadata": {},
   "outputs": [
    {
     "data": {
      "text/plain": [
       "[<matplotlib.lines.Line2D at 0x7f3334a429d0>]"
      ]
     },
     "execution_count": 239,
     "metadata": {},
     "output_type": "execute_result"
    },
    {
     "data": {
      "image/png": "[encoded data removed]",
      "text/plain": [
       "<Figure size 1500x500 with 1 Axes>"
      ]
     },
     "metadata": {},
     "output_type": "display_data"
    }
   ],
   "source": [
    "DF_train, DF_test = train_test_split(DF,test_size=.3,shuffle=False)\n",
    "PLT.figure(figsize=(15,5))\n",
    "PLT.plot(DF_train['Close'], c='blue',label='train_data')\n",
    "PLT.plot(DF_test['Close'], c='orange',label='test_data')"
   ]
  },
  {
   "cell_type": "code",
   "execution_count": 240,
   "id": "b03d938e",
   "metadata": {},
   "outputs": [],
   "source": [
    "def extract_window_data(DF,window):\n",
    "    window_data = []\n",
    "    for i in range(len(DF)- window):\n",
    "        tmp = DF[i:(i+window)].copy()\n",
    "        window_data.append(tmp.values)\n",
    "    return np.array(window_data)"
   ]
  },
  {
   "cell_type": "code",
   "execution_count": 701,
   "id": "f3f590d5",
   "metadata": {},
   "outputs": [],
   "source": [
    "def prepare_data(DF,TARGET_COL,window):\n",
    "    X = extract_window_data(\n",
    "        DF,\n",
    "        window\n",
    "    )\n",
    "    Y = DF[TARGET_COL][window:].values\n",
    "\n",
    "    return DF, X, Y"
   ]
  },
  {
   "cell_type": "code",
   "execution_count": 799,
   "id": "6e6f37bd",
   "metadata": {},
   "outputs": [],
   "source": [
    "window = 10\n",
    "DF_train, DF_test = train_test_split(DF,test_size=.1,shuffle=False)\n",
    "\n",
    "DF_train = (DF_train/DF_train.std())\n",
    "# DF_train, X_train, Y_train = prepare_data(DF_train,'Close',window)\n",
    "X_train, Y_train = DF_train[DF_train.columns.difference(['Close'])], DF_train['Close']\n",
    "Y_train[Y_train > 1] = 1\n",
    "Y_train[Y_train < 1] = 0\n",
    "\n",
    "DF_test = (DF_test/DF_train.std())\n",
    "# DF_test, X_test, Y_test = prepare_data(DF_test,'Close',window)\n",
    "X_test, Y_test = DF_test_int[DF_test.columns.difference(['Close'])], DF_test_int['Close']\n",
    "\n",
    "Y_test[Y_test > 1] = 1\n",
    "Y_test[Y_test < 1] = 0"
   ]
  },
  {
   "cell_type": "code",
   "execution_count": 801,
   "id": "febbeb73",
   "metadata": {},
   "outputs": [],
   "source": [
    "model = Sequential()\n",
    "model.add( \n",
    "    LSTM(units=32,\n",
    "         input_shape=(X_train.shape[1],1),\n",
    "         activation='relu',\n",
    "        ) \n",
    ") \n",
    "model.add(Dropout(.5))\n",
    "# model.add(Dense(10))\n",
    "# model.add(Dense(10,activation='relu'))\n",
    "model.add(Dense(1,activation='sigmoid'))\n",
    "model.compile(loss='binary_crossentropy',optimizer='Adam',metrics=['accuracy'])\n",
    "\n",
    "model_checkpoint_callback = ModelCheckpoint(\n",
    "    filepath=f'{SYMBOL}_best_model',\n",
    "    monitor='val_accuracy',\n",
    "    mode='max',\n",
    "    save_best_only=True,\n",
    "    save_weights_only=True\n",
    ")\n",
    "\n",
    "early_stopping_callback = EarlyStopping(monitor='val_accuracy',mode='max',patience=50)"
   ]
  },
  {
   "cell_type": "code",
   "execution_count": 802,
   "id": "ac540d80",
   "metadata": {
    "scrolled": true
   },
   "outputs": [
    {
     "name": "stdout",
     "output_type": "stream",
     "text": [
      "Epoch 1/400\n",
      "33/33 [==============================] - 2s 15ms/step - loss: 1.1584 - accuracy: 0.0000e+00 - val_loss: 12520087228438806528.0000 - val_accuracy: 0.5974\n",
      "Epoch 2/400\n",
      "33/33 [==============================] - 0s 7ms/step - loss: 0.5153 - accuracy: 0.0000e+00 - val_loss: 188584504852698103808.0000 - val_accuracy: 0.5974\n",
      "Epoch 3/400\n",
      "33/33 [==============================] - 0s 8ms/step - loss: 0.2452 - accuracy: 0.0000e+00 - val_loss: 111982928324334714880.0000 - val_accuracy: 0.5974\n",
      "Epoch 4/400\n",
      "33/33 [==============================] - 0s 7ms/step - loss: 0.1751 - accuracy: 0.0000e+00 - val_loss: 78954751314129584128.0000 - val_accuracy: 0.5974\n",
      "Epoch 5/400\n",
      "33/33 [==============================] - 0s 8ms/step - loss: 0.1700 - accuracy: 0.0000e+00 - val_loss: 11375064615365902336.0000 - val_accuracy: 0.5974\n",
      "Epoch 6/400\n",
      "33/33 [==============================] - 0s 8ms/step - loss: 0.1372 - accuracy: 0.0000e+00 - val_loss: 6724160666443186176.0000 - val_accuracy: 0.5974\n",
      "Epoch 7/400\n",
      "33/33 [==============================] - 0s 8ms/step - loss: 0.1325 - accuracy: 0.0000e+00 - val_loss: 5266539750767984640.0000 - val_accuracy: 0.5974\n",
      "Epoch 8/400\n",
      "33/33 [==============================] - 0s 7ms/step - loss: 0.1276 - accuracy: 0.0000e+00 - val_loss: 3101158252491046912.0000 - val_accuracy: 0.5974\n",
      "Epoch 9/400\n",
      "33/33 [==============================] - 0s 7ms/step - loss: 0.1216 - accuracy: 0.0000e+00 - val_loss: 3574270134463758336.0000 - val_accuracy: 0.5974\n",
      "Epoch 10/400\n",
      "33/33 [==============================] - 0s 7ms/step - loss: 0.1310 - accuracy: 0.0000e+00 - val_loss: 3759067802523140096.0000 - val_accuracy: 0.5974\n",
      "Epoch 11/400\n",
      "33/33 [==============================] - 0s 7ms/step - loss: 0.1150 - accuracy: 0.0000e+00 - val_loss: 4083545503629836288.0000 - val_accuracy: 0.5974\n",
      "Epoch 12/400\n",
      "33/33 [==============================] - 0s 8ms/step - loss: 0.1105 - accuracy: 0.0000e+00 - val_loss: 4027799439467872256.0000 - val_accuracy: 0.5974\n",
      "Epoch 13/400\n",
      "33/33 [==============================] - 0s 8ms/step - loss: 0.1242 - accuracy: 0.0000e+00 - val_loss: 3875206192108142592.0000 - val_accuracy: 0.5974\n",
      "Epoch 14/400\n",
      "33/33 [==============================] - 0s 7ms/step - loss: 0.1102 - accuracy: 0.0000e+00 - val_loss: 3872431849393356800.0000 - val_accuracy: 0.5974\n",
      "Epoch 15/400\n",
      "33/33 [==============================] - 0s 7ms/step - loss: 0.0999 - accuracy: 0.0000e+00 - val_loss: 5277239648173686784.0000 - val_accuracy: 0.5974\n",
      "Epoch 16/400\n",
      "33/33 [==============================] - 0s 7ms/step - loss: 0.1039 - accuracy: 0.0000e+00 - val_loss: 3394322412194496512.0000 - val_accuracy: 0.5974\n",
      "Epoch 17/400\n",
      "33/33 [==============================] - 0s 7ms/step - loss: 0.0917 - accuracy: 0.0000e+00 - val_loss: 4869494007350165504.0000 - val_accuracy: 0.5974\n",
      "Epoch 18/400\n",
      "33/33 [==============================] - 0s 7ms/step - loss: 0.1037 - accuracy: 0.0000e+00 - val_loss: 17770976530697027584.0000 - val_accuracy: 0.5974\n",
      "Epoch 19/400\n",
      "33/33 [==============================] - 0s 7ms/step - loss: 0.1040 - accuracy: 0.0000e+00 - val_loss: 17660733997338066944.0000 - val_accuracy: 0.5974\n",
      "Epoch 20/400\n",
      "33/33 [==============================] - 0s 7ms/step - loss: 0.1064 - accuracy: 0.0000e+00 - val_loss: 14391822156285607936.0000 - val_accuracy: 0.5974\n",
      "Epoch 21/400\n",
      "33/33 [==============================] - 0s 7ms/step - loss: 0.1045 - accuracy: 0.0000e+00 - val_loss: 13865449656185520128.0000 - val_accuracy: 0.5974\n",
      "Epoch 22/400\n",
      "33/33 [==============================] - 0s 7ms/step - loss: 0.0919 - accuracy: 0.0000e+00 - val_loss: 14239449635885154304.0000 - val_accuracy: 0.5974\n",
      "Epoch 23/400\n",
      "33/33 [==============================] - 0s 7ms/step - loss: 0.0942 - accuracy: 0.0000e+00 - val_loss: 8425938584426512384.0000 - val_accuracy: 0.5974\n",
      "Epoch 24/400\n",
      "33/33 [==============================] - 0s 7ms/step - loss: 0.0949 - accuracy: 0.0000e+00 - val_loss: 5075919618883715072.0000 - val_accuracy: 0.5974\n",
      "Epoch 25/400\n",
      "33/33 [==============================] - 0s 7ms/step - loss: 0.1025 - accuracy: 0.0000e+00 - val_loss: 6812696091490779136.0000 - val_accuracy: 0.5974\n",
      "Epoch 26/400\n",
      "33/33 [==============================] - 0s 7ms/step - loss: 0.0938 - accuracy: 0.0000e+00 - val_loss: 6674155427367747584.0000 - val_accuracy: 0.5974\n",
      "Epoch 27/400\n",
      "33/33 [==============================] - 0s 7ms/step - loss: 0.0897 - accuracy: 0.0000e+00 - val_loss: 6280031086344929280.0000 - val_accuracy: 0.5974\n",
      "Epoch 28/400\n",
      "33/33 [==============================] - 0s 7ms/step - loss: 0.0929 - accuracy: 0.0000e+00 - val_loss: 6795398024806793216.0000 - val_accuracy: 0.5974\n",
      "Epoch 29/400\n",
      "33/33 [==============================] - 0s 7ms/step - loss: 0.0897 - accuracy: 0.0000e+00 - val_loss: 6265637379625713664.0000 - val_accuracy: 0.5974\n",
      "Epoch 30/400\n",
      "33/33 [==============================] - 0s 7ms/step - loss: 0.0768 - accuracy: 0.0000e+00 - val_loss: 6643870479092285440.0000 - val_accuracy: 0.5974\n",
      "Epoch 31/400\n",
      "33/33 [==============================] - 0s 7ms/step - loss: 0.0720 - accuracy: 0.0000e+00 - val_loss: 6492270915366158336.0000 - val_accuracy: 0.5974\n",
      "Epoch 32/400\n",
      "33/33 [==============================] - 0s 7ms/step - loss: 0.0791 - accuracy: 0.0000e+00 - val_loss: 7282763700644085760.0000 - val_accuracy: 0.5974\n",
      "Epoch 33/400\n",
      "33/33 [==============================] - 0s 7ms/step - loss: 0.0745 - accuracy: 0.0000e+00 - val_loss: 6528236490466525184.0000 - val_accuracy: 0.5974\n",
      "Epoch 34/400\n",
      "33/33 [==============================] - 0s 7ms/step - loss: 0.0689 - accuracy: 0.0000e+00 - val_loss: 5405682947263037440.0000 - val_accuracy: 0.5974\n",
      "Epoch 35/400\n",
      "33/33 [==============================] - 0s 7ms/step - loss: 0.0787 - accuracy: 0.0000e+00 - val_loss: 5407065583134965760.0000 - val_accuracy: 0.5974\n",
      "Epoch 36/400\n",
      "33/33 [==============================] - 0s 8ms/step - loss: 0.0832 - accuracy: 0.0000e+00 - val_loss: 6670245014263562240.0000 - val_accuracy: 0.5974\n",
      "Epoch 37/400\n",
      "33/33 [==============================] - 0s 8ms/step - loss: 0.0741 - accuracy: 0.0000e+00 - val_loss: 6676275285786099712.0000 - val_accuracy: 0.5974\n",
      "Epoch 38/400\n",
      "33/33 [==============================] - 0s 7ms/step - loss: 0.0881 - accuracy: 0.0000e+00 - val_loss: 7174080274773311488.0000 - val_accuracy: 0.5974\n",
      "Epoch 39/400\n",
      "33/33 [==============================] - 0s 7ms/step - loss: 0.0721 - accuracy: 0.0000e+00 - val_loss: 6246572947511705600.0000 - val_accuracy: 0.5974\n",
      "Epoch 40/400\n",
      "33/33 [==============================] - 0s 8ms/step - loss: 0.0744 - accuracy: 0.0000e+00 - val_loss: 6627004520478015488.0000 - val_accuracy: 0.5974\n",
      "Epoch 41/400\n",
      "33/33 [==============================] - 0s 8ms/step - loss: 0.0749 - accuracy: 0.0000e+00 - val_loss: 6158786289882628096.0000 - val_accuracy: 0.5974\n",
      "Epoch 42/400\n",
      "33/33 [==============================] - 0s 7ms/step - loss: 0.0765 - accuracy: 0.0000e+00 - val_loss: 7203400951351214080.0000 - val_accuracy: 0.5974\n",
      "Epoch 43/400\n",
      "33/33 [==============================] - 0s 7ms/step - loss: 0.0675 - accuracy: 0.0000e+00 - val_loss: 7701392857315147776.0000 - val_accuracy: 0.5974\n",
      "Epoch 44/400\n",
      "33/33 [==============================] - 0s 7ms/step - loss: 0.0657 - accuracy: 0.0000e+00 - val_loss: 6625367347664257024.0000 - val_accuracy: 0.5974\n",
      "Epoch 45/400\n",
      "33/33 [==============================] - 0s 7ms/step - loss: 0.0691 - accuracy: 0.0000e+00 - val_loss: 8001383609837551616.0000 - val_accuracy: 0.5974\n",
      "Epoch 46/400\n",
      "33/33 [==============================] - 0s 7ms/step - loss: 0.0541 - accuracy: 0.0000e+00 - val_loss: 7884607778386345984.0000 - val_accuracy: 0.5974\n",
      "Epoch 47/400\n",
      "33/33 [==============================] - 0s 7ms/step - loss: 0.0673 - accuracy: 0.0000e+00 - val_loss: 7753274412983386112.0000 - val_accuracy: 0.5974\n",
      "Epoch 48/400\n",
      "33/33 [==============================] - 0s 7ms/step - loss: 0.0729 - accuracy: 0.0000e+00 - val_loss: 6340185367500554240.0000 - val_accuracy: 0.5974\n",
      "Epoch 49/400\n",
      "33/33 [==============================] - 0s 7ms/step - loss: 0.0716 - accuracy: 0.0000e+00 - val_loss: 6690175861540257792.0000 - val_accuracy: 0.5974\n",
      "Epoch 50/400\n",
      "33/33 [==============================] - 0s 8ms/step - loss: 0.0521 - accuracy: 0.0000e+00 - val_loss: 6757588018950832128.0000 - val_accuracy: 0.5974\n"
     ]
    },
    {
     "name": "stdout",
     "output_type": "stream",
     "text": [
      "Epoch 51/400\n",
      "33/33 [==============================] - 0s 7ms/step - loss: 0.0668 - accuracy: 0.0000e+00 - val_loss: 5550500173513228288.0000 - val_accuracy: 0.5974\n"
     ]
    }
   ],
   "source": [
    "history = model.fit(\n",
    "    X_train,Y_train,\n",
    "    epochs=400,\n",
    "    batch_size=50,\n",
    "    validation_data=(X_test,Y_test),\n",
    "    shuffle=True,\n",
    "    callbacks=[model_checkpoint_callback,early_stopping_callback]\n",
    ")"
   ]
  },
  {
   "cell_type": "code",
   "execution_count": 788,
   "id": "77eaebea",
   "metadata": {},
   "outputs": [
    {
     "name": "stdout",
     "output_type": "stream",
     "text": [
      "17/17 [==============================] - 0s 3ms/step\n",
      "              precision    recall  f1-score   support\n",
      "\n",
      "           0       0.00      0.00      0.00       219\n",
      "           1       0.60      1.00      0.75       325\n",
      "\n",
      "    accuracy                           0.60       544\n",
      "   macro avg       0.30      0.50      0.37       544\n",
      "weighted avg       0.36      0.60      0.45       544\n",
      "\n",
      "0.5974264705882353\n",
      "[[  0 219]\n",
      " [  0 325]]\n"
     ]
    },
    {
     "name": "stderr",
     "output_type": "stream",
     "text": [
      "/home/masoud/anaconda3/lib/python3.9/site-packages/sklearn/metrics/_classification.py:1334: UndefinedMetricWarning: Precision and F-score are ill-defined and being set to 0.0 in labels with no predicted samples. Use `zero_division` parameter to control this behavior.\n",
      "  _warn_prf(average, modifier, msg_start, len(result))\n",
      "/home/masoud/anaconda3/lib/python3.9/site-packages/sklearn/metrics/_classification.py:1334: UndefinedMetricWarning: Precision and F-score are ill-defined and being set to 0.0 in labels with no predicted samples. Use `zero_division` parameter to control this behavior.\n",
      "  _warn_prf(average, modifier, msg_start, len(result))\n",
      "/home/masoud/anaconda3/lib/python3.9/site-packages/sklearn/metrics/_classification.py:1334: UndefinedMetricWarning: Precision and F-score are ill-defined and being set to 0.0 in labels with no predicted samples. Use `zero_division` parameter to control this behavior.\n",
      "  _warn_prf(average, modifier, msg_start, len(result))\n"
     ]
    }
   ],
   "source": [
    "Y_predict = model.predict(X_test)\n",
    "Y_predict[Y_predict > 0.5] = 1\n",
    "Y_predict[Y_predict <= 0.5] = 0\n",
    "# Y_predict = [np.argmax(x) for x in Y_predict]\n",
    "print(metrics.classification_report(Y_test,Y_predict))\n",
    "print(metrics.accuracy_score(Y_test,Y_predict))\n",
    "print(metrics.confusion_matrix(Y_test,Y_predict))"
   ]
  },
  {
   "cell_type": "code",
   "execution_count": 784,
   "id": "d4e03641",
   "metadata": {},
   "outputs": [
    {
     "data": {
      "text/html": [
       "<div>\n",
       "<style scoped>\n",
       "    .dataframe tbody tr th:only-of-type {\n",
       "        vertical-align: middle;\n",
       "    }\n",
       "\n",
       "    .dataframe tbody tr th {\n",
       "        vertical-align: top;\n",
       "    }\n",
       "\n",
       "    .dataframe thead th {\n",
       "        text-align: right;\n",
       "    }\n",
       "</style>\n",
       "<table border=\"1\" class=\"dataframe\">\n",
       "  <thead>\n",
       "    <tr style=\"text-align: right;\">\n",
       "      <th></th>\n",
       "      <th>Open</th>\n",
       "      <th>High</th>\n",
       "      <th>Low</th>\n",
       "      <th>Close</th>\n",
       "      <th>Volume</th>\n",
       "      <th>Market Cap</th>\n",
       "    </tr>\n",
       "    <tr>\n",
       "      <th>Date</th>\n",
       "      <th></th>\n",
       "      <th></th>\n",
       "      <th></th>\n",
       "      <th></th>\n",
       "      <th></th>\n",
       "      <th></th>\n",
       "    </tr>\n",
       "  </thead>\n",
       "  <tbody>\n",
       "    <tr>\n",
       "      <th>2022-01-14</th>\n",
       "      <td>0.172053</td>\n",
       "      <td>0.203232</td>\n",
       "      <td>0.171283</td>\n",
       "      <td>0.183549</td>\n",
       "      <td>5.784005e+09</td>\n",
       "      <td>2.435153e+10</td>\n",
       "    </tr>\n",
       "  </tbody>\n",
       "</table>\n",
       "</div>"
      ],
      "text/plain": [
       "                Open      High       Low     Close        Volume    Market Cap\n",
       "Date                                                                          \n",
       "2022-01-14  0.172053  0.203232  0.171283  0.183549  5.784005e+09  2.435153e+10"
      ]
     },
     "metadata": {},
     "output_type": "display_data"
    },
    {
     "data": {
      "text/html": [
       "<div>\n",
       "<style scoped>\n",
       "    .dataframe tbody tr th:only-of-type {\n",
       "        vertical-align: middle;\n",
       "    }\n",
       "\n",
       "    .dataframe tbody tr th {\n",
       "        vertical-align: top;\n",
       "    }\n",
       "\n",
       "    .dataframe thead th {\n",
       "        text-align: right;\n",
       "    }\n",
       "</style>\n",
       "<table border=\"1\" class=\"dataframe\">\n",
       "  <thead>\n",
       "    <tr style=\"text-align: right;\">\n",
       "      <th></th>\n",
       "      <th>Open</th>\n",
       "      <th>High</th>\n",
       "      <th>Low</th>\n",
       "      <th>Close</th>\n",
       "      <th>Volume</th>\n",
       "      <th>Market Cap</th>\n",
       "    </tr>\n",
       "    <tr>\n",
       "      <th>Date</th>\n",
       "      <th></th>\n",
       "      <th></th>\n",
       "      <th></th>\n",
       "      <th></th>\n",
       "      <th></th>\n",
       "      <th></th>\n",
       "    </tr>\n",
       "  </thead>\n",
       "  <tbody>\n",
       "    <tr>\n",
       "      <th>2022-01-15</th>\n",
       "      <td>0.183644</td>\n",
       "      <td>0.1936</td>\n",
       "      <td>0.182676</td>\n",
       "      <td>0.185103</td>\n",
       "      <td>1.878282e+09</td>\n",
       "      <td>2.455769e+10</td>\n",
       "    </tr>\n",
       "  </tbody>\n",
       "</table>\n",
       "</div>"
      ],
      "text/plain": [
       "                Open    High       Low     Close        Volume    Market Cap\n",
       "Date                                                                        \n",
       "2022-01-15  0.183644  0.1936  0.182676  0.185103  1.878282e+09  2.455769e+10"
      ]
     },
     "metadata": {},
     "output_type": "display_data"
    },
    {
     "data": {
      "text/plain": [
       "0.0"
      ]
     },
     "execution_count": 784,
     "metadata": {},
     "output_type": "execute_result"
    }
   ],
   "source": [
    "start = 205\n",
    "display(DF_test[start:start+1])\n",
    "display(DF_test[start+1:start+2])\n",
    "\n",
    "TTT = (\n",
    "DF_test[start:start+1].reset_index(drop=True) / DF_test[start-1:start].reset_index(drop=True)\n",
    ").astype(int)\n",
    "\n",
    "Y_predict = model.predict(np.array(TTT.values.reshape(TTT.shape[0],TTT.shape[1],1)),verbose=False)\n",
    "np.round(Y_predict)[0][0]"
   ]
  },
  {
   "cell_type": "code",
   "execution_count": 775,
   "id": "07e77b2e",
   "metadata": {},
   "outputs": [
    {
     "data": {
      "text/plain": [
       "array([[[1],\n",
       "        [1],\n",
       "        [1],\n",
       "        [1],\n",
       "        [0],\n",
       "        [1]]])"
      ]
     },
     "execution_count": 775,
     "metadata": {},
     "output_type": "execute_result"
    }
   ],
   "source": []
  },
  {
   "cell_type": "code",
   "execution_count": null,
   "id": "9373698c",
   "metadata": {},
   "outputs": [],
   "source": []
  },
  {
   "cell_type": "code",
   "execution_count": null,
   "id": "041edfb8",
   "metadata": {},
   "outputs": [],
   "source": []
  },
  {
   "cell_type": "code",
   "execution_count": null,
   "id": "88ceb9a2",
   "metadata": {},
   "outputs": [],
   "source": []
  },
  {
   "cell_type": "code",
   "execution_count": null,
   "id": "dcfe78cb",
   "metadata": {},
   "outputs": [],
   "source": []
  },
  {
   "cell_type": "code",
   "execution_count": null,
   "id": "b249f844",
   "metadata": {},
   "outputs": [],
   "source": []
  }
 ],
 "metadata": {
  "kernelspec": {
   "display_name": "Python 3 (ipykernel)",
   "language": "python",
   "name": "python3"
  },
  "language_info": {
   "codemirror_mode": {
    "name": "ipython",
    "version": 3
   },
   "file_extension": ".py",
   "mimetype": "text/x-python",
   "name": "python",
   "nbconvert_exporter": "python",
   "pygments_lexer": "ipython3",
   "version": "3.9.13"
  }
 },
 "nbformat": 4,
 "nbformat_minor": 5
}
