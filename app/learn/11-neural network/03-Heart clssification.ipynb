{
 "cells": [
  {
   "cell_type": "code",
   "execution_count": 249,
   "id": "eaace6ab",
   "metadata": {
    "scrolled": true
   },
   "outputs": [],
   "source": [
    "import numpy as np\n",
    "import pandas as pd\n",
    "import tensorflow as tf\n",
    "import tensorflow_datasets as tfds\n",
    "from sklearn.preprocessing import StandardScaler\n",
    "from sklearn.preprocessing import LabelEncoder\n",
    "from sklearn.compose import ColumnTransformer\n",
    "from sklearn.preprocessing import OneHotEncoder\n",
    "from imblearn.over_sampling import RandomOverSampler\n",
    "import random\n",
    "from sklearn.model_selection import train_test_split\n",
    "from sklearn import metrics\n",
    "from sklearn.ensemble import IsolationForest\n",
    "from tensorflow.keras.callbacks import EarlyStopping, ReduceLROnPlateau\n",
    "from tensorflow.keras.utils import plot_model\n",
    "from sklearn.utils.class_weight import compute_class_weight\n",
    "import matplotlib.pyplot as PLT\n",
    "from tensorflow.keras.callbacks import ModelCheckpoint\n",
    "from tensorflow.keras.applications.resnet import ResNet152, preprocess_input, decode_predictions\n"
   ]
  },
  {
   "cell_type": "code",
   "execution_count": 250,
   "id": "cbe0edf9",
   "metadata": {},
   "outputs": [],
   "source": [
    "n = 5000\n",
    "skip = sorted(random.sample(range(1,319795),319795-n))\n",
    "DF = pd.read_csv('../../../datasets/heart_2020_cleaned.csv',skiprows=skip).reset_index().rename(columns={'index':'id'})"
   ]
  },
  {
   "cell_type": "code",
   "execution_count": 251,
   "id": "e1f95365",
   "metadata": {},
   "outputs": [],
   "source": [
    "DF = DF[[ 'PhysicalHealth', 'MentalHealth', 'SleepTime','HeartDisease']]"
   ]
  },
  {
   "cell_type": "code",
   "execution_count": 252,
   "id": "fd8710a1",
   "metadata": {},
   "outputs": [],
   "source": [
    "# DF = pd.read_csv('../../datasets/heart_2020_cleaned.csv').reset_index().rename(columns={'index':'id'})\n",
    "CatCols = [\n",
    "    'Smoking','AlcoholDrinking','Stroke','DiffWalking','Sex','AgeCategory','Race','Diabetic',\n",
    "    'PhysicalActivity','GenHealth','Asthma','KidneyDisease','SkinCancer'\n",
    "]\n",
    "NumCols = [\n",
    "    'BMI', 'PhysicalHealth', 'MentalHealth', 'SleepTime'\n",
    "]\n",
    "\n",
    "CatCols = [\n",
    " \n",
    "]\n",
    "NumCols = [\n",
    "    'PhysicalHealth', 'MentalHealth', 'SleepTime'\n",
    "]\n",
    "\n",
    "X = DF[DF.columns.difference(['id','HeartDisease'])]\n",
    "Y = DF['HeartDisease']"
   ]
  },
  {
   "cell_type": "code",
   "execution_count": 253,
   "id": "bb219235",
   "metadata": {},
   "outputs": [
    {
     "data": {
      "text/html": [
       "<div>\n",
       "<style scoped>\n",
       "    .dataframe tbody tr th:only-of-type {\n",
       "        vertical-align: middle;\n",
       "    }\n",
       "\n",
       "    .dataframe tbody tr th {\n",
       "        vertical-align: top;\n",
       "    }\n",
       "\n",
       "    .dataframe thead th {\n",
       "        text-align: right;\n",
       "    }\n",
       "</style>\n",
       "<table border=\"1\" class=\"dataframe\">\n",
       "  <thead>\n",
       "    <tr style=\"text-align: right;\">\n",
       "      <th></th>\n",
       "      <th>MentalHealth</th>\n",
       "      <th>PhysicalHealth</th>\n",
       "      <th>SleepTime</th>\n",
       "    </tr>\n",
       "  </thead>\n",
       "  <tbody>\n",
       "    <tr>\n",
       "      <th>0</th>\n",
       "      <td>2.0</td>\n",
       "      <td>3.0</td>\n",
       "      <td>4.0</td>\n",
       "    </tr>\n",
       "    <tr>\n",
       "      <th>1</th>\n",
       "      <td>0.0</td>\n",
       "      <td>0.0</td>\n",
       "      <td>15.0</td>\n",
       "    </tr>\n",
       "    <tr>\n",
       "      <th>2</th>\n",
       "      <td>0.0</td>\n",
       "      <td>2.0</td>\n",
       "      <td>8.0</td>\n",
       "    </tr>\n",
       "    <tr>\n",
       "      <th>3</th>\n",
       "      <td>0.0</td>\n",
       "      <td>0.0</td>\n",
       "      <td>6.0</td>\n",
       "    </tr>\n",
       "    <tr>\n",
       "      <th>4</th>\n",
       "      <td>0.0</td>\n",
       "      <td>0.0</td>\n",
       "      <td>8.0</td>\n",
       "    </tr>\n",
       "  </tbody>\n",
       "</table>\n",
       "</div>"
      ],
      "text/plain": [
       "   MentalHealth  PhysicalHealth  SleepTime\n",
       "0           2.0             3.0        4.0\n",
       "1           0.0             0.0       15.0\n",
       "2           0.0             2.0        8.0\n",
       "3           0.0             0.0        6.0\n",
       "4           0.0             0.0        8.0"
      ]
     },
     "execution_count": 253,
     "metadata": {},
     "output_type": "execute_result"
    }
   ],
   "source": [
    "X.head()"
   ]
  },
  {
   "cell_type": "code",
   "execution_count": 254,
   "id": "11ca9941",
   "metadata": {},
   "outputs": [],
   "source": [
    "def columns_OHC_transforme(DF,columns):\n",
    "    merged = pd.DataFrame()\n",
    "    for column_name in columns:\n",
    "        label_encoder = LabelEncoder()\n",
    "        encoded = label_encoder.fit_transform(DF[column_name])\n",
    "        labels =pd.Series(label_encoder.classes_)\n",
    "\n",
    "        clmt = ColumnTransformer([(column_name,OneHotEncoder(),[0])], remainder='passthrough')\n",
    "        clmt_fited_data = clmt.fit_transform(DF[[column_name]]) \n",
    "        clmt_fited_data = clmt_fited_data if type(clmt_fited_data)== np.ndarray else clmt_fited_data.toarray()\n",
    "        NDF = pd.DataFrame(clmt_fited_data,columns=[f'{column_name}_{x}' for x in labels]).set_index(DF.index)\n",
    "        merged = pd.concat([merged,NDF],axis=1)\n",
    "    DF = DF.drop(columns=columns)\n",
    "    DF = DF.merge(merged, left_index=True,right_index=True)\n",
    "\n",
    "    return DF"
   ]
  },
  {
   "cell_type": "code",
   "execution_count": 255,
   "id": "3faa8d2f",
   "metadata": {},
   "outputs": [],
   "source": [
    "# X = columns_OHC_transforme(X,CatCols) \n",
    "Y_label_encoder = LabelEncoder()\n",
    "Y = DF.iloc[X.index]['HeartDisease']\n",
    "Y = Y_label_encoder.fit_transform(Y)"
   ]
  },
  {
   "cell_type": "code",
   "execution_count": 256,
   "id": "88e1a3a4",
   "metadata": {},
   "outputs": [],
   "source": [
    "# ss = StandardScaler()\n",
    "# X[NumCols] = ss.fit_transform(X[NumCols])"
   ]
  },
  {
   "cell_type": "code",
   "execution_count": 257,
   "id": "8db5c02c",
   "metadata": {},
   "outputs": [],
   "source": [
    "# isoforest = IsolationForest(n_estimators=3000,max_features=4)\n",
    "# X['is_noise'] = isoforest.fit_predict(X)\n",
    "# X = X[X['is_noise'] == 1]\n",
    "# Y = Y[X.index]\n",
    "# X = X[X.columns.difference(['is_noise'])]"
   ]
  },
  {
   "cell_type": "code",
   "execution_count": null,
   "id": "c2713e37",
   "metadata": {},
   "outputs": [],
   "source": []
  },
  {
   "cell_type": "code",
   "execution_count": null,
   "id": "79000379",
   "metadata": {},
   "outputs": [],
   "source": []
  },
  {
   "cell_type": "code",
   "execution_count": null,
   "id": "8032b0bb",
   "metadata": {},
   "outputs": [],
   "source": []
  },
  {
   "cell_type": "markdown",
   "id": "3dc4b1e2",
   "metadata": {},
   "source": [
    "## imbalance data"
   ]
  },
  {
   "cell_type": "code",
   "execution_count": 258,
   "id": "56e58618",
   "metadata": {},
   "outputs": [],
   "source": [
    "X_train,X_test,Y_train,Y_test = train_test_split(X,Y,random_state=3020,train_size=.90)"
   ]
  },
  {
   "cell_type": "code",
   "execution_count": 56,
   "id": "a4e9762d",
   "metadata": {},
   "outputs": [
    {
     "data": {
      "text/plain": [
       "{0: 0.5320665083135392, 1: 8.296296296296296}"
      ]
     },
     "execution_count": 56,
     "metadata": {},
     "output_type": "execute_result"
    }
   ],
   "source": [
    "# weights = compute_class_weight(class_weight='balanced',classes=np.unique(Y), y=Y)\n",
    "# class_weights = dict( zip(np.unique(Y), weights) )\n",
    "# class_weights"
   ]
  },
  {
   "cell_type": "code",
   "execution_count": 259,
   "id": "319f4552",
   "metadata": {},
   "outputs": [],
   "source": [
    "toml =RandomOverSampler(random_state=3020)\n",
    "X_train, Y_train = toml.fit_resample(X_train,pd.DataFrame(Y_train,columns=['HeartDisease']))"
   ]
  },
  {
   "cell_type": "code",
   "execution_count": 15,
   "id": "2ec38eb2",
   "metadata": {},
   "outputs": [],
   "source": [
    "# Y = pd.get_dummies(Y)"
   ]
  },
  {
   "cell_type": "code",
   "execution_count": 260,
   "id": "416871f0",
   "metadata": {},
   "outputs": [],
   "source": [
    "from tensorflow.keras.models import Model,Sequential,load_model\n",
    "from tensorflow.keras.layers import Input,Dense,Flatten,Embedding,Conv1D,MaxPool1D,concatenate,Dropout"
   ]
  },
  {
   "cell_type": "code",
   "execution_count": 264,
   "id": "16662cec",
   "metadata": {},
   "outputs": [],
   "source": [
    "input1 = Input(shape=(3,1))\n",
    "conv1 = Conv1D(filters=64, kernel_size=2, activation='relu')(input1)\n",
    "# dropout1 = Dropout(.5)(conv1)\n",
    "maxpool1 = MaxPool1D(pool_size=2)(conv1)\n",
    "flat1 = Flatten()(maxpool1)\n",
    "\n",
    "input2 = Input(shape=(3,1))\n",
    "conv2 = Conv1D(filters=32, kernel_size=2, activation='relu')(input2)\n",
    "# dropout2 = Dropout(.5)(conv2)\n",
    "maxpool2 = MaxPool1D(pool_size=2)(conv2)\n",
    "flat2 = Flatten()(maxpool2)\n",
    "\n",
    "input3 = Input(shape=(3,1))\n",
    "conv3 = Conv1D(filters=16, kernel_size=2, activation='relu')(input3)\n",
    "# dropout3 = Dropout(.5)(conv3)\n",
    "maxpool3 = MaxPool1D(pool_size=2)(conv3)\n",
    "flat3 = Flatten()(maxpool3)\n",
    "\n",
    "\n",
    "input4 = Input(shape=(3,1))\n",
    "conv4 = Conv1D(filters=8, kernel_size=2, activation='relu')(input4)\n",
    "# dropout4 = Dropout(.5)(conv4)\n",
    "maxpool4 = MaxPool1D(pool_size=2)(conv4)\n",
    "flat4 = Flatten()(maxpool4)\n",
    "\n",
    "\n",
    "\n",
    "flatX = concatenate([flat1,flat2,flat3,flat4])\n",
    "dense1 = Dense(400,activation='relu')(flatX)\n",
    "dense2 = Dense(200,activation='relu')(dense1)\n",
    "dense3 = Dense(100,activation='relu')(dense1)\n",
    "output = Dense(1,activation='sigmoid')(dense3)"
   ]
  },
  {
   "cell_type": "code",
   "execution_count": 265,
   "id": "b826ad7e",
   "metadata": {},
   "outputs": [],
   "source": [
    "model = Model(inputs=[input1,input2,input3,input4],outputs=output)\n",
    "model.compile(\n",
    "     loss='binary_crossentropy',\n",
    "    optimizer = 'adam',\n",
    "    metrics=['accuracy']\n",
    ")"
   ]
  },
  {
   "cell_type": "code",
   "execution_count": 266,
   "id": "78ad9abb",
   "metadata": {},
   "outputs": [
    {
     "name": "stdout",
     "output_type": "stream",
     "text": [
      "Epoch 1/30\n",
      "83/83 [==============================] - 3s 11ms/step - loss: 0.6985 - accuracy: 0.5607 - val_loss: 0.7604 - val_accuracy: 0.6640\n",
      "Epoch 2/30\n",
      "83/83 [==============================] - 1s 7ms/step - loss: 0.6730 - accuracy: 0.5762 - val_loss: 0.6013 - val_accuracy: 0.8140\n",
      "Epoch 3/30\n",
      "83/83 [==============================] - 1s 7ms/step - loss: 0.6731 - accuracy: 0.5897 - val_loss: 0.7758 - val_accuracy: 0.6400\n",
      "Epoch 4/30\n",
      "83/83 [==============================] - 1s 7ms/step - loss: 0.6639 - accuracy: 0.5985 - val_loss: 0.7296 - val_accuracy: 0.6960\n",
      "Epoch 5/30\n",
      "83/83 [==============================] - 1s 7ms/step - loss: 0.6641 - accuracy: 0.5981 - val_loss: 0.7529 - val_accuracy: 0.4060\n",
      "Epoch 6/30\n",
      "83/83 [==============================] - 1s 7ms/step - loss: 0.6622 - accuracy: 0.6026 - val_loss: 0.6331 - val_accuracy: 0.8100\n",
      "Epoch 7/30\n",
      "83/83 [==============================] - 1s 8ms/step - loss: 0.6619 - accuracy: 0.5999 - val_loss: 0.6029 - val_accuracy: 0.7940\n",
      "Epoch 8/30\n",
      "83/83 [==============================] - 1s 8ms/step - loss: 0.6595 - accuracy: 0.6012 - val_loss: 0.7028 - val_accuracy: 0.7320\n",
      "Epoch 9/30\n",
      "83/83 [==============================] - 1s 7ms/step - loss: 0.6602 - accuracy: 0.6022 - val_loss: 0.6971 - val_accuracy: 0.7120\n",
      "Epoch 10/30\n",
      "83/83 [==============================] - 1s 7ms/step - loss: 0.6583 - accuracy: 0.6072 - val_loss: 0.6054 - val_accuracy: 0.8120\n",
      "Epoch 11/30\n",
      "83/83 [==============================] - 1s 8ms/step - loss: 0.6587 - accuracy: 0.6063 - val_loss: 0.6830 - val_accuracy: 0.7480\n",
      "Epoch 12/30\n",
      "83/83 [==============================] - 1s 8ms/step - loss: 0.6566 - accuracy: 0.6109 - val_loss: 0.6827 - val_accuracy: 0.7560\n",
      "Epoch 13/30\n",
      "83/83 [==============================] - 1s 9ms/step - loss: 0.6582 - accuracy: 0.6114 - val_loss: 0.6193 - val_accuracy: 0.8060\n",
      "Epoch 14/30\n",
      "83/83 [==============================] - 1s 7ms/step - loss: 0.6579 - accuracy: 0.6085 - val_loss: 0.6540 - val_accuracy: 0.7600\n",
      "Epoch 15/30\n",
      "83/83 [==============================] - 1s 7ms/step - loss: 0.6553 - accuracy: 0.6139 - val_loss: 0.5937 - val_accuracy: 0.7820\n",
      "Epoch 16/30\n",
      "83/83 [==============================] - 1s 7ms/step - loss: 0.6578 - accuracy: 0.6106 - val_loss: 0.6291 - val_accuracy: 0.7620\n",
      "Epoch 17/30\n",
      "83/83 [==============================] - 1s 7ms/step - loss: 0.6552 - accuracy: 0.6127 - val_loss: 0.5836 - val_accuracy: 0.7980\n",
      "Epoch 18/30\n",
      "83/83 [==============================] - 1s 7ms/step - loss: 0.6558 - accuracy: 0.6185 - val_loss: 0.6590 - val_accuracy: 0.7420\n",
      "Epoch 19/30\n",
      "83/83 [==============================] - 1s 7ms/step - loss: 0.6525 - accuracy: 0.6134 - val_loss: 0.6567 - val_accuracy: 0.7700\n",
      "Epoch 20/30\n",
      "83/83 [==============================] - 1s 7ms/step - loss: 0.6528 - accuracy: 0.6170 - val_loss: 0.6249 - val_accuracy: 0.8000\n",
      "Epoch 21/30\n",
      "83/83 [==============================] - 1s 7ms/step - loss: 0.6522 - accuracy: 0.6136 - val_loss: 0.7477 - val_accuracy: 0.4480\n",
      "Epoch 22/30\n",
      "83/83 [==============================] - 1s 8ms/step - loss: 0.6519 - accuracy: 0.6147 - val_loss: 0.5757 - val_accuracy: 0.7980\n",
      "Epoch 23/30\n",
      "83/83 [==============================] - 1s 7ms/step - loss: 0.6528 - accuracy: 0.6175 - val_loss: 0.6436 - val_accuracy: 0.7740\n",
      "Epoch 24/30\n",
      "83/83 [==============================] - 1s 7ms/step - loss: 0.6515 - accuracy: 0.6141 - val_loss: 0.6251 - val_accuracy: 0.7940\n",
      "Epoch 25/30\n",
      "83/83 [==============================] - 1s 7ms/step - loss: 0.6489 - accuracy: 0.6208 - val_loss: 0.6137 - val_accuracy: 0.8020\n",
      "Epoch 26/30\n",
      "83/83 [==============================] - 1s 7ms/step - loss: 0.6516 - accuracy: 0.6169 - val_loss: 0.6014 - val_accuracy: 0.8040\n",
      "Epoch 27/30\n",
      "83/83 [==============================] - 1s 7ms/step - loss: 0.6502 - accuracy: 0.6196 - val_loss: 0.6517 - val_accuracy: 0.7660\n",
      "Epoch 28/30\n",
      "83/83 [==============================] - 1s 7ms/step - loss: 0.6482 - accuracy: 0.6217 - val_loss: 0.6329 - val_accuracy: 0.7900\n",
      "Epoch 29/30\n",
      "83/83 [==============================] - 1s 8ms/step - loss: 0.6484 - accuracy: 0.6195 - val_loss: 0.7105 - val_accuracy: 0.5780\n",
      "Epoch 30/30\n",
      "83/83 [==============================] - 1s 7ms/step - loss: 0.6482 - accuracy: 0.6240 - val_loss: 0.6328 - val_accuracy: 0.7820\n"
     ]
    }
   ],
   "source": [
    "history = model.fit(\n",
    "    [X_train,X_train,X_train,X_train],\n",
    "    Y_train,\n",
    "    epochs=30,\n",
    "    batch_size=100,\n",
    "    validation_data=([X_test,X_test,X_test,X_test],Y_test),\n",
    ")"
   ]
  },
  {
   "cell_type": "code",
   "execution_count": 268,
   "id": "b76edbbb",
   "metadata": {},
   "outputs": [
    {
     "data": {
      "text/plain": [
       "[<matplotlib.lines.Line2D at 0x7fb25adccfd0>]"
      ]
     },
     "execution_count": 268,
     "metadata": {},
     "output_type": "execute_result"
    },
    {
     "data": {
      "image/png": "[encoded data removed]",
      "text/plain": [
       "<Figure size 640x480 with 1 Axes>"
      ]
     },
     "metadata": {},
     "output_type": "display_data"
    }
   ],
   "source": [
    "PLT.plot(history.history['accuracy'], color='green', label='train data')\n",
    "PLT.plot(history.history['val_accuracy'], color='red', label='test data')"
   ]
  },
  {
   "cell_type": "code",
   "execution_count": null,
   "id": "60eebc75",
   "metadata": {},
   "outputs": [],
   "source": []
  },
  {
   "cell_type": "code",
   "execution_count": null,
   "id": "35a57b13",
   "metadata": {},
   "outputs": [],
   "source": []
  },
  {
   "cell_type": "code",
   "execution_count": null,
   "id": "3373935f",
   "metadata": {},
   "outputs": [],
   "source": []
  },
  {
   "cell_type": "code",
   "execution_count": null,
   "id": "1575a076",
   "metadata": {},
   "outputs": [],
   "source": []
  },
  {
   "cell_type": "code",
   "execution_count": null,
   "id": "725a06c4",
   "metadata": {},
   "outputs": [],
   "source": []
  },
  {
   "cell_type": "code",
   "execution_count": null,
   "id": "5b07074b",
   "metadata": {},
   "outputs": [],
   "source": []
  },
  {
   "cell_type": "code",
   "execution_count": null,
   "id": "8a5b26fd",
   "metadata": {},
   "outputs": [],
   "source": []
  },
  {
   "cell_type": "code",
   "execution_count": 218,
   "id": "6fb7db48",
   "metadata": {},
   "outputs": [],
   "source": [
    "model = tf.keras.Sequential([\n",
    "    tf.keras.layers.Dense(50,activation='relu',input_shape=(4,)),\n",
    "    tf.keras.layers.Dense(100,activation='relu'),\n",
    "    tf.keras.layers.Dense(100,activation='relu'),\n",
    "#     tf.keras.layers.Dense(100,activation='relu'),\n",
    "#     tf.keras.layers.Dense(200,activation='relu'),\n",
    "    tf.keras.layers.Dense(1,activation='sigmoid')\n",
    "])\n",
    "\n",
    "model.compile(\n",
    "    loss='binary_crossentropy',\n",
    "    optimizer = 'adam',\n",
    "    metrics=['accuracy']\n",
    ")"
   ]
  },
  {
   "cell_type": "code",
   "execution_count": 219,
   "id": "ba44667d",
   "metadata": {},
   "outputs": [],
   "source": [
    "es = EarlyStopping(monitor='val_loss',mode='min',patience=20)\n",
    "rlrop = ReduceLROnPlateau(monitor='val_loss',patience=10, factor=.002, min_lr=.01)\n",
    "mchp = ModelCheckpoint('heart.h5',monitor='val_loss',mode='min',save_best_only=True)"
   ]
  },
  {
   "cell_type": "code",
   "execution_count": 220,
   "id": "0b56cf19",
   "metadata": {
    "scrolled": true
   },
   "outputs": [
    {
     "name": "stdout",
     "output_type": "stream",
     "text": [
      "Epoch 1/100\n",
      "33/33 [==============================] - 1s 12ms/step - loss: 0.6900 - accuracy: 0.5317 - val_loss: 0.7386 - val_accuracy: 0.2519\n",
      "Epoch 2/100\n",
      "33/33 [==============================] - 0s 7ms/step - loss: 0.6793 - accuracy: 0.5616 - val_loss: 0.7041 - val_accuracy: 0.4911\n",
      "Epoch 3/100\n",
      "33/33 [==============================] - 0s 7ms/step - loss: 0.6736 - accuracy: 0.5791 - val_loss: 0.6581 - val_accuracy: 0.7455\n",
      "Epoch 4/100\n",
      "33/33 [==============================] - 0s 5ms/step - loss: 0.6702 - accuracy: 0.5744 - val_loss: 0.7132 - val_accuracy: 0.4249\n",
      "Epoch 5/100\n",
      "33/33 [==============================] - 0s 6ms/step - loss: 0.6671 - accuracy: 0.5823 - val_loss: 0.6229 - val_accuracy: 0.7608\n",
      "Epoch 6/100\n",
      "33/33 [==============================] - 0s 6ms/step - loss: 0.6631 - accuracy: 0.5881 - val_loss: 0.7067 - val_accuracy: 0.4300\n",
      "Epoch 7/100\n",
      "33/33 [==============================] - 0s 7ms/step - loss: 0.6590 - accuracy: 0.5884 - val_loss: 0.6955 - val_accuracy: 0.4784\n",
      "Epoch 8/100\n",
      "33/33 [==============================] - 0s 6ms/step - loss: 0.6550 - accuracy: 0.5932 - val_loss: 0.6742 - val_accuracy: 0.6285\n",
      "Epoch 9/100\n",
      "33/33 [==============================] - 0s 5ms/step - loss: 0.6504 - accuracy: 0.5891 - val_loss: 0.7322 - val_accuracy: 0.3690\n",
      "Epoch 10/100\n",
      "33/33 [==============================] - 0s 5ms/step - loss: 0.6486 - accuracy: 0.5942 - val_loss: 0.7267 - val_accuracy: 0.4046\n",
      "Epoch 11/100\n",
      "33/33 [==============================] - 0s 6ms/step - loss: 0.6433 - accuracy: 0.6040 - val_loss: 0.6521 - val_accuracy: 0.6183\n",
      "Epoch 12/100\n",
      "33/33 [==============================] - 0s 6ms/step - loss: 0.6406 - accuracy: 0.6037 - val_loss: 0.6636 - val_accuracy: 0.5700\n",
      "Epoch 13/100\n",
      "33/33 [==============================] - 0s 6ms/step - loss: 0.6361 - accuracy: 0.6139 - val_loss: 0.6093 - val_accuracy: 0.7812\n",
      "Epoch 14/100\n",
      "33/33 [==============================] - 0s 6ms/step - loss: 0.6304 - accuracy: 0.6139 - val_loss: 0.6324 - val_accuracy: 0.5598\n",
      "Epoch 15/100\n",
      "33/33 [==============================] - 0s 5ms/step - loss: 0.6250 - accuracy: 0.6182 - val_loss: 0.7081 - val_accuracy: 0.4148\n",
      "Epoch 16/100\n",
      "33/33 [==============================] - 0s 5ms/step - loss: 0.6282 - accuracy: 0.6113 - val_loss: 0.6969 - val_accuracy: 0.4046\n",
      "Epoch 17/100\n",
      "33/33 [==============================] - 0s 5ms/step - loss: 0.6240 - accuracy: 0.6150 - val_loss: 0.6920 - val_accuracy: 0.4249\n",
      "Epoch 18/100\n",
      "33/33 [==============================] - 0s 5ms/step - loss: 0.6164 - accuracy: 0.6263 - val_loss: 0.6184 - val_accuracy: 0.5751\n",
      "Epoch 19/100\n",
      "33/33 [==============================] - 0s 5ms/step - loss: 0.6128 - accuracy: 0.6334 - val_loss: 0.6919 - val_accuracy: 0.4580\n",
      "Epoch 20/100\n",
      "33/33 [==============================] - 0s 5ms/step - loss: 0.6072 - accuracy: 0.6418 - val_loss: 0.7163 - val_accuracy: 0.4198\n",
      "Epoch 21/100\n",
      "33/33 [==============================] - 0s 5ms/step - loss: 0.6049 - accuracy: 0.6371 - val_loss: 0.7254 - val_accuracy: 0.4377\n",
      "Epoch 22/100\n",
      "33/33 [==============================] - 0s 5ms/step - loss: 0.6047 - accuracy: 0.6423 - val_loss: 0.6794 - val_accuracy: 0.5700\n",
      "Epoch 23/100\n",
      "33/33 [==============================] - 0s 5ms/step - loss: 0.5992 - accuracy: 0.6514 - val_loss: 0.6513 - val_accuracy: 0.5267\n",
      "Epoch 24/100\n",
      "33/33 [==============================] - 0s 5ms/step - loss: 0.5968 - accuracy: 0.6479 - val_loss: 0.6121 - val_accuracy: 0.6514\n",
      "Epoch 25/100\n",
      "33/33 [==============================] - 0s 6ms/step - loss: 0.5987 - accuracy: 0.6476 - val_loss: 0.5882 - val_accuracy: 0.7710\n",
      "Epoch 26/100\n",
      "33/33 [==============================] - 0s 5ms/step - loss: 0.5910 - accuracy: 0.6450 - val_loss: 0.7081 - val_accuracy: 0.4504\n",
      "Epoch 27/100\n",
      "33/33 [==============================] - 0s 5ms/step - loss: 0.5912 - accuracy: 0.6586 - val_loss: 0.7118 - val_accuracy: 0.4656\n",
      "Epoch 28/100\n",
      "33/33 [==============================] - 0s 6ms/step - loss: 0.5849 - accuracy: 0.6536 - val_loss: 0.6739 - val_accuracy: 0.5216\n",
      "Epoch 29/100\n",
      "33/33 [==============================] - 0s 5ms/step - loss: 0.5813 - accuracy: 0.6638 - val_loss: 0.6522 - val_accuracy: 0.5115\n",
      "Epoch 30/100\n",
      "33/33 [==============================] - 0s 5ms/step - loss: 0.5788 - accuracy: 0.6609 - val_loss: 0.7227 - val_accuracy: 0.3893\n",
      "Epoch 31/100\n",
      "33/33 [==============================] - 0s 5ms/step - loss: 0.5759 - accuracy: 0.6670 - val_loss: 0.6908 - val_accuracy: 0.4936\n",
      "Epoch 32/100\n",
      "33/33 [==============================] - 0s 5ms/step - loss: 0.5730 - accuracy: 0.6703 - val_loss: 0.6543 - val_accuracy: 0.5344\n",
      "Epoch 33/100\n",
      "33/33 [==============================] - 0s 6ms/step - loss: 0.5724 - accuracy: 0.6691 - val_loss: 0.6847 - val_accuracy: 0.4555\n",
      "Epoch 34/100\n",
      "33/33 [==============================] - 0s 5ms/step - loss: 0.5706 - accuracy: 0.6696 - val_loss: 0.6866 - val_accuracy: 0.5242\n",
      "Epoch 35/100\n",
      "33/33 [==============================] - 0s 6ms/step - loss: 0.5699 - accuracy: 0.6619 - val_loss: 0.7113 - val_accuracy: 0.4529\n",
      "Epoch 36/100\n",
      "33/33 [==============================] - 0s 6ms/step - loss: 0.5700 - accuracy: 0.6641 - val_loss: 0.5905 - val_accuracy: 0.6921\n",
      "Epoch 37/100\n",
      "33/33 [==============================] - 0s 5ms/step - loss: 0.5647 - accuracy: 0.6766 - val_loss: 0.6247 - val_accuracy: 0.6412\n",
      "Epoch 38/100\n",
      "33/33 [==============================] - 0s 6ms/step - loss: 0.5602 - accuracy: 0.6789 - val_loss: 0.6789 - val_accuracy: 0.5191\n",
      "Epoch 39/100\n",
      "33/33 [==============================] - 0s 5ms/step - loss: 0.5572 - accuracy: 0.6827 - val_loss: 0.7458 - val_accuracy: 0.3969\n",
      "Epoch 40/100\n",
      "33/33 [==============================] - 0s 5ms/step - loss: 0.5597 - accuracy: 0.6837 - val_loss: 0.7182 - val_accuracy: 0.4377\n",
      "Epoch 41/100\n",
      "33/33 [==============================] - 0s 5ms/step - loss: 0.5597 - accuracy: 0.6719 - val_loss: 0.6348 - val_accuracy: 0.6031\n",
      "Epoch 42/100\n",
      "33/33 [==============================] - 0s 5ms/step - loss: 0.5509 - accuracy: 0.6827 - val_loss: 0.6796 - val_accuracy: 0.5267\n",
      "Epoch 43/100\n",
      "33/33 [==============================] - 0s 8ms/step - loss: 0.5521 - accuracy: 0.6868 - val_loss: 0.7049 - val_accuracy: 0.4860\n",
      "Epoch 44/100\n",
      "33/33 [==============================] - 0s 6ms/step - loss: 0.5501 - accuracy: 0.6898 - val_loss: 0.6452 - val_accuracy: 0.6336\n",
      "Epoch 45/100\n",
      "33/33 [==============================] - 0s 6ms/step - loss: 0.5439 - accuracy: 0.6924 - val_loss: 0.7409 - val_accuracy: 0.4631\n",
      "Epoch 46/100\n",
      "33/33 [==============================] - 0s 8ms/step - loss: 0.5449 - accuracy: 0.6911 - val_loss: 0.6649 - val_accuracy: 0.5445\n",
      "Epoch 47/100\n",
      "33/33 [==============================] - 0s 8ms/step - loss: 0.5413 - accuracy: 0.6920 - val_loss: 0.6678 - val_accuracy: 0.5980\n",
      "Epoch 48/100\n",
      "33/33 [==============================] - 0s 8ms/step - loss: 0.5397 - accuracy: 0.6908 - val_loss: 0.7329 - val_accuracy: 0.4606\n",
      "Epoch 49/100\n",
      "33/33 [==============================] - 0s 7ms/step - loss: 0.5394 - accuracy: 0.6946 - val_loss: 0.7063 - val_accuracy: 0.5420\n",
      "Epoch 50/100\n",
      "33/33 [==============================] - 0s 6ms/step - loss: 0.5394 - accuracy: 0.6865 - val_loss: 0.7888 - val_accuracy: 0.3944\n",
      "Epoch 51/100\n",
      "33/33 [==============================] - 0s 5ms/step - loss: 0.5392 - accuracy: 0.6940 - val_loss: 0.6711 - val_accuracy: 0.6234\n",
      "Epoch 52/100\n",
      "33/33 [==============================] - 0s 5ms/step - loss: 0.5342 - accuracy: 0.6930 - val_loss: 0.6613 - val_accuracy: 0.5751\n",
      "Epoch 53/100\n",
      "33/33 [==============================] - 0s 5ms/step - loss: 0.5323 - accuracy: 0.6929 - val_loss: 0.6199 - val_accuracy: 0.6489\n",
      "Epoch 54/100\n",
      "33/33 [==============================] - 0s 5ms/step - loss: 0.5295 - accuracy: 0.7016 - val_loss: 0.6881 - val_accuracy: 0.5674\n",
      "Epoch 55/100\n",
      "33/33 [==============================] - 0s 5ms/step - loss: 0.5265 - accuracy: 0.7016 - val_loss: 0.7116 - val_accuracy: 0.4911\n",
      "Epoch 56/100\n",
      "33/33 [==============================] - 0s 6ms/step - loss: 0.5265 - accuracy: 0.7020 - val_loss: 0.6457 - val_accuracy: 0.6183\n",
      "Epoch 57/100\n",
      "33/33 [==============================] - 0s 6ms/step - loss: 0.5250 - accuracy: 0.7008 - val_loss: 0.6937 - val_accuracy: 0.5420\n",
      "Epoch 58/100\n",
      "33/33 [==============================] - 0s 6ms/step - loss: 0.5226 - accuracy: 0.7011 - val_loss: 0.6567 - val_accuracy: 0.6260\n"
     ]
    },
    {
     "name": "stdout",
     "output_type": "stream",
     "text": [
      "Epoch 59/100\n",
      "33/33 [==============================] - 0s 5ms/step - loss: 0.5232 - accuracy: 0.7054 - val_loss: 0.6826 - val_accuracy: 0.5598\n",
      "Epoch 60/100\n",
      "33/33 [==============================] - 0s 5ms/step - loss: 0.5206 - accuracy: 0.7039 - val_loss: 0.6870 - val_accuracy: 0.5954\n",
      "Epoch 61/100\n",
      "33/33 [==============================] - 0s 6ms/step - loss: 0.5234 - accuracy: 0.6976 - val_loss: 0.6789 - val_accuracy: 0.6692\n",
      "Epoch 62/100\n",
      "33/33 [==============================] - 0s 5ms/step - loss: 0.5181 - accuracy: 0.7080 - val_loss: 0.6512 - val_accuracy: 0.6768\n",
      "Epoch 63/100\n",
      "33/33 [==============================] - 0s 6ms/step - loss: 0.5192 - accuracy: 0.7001 - val_loss: 0.6795 - val_accuracy: 0.6183\n",
      "Epoch 64/100\n",
      "33/33 [==============================] - 0s 6ms/step - loss: 0.5186 - accuracy: 0.7116 - val_loss: 0.6048 - val_accuracy: 0.7761\n",
      "Epoch 65/100\n",
      "33/33 [==============================] - 0s 6ms/step - loss: 0.5143 - accuracy: 0.7104 - val_loss: 0.5605 - val_accuracy: 0.8372\n",
      "Epoch 66/100\n",
      "33/33 [==============================] - 0s 6ms/step - loss: 0.5165 - accuracy: 0.7051 - val_loss: 0.6255 - val_accuracy: 0.7506\n",
      "Epoch 67/100\n",
      "33/33 [==============================] - 0s 5ms/step - loss: 0.5159 - accuracy: 0.7056 - val_loss: 0.6986 - val_accuracy: 0.6438\n",
      "Epoch 68/100\n",
      "33/33 [==============================] - 0s 6ms/step - loss: 0.5097 - accuracy: 0.7141 - val_loss: 0.7053 - val_accuracy: 0.5547\n",
      "Epoch 69/100\n",
      "33/33 [==============================] - 0s 5ms/step - loss: 0.5117 - accuracy: 0.7089 - val_loss: 0.6923 - val_accuracy: 0.5878\n",
      "Epoch 70/100\n",
      "33/33 [==============================] - 0s 5ms/step - loss: 0.5129 - accuracy: 0.7086 - val_loss: 0.6975 - val_accuracy: 0.6183\n",
      "Epoch 71/100\n",
      "33/33 [==============================] - 0s 5ms/step - loss: 0.5083 - accuracy: 0.7121 - val_loss: 0.6196 - val_accuracy: 0.7430\n",
      "Epoch 72/100\n",
      "33/33 [==============================] - 0s 5ms/step - loss: 0.5070 - accuracy: 0.7193 - val_loss: 0.6451 - val_accuracy: 0.7455\n",
      "Epoch 73/100\n",
      "33/33 [==============================] - 0s 6ms/step - loss: 0.5073 - accuracy: 0.7088 - val_loss: 0.7129 - val_accuracy: 0.5496\n",
      "Epoch 74/100\n",
      "33/33 [==============================] - 0s 5ms/step - loss: 0.5092 - accuracy: 0.7164 - val_loss: 0.7249 - val_accuracy: 0.5751\n",
      "Epoch 75/100\n",
      "33/33 [==============================] - 0s 6ms/step - loss: 0.5039 - accuracy: 0.7184 - val_loss: 0.7060 - val_accuracy: 0.5827\n",
      "Epoch 76/100\n",
      "33/33 [==============================] - 0s 5ms/step - loss: 0.5013 - accuracy: 0.7177 - val_loss: 0.6953 - val_accuracy: 0.6132\n",
      "Epoch 77/100\n",
      "33/33 [==============================] - 0s 5ms/step - loss: 0.5027 - accuracy: 0.7156 - val_loss: 0.6487 - val_accuracy: 0.6718\n",
      "Epoch 78/100\n",
      "33/33 [==============================] - 0s 5ms/step - loss: 0.5011 - accuracy: 0.7159 - val_loss: 0.7811 - val_accuracy: 0.5013\n",
      "Epoch 79/100\n",
      "33/33 [==============================] - 0s 5ms/step - loss: 0.4995 - accuracy: 0.7225 - val_loss: 0.8082 - val_accuracy: 0.4885\n",
      "Epoch 80/100\n",
      "33/33 [==============================] - 0s 5ms/step - loss: 0.5021 - accuracy: 0.7185 - val_loss: 0.7387 - val_accuracy: 0.5445\n",
      "Epoch 81/100\n",
      "33/33 [==============================] - 0s 5ms/step - loss: 0.4979 - accuracy: 0.7220 - val_loss: 0.6953 - val_accuracy: 0.6438\n",
      "Epoch 82/100\n",
      "33/33 [==============================] - 0s 5ms/step - loss: 0.5021 - accuracy: 0.7177 - val_loss: 0.6254 - val_accuracy: 0.7786\n",
      "Epoch 83/100\n",
      "33/33 [==============================] - 0s 5ms/step - loss: 0.5033 - accuracy: 0.7159 - val_loss: 0.6567 - val_accuracy: 0.6972\n",
      "Epoch 84/100\n",
      "33/33 [==============================] - 0s 5ms/step - loss: 0.4997 - accuracy: 0.7165 - val_loss: 0.6594 - val_accuracy: 0.7277\n",
      "Epoch 85/100\n",
      "33/33 [==============================] - 0s 6ms/step - loss: 0.5036 - accuracy: 0.7159 - val_loss: 0.6478 - val_accuracy: 0.7812\n",
      "Epoch 86/100\n",
      "33/33 [==============================] - 0s 6ms/step - loss: 0.5074 - accuracy: 0.7097 - val_loss: 0.6638 - val_accuracy: 0.6819\n",
      "Epoch 87/100\n",
      "33/33 [==============================] - 0s 5ms/step - loss: 0.4941 - accuracy: 0.7210 - val_loss: 0.7016 - val_accuracy: 0.6438\n",
      "Epoch 88/100\n",
      "33/33 [==============================] - 0s 5ms/step - loss: 0.4929 - accuracy: 0.7223 - val_loss: 0.7690 - val_accuracy: 0.5064\n",
      "Epoch 89/100\n",
      "33/33 [==============================] - 0s 5ms/step - loss: 0.4950 - accuracy: 0.7205 - val_loss: 0.8168 - val_accuracy: 0.4784\n",
      "Epoch 90/100\n",
      "33/33 [==============================] - 0s 5ms/step - loss: 0.4900 - accuracy: 0.7234 - val_loss: 0.6661 - val_accuracy: 0.6947\n",
      "Epoch 91/100\n",
      "33/33 [==============================] - 0s 6ms/step - loss: 0.4956 - accuracy: 0.7214 - val_loss: 0.6977 - val_accuracy: 0.5903\n",
      "Epoch 92/100\n",
      "33/33 [==============================] - 0s 7ms/step - loss: 0.4879 - accuracy: 0.7287 - val_loss: 0.6910 - val_accuracy: 0.6412\n",
      "Epoch 93/100\n",
      "33/33 [==============================] - 0s 7ms/step - loss: 0.4852 - accuracy: 0.7341 - val_loss: 0.6687 - val_accuracy: 0.7226\n",
      "Epoch 94/100\n",
      "33/33 [==============================] - 0s 5ms/step - loss: 0.4855 - accuracy: 0.7335 - val_loss: 0.6705 - val_accuracy: 0.6768\n",
      "Epoch 95/100\n",
      "33/33 [==============================] - 0s 5ms/step - loss: 0.4882 - accuracy: 0.7287 - val_loss: 0.5940 - val_accuracy: 0.8066\n",
      "Epoch 96/100\n",
      "33/33 [==============================] - 0s 6ms/step - loss: 0.4892 - accuracy: 0.7260 - val_loss: 0.6780 - val_accuracy: 0.6718\n",
      "Epoch 97/100\n",
      "33/33 [==============================] - 0s 6ms/step - loss: 0.4816 - accuracy: 0.7271 - val_loss: 0.7612 - val_accuracy: 0.5547\n",
      "Epoch 98/100\n",
      "33/33 [==============================] - 0s 5ms/step - loss: 0.4816 - accuracy: 0.7362 - val_loss: 0.6901 - val_accuracy: 0.7074\n",
      "Epoch 99/100\n",
      "33/33 [==============================] - 0s 5ms/step - loss: 0.4847 - accuracy: 0.7295 - val_loss: 0.7985 - val_accuracy: 0.5344\n",
      "Epoch 100/100\n",
      "33/33 [==============================] - 0s 5ms/step - loss: 0.4873 - accuracy: 0.7252 - val_loss: 0.7815 - val_accuracy: 0.5191\n"
     ]
    }
   ],
   "source": [
    "history = model.fit(X_train, Y_train, \n",
    "                    epochs=100,\n",
    "                    validation_data=(X_test,Y_test),\n",
    "                    batch_size=200,\n",
    "#                     class_weight=class_weights,\n",
    "                    callbacks=[mchp] #es,rlrop,\n",
    "                   )"
   ]
  },
  {
   "cell_type": "code",
   "execution_count": 221,
   "id": "a37b0db5",
   "metadata": {},
   "outputs": [
    {
     "data": {
      "text/plain": [
       "[<matplotlib.lines.Line2D at 0x7fb242bf8160>]"
      ]
     },
     "execution_count": 221,
     "metadata": {},
     "output_type": "execute_result"
    },
    {
     "data": {
      "image/png": "[encoded data removed]",
      "text/plain": [
       "<Figure size 640x480 with 1 Axes>"
      ]
     },
     "metadata": {},
     "output_type": "display_data"
    }
   ],
   "source": [
    "PLT.plot(history.history['accuracy'],color='green')\n",
    "PLT.plot(history.history['val_accuracy'],color='blue')"
   ]
  },
  {
   "cell_type": "code",
   "execution_count": 222,
   "id": "393fa853",
   "metadata": {},
   "outputs": [
    {
     "data": {
      "image/png": "[encoded data removed]",
      "text/plain": [
       "<IPython.core.display.Image object>"
      ]
     },
     "execution_count": 222,
     "metadata": {},
     "output_type": "execute_result"
    }
   ],
   "source": [
    "plot_model(model, show_shapes=True,show_layer_names=False)"
   ]
  },
  {
   "cell_type": "code",
   "execution_count": 16,
   "id": "b70222da",
   "metadata": {},
   "outputs": [
    {
     "name": "stdout",
     "output_type": "stream",
     "text": [
      "26/26 [==============================] - 0s 5ms/step\n"
     ]
    },
    {
     "data": {
      "text/plain": [
       "array([5.051873e-04, 9.994948e-01], dtype=float32)"
      ]
     },
     "execution_count": 16,
     "metadata": {},
     "output_type": "execute_result"
    }
   ],
   "source": [
    "model.predict(X_test)[0]"
   ]
  },
  {
   "cell_type": "code",
   "execution_count": 17,
   "id": "acfb5fdd",
   "metadata": {},
   "outputs": [
    {
     "name": "stdout",
     "output_type": "stream",
     "text": [
      "26/26 [==============================] - 0s 7ms/step\n"
     ]
    },
    {
     "data": {
      "text/plain": [
       "1"
      ]
     },
     "execution_count": 17,
     "metadata": {},
     "output_type": "execute_result"
    }
   ],
   "source": [
    "np.argmax(model.predict(X_test)[0])"
   ]
  },
  {
   "cell_type": "code",
   "execution_count": null,
   "id": "57dc1a5a",
   "metadata": {},
   "outputs": [],
   "source": []
  },
  {
   "cell_type": "code",
   "execution_count": null,
   "id": "83b85958",
   "metadata": {},
   "outputs": [],
   "source": []
  },
  {
   "cell_type": "code",
   "execution_count": null,
   "id": "0ab25dcc",
   "metadata": {},
   "outputs": [],
   "source": []
  },
  {
   "cell_type": "code",
   "execution_count": null,
   "id": "127e306c",
   "metadata": {},
   "outputs": [],
   "source": []
  },
  {
   "cell_type": "code",
   "execution_count": null,
   "id": "66d81376",
   "metadata": {},
   "outputs": [],
   "source": []
  },
  {
   "cell_type": "code",
   "execution_count": null,
   "id": "68ee2ebd",
   "metadata": {},
   "outputs": [],
   "source": []
  },
  {
   "cell_type": "code",
   "execution_count": null,
   "id": "0eae8adb",
   "metadata": {},
   "outputs": [],
   "source": []
  },
  {
   "cell_type": "code",
   "execution_count": null,
   "id": "c709653e",
   "metadata": {},
   "outputs": [],
   "source": []
  },
  {
   "cell_type": "code",
   "execution_count": null,
   "id": "d309d308",
   "metadata": {},
   "outputs": [],
   "source": []
  },
  {
   "cell_type": "code",
   "execution_count": null,
   "id": "f2d2ed42",
   "metadata": {},
   "outputs": [],
   "source": []
  }
 ],
 "metadata": {
  "kernelspec": {
   "display_name": "Python 3 (ipykernel)",
   "language": "python",
   "name": "python3"
  },
  "language_info": {
   "codemirror_mode": {
    "name": "ipython",
    "version": 3
   },
   "file_extension": ".py",
   "mimetype": "text/x-python",
   "name": "python",
   "nbconvert_exporter": "python",
   "pygments_lexer": "ipython3",
   "version": "3.9.13"
  }
 },
 "nbformat": 4,
 "nbformat_minor": 5
}
