{
 "cells": [
  {
   "cell_type": "code",
   "execution_count": 4,
   "id": "8cec72ad",
   "metadata": {},
   "outputs": [],
   "source": [
    "import numpy as np\n",
    "import pandas as pd\n",
    "import time as TM\n",
    "from tensorflow.data import Dataset\n",
    "import tensorflow as tf\n",
    "import os\n",
    "import random\n",
    "import math"
   ]
  },
  {
   "cell_type": "code",
   "execution_count": 22,
   "id": "306a39a7",
   "metadata": {},
   "outputs": [],
   "source": [
    "def random_sum_pairs(n_examples, n_numbers, maxNum):\n",
    "    X,Y = [],[]\n",
    "    for i in range(n_examples):\n",
    "        in_pattern = [random.randint(1,maxNum) for _ in range(n_numbers)]\n",
    "        out_pattern = sum(in_pattern)\n",
    "        X.append(in_pattern)\n",
    "        Y.append(out_pattern)\n",
    "    return X,Y"
   ]
  },
  {
   "cell_type": "code",
   "execution_count": 123,
   "id": "9860b613",
   "metadata": {},
   "outputs": [],
   "source": [
    "def pairs_to_string(X, Y, n_numbers, largest):\n",
    "    max_len = n_numbers * math.ceil(math.log10(largest+1)) + n_numbers - 1\n",
    "    Xstr = [ '+'.join(list(map(lambda x:str(x),x))) for x in X]\n",
    "    Xstr = [''.join([' ' for _ in range(max_len- len(x))]) + x for x in Xstr]\n",
    "    \n",
    "    max_len = math.ceil(math.log10(n_numbers * (largest+1)))\n",
    "    Ystr = [ str(y) for y in Y]\n",
    "    Ystr = [''.join([' ' for _ in range(max_len- len(y))]) + y for y in Ystr]\n",
    "    \n",
    "    return Xstr, Ystr"
   ]
  },
  {
   "cell_type": "code",
   "execution_count": 304,
   "id": "7001ffdc",
   "metadata": {},
   "outputs": [],
   "source": [
    "def integer_encode(X, Y, alphabets):\n",
    "    char_to_int = dict((c,i) for i,c in enumerate(alphabets))\n",
    "    Xenc = []\n",
    "    for p in X:\n",
    "        integer_encoded = [char_to_int[char] for char in p]\n",
    "        Xenc.append(integer_encoded)\n",
    "        \n",
    "    Yenc = []\n",
    "    for p in Y:\n",
    "        integer_encoded = [char_to_int[char] for char in p]\n",
    "        Yenc.append(integer_encoded)\n",
    "    return Xenc, Yenc"
   ]
  },
  {
   "cell_type": "code",
   "execution_count": 325,
   "id": "44f2f32b",
   "metadata": {},
   "outputs": [],
   "source": [
    "def integer_decode(sequence, alphabets):\n",
    "    int_to_char = dict((i,c) for i,c in enumerate(alphabets))\n",
    "    strings = []\n",
    "    for p in sequence:\n",
    "        string = int_to_char[p]\n",
    "        strings.append(string)\n",
    "        \n",
    "    return ''.join(strings)"
   ]
  },
  {
   "cell_type": "code",
   "execution_count": 345,
   "id": "335f7317",
   "metadata": {},
   "outputs": [],
   "source": [
    "def one_hot_encode(X, y, alphabet_len):\n",
    "    Xenc = []\n",
    "    for p in X:\n",
    "        pattern = []\n",
    "        for index in p:\n",
    "            vector = [0 for _ in range(alphabet_len)]\n",
    "            vector[index] = 1\n",
    "            pattern.append(vector)\n",
    "        Xenc.append(pattern)\n",
    "    yenc = []\n",
    "    for p in y:\n",
    "        pattern = []\n",
    "        for index in p:\n",
    "            vector = [0 for _ in range(alphabet_len)]\n",
    "            vector[index] = 1\n",
    "            pattern.append(vector)\n",
    "        yenc.append(pattern)\n",
    "    return np.array(Xenc), np.array(yenc)"
   ]
  },
  {
   "cell_type": "code",
   "execution_count": 352,
   "id": "6e12d5ed",
   "metadata": {},
   "outputs": [],
   "source": [
    "def generate_data(n_samples, n_numbers, maxNum):\n",
    "    alphabet = [*[str(i) for i in range(10)],*[' ','+']]\n",
    "    X,Y = random_sum_pairs(n_samples,n_numbers,maxNum)\n",
    "    X, Y = pairs_to_string(X,Y,n_numbers,maxNum)\n",
    "    X, Y = integer_encode(X,Y, alphabet)\n",
    "    X, Y = one_hot_encode(X, Y, len(alphabet))\n",
    "\n",
    "    return X,Y, alphabet"
   ]
  },
  {
   "cell_type": "code",
   "execution_count": 353,
   "id": "7adbf89c",
   "metadata": {},
   "outputs": [
    {
     "name": "stdout",
     "output_type": "stream",
     "text": [
      "['0', '1', '2', '3', '4', '5', '6', '7', '8', '9', ' ', '+']\n"
     ]
    },
    {
     "data": {
      "text/plain": [
       "(1000, 11, 12)"
      ]
     },
     "execution_count": 353,
     "metadata": {},
     "output_type": "execute_result"
    }
   ],
   "source": [
    "X, Y, alphabet = generate_data(1000,4,20)\n",
    "print(alphabet)\n",
    "X.shape"
   ]
  },
  {
   "cell_type": "code",
   "execution_count": 354,
   "id": "6cf858b1",
   "metadata": {},
   "outputs": [
    {
     "data": {
      "text/plain": [
       "array([[0, 0, 0, 0, 0, 0, 0, 0, 0, 0, 1, 0],\n",
       "       [0, 0, 0, 0, 0, 0, 0, 0, 0, 0, 1, 0],\n",
       "       [0, 0, 0, 0, 0, 0, 0, 0, 0, 0, 1, 0],\n",
       "       [0, 1, 0, 0, 0, 0, 0, 0, 0, 0, 0, 0],\n",
       "       [0, 0, 0, 0, 0, 0, 0, 1, 0, 0, 0, 0],\n",
       "       [0, 0, 0, 0, 0, 0, 0, 0, 0, 0, 0, 1],\n",
       "       [0, 0, 0, 0, 0, 0, 0, 1, 0, 0, 0, 0],\n",
       "       [0, 0, 0, 0, 0, 0, 0, 0, 0, 0, 0, 1],\n",
       "       [0, 0, 0, 0, 0, 1, 0, 0, 0, 0, 0, 0],\n",
       "       [0, 0, 0, 0, 0, 0, 0, 0, 0, 0, 0, 1],\n",
       "       [0, 0, 0, 0, 0, 1, 0, 0, 0, 0, 0, 0]])"
      ]
     },
     "execution_count": 354,
     "metadata": {},
     "output_type": "execute_result"
    }
   ],
   "source": [
    "X[0]"
   ]
  },
  {
   "cell_type": "code",
   "execution_count": null,
   "id": "d8d631e0",
   "metadata": {},
   "outputs": [],
   "source": [
    "#22:00"
   ]
  },
  {
   "cell_type": "code",
   "execution_count": null,
   "id": "7bec55f8",
   "metadata": {},
   "outputs": [],
   "source": []
  },
  {
   "cell_type": "code",
   "execution_count": null,
   "id": "03a8010c",
   "metadata": {},
   "outputs": [],
   "source": []
  },
  {
   "cell_type": "code",
   "execution_count": null,
   "id": "369b7893",
   "metadata": {},
   "outputs": [],
   "source": []
  },
  {
   "cell_type": "code",
   "execution_count": null,
   "id": "7d86d77e",
   "metadata": {},
   "outputs": [],
   "source": []
  },
  {
   "cell_type": "code",
   "execution_count": null,
   "id": "de953506",
   "metadata": {},
   "outputs": [],
   "source": []
  },
  {
   "cell_type": "code",
   "execution_count": null,
   "id": "216b8e28",
   "metadata": {},
   "outputs": [],
   "source": []
  },
  {
   "cell_type": "code",
   "execution_count": null,
   "id": "68798cf3",
   "metadata": {},
   "outputs": [],
   "source": []
  },
  {
   "cell_type": "code",
   "execution_count": null,
   "id": "2b809800",
   "metadata": {},
   "outputs": [],
   "source": []
  }
 ],
 "metadata": {
  "kernelspec": {
   "display_name": "Python 3 (ipykernel)",
   "language": "python",
   "name": "python3"
  },
  "language_info": {
   "codemirror_mode": {
    "name": "ipython",
    "version": 3
   },
   "file_extension": ".py",
   "mimetype": "text/x-python",
   "name": "python",
   "nbconvert_exporter": "python",
   "pygments_lexer": "ipython3",
   "version": "3.9.13"
  }
 },
 "nbformat": 4,
 "nbformat_minor": 5
}
