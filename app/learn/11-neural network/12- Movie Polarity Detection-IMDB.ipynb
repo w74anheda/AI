{
 "cells": [
  {
   "cell_type": "markdown",
   "id": "96449a73",
   "metadata": {},
   "source": [
    "# CNN Movie Polarity Detection\n",
    "\n",
    "### dataset url : https://www.cs.cornell.edu/people/pabo/movie-review-data/\n",
    "\n",
    "## search  : keras text_generation"
   ]
  },
  {
   "cell_type": "code",
   "execution_count": 2,
   "id": "f377ed16",
   "metadata": {},
   "outputs": [],
   "source": [
    "import os\n",
    "import pandas as pd\n",
    "from bs4 import BeautifulSoup\n",
    "import numpy as np\n",
    "from nltk.corpus import stopwords\n",
    "from nltk import word_tokenize\n",
    "import matplotlib.pyplot as PLT\n",
    "from sklearn.model_selection import train_test_split\n",
    "from tensorflow.keras.preprocessing.text import Tokenizer\n",
    "from tensorflow.keras.preprocessing.sequence import pad_sequences\n",
    "from sklearn.preprocessing import LabelBinarizer\n",
    "from tensorflow.keras.optimizers.legacy import Adam\n",
    "from tensorflow.keras.utils import plot_model\n",
    "from tensorflow.keras.models import Model,Sequential,load_model\n",
    "from tensorflow.keras.layers import Input,Dense,Flatten,Embedding,Conv1D,MaxPool1D,concatenate,Dropout,Conv2D,MaxPool2D,Activation,BatchNormalization"
   ]
  },
  {
   "cell_type": "code",
   "execution_count": 4,
   "id": "9b03ce73",
   "metadata": {},
   "outputs": [
    {
     "name": "stdout",
     "output_type": "stream",
     "text": [
      "[PhysicalDevice(name='/physical_device:GPU:0', device_type='GPU')]\n"
     ]
    }
   ],
   "source": [
    "import tensorflow as tf; print(tf.config.list_physical_devices('GPU'))"
   ]
  },
  {
   "cell_type": "code",
   "execution_count": 5,
   "id": "a140cacb",
   "metadata": {},
   "outputs": [
    {
     "name": "stderr",
     "output_type": "stream",
     "text": [
      "[nltk_data] Downloading package stopwords to /home/masoud/nltk_data...\n",
      "[nltk_data]   Package stopwords is already up-to-date!\n"
     ]
    },
    {
     "data": {
      "text/plain": [
       "True"
      ]
     },
     "execution_count": 5,
     "metadata": {},
     "output_type": "execute_result"
    }
   ],
   "source": [
    "import nltk\n",
    "from nltk.stem import PorterStemmer\n",
    "from nltk.stem import WordNetLemmatizer\n",
    "# nltk.download('punkt')\n",
    "nltk.download('stopwords')\n",
    "# nltk.download('wordnet')\n",
    "# nltk.download('omw-1.4')"
   ]
  },
  {
   "cell_type": "code",
   "execution_count": 6,
   "id": "589770e6",
   "metadata": {},
   "outputs": [],
   "source": [
    "from string import punctuation\n",
    "def punctuation_cleaner(string):\n",
    "    global punctuation\n",
    "    punctuation = punctuation+'\\n\\\\//'\n",
    "    s = str.maketrans('','',punctuation)\n",
    "    return string.translate(s)\n",
    "\n",
    "stopwords_en = stopwords.words('english')"
   ]
  },
  {
   "cell_type": "code",
   "execution_count": 7,
   "id": "91c66691",
   "metadata": {},
   "outputs": [
    {
     "data": {
      "text/html": [
       "<div>\n",
       "<style scoped>\n",
       "    .dataframe tbody tr th:only-of-type {\n",
       "        vertical-align: middle;\n",
       "    }\n",
       "\n",
       "    .dataframe tbody tr th {\n",
       "        vertical-align: top;\n",
       "    }\n",
       "\n",
       "    .dataframe thead th {\n",
       "        text-align: right;\n",
       "    }\n",
       "</style>\n",
       "<table border=\"1\" class=\"dataframe\">\n",
       "  <thead>\n",
       "    <tr style=\"text-align: right;\">\n",
       "      <th></th>\n",
       "      <th>text</th>\n",
       "      <th>target</th>\n",
       "    </tr>\n",
       "  </thead>\n",
       "  <tbody>\n",
       "    <tr>\n",
       "      <th>0</th>\n",
       "      <td>One of the other reviewers has mentioned that ...</td>\n",
       "      <td>positive</td>\n",
       "    </tr>\n",
       "    <tr>\n",
       "      <th>1</th>\n",
       "      <td>A wonderful little production. &lt;br /&gt;&lt;br /&gt;The...</td>\n",
       "      <td>positive</td>\n",
       "    </tr>\n",
       "    <tr>\n",
       "      <th>2</th>\n",
       "      <td>I thought this was a wonderful way to spend ti...</td>\n",
       "      <td>positive</td>\n",
       "    </tr>\n",
       "    <tr>\n",
       "      <th>3</th>\n",
       "      <td>Basically there's a family where a little boy ...</td>\n",
       "      <td>negative</td>\n",
       "    </tr>\n",
       "    <tr>\n",
       "      <th>4</th>\n",
       "      <td>Petter Mattei's \"Love in the Time of Money\" is...</td>\n",
       "      <td>positive</td>\n",
       "    </tr>\n",
       "  </tbody>\n",
       "</table>\n",
       "</div>"
      ],
      "text/plain": [
       "                                                text    target\n",
       "0  One of the other reviewers has mentioned that ...  positive\n",
       "1  A wonderful little production. <br /><br />The...  positive\n",
       "2  I thought this was a wonderful way to spend ti...  positive\n",
       "3  Basically there's a family where a little boy ...  negative\n",
       "4  Petter Mattei's \"Love in the Time of Money\" is...  positive"
      ]
     },
     "execution_count": 7,
     "metadata": {},
     "output_type": "execute_result"
    }
   ],
   "source": [
    "DF = pd.read_csv('../../../datasets/IMDB Dataset.csv')\n",
    "DF.rename(columns={'review':'text','sentiment':'target'},inplace=True)\n",
    "DF = DF.drop_duplicates()\n",
    "DF.head()"
   ]
  },
  {
   "cell_type": "code",
   "execution_count": 8,
   "id": "d4c29f79",
   "metadata": {},
   "outputs": [
    {
     "name": "stderr",
     "output_type": "stream",
     "text": [
      "/home/masoud/anaconda3/lib/python3.9/site-packages/bs4/__init__.py:435: MarkupResemblesLocatorWarning: The input looks more like a filename than markup. You may want to open this file and pass the filehandle into Beautiful Soup.\n",
      "  warnings.warn(\n"
     ]
    }
   ],
   "source": [
    "def html_cleaner(row):\n",
    "    soup = BeautifulSoup(row['text'], 'html.parser')\n",
    "    row['text'] = soup.get_text()\n",
    "    return row\n",
    "\n",
    "def target_encoder(row):\n",
    "    row['target'] = 1 if row['target'] =='positive' else 0\n",
    "    return row\n",
    "\n",
    "DF = DF.apply(html_cleaner,axis=1)\n",
    "DF = DF.apply(target_encoder,axis=1)"
   ]
  },
  {
   "cell_type": "code",
   "execution_count": 9,
   "id": "9cf3e04c",
   "metadata": {},
   "outputs": [],
   "source": [
    "def text_preprocess(row):\n",
    "    text = row['text']\n",
    "    text = punctuation_cleaner(text)\n",
    "    text = word_tokenize(text)\n",
    "    text = [w for w in text if w not in stopwords_en]\n",
    "    text = [lemmatizer.lemmatize(w) for w in text]\n",
    "    text = set([stemmer.stem(w) for w in text])\n",
    "    row['text'] = text\n",
    "    return row\n",
    "\n",
    "DF = DF.apply(html_cleaner,axis=1)"
   ]
  },
  {
   "cell_type": "code",
   "execution_count": 10,
   "id": "85a33491",
   "metadata": {},
   "outputs": [
    {
     "data": {
      "text/plain": [
       "(49582, 2)"
      ]
     },
     "execution_count": 10,
     "metadata": {},
     "output_type": "execute_result"
    }
   ],
   "source": [
    "DF.shape"
   ]
  },
  {
   "cell_type": "code",
   "execution_count": 11,
   "id": "ad4f13a5",
   "metadata": {
    "scrolled": true
   },
   "outputs": [
    {
     "data": {
      "text/html": [
       "<div>\n",
       "<style scoped>\n",
       "    .dataframe tbody tr th:only-of-type {\n",
       "        vertical-align: middle;\n",
       "    }\n",
       "\n",
       "    .dataframe tbody tr th {\n",
       "        vertical-align: top;\n",
       "    }\n",
       "\n",
       "    .dataframe thead th {\n",
       "        text-align: right;\n",
       "    }\n",
       "</style>\n",
       "<table border=\"1\" class=\"dataframe\">\n",
       "  <thead>\n",
       "    <tr style=\"text-align: right;\">\n",
       "      <th></th>\n",
       "      <th>text</th>\n",
       "      <th>target</th>\n",
       "    </tr>\n",
       "  </thead>\n",
       "  <tbody>\n",
       "    <tr>\n",
       "      <th>0</th>\n",
       "      <td>One of the other reviewers has mentioned that ...</td>\n",
       "      <td>1</td>\n",
       "    </tr>\n",
       "    <tr>\n",
       "      <th>1</th>\n",
       "      <td>A wonderful little production. The filming tec...</td>\n",
       "      <td>1</td>\n",
       "    </tr>\n",
       "    <tr>\n",
       "      <th>2</th>\n",
       "      <td>I thought this was a wonderful way to spend ti...</td>\n",
       "      <td>1</td>\n",
       "    </tr>\n",
       "    <tr>\n",
       "      <th>3</th>\n",
       "      <td>Basically there's a family where a little boy ...</td>\n",
       "      <td>0</td>\n",
       "    </tr>\n",
       "    <tr>\n",
       "      <th>4</th>\n",
       "      <td>Petter Mattei's \"Love in the Time of Money\" is...</td>\n",
       "      <td>1</td>\n",
       "    </tr>\n",
       "  </tbody>\n",
       "</table>\n",
       "</div>"
      ],
      "text/plain": [
       "                                                text  target\n",
       "0  One of the other reviewers has mentioned that ...       1\n",
       "1  A wonderful little production. The filming tec...       1\n",
       "2  I thought this was a wonderful way to spend ti...       1\n",
       "3  Basically there's a family where a little boy ...       0\n",
       "4  Petter Mattei's \"Love in the Time of Money\" is...       1"
      ]
     },
     "execution_count": 11,
     "metadata": {},
     "output_type": "execute_result"
    }
   ],
   "source": [
    "DF.head()"
   ]
  },
  {
   "cell_type": "code",
   "execution_count": 12,
   "id": "ff759aea",
   "metadata": {},
   "outputs": [],
   "source": [
    "max_len = DF['text'].str.split(' ').str.len().max() "
   ]
  },
  {
   "cell_type": "code",
   "execution_count": 13,
   "id": "f472a7b6",
   "metadata": {},
   "outputs": [],
   "source": [
    "X_train,X_test,Y_train,Y_test = train_test_split(DF.iloc[:,:-1],DF['target'],test_size=.3)"
   ]
  },
  {
   "cell_type": "code",
   "execution_count": 14,
   "id": "bdf9f139",
   "metadata": {},
   "outputs": [],
   "source": [
    "tokenizer = Tokenizer()\n",
    "tokenizer.fit_on_texts(X_train['text'])"
   ]
  },
  {
   "cell_type": "code",
   "execution_count": 15,
   "id": "82c7a071",
   "metadata": {},
   "outputs": [],
   "source": [
    "vocab_len = len(tokenizer.word_index) + 1 "
   ]
  },
  {
   "cell_type": "code",
   "execution_count": 16,
   "id": "910999b3",
   "metadata": {},
   "outputs": [],
   "source": [
    "X_train = tokenizer.texts_to_sequences(X_train['text'])\n",
    "X_train = pad_sequences(X_train,maxlen=max_len,padding='post')"
   ]
  },
  {
   "cell_type": "code",
   "execution_count": 17,
   "id": "783f9c8e",
   "metadata": {},
   "outputs": [],
   "source": [
    "X_test = tokenizer.texts_to_sequences(X_test['text'])\n",
    "X_test = pad_sequences(X_test,maxlen=max_len,padding='post')"
   ]
  },
  {
   "cell_type": "code",
   "execution_count": 18,
   "id": "a60be821",
   "metadata": {},
   "outputs": [
    {
     "data": {
      "text/plain": [
       "array([[   13,     3,   331, ...,     0,     0,     0],\n",
       "       [    7,   440,  7336, ...,     0,     0,     0],\n",
       "       [    9,   274,    10, ...,     0,     0,     0],\n",
       "       ...,\n",
       "       [ 4473, 11631,     6, ...,     0,     0,     0],\n",
       "       [ 2997,  2997,  2997, ...,     0,     0,     0],\n",
       "       [ 1941,     3,   182, ...,     0,     0,     0]], dtype=int32)"
      ]
     },
     "execution_count": 18,
     "metadata": {},
     "output_type": "execute_result"
    }
   ],
   "source": [
    "X_train"
   ]
  },
  {
   "cell_type": "code",
   "execution_count": 56,
   "id": "c15f588d",
   "metadata": {},
   "outputs": [],
   "source": [
    "model = Sequential([\n",
    "    Embedding(input_dim=vocab_len,output_dim=150,input_shape=(max_len,)),\n",
    "    Conv1D(filters=8, kernel_size=2, activation='relu'),\n",
    "    Dropout(.6),\n",
    "    MaxPool1D(pool_size=2),\n",
    "    \n",
    "    Conv1D(filters=16, kernel_size=2, activation='relu'),\n",
    "    Dropout(.6),\n",
    "    MaxPool1D(pool_size=4),\n",
    "    \n",
    "    Conv1D(filters=32, kernel_size=2, activation='relu'),\n",
    "    Dropout(.6),\n",
    "    MaxPool1D(pool_size=8),\n",
    "    \n",
    "    Conv1D(filters=64, kernel_size=2, activation='relu'),\n",
    "    Dropout(.6),\n",
    "    MaxPool1D(pool_size=16),\n",
    "    \n",
    "    Flatten(),\n",
    "    Dense(50,activation='relu'),\n",
    "    Dropout(.5),\n",
    "    Dense(40,activation='relu'),\n",
    "    Dropout(.5),\n",
    "    Dense(30,activation='relu'),\n",
    "    \n",
    "    Dense(1,activation='sigmoid')\n",
    "])\n",
    "model.compile(\n",
    "    loss='binary_crossentropy',\n",
    "    optimizer = Adam(.001),\n",
    "    metrics=['accuracy']\n",
    ")"
   ]
  },
  {
   "cell_type": "code",
   "execution_count": 57,
   "id": "d4edb639",
   "metadata": {},
   "outputs": [
    {
     "name": "stdout",
     "output_type": "stream",
     "text": [
      "Epoch 1/10\n",
      "348/348 [==============================] - 9s 24ms/step - loss: 0.6842 - accuracy: 0.5379 - val_loss: 0.6912 - val_accuracy: 0.5144\n",
      "Epoch 2/10\n",
      "348/348 [==============================] - 8s 24ms/step - loss: 0.5047 - accuracy: 0.7654 - val_loss: 0.7059 - val_accuracy: 0.5079\n",
      "Epoch 3/10\n",
      "348/348 [==============================] - 8s 24ms/step - loss: 0.3570 - accuracy: 0.8537 - val_loss: 0.6323 - val_accuracy: 0.6121\n",
      "Epoch 4/10\n",
      "348/348 [==============================] - 8s 24ms/step - loss: 0.2799 - accuracy: 0.8895 - val_loss: 0.5823 - val_accuracy: 0.5359\n",
      "Epoch 5/10\n",
      "348/348 [==============================] - 8s 24ms/step - loss: 0.2352 - accuracy: 0.9106 - val_loss: 0.6437 - val_accuracy: 0.6026\n",
      "Epoch 6/10\n",
      "348/348 [==============================] - 8s 24ms/step - loss: 0.1931 - accuracy: 0.9287 - val_loss: 0.6477 - val_accuracy: 0.5681\n",
      "Epoch 7/10\n",
      "348/348 [==============================] - 8s 24ms/step - loss: 0.1698 - accuracy: 0.9383 - val_loss: 0.6615 - val_accuracy: 0.6069\n",
      "Epoch 8/10\n",
      "348/348 [==============================] - 8s 24ms/step - loss: 0.1495 - accuracy: 0.9457 - val_loss: 0.5902 - val_accuracy: 0.6629\n",
      "Epoch 9/10\n",
      "348/348 [==============================] - 8s 24ms/step - loss: 0.1281 - accuracy: 0.9536 - val_loss: 0.6419 - val_accuracy: 0.6129\n",
      "Epoch 10/10\n",
      "348/348 [==============================] - 8s 24ms/step - loss: 0.1121 - accuracy: 0.9587 - val_loss: 0.5177 - val_accuracy: 0.7644\n"
     ]
    }
   ],
   "source": [
    "history = model.fit(X_train,Y_train,epochs=10, batch_size=100,validation_data=(X_test,Y_test))"
   ]
  },
  {
   "cell_type": "code",
   "execution_count": 58,
   "id": "05fabc91",
   "metadata": {},
   "outputs": [
    {
     "data": {
      "text/plain": [
       "[<matplotlib.lines.Line2D at 0x7fd5529ca280>]"
      ]
     },
     "execution_count": 58,
     "metadata": {},
     "output_type": "execute_result"
    },
    {
     "data": {
      "image/png": "[encoded data removed]",
      "text/plain": [
       "<Figure size 640x480 with 1 Axes>"
      ]
     },
     "metadata": {},
     "output_type": "display_data"
    }
   ],
   "source": [
    "PLT.plot(history.history['accuracy'], color='green', label='train data')\n",
    "PLT.plot(history.history['val_accuracy'], color='red', label='test data')"
   ]
  },
  {
   "cell_type": "markdown",
   "id": "06029899",
   "metadata": {},
   "source": [
    "## Multi Channel"
   ]
  },
  {
   "cell_type": "code",
   "execution_count": 63,
   "id": "a0f29287",
   "metadata": {},
   "outputs": [],
   "source": [
    "input1 = Input(shape=(max_len,))\n",
    "embeding1 = Embedding(vocab_len,100)(input1)\n",
    "conv1 = Conv1D(filters=8, kernel_size=2, activation='relu')(embeding1)\n",
    "# dropout1 = Dropout(.5)(conv1)\n",
    "maxpool1 = MaxPool1D(pool_size=2)(conv1)\n",
    "flat1 = Flatten()(maxpool1)\n",
    "\n",
    "input2 = Input(shape=(max_len,))\n",
    "embeding2 = Embedding(vocab_len,100)(input2)\n",
    "conv2 = Conv1D(filters=16, kernel_size=2, activation='relu')(embeding2)\n",
    "# dropout2 = Dropout(.5)(conv2)\n",
    "maxpool2 = MaxPool1D(pool_size=2)(conv2)\n",
    "flat2 = Flatten()(maxpool2)\n",
    "\n",
    "input3 = Input(shape=(max_len,))\n",
    "embeding3 = Embedding(vocab_len,100)(input3)\n",
    "conv3 = Conv1D(filters=32, kernel_size=2, activation='relu')(embeding3)\n",
    "# dropout3 = Dropout(.5)(conv3)\n",
    "maxpool3 = MaxPool1D(pool_size=2)(conv3)\n",
    "flat3 = Flatten()(maxpool3)\n",
    "\n",
    "flatX = concatenate([flat1,flat2,flat3])\n",
    "dense1 = Dense(100,activation='relu')(flatX)\n",
    "dense2 = Dense(10,activation='relu')(dense1)\n",
    "output = Dense(1,activation='sigmoid')(dense2)"
   ]
  },
  {
   "cell_type": "code",
   "execution_count": 64,
   "id": "f924fadc",
   "metadata": {},
   "outputs": [],
   "source": [
    "model = Model(inputs=[input1,input2,input3],outputs=output)\n",
    "model.compile(\n",
    "    loss='binary_crossentropy',\n",
    "    optimizer = Adam(),\n",
    "    metrics=['accuracy']\n",
    ")"
   ]
  },
  {
   "cell_type": "code",
   "execution_count": 65,
   "id": "ef5a2d0a",
   "metadata": {},
   "outputs": [
    {
     "name": "stdout",
     "output_type": "stream",
     "text": [
      "You must install pydot (`pip install pydot`) and install graphviz (see instructions at https://graphviz.gitlab.io/download/) for plot_model to work.\n"
     ]
    }
   ],
   "source": [
    "plot_model(model,show_layer_names=False,show_layer_activations=True)"
   ]
  },
  {
   "cell_type": "code",
   "execution_count": 66,
   "id": "5ebca5ee",
   "metadata": {},
   "outputs": [
    {
     "name": "stdout",
     "output_type": "stream",
     "text": [
      "Epoch 1/5\n",
      "1736/1736 [==============================] - 41s 23ms/step - loss: 0.3417 - accuracy: 0.8346 - val_loss: 0.2488 - val_accuracy: 0.8990\n",
      "Epoch 2/5\n",
      "1736/1736 [==============================] - 40s 23ms/step - loss: 0.1065 - accuracy: 0.9631 - val_loss: 0.3198 - val_accuracy: 0.8918\n",
      "Epoch 3/5\n",
      "1736/1736 [==============================] - 40s 23ms/step - loss: 0.0187 - accuracy: 0.9946 - val_loss: 0.4654 - val_accuracy: 0.8809\n",
      "Epoch 4/5\n",
      "1736/1736 [==============================] - 40s 23ms/step - loss: 0.0099 - accuracy: 0.9967 - val_loss: 0.6163 - val_accuracy: 0.8868\n",
      "Epoch 5/5\n",
      "1736/1736 [==============================] - 40s 23ms/step - loss: 0.0066 - accuracy: 0.9977 - val_loss: 0.7025 - val_accuracy: 0.8893\n"
     ]
    }
   ],
   "source": [
    "history = model.fit(\n",
    "    [X_train,X_train,X_train],\n",
    "    Y_train,\n",
    "    epochs=5,\n",
    "    batch_size=20,\n",
    "    validation_data=([X_test,X_test,X_test],Y_test)\n",
    ")"
   ]
  },
  {
   "cell_type": "code",
   "execution_count": 24,
   "id": "ff6e5cab",
   "metadata": {},
   "outputs": [],
   "source": [
    "model.save('../../../datasets/models/movie_polarity_detection.h5')"
   ]
  },
  {
   "cell_type": "code",
   "execution_count": 67,
   "id": "6cccdf6d",
   "metadata": {},
   "outputs": [
    {
     "data": {
      "text/plain": [
       "[<matplotlib.lines.Line2D at 0x7fd5541fb3d0>]"
      ]
     },
     "execution_count": 67,
     "metadata": {},
     "output_type": "execute_result"
    },
    {
     "data": {
      "image/png": "[encoded data removed]",
      "text/plain": [
       "<Figure size 640x480 with 1 Axes>"
      ]
     },
     "metadata": {},
     "output_type": "display_data"
    }
   ],
   "source": [
    "PLT.plot(history.history['accuracy'], color='green', label='train data')\n",
    "PLT.plot(history.history['val_accuracy'], color='red', label='test data')"
   ]
  }
 ],
 "metadata": {
  "kernelspec": {
   "display_name": "Python 3 (ipykernel)",
   "language": "python",
   "name": "python3"
  },
  "language_info": {
   "codemirror_mode": {
    "name": "ipython",
    "version": 3
   },
   "file_extension": ".py",
   "mimetype": "text/x-python",
   "name": "python",
   "nbconvert_exporter": "python",
   "pygments_lexer": "ipython3",
   "version": "3.9.13"
  }
 },
 "nbformat": 4,
 "nbformat_minor": 5
}
