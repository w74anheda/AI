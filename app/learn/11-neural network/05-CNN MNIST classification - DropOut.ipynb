{
 "cells": [
  {
   "cell_type": "code",
   "execution_count": 27,
   "id": "eaace6ab",
   "metadata": {
    "scrolled": true
   },
   "outputs": [],
   "source": [
    "import numpy as np\n",
    "import pandas as pd\n",
    "import matplotlib.pyplot as PLT\n",
    "from tensorflow.keras import Sequential\n",
    "from tensorflow.keras.layers import Dense, Flatten, Conv2D, MaxPool2D,ZeroPadding2D, Dropout\n",
    "from tensorflow.keras.utils import to_categorical\n",
    "import tensorflow as tf"
   ]
  },
  {
   "cell_type": "code",
   "execution_count": 19,
   "id": "48adb3e8",
   "metadata": {},
   "outputs": [],
   "source": [
    "(X_train,Y_train), (X_test, Y_test) = tf.keras.datasets.mnist.load_data()"
   ]
  },
  {
   "cell_type": "code",
   "execution_count": 23,
   "id": "f7e415e5",
   "metadata": {},
   "outputs": [
    {
     "data": {
      "text/plain": [
       "(60000, 28, 28)"
      ]
     },
     "execution_count": 23,
     "metadata": {},
     "output_type": "execute_result"
    }
   ],
   "source": [
    "X_train.shape"
   ]
  },
  {
   "cell_type": "code",
   "execution_count": 24,
   "id": "9e6c7321",
   "metadata": {},
   "outputs": [],
   "source": [
    "X_train, X_test = X_train/255, X_test/255\n",
    "X_train, X_test = np.expand_dims(X_train, axis=3), np.expand_dims(X_test, axis=3)"
   ]
  },
  {
   "cell_type": "code",
   "execution_count": 25,
   "id": "ec3550f0",
   "metadata": {},
   "outputs": [
    {
     "data": {
      "text/plain": [
       "(60000, 28, 28, 1)"
      ]
     },
     "execution_count": 25,
     "metadata": {},
     "output_type": "execute_result"
    }
   ],
   "source": [
    "X_train.shape"
   ]
  },
  {
   "cell_type": "code",
   "execution_count": 8,
   "id": "e8b89c52",
   "metadata": {},
   "outputs": [],
   "source": [
    "model = Sequential([\n",
    "    ZeroPadding2D(padding=(1,1), input_shape=(28,28,1)),\n",
    "    Conv2D(32, 3, strides=1, activation='relu'),\n",
    "    MaxPool2D(pool_size=2, strides=2),\n",
    "    Conv2D(64, 3, strides=1, activation='relu', padding='same'),\n",
    "    MaxPool2D(pool_size=2, strides=2),\n",
    "    Flatten(),\n",
    "    Dense(10, activation='relu'),\n",
    "    Dense(10, activation='softmax')\n",
    "])\n",
    "\n",
    "\n",
    "model.compile(optimizer='adam', loss='categorical_crossentropy', metrics=['accuracy'])"
   ]
  },
  {
   "cell_type": "code",
   "execution_count": 9,
   "id": "323c5d69",
   "metadata": {},
   "outputs": [],
   "source": [
    "Y_train_OneHotEncode = to_categorical(Y_train)\n",
    "Y_test_OneHotEncode = to_categorical(Y_test)"
   ]
  },
  {
   "cell_type": "code",
   "execution_count": 11,
   "id": "73812eb5",
   "metadata": {},
   "outputs": [
    {
     "name": "stdout",
     "output_type": "stream",
     "text": [
      "Epoch 1/2\n",
      "200/200 [==============================] - 145s 724ms/step - loss: 0.8235 - accuracy: 0.7892 - val_loss: 0.4006 - val_accuracy: 0.8974\n",
      "Epoch 2/2\n",
      "200/200 [==============================] - 170s 849ms/step - loss: 0.2147 - accuracy: 0.9365 - val_loss: 0.1482 - val_accuracy: 0.9583\n"
     ]
    }
   ],
   "source": [
    "history = model.fit(\n",
    "        X_train,Y_train_OneHotEncode,\n",
    "        epochs=2,\n",
    "        validation_data=(X_test,Y_test_OneHotEncode),\n",
    "        batch_size=300\n",
    ")"
   ]
  },
  {
   "cell_type": "code",
   "execution_count": 12,
   "id": "742a232f",
   "metadata": {},
   "outputs": [
    {
     "data": {
      "text/plain": [
       "[<matplotlib.lines.Line2D at 0x7f44067d3a90>]"
      ]
     },
     "execution_count": 12,
     "metadata": {},
     "output_type": "execute_result"
    },
    {
     "data": {
      "image/png": "[encoded data removed]",
      "text/plain": [
       "<Figure size 432x288 with 1 Axes>"
      ]
     },
     "metadata": {
      "needs_background": "light"
     },
     "output_type": "display_data"
    }
   ],
   "source": [
    "PLT.plot(history.history['loss'], color='green', label='train data')\n",
    "PLT.plot(history.history['val_loss'], color='red', label='test data')"
   ]
  },
  {
   "cell_type": "code",
   "execution_count": 13,
   "id": "7d23c131",
   "metadata": {},
   "outputs": [
    {
     "data": {
      "text/plain": [
       "[<matplotlib.lines.Line2D at 0x7f4406731a60>]"
      ]
     },
     "execution_count": 13,
     "metadata": {},
     "output_type": "execute_result"
    },
    {
     "data": {
      "image/png": "[encoded data removed]",
      "text/plain": [
       "<Figure size 432x288 with 1 Axes>"
      ]
     },
     "metadata": {
      "needs_background": "light"
     },
     "output_type": "display_data"
    }
   ],
   "source": [
    "PLT.plot(history.history['accuracy'], color='green', label='train data')\n",
    "PLT.plot(history.history['val_accuracy'], color='red', label='test data')"
   ]
  },
  {
   "cell_type": "markdown",
   "id": "d2db241a",
   "metadata": {},
   "source": [
    "# DropOut\n",
    "###  deactive some random noron for no overfiting"
   ]
  },
  {
   "cell_type": "code",
   "execution_count": 42,
   "id": "4ad01e1c",
   "metadata": {},
   "outputs": [],
   "source": [
    "model = Sequential([\n",
    "    ZeroPadding2D(padding=(1,1), input_shape=(28,28,1)),\n",
    "    Conv2D(2, 3, strides=1, activation='relu'),\n",
    "    Dropout(0.2),\n",
    "    MaxPool2D(pool_size=2, strides=2),\n",
    "    Conv2D(2, 3, strides=1, activation='relu', padding='same'),\n",
    "    Dropout(0.2),\n",
    "    MaxPool2D(pool_size=2, strides=2),\n",
    "    Flatten(),\n",
    "    Dense(100, activation='relu'),\n",
    "    Dropout(0.5),\n",
    "    Dense(10, activation='softmax')\n",
    "])\n",
    "\n",
    "\n",
    "model.compile(optimizer='adam', loss='categorical_crossentropy', metrics=['accuracy'])"
   ]
  },
  {
   "cell_type": "code",
   "execution_count": 43,
   "id": "42754995",
   "metadata": {},
   "outputs": [
    {
     "name": "stdout",
     "output_type": "stream",
     "text": [
      "Epoch 1/2\n",
      "10/10 [==============================] - 13s 1s/step - loss: 2.2956 - accuracy: 0.1327 - val_loss: 2.2226 - val_accuracy: 0.3063\n",
      "Epoch 2/2\n",
      "10/10 [==============================] - 14s 1s/step - loss: 2.1660 - accuracy: 0.2527 - val_loss: 2.1202 - val_accuracy: 0.4624\n"
     ]
    }
   ],
   "source": [
    "history = model.fit(\n",
    "        X_train,Y_train_OneHotEncode,\n",
    "        epochs=2,\n",
    "        validation_data=(X_test,Y_test_OneHotEncode),\n",
    "        batch_size=6000\n",
    ")"
   ]
  },
  {
   "cell_type": "code",
   "execution_count": 38,
   "id": "9d02dafb",
   "metadata": {},
   "outputs": [
    {
     "data": {
      "text/plain": [
       "[<matplotlib.lines.Line2D at 0x7f4518490a90>]"
      ]
     },
     "execution_count": 38,
     "metadata": {},
     "output_type": "execute_result"
    },
    {
     "data": {
      "image/png": "[encoded data removed]",
      "text/plain": [
       "<Figure size 432x288 with 1 Axes>"
      ]
     },
     "metadata": {
      "needs_background": "light"
     },
     "output_type": "display_data"
    }
   ],
   "source": [
    "PLT.plot(history.history['loss'], color='green', label='train data')\n",
    "PLT.plot(history.history['val_loss'], color='red', label='test data')"
   ]
  },
  {
   "cell_type": "code",
   "execution_count": 39,
   "id": "98036252",
   "metadata": {},
   "outputs": [
    {
     "data": {
      "text/plain": [
       "[<matplotlib.lines.Line2D at 0x7f440432e5e0>]"
      ]
     },
     "execution_count": 39,
     "metadata": {},
     "output_type": "execute_result"
    },
    {
     "data": {
      "image/png": "[encoded data removed]",
      "text/plain": [
       "<Figure size 432x288 with 1 Axes>"
      ]
     },
     "metadata": {
      "needs_background": "light"
     },
     "output_type": "display_data"
    }
   ],
   "source": [
    "PLT.plot(history.history['accuracy'], color='green', label='train data')\n",
    "PLT.plot(history.history['val_accuracy'], color='red', label='test data')"
   ]
  },
  {
   "cell_type": "code",
   "execution_count": 33,
   "id": "debcc81a",
   "metadata": {},
   "outputs": [
    {
     "name": "stderr",
     "output_type": "stream",
     "text": [
      "WARNING:absl:Found untraced functions such as _jit_compiled_convolution_op, _jit_compiled_convolution_op while saving (showing 2 of 2). These functions will not be directly callable after loading.\n"
     ]
    },
    {
     "name": "stdout",
     "output_type": "stream",
     "text": [
      "INFO:tensorflow:Assets written to: tf-cnn-mnist.m74/assets\n"
     ]
    },
    {
     "name": "stderr",
     "output_type": "stream",
     "text": [
      "INFO:tensorflow:Assets written to: tf-cnn-mnist.m74/assets\n"
     ]
    }
   ],
   "source": [
    "model.save('tf-cnn-mnist.m74')"
   ]
  },
  {
   "cell_type": "code",
   "execution_count": null,
   "id": "3faa8d2f",
   "metadata": {},
   "outputs": [],
   "source": []
  },
  {
   "cell_type": "code",
   "execution_count": null,
   "id": "88e1a3a4",
   "metadata": {},
   "outputs": [],
   "source": []
  },
  {
   "cell_type": "code",
   "execution_count": null,
   "id": "319f4552",
   "metadata": {},
   "outputs": [],
   "source": []
  },
  {
   "cell_type": "code",
   "execution_count": null,
   "id": "6fb0dadc",
   "metadata": {},
   "outputs": [],
   "source": []
  },
  {
   "cell_type": "code",
   "execution_count": null,
   "id": "577bca2c",
   "metadata": {},
   "outputs": [],
   "source": []
  },
  {
   "cell_type": "code",
   "execution_count": null,
   "id": "c709653e",
   "metadata": {},
   "outputs": [],
   "source": []
  },
  {
   "cell_type": "code",
   "execution_count": null,
   "id": "d309d308",
   "metadata": {},
   "outputs": [],
   "source": []
  },
  {
   "cell_type": "code",
   "execution_count": null,
   "id": "f2d2ed42",
   "metadata": {},
   "outputs": [],
   "source": []
  }
 ],
 "metadata": {
  "kernelspec": {
   "display_name": "Python 3 (ipykernel)",
   "language": "python",
   "name": "python3"
  },
  "language_info": {
   "codemirror_mode": {
    "name": "ipython",
    "version": 3
   },
   "file_extension": ".py",
   "mimetype": "text/x-python",
   "name": "python",
   "nbconvert_exporter": "python",
   "pygments_lexer": "ipython3",
   "version": "3.9.13"
  }
 },
 "nbformat": 4,
 "nbformat_minor": 5
}
