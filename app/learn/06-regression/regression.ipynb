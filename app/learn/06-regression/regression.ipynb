{
 "cells": [
  {
   "cell_type": "markdown",
   "id": "32c0f6fc",
   "metadata": {},
   "source": []
  },
  {
   "cell_type": "code",
   "execution_count": 228,
   "id": "09ea5672",
   "metadata": {},
   "outputs": [],
   "source": [
    "import pandas as pd\n",
    "import numpy as np\n",
    "from sklearn.model_selection import train_test_split\n",
    "from sklearn.linear_model import LinearRegression\n",
    "from sklearn.preprocessing import LabelEncoder\n",
    "from sklearn.metrics import confusion_matrix,classification_report,mean_absolute_error,r2_score\n",
    "from sklearn.svm import SVR\n",
    "from sklearn.neighbors import KNeighborsRegressor\n",
    "from sklearn.preprocessing import OneHotEncoder\n",
    "from sklearn.compose import ColumnTransformer\n",
    "from sklearn.preprocessing import Normalizer\n",
    "from sklearn.ensemble import RandomForestRegressor\n",
    "from sklearn.ensemble import AdaBoostRegressor\n",
    "from sklearn.tree import DecisionTreeRegressor"
   ]
  },
  {
   "cell_type": "code",
   "execution_count": 25,
   "id": "8ff825db",
   "metadata": {
    "scrolled": true
   },
   "outputs": [],
   "source": [
    "RNST = 1373\n",
    "DF = pd.read_csv('../../datasets/Automobile.csv',low_memory=False,\n",
    "                 usecols=[\n",
    "                     'bore','fuel_type','number_of_doors','body_style','engine_location','engine_type','engine_size',\n",
    "                     'fuel_system','bore','horsepower','peak_rpm','city_mpg','highway_mpg',\n",
    "                     'compression_ratio','stroke','price'\n",
    "                 ])"
   ]
  },
  {
   "cell_type": "code",
   "execution_count": null,
   "id": "6a9e863d",
   "metadata": {},
   "outputs": [],
   "source": [
    "# lbe_fuel_type = LabelEncoder()\n",
    "# DF['fuel_type'] = lbe_fuel_type.fit_transform(DF['fuel_type'])\n",
    "\n",
    "# lbe_number_of_doors = LabelEncoder()\n",
    "# DF['number_of_doors'] = lbe_number_of_doors.fit_transform(DF['number_of_doors'])\n",
    "\n",
    "# lbe_body_style = LabelEncoder()\n",
    "# DF['body_style'] = lbe_body_style.fit_transform(DF['body_style'])\n",
    "\n",
    "# lbe_engine_location = LabelEncoder()\n",
    "# DF['engine_location'] = lbe_engine_location.fit_transform(DF['engine_location'])\n",
    "\n",
    "# lbe_engine_type = LabelEncoder()\n",
    "# DF['engine_type'] = lbe_engine_type.fit_transform(DF['engine_type'])\n",
    "\n",
    "# lbe_fuel_system = LabelEncoder()\n",
    "# DF['fuel_system'] = lbe_fuel_system.fit_transform(DF['fuel_system'])\n"
   ]
  },
  {
   "cell_type": "code",
   "execution_count": 4,
   "id": "4cd53662",
   "metadata": {},
   "outputs": [],
   "source": [
    "def OHC_transformer_single_column(DF,column_name,merged = False):\n",
    "    label_encoder = LabelEncoder()\n",
    "    encoded = label_encoder.fit_transform(DF[column_name])\n",
    "    labels =pd.Series(label_encoder.classes_)\n",
    "    \n",
    "    clmt = ColumnTransformer([(column_name,OneHotEncoder(),[0])], remainder='passthrough')\n",
    "    clmt_fited_data = clmt.fit_transform(DF[[column_name]]) \n",
    "    clmt_fited_data = clmt_fited_data if type(clmt_fited_data)== np.ndarray else clmt_fited_data.toarray()  \n",
    "    NDF = pd.DataFrame(clmt_fited_data,columns=[f'{column_name}_{x}' for x in labels])\n",
    "    \n",
    "    if merged is True :\n",
    "        merged = DF.merge(NDF, left_index=True,right_index=True)\n",
    "        return merged.drop(columns=[column_name])\n",
    "    else: \n",
    "        return NDF"
   ]
  },
  {
   "cell_type": "code",
   "execution_count": 27,
   "id": "d73519a5",
   "metadata": {},
   "outputs": [],
   "source": [
    "PPDF = OHC_transformer_single_column(DF,'fuel_type',merged=True)\n",
    "PPDF = OHC_transformer_single_column(PPDF,'number_of_doors',merged=True)\n",
    "PPDF = OHC_transformer_single_column(PPDF,'body_style',merged=True)\n",
    "PPDF = OHC_transformer_single_column(PPDF,'engine_location',merged=True)\n",
    "PPDF = OHC_transformer_single_column(PPDF,'engine_type',merged=True)\n",
    "PPDF = OHC_transformer_single_column(PPDF,'fuel_system',merged=True)"
   ]
  },
  {
   "cell_type": "code",
   "execution_count": 44,
   "id": "7ba9fcc3",
   "metadata": {
    "scrolled": true
   },
   "outputs": [
    {
     "data": {
      "text/plain": [
       "Index(['engine_size', 'bore', 'stroke', 'compression_ratio', 'horsepower',\n",
       "       'peak_rpm', 'city_mpg', 'highway_mpg', 'price', 'fuel_type_diesel',\n",
       "       'fuel_type_gas', 'number_of_doors_four', 'number_of_doors_two',\n",
       "       'body_style_convertible', 'body_style_hardtop', 'body_style_hatchback',\n",
       "       'body_style_sedan', 'body_style_wagon', 'engine_location_front',\n",
       "       'engine_location_rear', 'engine_type_dohc', 'engine_type_l',\n",
       "       'engine_type_ohc', 'engine_type_ohcf', 'engine_type_ohcv',\n",
       "       'engine_type_rotor', 'fuel_system_1bbl', 'fuel_system_2bbl',\n",
       "       'fuel_system_4bbl', 'fuel_system_idi', 'fuel_system_mfi',\n",
       "       'fuel_system_mpfi', 'fuel_system_spdi', 'fuel_system_spfi'],\n",
       "      dtype='object')"
      ]
     },
     "execution_count": 44,
     "metadata": {},
     "output_type": "execute_result"
    }
   ],
   "source": [
    "PPDF.columns"
   ]
  },
  {
   "cell_type": "code",
   "execution_count": 45,
   "id": "1a0253aa",
   "metadata": {},
   "outputs": [
    {
     "data": {
      "text/html": [
       "<div>\n",
       "<style scoped>\n",
       "    .dataframe tbody tr th:only-of-type {\n",
       "        vertical-align: middle;\n",
       "    }\n",
       "\n",
       "    .dataframe tbody tr th {\n",
       "        vertical-align: top;\n",
       "    }\n",
       "\n",
       "    .dataframe thead th {\n",
       "        text-align: right;\n",
       "    }\n",
       "</style>\n",
       "<table border=\"1\" class=\"dataframe\">\n",
       "  <thead>\n",
       "    <tr style=\"text-align: right;\">\n",
       "      <th></th>\n",
       "      <th>engine_size</th>\n",
       "      <th>bore</th>\n",
       "      <th>stroke</th>\n",
       "      <th>compression_ratio</th>\n",
       "      <th>horsepower</th>\n",
       "      <th>peak_rpm</th>\n",
       "      <th>city_mpg</th>\n",
       "      <th>highway_mpg</th>\n",
       "      <th>price</th>\n",
       "      <th>fuel_type_diesel</th>\n",
       "      <th>...</th>\n",
       "      <th>engine_type_ohcv</th>\n",
       "      <th>engine_type_rotor</th>\n",
       "      <th>fuel_system_1bbl</th>\n",
       "      <th>fuel_system_2bbl</th>\n",
       "      <th>fuel_system_4bbl</th>\n",
       "      <th>fuel_system_idi</th>\n",
       "      <th>fuel_system_mfi</th>\n",
       "      <th>fuel_system_mpfi</th>\n",
       "      <th>fuel_system_spdi</th>\n",
       "      <th>fuel_system_spfi</th>\n",
       "    </tr>\n",
       "  </thead>\n",
       "  <tbody>\n",
       "    <tr>\n",
       "      <th>0</th>\n",
       "      <td>130</td>\n",
       "      <td>3.47</td>\n",
       "      <td>2.68</td>\n",
       "      <td>9.0</td>\n",
       "      <td>111</td>\n",
       "      <td>5000</td>\n",
       "      <td>21</td>\n",
       "      <td>27</td>\n",
       "      <td>13495</td>\n",
       "      <td>0.0</td>\n",
       "      <td>...</td>\n",
       "      <td>0.0</td>\n",
       "      <td>0.0</td>\n",
       "      <td>0.0</td>\n",
       "      <td>0.0</td>\n",
       "      <td>0.0</td>\n",
       "      <td>0.0</td>\n",
       "      <td>0.0</td>\n",
       "      <td>1.0</td>\n",
       "      <td>0.0</td>\n",
       "      <td>0.0</td>\n",
       "    </tr>\n",
       "    <tr>\n",
       "      <th>1</th>\n",
       "      <td>130</td>\n",
       "      <td>3.47</td>\n",
       "      <td>2.68</td>\n",
       "      <td>9.0</td>\n",
       "      <td>111</td>\n",
       "      <td>5000</td>\n",
       "      <td>21</td>\n",
       "      <td>27</td>\n",
       "      <td>16500</td>\n",
       "      <td>0.0</td>\n",
       "      <td>...</td>\n",
       "      <td>0.0</td>\n",
       "      <td>0.0</td>\n",
       "      <td>0.0</td>\n",
       "      <td>0.0</td>\n",
       "      <td>0.0</td>\n",
       "      <td>0.0</td>\n",
       "      <td>0.0</td>\n",
       "      <td>1.0</td>\n",
       "      <td>0.0</td>\n",
       "      <td>0.0</td>\n",
       "    </tr>\n",
       "    <tr>\n",
       "      <th>2</th>\n",
       "      <td>152</td>\n",
       "      <td>2.68</td>\n",
       "      <td>3.47</td>\n",
       "      <td>9.0</td>\n",
       "      <td>154</td>\n",
       "      <td>5000</td>\n",
       "      <td>19</td>\n",
       "      <td>26</td>\n",
       "      <td>16500</td>\n",
       "      <td>0.0</td>\n",
       "      <td>...</td>\n",
       "      <td>1.0</td>\n",
       "      <td>0.0</td>\n",
       "      <td>0.0</td>\n",
       "      <td>0.0</td>\n",
       "      <td>0.0</td>\n",
       "      <td>0.0</td>\n",
       "      <td>0.0</td>\n",
       "      <td>1.0</td>\n",
       "      <td>0.0</td>\n",
       "      <td>0.0</td>\n",
       "    </tr>\n",
       "    <tr>\n",
       "      <th>3</th>\n",
       "      <td>109</td>\n",
       "      <td>3.19</td>\n",
       "      <td>3.40</td>\n",
       "      <td>10.0</td>\n",
       "      <td>102</td>\n",
       "      <td>5500</td>\n",
       "      <td>24</td>\n",
       "      <td>30</td>\n",
       "      <td>13950</td>\n",
       "      <td>0.0</td>\n",
       "      <td>...</td>\n",
       "      <td>0.0</td>\n",
       "      <td>0.0</td>\n",
       "      <td>0.0</td>\n",
       "      <td>0.0</td>\n",
       "      <td>0.0</td>\n",
       "      <td>0.0</td>\n",
       "      <td>0.0</td>\n",
       "      <td>1.0</td>\n",
       "      <td>0.0</td>\n",
       "      <td>0.0</td>\n",
       "    </tr>\n",
       "    <tr>\n",
       "      <th>4</th>\n",
       "      <td>136</td>\n",
       "      <td>3.19</td>\n",
       "      <td>3.40</td>\n",
       "      <td>8.0</td>\n",
       "      <td>115</td>\n",
       "      <td>5500</td>\n",
       "      <td>18</td>\n",
       "      <td>22</td>\n",
       "      <td>17450</td>\n",
       "      <td>0.0</td>\n",
       "      <td>...</td>\n",
       "      <td>0.0</td>\n",
       "      <td>0.0</td>\n",
       "      <td>0.0</td>\n",
       "      <td>0.0</td>\n",
       "      <td>0.0</td>\n",
       "      <td>0.0</td>\n",
       "      <td>0.0</td>\n",
       "      <td>1.0</td>\n",
       "      <td>0.0</td>\n",
       "      <td>0.0</td>\n",
       "    </tr>\n",
       "    <tr>\n",
       "      <th>...</th>\n",
       "      <td>...</td>\n",
       "      <td>...</td>\n",
       "      <td>...</td>\n",
       "      <td>...</td>\n",
       "      <td>...</td>\n",
       "      <td>...</td>\n",
       "      <td>...</td>\n",
       "      <td>...</td>\n",
       "      <td>...</td>\n",
       "      <td>...</td>\n",
       "      <td>...</td>\n",
       "      <td>...</td>\n",
       "      <td>...</td>\n",
       "      <td>...</td>\n",
       "      <td>...</td>\n",
       "      <td>...</td>\n",
       "      <td>...</td>\n",
       "      <td>...</td>\n",
       "      <td>...</td>\n",
       "      <td>...</td>\n",
       "      <td>...</td>\n",
       "    </tr>\n",
       "    <tr>\n",
       "      <th>196</th>\n",
       "      <td>141</td>\n",
       "      <td>3.78</td>\n",
       "      <td>3.15</td>\n",
       "      <td>9.5</td>\n",
       "      <td>114</td>\n",
       "      <td>5400</td>\n",
       "      <td>23</td>\n",
       "      <td>28</td>\n",
       "      <td>16845</td>\n",
       "      <td>0.0</td>\n",
       "      <td>...</td>\n",
       "      <td>0.0</td>\n",
       "      <td>0.0</td>\n",
       "      <td>0.0</td>\n",
       "      <td>0.0</td>\n",
       "      <td>0.0</td>\n",
       "      <td>0.0</td>\n",
       "      <td>0.0</td>\n",
       "      <td>1.0</td>\n",
       "      <td>0.0</td>\n",
       "      <td>0.0</td>\n",
       "    </tr>\n",
       "    <tr>\n",
       "      <th>197</th>\n",
       "      <td>141</td>\n",
       "      <td>3.78</td>\n",
       "      <td>3.15</td>\n",
       "      <td>8.7</td>\n",
       "      <td>160</td>\n",
       "      <td>5300</td>\n",
       "      <td>19</td>\n",
       "      <td>25</td>\n",
       "      <td>19045</td>\n",
       "      <td>0.0</td>\n",
       "      <td>...</td>\n",
       "      <td>0.0</td>\n",
       "      <td>0.0</td>\n",
       "      <td>0.0</td>\n",
       "      <td>0.0</td>\n",
       "      <td>0.0</td>\n",
       "      <td>0.0</td>\n",
       "      <td>0.0</td>\n",
       "      <td>1.0</td>\n",
       "      <td>0.0</td>\n",
       "      <td>0.0</td>\n",
       "    </tr>\n",
       "    <tr>\n",
       "      <th>198</th>\n",
       "      <td>173</td>\n",
       "      <td>3.58</td>\n",
       "      <td>2.87</td>\n",
       "      <td>8.8</td>\n",
       "      <td>134</td>\n",
       "      <td>5500</td>\n",
       "      <td>18</td>\n",
       "      <td>23</td>\n",
       "      <td>21485</td>\n",
       "      <td>0.0</td>\n",
       "      <td>...</td>\n",
       "      <td>1.0</td>\n",
       "      <td>0.0</td>\n",
       "      <td>0.0</td>\n",
       "      <td>0.0</td>\n",
       "      <td>0.0</td>\n",
       "      <td>0.0</td>\n",
       "      <td>0.0</td>\n",
       "      <td>1.0</td>\n",
       "      <td>0.0</td>\n",
       "      <td>0.0</td>\n",
       "    </tr>\n",
       "    <tr>\n",
       "      <th>199</th>\n",
       "      <td>145</td>\n",
       "      <td>3.01</td>\n",
       "      <td>3.40</td>\n",
       "      <td>23.0</td>\n",
       "      <td>106</td>\n",
       "      <td>4800</td>\n",
       "      <td>26</td>\n",
       "      <td>27</td>\n",
       "      <td>22470</td>\n",
       "      <td>1.0</td>\n",
       "      <td>...</td>\n",
       "      <td>0.0</td>\n",
       "      <td>0.0</td>\n",
       "      <td>0.0</td>\n",
       "      <td>0.0</td>\n",
       "      <td>0.0</td>\n",
       "      <td>1.0</td>\n",
       "      <td>0.0</td>\n",
       "      <td>0.0</td>\n",
       "      <td>0.0</td>\n",
       "      <td>0.0</td>\n",
       "    </tr>\n",
       "    <tr>\n",
       "      <th>200</th>\n",
       "      <td>141</td>\n",
       "      <td>3.78</td>\n",
       "      <td>3.15</td>\n",
       "      <td>9.5</td>\n",
       "      <td>114</td>\n",
       "      <td>5400</td>\n",
       "      <td>19</td>\n",
       "      <td>25</td>\n",
       "      <td>22625</td>\n",
       "      <td>0.0</td>\n",
       "      <td>...</td>\n",
       "      <td>0.0</td>\n",
       "      <td>0.0</td>\n",
       "      <td>0.0</td>\n",
       "      <td>0.0</td>\n",
       "      <td>0.0</td>\n",
       "      <td>0.0</td>\n",
       "      <td>0.0</td>\n",
       "      <td>1.0</td>\n",
       "      <td>0.0</td>\n",
       "      <td>0.0</td>\n",
       "    </tr>\n",
       "  </tbody>\n",
       "</table>\n",
       "<p>201 rows × 34 columns</p>\n",
       "</div>"
      ],
      "text/plain": [
       "     engine_size  bore  stroke  compression_ratio  horsepower  peak_rpm  \\\n",
       "0            130  3.47    2.68                9.0         111      5000   \n",
       "1            130  3.47    2.68                9.0         111      5000   \n",
       "2            152  2.68    3.47                9.0         154      5000   \n",
       "3            109  3.19    3.40               10.0         102      5500   \n",
       "4            136  3.19    3.40                8.0         115      5500   \n",
       "..           ...   ...     ...                ...         ...       ...   \n",
       "196          141  3.78    3.15                9.5         114      5400   \n",
       "197          141  3.78    3.15                8.7         160      5300   \n",
       "198          173  3.58    2.87                8.8         134      5500   \n",
       "199          145  3.01    3.40               23.0         106      4800   \n",
       "200          141  3.78    3.15                9.5         114      5400   \n",
       "\n",
       "     city_mpg  highway_mpg  price  fuel_type_diesel  ...  engine_type_ohcv  \\\n",
       "0          21           27  13495               0.0  ...               0.0   \n",
       "1          21           27  16500               0.0  ...               0.0   \n",
       "2          19           26  16500               0.0  ...               1.0   \n",
       "3          24           30  13950               0.0  ...               0.0   \n",
       "4          18           22  17450               0.0  ...               0.0   \n",
       "..        ...          ...    ...               ...  ...               ...   \n",
       "196        23           28  16845               0.0  ...               0.0   \n",
       "197        19           25  19045               0.0  ...               0.0   \n",
       "198        18           23  21485               0.0  ...               1.0   \n",
       "199        26           27  22470               1.0  ...               0.0   \n",
       "200        19           25  22625               0.0  ...               0.0   \n",
       "\n",
       "     engine_type_rotor  fuel_system_1bbl  fuel_system_2bbl  fuel_system_4bbl  \\\n",
       "0                  0.0               0.0               0.0               0.0   \n",
       "1                  0.0               0.0               0.0               0.0   \n",
       "2                  0.0               0.0               0.0               0.0   \n",
       "3                  0.0               0.0               0.0               0.0   \n",
       "4                  0.0               0.0               0.0               0.0   \n",
       "..                 ...               ...               ...               ...   \n",
       "196                0.0               0.0               0.0               0.0   \n",
       "197                0.0               0.0               0.0               0.0   \n",
       "198                0.0               0.0               0.0               0.0   \n",
       "199                0.0               0.0               0.0               0.0   \n",
       "200                0.0               0.0               0.0               0.0   \n",
       "\n",
       "     fuel_system_idi  fuel_system_mfi  fuel_system_mpfi  fuel_system_spdi  \\\n",
       "0                0.0              0.0               1.0               0.0   \n",
       "1                0.0              0.0               1.0               0.0   \n",
       "2                0.0              0.0               1.0               0.0   \n",
       "3                0.0              0.0               1.0               0.0   \n",
       "4                0.0              0.0               1.0               0.0   \n",
       "..               ...              ...               ...               ...   \n",
       "196              0.0              0.0               1.0               0.0   \n",
       "197              0.0              0.0               1.0               0.0   \n",
       "198              0.0              0.0               1.0               0.0   \n",
       "199              1.0              0.0               0.0               0.0   \n",
       "200              0.0              0.0               1.0               0.0   \n",
       "\n",
       "     fuel_system_spfi  \n",
       "0                 0.0  \n",
       "1                 0.0  \n",
       "2                 0.0  \n",
       "3                 0.0  \n",
       "4                 0.0  \n",
       "..                ...  \n",
       "196               0.0  \n",
       "197               0.0  \n",
       "198               0.0  \n",
       "199               0.0  \n",
       "200               0.0  \n",
       "\n",
       "[201 rows x 34 columns]"
      ]
     },
     "execution_count": 45,
     "metadata": {},
     "output_type": "execute_result"
    }
   ],
   "source": [
    "PPDF"
   ]
  },
  {
   "cell_type": "code",
   "execution_count": 49,
   "id": "050b229c",
   "metadata": {},
   "outputs": [],
   "source": [
    "nnc = ['engine_size','bore','stroke','compression_ratio','horsepower','peak_rpm','city_mpg']"
   ]
  },
  {
   "cell_type": "code",
   "execution_count": 60,
   "id": "b18f32aa",
   "metadata": {},
   "outputs": [],
   "source": [
    "normalizer = Normalizer()\n",
    "PPDF[nnc] = normalizer.fit_transform(PPDF[nnc])"
   ]
  },
  {
   "cell_type": "code",
   "execution_count": 61,
   "id": "170a69a8",
   "metadata": {},
   "outputs": [],
   "source": [
    "X = PPDF[PPDF.columns.difference(['price'])]\n",
    "Y = PPDF['price']\n",
    "X_tain,X_test,Y_train,Y_test = train_test_split(X,Y,random_state=RNST)"
   ]
  },
  {
   "cell_type": "code",
   "execution_count": 66,
   "id": "7eb4632e",
   "metadata": {},
   "outputs": [
    {
     "data": {
      "text/plain": [
       "0.9146347763914926"
      ]
     },
     "execution_count": 66,
     "metadata": {},
     "output_type": "execute_result"
    }
   ],
   "source": [
    "linreg = LinearRegression()\n",
    "linreg.fit(X_tain,Y_train)\n",
    "Y_predict_linreg = linreg.predict(X_test)\n",
    "linreg.score(X_test,Y_test)"
   ]
  },
  {
   "cell_type": "code",
   "execution_count": 226,
   "id": "c2f9c9ee",
   "metadata": {},
   "outputs": [
    {
     "data": {
      "text/plain": [
       "0.9146347763914926"
      ]
     },
     "execution_count": 226,
     "metadata": {},
     "output_type": "execute_result"
    }
   ],
   "source": [
    "r2_score(Y_test,Y_predict_linreg) # coefficient of determination 0 ~ 1 ==> 1 is better"
   ]
  },
  {
   "cell_type": "code",
   "execution_count": 227,
   "id": "b397f2d7",
   "metadata": {},
   "outputs": [
    {
     "data": {
      "text/plain": [
       "1747.6131604232828"
      ]
     },
     "execution_count": 227,
     "metadata": {},
     "output_type": "execute_result"
    }
   ],
   "source": [
    "mean_absolute_error(Y_test,Y_predict_linreg)"
   ]
  },
  {
   "cell_type": "code",
   "execution_count": null,
   "id": "cced53f0",
   "metadata": {},
   "outputs": [],
   "source": []
  },
  {
   "cell_type": "code",
   "execution_count": 68,
   "id": "8d7f4aa2",
   "metadata": {},
   "outputs": [
    {
     "data": {
      "text/plain": [
       "0.22172744917839549"
      ]
     },
     "execution_count": 68,
     "metadata": {},
     "output_type": "execute_result"
    }
   ],
   "source": [
    "SVRreg = SVR(kernel='linear')\n",
    "SVRreg.fit(X_tain,Y_train)\n",
    "Y_predict_SVRreg = SVRreg.predict(X_test)\n",
    "SVRreg.score(X_test,Y_test)"
   ]
  },
  {
   "cell_type": "code",
   "execution_count": null,
   "id": "6f55f5da",
   "metadata": {},
   "outputs": [],
   "source": []
  },
  {
   "cell_type": "code",
   "execution_count": 69,
   "id": "440b4092",
   "metadata": {},
   "outputs": [
    {
     "data": {
      "text/plain": [
       "0.7965060469047032"
      ]
     },
     "execution_count": 69,
     "metadata": {},
     "output_type": "execute_result"
    }
   ],
   "source": [
    "knnreg = KNeighborsRegressor(n_neighbors=3,weights='distance',p=1)\n",
    "knnreg.fit(X_tain,Y_train)\n",
    "Y_predict_knnreg = knnreg.predict(X_test)\n",
    "knnreg.score(X_test,Y_test)"
   ]
  },
  {
   "cell_type": "code",
   "execution_count": null,
   "id": "1efe8b6b",
   "metadata": {},
   "outputs": [],
   "source": []
  },
  {
   "cell_type": "code",
   "execution_count": 134,
   "id": "465828a9",
   "metadata": {},
   "outputs": [
    {
     "data": {
      "text/plain": [
       "0.8705752500962165"
      ]
     },
     "execution_count": 134,
     "metadata": {},
     "output_type": "execute_result"
    }
   ],
   "source": [
    "rnfreg = RandomForestRegressor(min_samples_leaf=6,max_features=19,ccp_alpha=100,random_state=RNST)\n",
    "rnfreg.fit(X_tain,Y_train)\n",
    "Y_predict_rnfreg = rnfreg.predict(X_test)\n",
    "rnfreg.score(X_test,Y_test)"
   ]
  },
  {
   "cell_type": "code",
   "execution_count": 188,
   "id": "9874394a",
   "metadata": {},
   "outputs": [
    {
     "data": {
      "text/plain": [
       "0.8410097303115919"
      ]
     },
     "execution_count": 188,
     "metadata": {},
     "output_type": "execute_result"
    }
   ],
   "source": [
    "adabreg = AdaBoostRegressor(random_state=RNST,learning_rate=.03,loss='exponential')\n",
    "adabreg.fit(X_tain,Y_train)\n",
    "Y_predict_adabreg = adabreg.predict(X_test)\n",
    "adabreg.score(X_test,Y_test)"
   ]
  },
  {
   "cell_type": "code",
   "execution_count": 225,
   "id": "7eec0671",
   "metadata": {},
   "outputs": [
    {
     "data": {
      "text/plain": [
       "0.8419104913245345"
      ]
     },
     "execution_count": 225,
     "metadata": {},
     "output_type": "execute_result"
    }
   ],
   "source": [
    "d3reg = DecisionTreeRegressor(random_state=RNST,splitter='random',min_samples_split=20)\n",
    "d3reg.fit(X_tain,Y_train)\n",
    "Y_predict_d3reg = d3reg.predict(X_test)\n",
    "d3reg.score(X_test,Y_test)"
   ]
  },
  {
   "cell_type": "code",
   "execution_count": null,
   "id": "1dcbefc5",
   "metadata": {},
   "outputs": [],
   "source": []
  },
  {
   "cell_type": "code",
   "execution_count": null,
   "id": "aa2f1c3b",
   "metadata": {},
   "outputs": [],
   "source": []
  },
  {
   "cell_type": "code",
   "execution_count": null,
   "id": "fdd1d0af",
   "metadata": {},
   "outputs": [],
   "source": []
  },
  {
   "cell_type": "code",
   "execution_count": null,
   "id": "df14ffa8",
   "metadata": {},
   "outputs": [],
   "source": []
  },
  {
   "cell_type": "code",
   "execution_count": null,
   "id": "1b4a6e77",
   "metadata": {},
   "outputs": [],
   "source": []
  },
  {
   "cell_type": "code",
   "execution_count": null,
   "id": "7e161452",
   "metadata": {},
   "outputs": [],
   "source": []
  }
 ],
 "metadata": {
  "kernelspec": {
   "display_name": "Python 3 (ipykernel)",
   "language": "python",
   "name": "python3"
  },
  "language_info": {
   "codemirror_mode": {
    "name": "ipython",
    "version": 3
   },
   "file_extension": ".py",
   "mimetype": "text/x-python",
   "name": "python",
   "nbconvert_exporter": "python",
   "pygments_lexer": "ipython3",
   "version": "3.9.12"
  }
 },
 "nbformat": 4,
 "nbformat_minor": 5
}
