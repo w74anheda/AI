{
 "cells": [
  {
   "cell_type": "markdown",
   "id": "dd70c042",
   "metadata": {},
   "source": [
    "# Kmeans (n number of groups)\n",
    "# Kmeans++\n",
    "# DBscan\n",
    "\n",
    "\n",
    "\n",
    "#RFM:\n",
    "## R  : last buy \n",
    "## F   : count of buyed\n",
    "## M  : mean all price "
   ]
  },
  {
   "cell_type": "code",
   "execution_count": 12,
   "id": "3fb064b8",
   "metadata": {},
   "outputs": [],
   "source": [
    "import pandas as pd\n",
    "import numpy as np\n",
    "import matplotlib.pyplot as PLT\n",
    "import seaborn as SB\n",
    "import datetime as dt\n",
    "from sklearn.cluster import KMeans,DBSCAN\n",
    "from sklearn.metrics import silhouette_score\n",
    "from sklearn.cluster import SpectralClustering\n",
    "import nltk\n",
    "import hazm\n"
   ]
  },
  {
   "cell_type": "code",
   "execution_count": null,
   "id": "6c9b8644",
   "metadata": {},
   "outputs": [],
   "source": [
    "DF = pd.read_csv('../../datasets/OnlineRetail.csv', encoding= 'unicode_escape')\n",
    "DF.shape"
   ]
  },
  {
   "cell_type": "code",
   "execution_count": null,
   "id": "6dfe2623",
   "metadata": {},
   "outputs": [],
   "source": [
    "DF['InvoiceDate'] = DF['InvoiceDate'].astype(np.datetime64)\n",
    "DF['InvoiceDay'] = DF['InvoiceDate'].dt.date\n",
    "DF = DF[DF['CustomerID'].notnull()] \n",
    "DF['TotalSum'] = DF['Quantity'] * DF['UnitPrice'] "
   ]
  },
  {
   "cell_type": "code",
   "execution_count": null,
   "id": "fcf061c9",
   "metadata": {},
   "outputs": [],
   "source": [
    "DF.info()"
   ]
  },
  {
   "cell_type": "code",
   "execution_count": null,
   "id": "fb29b886",
   "metadata": {},
   "outputs": [],
   "source": [
    "DF.head()"
   ]
  },
  {
   "cell_type": "code",
   "execution_count": null,
   "id": "a30ca3e8",
   "metadata": {},
   "outputs": [],
   "source": [
    "pin_date = max(DF['InvoiceDay']) + dt.timedelta(1)\n",
    "pin_date"
   ]
  },
  {
   "cell_type": "code",
   "execution_count": null,
   "id": "4289c4d6",
   "metadata": {},
   "outputs": [],
   "source": [
    "RFM = DF.groupby('CustomerID').agg({\n",
    "    'InvoiceDate' : lambda x : (pin_date - dt.date(x.max().year,x.max().month,x.max().day)).days,\n",
    "#     'InvoiceNo' : lambda x : x.count(),\n",
    "    'InvoiceNo' : 'count',\n",
    "    'TotalSum'  : 'sum'\n",
    "})"
   ]
  },
  {
   "cell_type": "code",
   "execution_count": null,
   "id": "270e8aa5",
   "metadata": {},
   "outputs": [],
   "source": [
    "RFM.rename(columns={\n",
    "    'InvoiceDate' : 'Recency',\n",
    "    'InvoiceNo':'Frequency',\n",
    "    'TotalSum':'Monetary'\n",
    "},inplace=True)"
   ]
  },
  {
   "cell_type": "markdown",
   "id": "72c29114",
   "metadata": {},
   "source": [
    "### Ranking Bucket Scaling (Q Cut) : first sort data min to max then bucketing"
   ]
  },
  {
   "cell_type": "code",
   "execution_count": null,
   "id": "32c9fdc1",
   "metadata": {},
   "outputs": [],
   "source": [
    "r_labels = range(1,5,1)\n",
    "RFM['R'] = pd.qcut(RFM['Recency'],q=4 , labels=r_labels)\n",
    "\n",
    "f_labels = range(4,0,-1)\n",
    "RFM['F']  = pd.qcut(RFM['Frequency'],q=4 , labels=f_labels)\n",
    "\n",
    "m_labels = range(4,0,-1)\n",
    "RFM['M']  = pd.qcut(RFM['Monetary'],q=4 , labels=m_labels)"
   ]
  },
  {
   "cell_type": "code",
   "execution_count": null,
   "id": "70537822",
   "metadata": {},
   "outputs": [],
   "source": [
    "X = RFM[['R','F','M']]"
   ]
  },
  {
   "cell_type": "code",
   "execution_count": null,
   "id": "56ea30e2",
   "metadata": {},
   "outputs": [],
   "source": [
    "kmeans = KMeans(n_clusters=4,init='k-means++', max_iter=800)\n",
    "kmeans.fit(X)"
   ]
  },
  {
   "cell_type": "code",
   "execution_count": null,
   "id": "91cfcf0e",
   "metadata": {},
   "outputs": [],
   "source": [
    "RFM['kmeans_cluster'] = kmeans.labels_"
   ]
  },
  {
   "cell_type": "code",
   "execution_count": null,
   "id": "8df7223f",
   "metadata": {},
   "outputs": [],
   "source": [
    "np.unique(kmeans.labels_,return_counts=True)"
   ]
  },
  {
   "cell_type": "code",
   "execution_count": null,
   "id": "3669b353",
   "metadata": {},
   "outputs": [],
   "source": [
    "RFM"
   ]
  },
  {
   "cell_type": "code",
   "execution_count": null,
   "id": "3f1be693",
   "metadata": {},
   "outputs": [],
   "source": [
    "RFM.mean()"
   ]
  },
  {
   "cell_type": "code",
   "execution_count": null,
   "id": "9e9bedce",
   "metadata": {},
   "outputs": [],
   "source": [
    "RFM[RFM['kmeans_cluster'] == 0 ].mean()"
   ]
  },
  {
   "cell_type": "code",
   "execution_count": null,
   "id": "f6012638",
   "metadata": {},
   "outputs": [],
   "source": [
    "RFM[RFM['kmeans_cluster'] == 1 ].mean()"
   ]
  },
  {
   "cell_type": "code",
   "execution_count": null,
   "id": "dd77eca4",
   "metadata": {},
   "outputs": [],
   "source": [
    "RFM[RFM['kmeans_cluster'] == 2 ].mean()"
   ]
  },
  {
   "cell_type": "code",
   "execution_count": null,
   "id": "696b288b",
   "metadata": {},
   "outputs": [],
   "source": [
    "RFM[RFM['kmeans_cluster'] == 3 ].mean()"
   ]
  },
  {
   "cell_type": "code",
   "execution_count": null,
   "id": "8bc7c3d3",
   "metadata": {},
   "outputs": [],
   "source": [
    "RFM[RFM['kmeans_cluster'] == 4 ].mean()"
   ]
  },
  {
   "cell_type": "markdown",
   "id": "db67e825",
   "metadata": {},
   "source": [
    "# metric : WCSS - ELBOW\n",
    "### WCSS ===> less better"
   ]
  },
  {
   "cell_type": "code",
   "execution_count": null,
   "id": "936a82ba",
   "metadata": {},
   "outputs": [],
   "source": [
    "wcss = {}\n",
    "\n",
    "for k in range(1,11):\n",
    "    kmeans = KMeans(n_clusters=k,init='k-means++', max_iter=800)\n",
    "    kmeans.fit(X)\n",
    "    wcss[k] = kmeans.inertia_\n",
    "SB.pointplot(x=list(wcss.keys()),y=list(wcss.values()))"
   ]
  },
  {
   "cell_type": "code",
   "execution_count": null,
   "id": "85bdf8c2",
   "metadata": {},
   "outputs": [],
   "source": []
  },
  {
   "cell_type": "markdown",
   "id": "112cab4e",
   "metadata": {},
   "source": [
    "# DBSCAN\n",
    "## metric: silhouette (near 1 is better)"
   ]
  },
  {
   "cell_type": "code",
   "execution_count": null,
   "id": "1abbca5e",
   "metadata": {},
   "outputs": [],
   "source": [
    "dbscan = DBSCAN(eps=.5,min_samples=200)\n",
    "dbscan.fit(X)\n",
    "np.unique(dbscan.labels_,return_counts=True)"
   ]
  },
  {
   "cell_type": "code",
   "execution_count": null,
   "id": "6e5a6131",
   "metadata": {},
   "outputs": [],
   "source": [
    "dbscan = DBSCAN(eps=.5,min_samples=20)\n",
    "dbscan.fit(X)\n",
    "np.unique(dbscan.labels_)"
   ]
  },
  {
   "cell_type": "code",
   "execution_count": null,
   "id": "112ed271",
   "metadata": {},
   "outputs": [],
   "source": [
    "silhouette_score(X,dbscan.labels_)"
   ]
  },
  {
   "cell_type": "code",
   "execution_count": null,
   "id": "5bdea225",
   "metadata": {},
   "outputs": [],
   "source": []
  },
  {
   "cell_type": "code",
   "execution_count": null,
   "id": "d75185b1",
   "metadata": {},
   "outputs": [],
   "source": []
  },
  {
   "cell_type": "code",
   "execution_count": null,
   "id": "ed6b7e33",
   "metadata": {},
   "outputs": [],
   "source": [
    "slhscores = {}\n",
    "\n",
    "for k in range(40,100):\n",
    "    dbscan = DBSCAN(eps=.5,min_samples=k)\n",
    "    dbscan.fit(X)\n",
    "    slhscores[k] = silhouette_score(X,dbscan.labels_)"
   ]
  },
  {
   "cell_type": "code",
   "execution_count": null,
   "id": "0151af76",
   "metadata": {},
   "outputs": [],
   "source": [
    "PLT.figure(figsize=(15,8))\n",
    "SB.pointplot(x=list(slhscores.keys()),y=list(slhscores.values()))"
   ]
  },
  {
   "cell_type": "code",
   "execution_count": null,
   "id": "96e603e8",
   "metadata": {},
   "outputs": [],
   "source": []
  },
  {
   "cell_type": "markdown",
   "id": "105bdf8b",
   "metadata": {},
   "source": [
    "# Spectral clustring"
   ]
  },
  {
   "cell_type": "code",
   "execution_count": 2,
   "id": "b980e0c6",
   "metadata": {},
   "outputs": [],
   "source": []
  },
  {
   "cell_type": "code",
   "execution_count": null,
   "id": "e48ed572",
   "metadata": {},
   "outputs": [],
   "source": [
    "spclcls = SpectralClustering()\n",
    "spclcls.fit(X)\n",
    "np.unique(spclcls.labels_,return_counts=True)"
   ]
  },
  {
   "cell_type": "code",
   "execution_count": null,
   "id": "b611c3fe",
   "metadata": {},
   "outputs": [],
   "source": [
    "spclcls = SpectralClustering(n_clusters=4)\n",
    "spclcls.fit(X)\n",
    "np.unique(spclcls.labels_,return_counts=True)"
   ]
  },
  {
   "cell_type": "code",
   "execution_count": null,
   "id": "2138645d",
   "metadata": {},
   "outputs": [],
   "source": [
    "silhouette_score(X,spclcls.labels_)"
   ]
  },
  {
   "cell_type": "markdown",
   "id": "55e98a15",
   "metadata": {},
   "source": [
    "# MeanShift clustring"
   ]
  },
  {
   "cell_type": "code",
   "execution_count": null,
   "id": "ffa9d143",
   "metadata": {},
   "outputs": [],
   "source": [
    "from sklearn.cluster import MeanShift"
   ]
  },
  {
   "cell_type": "code",
   "execution_count": null,
   "id": "3c9518f3",
   "metadata": {},
   "outputs": [],
   "source": [
    "meanshiftcls = MeanShift()\n",
    "meanshiftcls.fit(X)\n",
    "np.unique(meanshiftcls.labels_,return_counts=True)"
   ]
  },
  {
   "cell_type": "code",
   "execution_count": null,
   "id": "0d2a2f1a",
   "metadata": {},
   "outputs": [],
   "source": [
    "silhouette_score(X,meanshiftcls.labels_)"
   ]
  },
  {
   "cell_type": "markdown",
   "id": "ae50f597",
   "metadata": {},
   "source": [
    "# Text Clustring"
   ]
  },
  {
   "cell_type": "code",
   "execution_count": 3,
   "id": "cd151fc7",
   "metadata": {},
   "outputs": [],
   "source": [
    "from sklearn.feature_extraction.text import TfidfVectorizer"
   ]
  },
  {
   "cell_type": "code",
   "execution_count": 4,
   "id": "694ea8a0",
   "metadata": {},
   "outputs": [
    {
     "data": {
      "text/html": [
       "<div>\n",
       "<style scoped>\n",
       "    .dataframe tbody tr th:only-of-type {\n",
       "        vertical-align: middle;\n",
       "    }\n",
       "\n",
       "    .dataframe tbody tr th {\n",
       "        vertical-align: top;\n",
       "    }\n",
       "\n",
       "    .dataframe thead th {\n",
       "        text-align: right;\n",
       "    }\n",
       "</style>\n",
       "<table border=\"1\" class=\"dataframe\">\n",
       "  <thead>\n",
       "    <tr style=\"text-align: right;\">\n",
       "      <th></th>\n",
       "      <th>Unnamed: 0</th>\n",
       "      <th>title_body</th>\n",
       "      <th>category</th>\n",
       "    </tr>\n",
       "  </thead>\n",
       "  <tbody>\n",
       "    <tr>\n",
       "      <th>0</th>\n",
       "      <td>0</td>\n",
       "      <td>وزير علو درجمع استاد نمونه سن بازنشستگي استاد ...</td>\n",
       "      <td>آموزشي</td>\n",
       "    </tr>\n",
       "    <tr>\n",
       "      <th>1</th>\n",
       "      <td>1</td>\n",
       "      <td>گردهمايي دانش‌آموختگ موسسه آموز عالي سوره برگز...</td>\n",
       "      <td>آموزشي</td>\n",
       "    </tr>\n",
       "    <tr>\n",
       "      <th>2</th>\n",
       "      <td>2</td>\n",
       "      <td>نتايج آزمون دوره‌هاي فراگير دانشگاه پيام‌نور ن...</td>\n",
       "      <td>آموزشي</td>\n",
       "    </tr>\n",
       "    <tr>\n",
       "      <th>3</th>\n",
       "      <td>3</td>\n",
       "      <td>هماي يكروزه آسيب شناسي مفهو روابط عمومي بابلسر...</td>\n",
       "      <td>اجتماعي</td>\n",
       "    </tr>\n",
       "    <tr>\n",
       "      <th>4</th>\n",
       "      <td>4</td>\n",
       "      <td>وضعي اقتصادي ميز تحصيل والدين مهمترين عوامل مو...</td>\n",
       "      <td>آموزشي</td>\n",
       "    </tr>\n",
       "  </tbody>\n",
       "</table>\n",
       "</div>"
      ],
      "text/plain": [
       "   Unnamed: 0                                         title_body category\n",
       "0           0  وزير علو درجمع استاد نمونه سن بازنشستگي استاد ...   آموزشي\n",
       "1           1  گردهمايي دانش‌آموختگ موسسه آموز عالي سوره برگز...   آموزشي\n",
       "2           2  نتايج آزمون دوره‌هاي فراگير دانشگاه پيام‌نور ن...   آموزشي\n",
       "3           3  هماي يكروزه آسيب شناسي مفهو روابط عمومي بابلسر...  اجتماعي\n",
       "4           4  وضعي اقتصادي ميز تحصيل والدين مهمترين عوامل مو...   آموزشي"
      ]
     },
     "execution_count": 4,
     "metadata": {},
     "output_type": "execute_result"
    }
   ],
   "source": [
    "DF = pd.read_csv('../../datasets/cleaned_news.csv')\n",
    "DF.head()"
   ]
  },
  {
   "cell_type": "code",
   "execution_count": 8,
   "id": "d6b34ebd",
   "metadata": {},
   "outputs": [],
   "source": [
    "vectorizer = TfidfVectorizer(ngram_range=(1,2))\n",
    "vectorizer.fit(DF['title_body'])\n",
    "X = vectorizer.transform(DF['title_body'])"
   ]
  },
  {
   "cell_type": "code",
   "execution_count": 9,
   "id": "72b41459",
   "metadata": {},
   "outputs": [
    {
     "data": {
      "text/plain": [
       "اجتماعي       1000\n",
       "مذهبي         1000\n",
       "آموزشي        1000\n",
       "ورزشي         1000\n",
       "علمي          1000\n",
       "بهداشتي       1000\n",
       "اقتصادي       1000\n",
       "سياسي         1000\n",
       "فرهنگي        1000\n",
       "فقه و حقوق    1000\n",
       "تاريخي         999\n",
       "Name: category, dtype: int64"
      ]
     },
     "execution_count": 9,
     "metadata": {},
     "output_type": "execute_result"
    }
   ],
   "source": [
    "DF['category'].value_counts()"
   ]
  },
  {
   "cell_type": "code",
   "execution_count": 28,
   "id": "1d0fd889",
   "metadata": {},
   "outputs": [
    {
     "data": {
      "text/plain": [
       "SpectralClustering(n_clusters=4)"
      ]
     },
     "execution_count": 28,
     "metadata": {},
     "output_type": "execute_result"
    }
   ],
   "source": [
    "kmeans = KMeans(n_clusters=4,init='k-means++', max_iter=800)\n",
    "kmeans.fit(X)"
   ]
  },
  {
   "cell_type": "code",
   "execution_count": 29,
   "id": "38c65e44",
   "metadata": {},
   "outputs": [
    {
     "data": {
      "text/plain": [
       "(array([0, 1, 2, 3], dtype=int32), array([ 834, 1225, 8637,  303]))"
      ]
     },
     "execution_count": 29,
     "metadata": {},
     "output_type": "execute_result"
    }
   ],
   "source": [
    "np.unique(spclcls.labels_,return_counts=True)"
   ]
  },
  {
   "cell_type": "code",
   "execution_count": 30,
   "id": "ee6e973b",
   "metadata": {},
   "outputs": [
    {
     "data": {
      "text/plain": [
       "-0.00127064511413753"
      ]
     },
     "execution_count": 30,
     "metadata": {},
     "output_type": "execute_result"
    }
   ],
   "source": [
    "silhouette_score(X,spclcls.labels_)"
   ]
  },
  {
   "cell_type": "code",
   "execution_count": 31,
   "id": "29e8c031",
   "metadata": {},
   "outputs": [
    {
     "name": "stderr",
     "output_type": "stream",
     "text": [
      "/tmp/ipykernel_2777/869919991.py:2: SettingWithCopyWarning: \n",
      "A value is trying to be set on a copy of a slice from a DataFrame.\n",
      "Try using .loc[row_indexer,col_indexer] = value instead\n",
      "\n",
      "See the caveats in the documentation: https://pandas.pydata.org/pandas-docs/stable/user_guide/indexing.html#returning-a-view-versus-a-copy\n",
      "  XL['label'] = spclcls.labels_\n"
     ]
    }
   ],
   "source": [
    "XL = DF[['title_body']]\n",
    "XL['label'] = spclcls.labels_"
   ]
  },
  {
   "cell_type": "code",
   "execution_count": 22,
   "id": "5e317823",
   "metadata": {},
   "outputs": [],
   "source": [
    "from collections import Counter"
   ]
  },
  {
   "cell_type": "code",
   "execution_count": 32,
   "id": "570e7632",
   "metadata": {},
   "outputs": [
    {
     "data": {
      "text/plain": [
       "[('دانشگاه', 8436),\n",
       " ('اين', 7770),\n",
       " ('كه', 5600),\n",
       " ('دانشجوي', 3782),\n",
       " ('علو', 2622),\n",
       " ('كرد', 2594),\n",
       " ('براي', 2547),\n",
       " ('وي', 2437),\n",
       " ('علمي', 2324),\n",
       " ('آموزشي', 2280),\n",
       " ('آموز', 2279),\n",
       " ('كشور', 2274),\n",
       " ('پزشكي', 2083),\n",
       " ('دك', 2080),\n",
       " ('سال', 1918),\n",
       " ('اير', 1620),\n",
       " ('مي\\u200cشود', 1584),\n",
       " ('بي', 1528),\n",
       " ('نيز', 1458),\n",
       " ('وزار', 1444),\n",
       " ('آزمون', 1379),\n",
       " ('بايد', 1329),\n",
       " ('تهر', 1264),\n",
       " ('يك', 1226),\n",
       " ('', 1201),\n",
       " ('ايسنا', 1137),\n",
       " ('اسلامي', 998),\n",
       " ('خبرگزاري', 996),\n",
       " ('بهدا', 966),\n",
       " ('ادامه', 961),\n",
       " ('آزاد', 940),\n",
       " ('كارشناسي', 927),\n",
       " ('عالي', 924),\n",
       " ('دانشجو', 921),\n",
       " ('گزار', 892),\n",
       " ('معاون', 855),\n",
       " ('اشاره', 851),\n",
       " ('دانشكده', 846),\n",
       " ('رييس', 840),\n",
       " ('همچنين', 839),\n",
       " ('اظهار', 833),\n",
       " ('دانشگاهي', 816),\n",
       " ('دانشجويي', 804),\n",
       " ('خبرنگار', 776),\n",
       " ('برگزار', 751),\n",
       " ('كار', 743),\n",
       " ('هي', 740),\n",
       " ('اينكه', 726),\n",
       " ('فرهنگي', 723),\n",
       " ('تحقيق', 722),\n",
       " ('تحصيل', 713),\n",
       " ('ساز', 701),\n",
       " ('ايجاد', 691),\n",
       " ('قرار', 689),\n",
       " ('دوره', 674),\n",
       " ('توسعه', 666),\n",
       " ('پذير', 664),\n",
       " ('توجه', 663),\n",
       " ('پژوهشي', 663),\n",
       " ('جامعه', 651),\n",
       " ('ماه', 645),\n",
       " ('نفر', 645),\n",
       " ('داوطلب', 636),\n",
       " ('مشكل', 629),\n",
       " ('شوراي', 618),\n",
       " ('نظر', 604),\n",
       " ('رشته\\u200cهاي', 603),\n",
       " ('ارشد', 600),\n",
       " ('پاي', 596),\n",
       " ('طرح', 593),\n",
       " ('دانشگاه\\u200cهاي', 589),\n",
       " ('شده_اس', 576),\n",
       " ('ديگر', 572),\n",
       " ('تخصصي', 571),\n",
       " ('مركز', 570),\n",
       " ('تربي', 559),\n",
       " ('صنفي', 555),\n",
       " ('سرويس', 543),\n",
       " ('كنند', 542),\n",
       " ('افزاي', 536),\n",
       " ('درصد', 533),\n",
       " ('مي', 512),\n",
       " ('تحصيلي', 511),\n",
       " ('نظا', 500),\n",
       " ('گروه', 499),\n",
       " ('تصريح', 480),\n",
       " ('جديد', 476),\n",
       " ('در', 474),\n",
       " ('استاد', 470),\n",
       " ('برنامه', 467),\n",
       " ('تعداد', 462),\n",
       " ('مراكز', 462),\n",
       " ('مقطع', 461),\n",
       " ('دوره\\u200cهاي', 457),\n",
       " ('گفت\\u200cوگو', 456),\n",
       " ('برگزاري', 451),\n",
       " ('تاكيد', 440),\n",
       " ('زمينه', 434),\n",
       " ('حضور', 432),\n",
       " ('اساتيد', 427)]"
      ]
     },
     "execution_count": 32,
     "metadata": {},
     "output_type": "execute_result"
    }
   ],
   "source": [
    "all_words = ''.join(XL[XL['label']==1]['title_body']).split(' ')\n",
    "Counter(all_words).most_common(100)"
   ]
  },
  {
   "cell_type": "code",
   "execution_count": null,
   "id": "3344d550",
   "metadata": {},
   "outputs": [],
   "source": []
  },
  {
   "cell_type": "code",
   "execution_count": null,
   "id": "9892ec89",
   "metadata": {},
   "outputs": [],
   "source": []
  },
  {
   "cell_type": "code",
   "execution_count": null,
   "id": "ba3eb3d1",
   "metadata": {},
   "outputs": [],
   "source": []
  },
  {
   "cell_type": "code",
   "execution_count": null,
   "id": "0f9beef2",
   "metadata": {},
   "outputs": [],
   "source": []
  },
  {
   "cell_type": "code",
   "execution_count": null,
   "id": "3a83b6f0",
   "metadata": {},
   "outputs": [],
   "source": []
  },
  {
   "cell_type": "code",
   "execution_count": null,
   "id": "af9cedc7",
   "metadata": {},
   "outputs": [],
   "source": []
  },
  {
   "cell_type": "code",
   "execution_count": null,
   "id": "46cdf1f7",
   "metadata": {},
   "outputs": [],
   "source": []
  },
  {
   "cell_type": "code",
   "execution_count": null,
   "id": "a364d890",
   "metadata": {},
   "outputs": [],
   "source": []
  }
 ],
 "metadata": {
  "kernelspec": {
   "display_name": "Python 3 (ipykernel)",
   "language": "python",
   "name": "python3"
  },
  "language_info": {
   "codemirror_mode": {
    "name": "ipython",
    "version": 3
   },
   "file_extension": ".py",
   "mimetype": "text/x-python",
   "name": "python",
   "nbconvert_exporter": "python",
   "pygments_lexer": "ipython3",
   "version": "3.9.13"
  }
 },
 "nbformat": 4,
 "nbformat_minor": 5
}
