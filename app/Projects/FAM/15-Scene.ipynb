{
 "cells": [
  {
   "cell_type": "code",
   "execution_count": 3,
   "id": "112f77eb",
   "metadata": {},
   "outputs": [
    {
     "data": {
      "text/plain": [
       "'/home/masoud/.keras/'"
      ]
     },
     "execution_count": 3,
     "metadata": {},
     "output_type": "execute_result"
    }
   ],
   "source": [
    "import numpy as np\n",
    "import pandas as pd\n",
    "import matplotlib.pyplot as PLT\n",
    "from tensorflow.keras import models, layers, optimizers\n",
    "from tensorflow.keras.applications.resnet import ResNet152, preprocess_input, decode_predictions\n",
    "from tensorflow.keras.preprocessing.image import ImageDataGenerator\n",
    "from tensorflow.keras import Sequential, Model,Input\n",
    "from tensorflow.keras.layers import Dense, Flatten, Conv2D, MaxPool2D,ZeroPadding2D, Dropout, BatchNormalization\n",
    "from tensorflow.keras.utils import to_categorical\n",
    "import os,glob,random,shutil\n",
    "from pathlib import Path\n",
    "from tensorflow.keras.optimizers.legacy import Adam\n",
    "os.path.expanduser('/home/masoud/.keras/')"
   ]
  },
  {
   "cell_type": "code",
   "execution_count": 5,
   "id": "8c3c959b",
   "metadata": {},
   "outputs": [
    {
     "name": "stdout",
     "output_type": "stream",
     "text": [
      "[PhysicalDevice(name='/physical_device:GPU:0', device_type='GPU')]\n"
     ]
    }
   ],
   "source": [
    "import tensorflow as tf; print(tf.config.list_physical_devices('GPU'))"
   ]
  },
  {
   "cell_type": "code",
   "execution_count": 6,
   "id": "dd8dc78f",
   "metadata": {},
   "outputs": [],
   "source": [
    "data_path = os.path.join('__file__', '../../../../datasets/15-Scene/data/')\n",
    "train_test_path = os.path.join('__file__', '../../../../datasets/15-Scene/train_test/')\n",
    "train_path = os.path.join(train_test_path, 'train/')\n",
    "test_path = os.path.join(train_test_path, 'test/')"
   ]
  },
  {
   "cell_type": "code",
   "execution_count": 7,
   "id": "cb97247b",
   "metadata": {},
   "outputs": [],
   "source": [
    "train_count = 100\n",
    "\n",
    "if os.path.isdir(train_test_path):\n",
    "    shutil.rmtree(train_test_path)\n",
    "Path(f'{train_test_path}').mkdir(parents=True, exist_ok=True)\n",
    "\n",
    "for category in os.listdir(data_path):\n",
    "    images = glob.glob(f'{data_path}/{category}/*')\n",
    "    random.shuffle(images)\n",
    "    \n",
    "    # train data\n",
    "    Path(f'{train_path}/{category}/').mkdir(parents=True, exist_ok=True)\n",
    "    \n",
    "    for img in images[:train_count]:\n",
    "        shutil.copyfile(img, f'{train_path}/{category}/{img.split(\"/\")[-1]}')\n",
    "        \n",
    "    # test data\n",
    "    Path(f'{test_path}/{category}/').mkdir(parents=True, exist_ok=True)\n",
    "    for img in images[train_count:]:\n",
    "        shutil.copyfile(img, f'{test_path}/{category}/{img.split(\"/\")[-1]}')"
   ]
  },
  {
   "cell_type": "code",
   "execution_count": 8,
   "id": "1211298d",
   "metadata": {},
   "outputs": [
    {
     "name": "stdout",
     "output_type": "stream",
     "text": [
      "Found 1500 images belonging to 15 classes.\n",
      "Found 2985 images belonging to 15 classes.\n"
     ]
    }
   ],
   "source": [
    "image_generator = ImageDataGenerator()\n",
    "batch_size = 15\n",
    "\n",
    "generator = image_generator.flow_from_directory(\n",
    "    train_path,\n",
    "    class_mode='categorical',\n",
    "    batch_size=batch_size,\n",
    "    target_size=(150,150)\n",
    ")\n",
    "\n",
    "generator_test = image_generator.flow_from_directory(\n",
    "    test_path,\n",
    "    class_mode='categorical',\n",
    "    batch_size=batch_size,\n",
    "    target_size=(150,150)\n",
    ")"
   ]
  },
  {
   "cell_type": "markdown",
   "id": "5ab18b24",
   "metadata": {},
   "source": [
    "# Default laerning rate 0.001"
   ]
  },
  {
   "cell_type": "code",
   "execution_count": 9,
   "id": "3df3ab0d",
   "metadata": {},
   "outputs": [
    {
     "name": "stderr",
     "output_type": "stream",
     "text": [
      "2023-02-24 22:03:26.502835: I tensorflow/core/platform/cpu_feature_guard.cc:193] This TensorFlow binary is optimized with oneAPI Deep Neural Network Library (oneDNN) to use the following CPU instructions in performance-critical operations:  AVX2 AVX_VNNI FMA\n",
      "To enable them in other operations, rebuild TensorFlow with the appropriate compiler flags.\n",
      "2023-02-24 22:03:26.503363: I tensorflow/compiler/xla/stream_executor/cuda/cuda_gpu_executor.cc:981] successful NUMA node read from SysFS had negative value (-1), but there must be at least one NUMA node, so returning NUMA node zero\n",
      "2023-02-24 22:03:26.503506: I tensorflow/compiler/xla/stream_executor/cuda/cuda_gpu_executor.cc:981] successful NUMA node read from SysFS had negative value (-1), but there must be at least one NUMA node, so returning NUMA node zero\n",
      "2023-02-24 22:03:26.503566: I tensorflow/compiler/xla/stream_executor/cuda/cuda_gpu_executor.cc:981] successful NUMA node read from SysFS had negative value (-1), but there must be at least one NUMA node, so returning NUMA node zero\n",
      "2023-02-24 22:03:26.797219: I tensorflow/compiler/xla/stream_executor/cuda/cuda_gpu_executor.cc:981] successful NUMA node read from SysFS had negative value (-1), but there must be at least one NUMA node, so returning NUMA node zero\n",
      "2023-02-24 22:03:26.797338: I tensorflow/compiler/xla/stream_executor/cuda/cuda_gpu_executor.cc:981] successful NUMA node read from SysFS had negative value (-1), but there must be at least one NUMA node, so returning NUMA node zero\n",
      "2023-02-24 22:03:26.797401: I tensorflow/compiler/xla/stream_executor/cuda/cuda_gpu_executor.cc:981] successful NUMA node read from SysFS had negative value (-1), but there must be at least one NUMA node, so returning NUMA node zero\n",
      "2023-02-24 22:03:26.797462: I tensorflow/core/common_runtime/gpu/gpu_device.cc:1613] Created device /job:localhost/replica:0/task:0/device:GPU:0 with 106 MB memory:  -> device: 0, name: NVIDIA GeForce RTX 3060 Laptop GPU, pci bus id: 0000:01:00.0, compute capability: 8.6\n"
     ]
    }
   ],
   "source": [
    "model = Sequential([\n",
    " \n",
    "    \n",
    "    Conv2D(128, 3, strides=1, activation='relu', padding='same'),\n",
    "#     BatchNormalization(axis=-1),\n",
    "    MaxPool2D(pool_size=16, strides=2),\n",
    "    \n",
    "    Conv2D(64, 3, strides=1, activation='relu'),\n",
    "#     BatchNormalization(axis=-1),\n",
    "    MaxPool2D(pool_size=8, strides=2),\n",
    "    \n",
    "    \n",
    "    Conv2D(32, 3, strides=1, activation='relu'),\n",
    "#     BatchNormalization(axis=-1),\n",
    "    MaxPool2D(pool_size=4, strides=2),\n",
    "    \n",
    "    \n",
    "    Conv2D(32, 3, strides=1, activation='relu'),\n",
    "#     BatchNormalization(axis=-1),\n",
    "    MaxPool2D(pool_size=2, strides=2),\n",
    "    \n",
    "    \n",
    "    Conv2D(32, 3, strides=1, activation='relu'),\n",
    "#     BatchNormalization(axis=-1),\n",
    "    MaxPool2D(pool_size=2, strides=2),\n",
    "    \n",
    "    Flatten(),\n",
    "    Dense(100, activation='relu'),\n",
    "    Dropout(0.5),\n",
    "    Dense(15, activation='softmax')\n",
    "])\n",
    "\n",
    "model.compile(optimizer=Adam(), loss='categorical_crossentropy', metrics=['accuracy'])"
   ]
  },
  {
   "cell_type": "code",
   "execution_count": 11,
   "id": "3e84991e",
   "metadata": {},
   "outputs": [
    {
     "name": "stdout",
     "output_type": "stream",
     "text": [
      "Epoch 1/20\n"
     ]
    },
    {
     "name": "stderr",
     "output_type": "stream",
     "text": [
      "2023-02-24 22:33:07.570727: W tensorflow/tsl/framework/bfc_allocator.cc:479] Allocator (GPU_0_bfc) ran out of memory trying to allocate 164.79MiB (rounded to 172800000)requested by op sequential/conv2d/Relu\n",
      "If the cause is memory fragmentation maybe the environment variable 'TF_GPU_ALLOCATOR=cuda_malloc_async' will improve the situation. \n",
      "Current allocation summary follows.\n",
      "Current allocation summary follows.\n",
      "2023-02-24 22:33:07.570938: I tensorflow/tsl/framework/bfc_allocator.cc:1034] BFCAllocator dump for GPU_0_bfc\n",
      "2023-02-24 22:33:07.570977: I tensorflow/tsl/framework/bfc_allocator.cc:1041] Bin (256): \tTotal Chunks: 53, Chunks in use: 52. 13.2KiB allocated for chunks. 13.0KiB in use in bin. 2.3KiB client-requested in use in bin.\n",
      "2023-02-24 22:33:07.570999: I tensorflow/tsl/framework/bfc_allocator.cc:1041] Bin (512): \tTotal Chunks: 6, Chunks in use: 6. 3.2KiB allocated for chunks. 3.2KiB in use in bin. 2.7KiB client-requested in use in bin.\n",
      "2023-02-24 22:33:07.571018: I tensorflow/tsl/framework/bfc_allocator.cc:1041] Bin (1024): \tTotal Chunks: 4, Chunks in use: 3. 4.2KiB allocated for chunks. 3.2KiB in use in bin. 2.8KiB client-requested in use in bin.\n",
      "2023-02-24 22:33:07.571039: I tensorflow/tsl/framework/bfc_allocator.cc:1041] Bin (2048): \tTotal Chunks: 0, Chunks in use: 0. 0B allocated for chunks. 0B in use in bin. 0B client-requested in use in bin.\n",
      "2023-02-24 22:33:07.571062: I tensorflow/tsl/framework/bfc_allocator.cc:1041] Bin (4096): \tTotal Chunks: 2, Chunks in use: 2. 12.0KiB allocated for chunks. 12.0KiB in use in bin. 11.7KiB client-requested in use in bin.\n",
      "2023-02-24 22:33:07.571084: I tensorflow/tsl/framework/bfc_allocator.cc:1041] Bin (8192): \tTotal Chunks: 5, Chunks in use: 5. 64.8KiB allocated for chunks. 64.8KiB in use in bin. 58.9KiB client-requested in use in bin.\n",
      "2023-02-24 22:33:07.571104: I tensorflow/tsl/framework/bfc_allocator.cc:1041] Bin (16384): \tTotal Chunks: 2, Chunks in use: 2. 45.8KiB allocated for chunks. 45.8KiB in use in bin. 25.0KiB client-requested in use in bin.\n",
      "2023-02-24 22:33:07.571125: I tensorflow/tsl/framework/bfc_allocator.cc:1041] Bin (32768): \tTotal Chunks: 6, Chunks in use: 6. 216.0KiB allocated for chunks. 216.0KiB in use in bin. 216.0KiB client-requested in use in bin.\n",
      "2023-02-24 22:33:07.571145: I tensorflow/tsl/framework/bfc_allocator.cc:1041] Bin (65536): \tTotal Chunks: 3, Chunks in use: 3. 216.0KiB allocated for chunks. 216.0KiB in use in bin. 216.0KiB client-requested in use in bin.\n",
      "2023-02-24 22:33:07.571161: I tensorflow/tsl/framework/bfc_allocator.cc:1041] Bin (131072): \tTotal Chunks: 0, Chunks in use: 0. 0B allocated for chunks. 0B in use in bin. 0B client-requested in use in bin.\n",
      "2023-02-24 22:33:07.571181: I tensorflow/tsl/framework/bfc_allocator.cc:1041] Bin (262144): \tTotal Chunks: 3, Chunks in use: 3. 936.0KiB allocated for chunks. 936.0KiB in use in bin. 864.0KiB client-requested in use in bin.\n",
      "2023-02-24 22:33:07.571197: I tensorflow/tsl/framework/bfc_allocator.cc:1041] Bin (524288): \tTotal Chunks: 0, Chunks in use: 0. 0B allocated for chunks. 0B in use in bin. 0B client-requested in use in bin.\n",
      "2023-02-24 22:33:07.571213: I tensorflow/tsl/framework/bfc_allocator.cc:1041] Bin (1048576): \tTotal Chunks: 0, Chunks in use: 0. 0B allocated for chunks. 0B in use in bin. 0B client-requested in use in bin.\n",
      "2023-02-24 22:33:07.571234: I tensorflow/tsl/framework/bfc_allocator.cc:1041] Bin (2097152): \tTotal Chunks: 3, Chunks in use: 2. 11.59MiB allocated for chunks. 7.72MiB in use in bin. 7.72MiB client-requested in use in bin.\n",
      "2023-02-24 22:33:07.571250: I tensorflow/tsl/framework/bfc_allocator.cc:1041] Bin (4194304): \tTotal Chunks: 0, Chunks in use: 0. 0B allocated for chunks. 0B in use in bin. 0B client-requested in use in bin.\n",
      "2023-02-24 22:33:07.571266: I tensorflow/tsl/framework/bfc_allocator.cc:1041] Bin (8388608): \tTotal Chunks: 0, Chunks in use: 0. 0B allocated for chunks. 0B in use in bin. 0B client-requested in use in bin.\n",
      "2023-02-24 22:33:07.571284: I tensorflow/tsl/framework/bfc_allocator.cc:1041] Bin (16777216): \tTotal Chunks: 0, Chunks in use: 0. 0B allocated for chunks. 0B in use in bin. 0B client-requested in use in bin.\n",
      "2023-02-24 22:33:07.571300: I tensorflow/tsl/framework/bfc_allocator.cc:1041] Bin (33554432): \tTotal Chunks: 0, Chunks in use: 0. 0B allocated for chunks. 0B in use in bin. 0B client-requested in use in bin.\n",
      "2023-02-24 22:33:07.571318: I tensorflow/tsl/framework/bfc_allocator.cc:1041] Bin (67108864): \tTotal Chunks: 1, Chunks in use: 0. 93.37MiB allocated for chunks. 0B in use in bin. 0B client-requested in use in bin.\n",
      "2023-02-24 22:33:07.571335: I tensorflow/tsl/framework/bfc_allocator.cc:1041] Bin (134217728): \tTotal Chunks: 0, Chunks in use: 0. 0B allocated for chunks. 0B in use in bin. 0B client-requested in use in bin.\n",
      "2023-02-24 22:33:07.571351: I tensorflow/tsl/framework/bfc_allocator.cc:1041] Bin (268435456): \tTotal Chunks: 0, Chunks in use: 0. 0B allocated for chunks. 0B in use in bin. 0B client-requested in use in bin.\n",
      "2023-02-24 22:33:07.571373: I tensorflow/tsl/framework/bfc_allocator.cc:1057] Bin for 164.79MiB was 128.00MiB, Chunk State: \n",
      "2023-02-24 22:33:07.571395: I tensorflow/tsl/framework/bfc_allocator.cc:1070] Next region of size 111607808\n",
      "2023-02-24 22:33:07.571423: I tensorflow/tsl/framework/bfc_allocator.cc:1090] InUse at 7f3df0000000 of size 256 next 1\n",
      "2023-02-24 22:33:07.571439: I tensorflow/tsl/framework/bfc_allocator.cc:1090] InUse at 7f3df0000100 of size 1280 next 2\n",
      "2023-02-24 22:33:07.571454: I tensorflow/tsl/framework/bfc_allocator.cc:1090] InUse at 7f3df0000600 of size 256 next 3\n",
      "2023-02-24 22:33:07.571467: I tensorflow/tsl/framework/bfc_allocator.cc:1090] InUse at 7f3df0000700 of size 256 next 4\n",
      "2023-02-24 22:33:07.571480: I tensorflow/tsl/framework/bfc_allocator.cc:1090] InUse at 7f3df0000800 of size 256 next 5\n",
      "2023-02-24 22:33:07.571493: I tensorflow/tsl/framework/bfc_allocator.cc:1090] InUse at 7f3df0000900 of size 256 next 6\n",
      "2023-02-24 22:33:07.571507: I tensorflow/tsl/framework/bfc_allocator.cc:1090] InUse at 7f3df0000a00 of size 4050176 next 7\n",
      "2023-02-24 22:33:07.571522: I tensorflow/tsl/framework/bfc_allocator.cc:1090] InUse at 7f3df03dd700 of size 1024 next 8\n",
      "2023-02-24 22:33:07.571536: I tensorflow/tsl/framework/bfc_allocator.cc:1090] InUse at 7f3df03ddb00 of size 256 next 9\n",
      "2023-02-24 22:33:07.571549: I tensorflow/tsl/framework/bfc_allocator.cc:1090] InUse at 7f3df03ddc00 of size 256 next 10\n",
      "2023-02-24 22:33:07.571564: I tensorflow/tsl/framework/bfc_allocator.cc:1090] InUse at 7f3df03ddd00 of size 512 next 12\n",
      "2023-02-24 22:33:07.571577: I tensorflow/tsl/framework/bfc_allocator.cc:1090] InUse at 7f3df03ddf00 of size 256 next 13\n",
      "2023-02-24 22:33:07.571590: I tensorflow/tsl/framework/bfc_allocator.cc:1090] InUse at 7f3df03de000 of size 256 next 11\n",
      "2023-02-24 22:33:07.571603: I tensorflow/tsl/framework/bfc_allocator.cc:1090] InUse at 7f3df03de100 of size 256 next 18\n",
      "2023-02-24 22:33:07.571616: I tensorflow/tsl/framework/bfc_allocator.cc:1090] InUse at 7f3df03de200 of size 256 next 14\n",
      "2023-02-24 22:33:07.571628: I tensorflow/tsl/framework/bfc_allocator.cc:1090] InUse at 7f3df03de300 of size 256 next 17\n",
      "2023-02-24 22:33:07.571641: I tensorflow/tsl/framework/bfc_allocator.cc:1090] InUse at 7f3df03de400 of size 256 next 23\n",
      "2023-02-24 22:33:07.571654: I tensorflow/tsl/framework/bfc_allocator.cc:1090] InUse at 7f3df03de500 of size 256 next 21\n",
      "2023-02-24 22:33:07.571667: I tensorflow/tsl/framework/bfc_allocator.cc:1090] InUse at 7f3df03de600 of size 256 next 22\n",
      "2023-02-24 22:33:07.571680: I tensorflow/tsl/framework/bfc_allocator.cc:1090] InUse at 7f3df03de700 of size 256 next 28\n",
      "2023-02-24 22:33:07.571693: I tensorflow/tsl/framework/bfc_allocator.cc:1090] InUse at 7f3df03de800 of size 256 next 26\n",
      "2023-02-24 22:33:07.571705: I tensorflow/tsl/framework/bfc_allocator.cc:1090] InUse at 7f3df03de900 of size 256 next 27\n",
      "2023-02-24 22:33:07.571718: I tensorflow/tsl/framework/bfc_allocator.cc:1090] InUse at 7f3df03dea00 of size 256 next 31\n",
      "2023-02-24 22:33:07.571731: I tensorflow/tsl/framework/bfc_allocator.cc:1090] InUse at 7f3df03deb00 of size 256 next 38\n",
      "2023-02-24 22:33:07.571744: I tensorflow/tsl/framework/bfc_allocator.cc:1090] InUse at 7f3df03dec00 of size 256 next 37\n",
      "2023-02-24 22:33:07.571757: I tensorflow/tsl/framework/bfc_allocator.cc:1090] InUse at 7f3df03ded00 of size 256 next 39\n",
      "2023-02-24 22:33:07.571770: I tensorflow/tsl/framework/bfc_allocator.cc:1090] InUse at 7f3df03dee00 of size 256 next 42\n",
      "2023-02-24 22:33:07.571782: I tensorflow/tsl/framework/bfc_allocator.cc:1090] InUse at 7f3df03def00 of size 256 next 43\n",
      "2023-02-24 22:33:07.571795: I tensorflow/tsl/framework/bfc_allocator.cc:1090] InUse at 7f3df03df000 of size 256 next 44\n",
      "2023-02-24 22:33:07.571808: I tensorflow/tsl/framework/bfc_allocator.cc:1090] InUse at 7f3df03df100 of size 256 next 45\n",
      "2023-02-24 22:33:07.571821: I tensorflow/tsl/framework/bfc_allocator.cc:1090] InUse at 7f3df03df200 of size 512 next 47\n",
      "2023-02-24 22:33:07.571835: I tensorflow/tsl/framework/bfc_allocator.cc:1090] InUse at 7f3df03df400 of size 256 next 48\n",
      "2023-02-24 22:33:07.571848: I tensorflow/tsl/framework/bfc_allocator.cc:1090] InUse at 7f3df03df500 of size 256 next 50\n",
      "2023-02-24 22:33:07.571863: I tensorflow/tsl/framework/bfc_allocator.cc:1090] InUse at 7f3df03df600 of size 256 next 52\n",
      "2023-02-24 22:33:07.571876: I tensorflow/tsl/framework/bfc_allocator.cc:1090] InUse at 7f3df03df700 of size 256 next 54\n",
      "2023-02-24 22:33:07.571889: I tensorflow/tsl/framework/bfc_allocator.cc:1090] InUse at 7f3df03df800 of size 512 next 55\n",
      "2023-02-24 22:33:07.571902: I tensorflow/tsl/framework/bfc_allocator.cc:1090] InUse at 7f3df03dfa00 of size 256 next 56\n",
      "2023-02-24 22:33:07.571915: I tensorflow/tsl/framework/bfc_allocator.cc:1090] InUse at 7f3df03dfb00 of size 512 next 58\n",
      "2023-02-24 22:33:07.571928: I tensorflow/tsl/framework/bfc_allocator.cc:1090] InUse at 7f3df03dfd00 of size 256 next 60\n",
      "2023-02-24 22:33:07.571941: I tensorflow/tsl/framework/bfc_allocator.cc:1090] InUse at 7f3df03dfe00 of size 256 next 62\n",
      "2023-02-24 22:33:07.571954: I tensorflow/tsl/framework/bfc_allocator.cc:1090] InUse at 7f3df03dff00 of size 256 next 64\n",
      "2023-02-24 22:33:07.571967: I tensorflow/tsl/framework/bfc_allocator.cc:1090] InUse at 7f3df03e0000 of size 256 next 66\n",
      "2023-02-24 22:33:07.571980: I tensorflow/tsl/framework/bfc_allocator.cc:1090] InUse at 7f3df03e0100 of size 768 next 40\n",
      "2023-02-24 22:33:07.571994: I tensorflow/tsl/framework/bfc_allocator.cc:1090] InUse at 7f3df03e0400 of size 6144 next 41\n",
      "2023-02-24 22:33:07.572008: I tensorflow/tsl/framework/bfc_allocator.cc:1090] InUse at 7f3df03e1c00 of size 6144 next 68\n",
      "2023-02-24 22:33:07.572021: I tensorflow/tsl/framework/bfc_allocator.cc:1090] InUse at 7f3df03e3400 of size 256 next 69\n",
      "2023-02-24 22:33:07.572034: I tensorflow/tsl/framework/bfc_allocator.cc:1090] InUse at 7f3df03e3500 of size 256 next 70\n",
      "2023-02-24 22:33:07.572047: I tensorflow/tsl/framework/bfc_allocator.cc:1090] InUse at 7f3df03e3600 of size 256 next 71\n",
      "2023-02-24 22:33:07.572060: I tensorflow/tsl/framework/bfc_allocator.cc:1090] InUse at 7f3df03e3700 of size 256 next 72\n",
      "2023-02-24 22:33:07.572072: I tensorflow/tsl/framework/bfc_allocator.cc:1090] InUse at 7f3df03e3800 of size 256 next 73\n",
      "2023-02-24 22:33:07.572085: I tensorflow/tsl/framework/bfc_allocator.cc:1090] InUse at 7f3df03e3900 of size 256 next 74\n",
      "2023-02-24 22:33:07.572098: I tensorflow/tsl/framework/bfc_allocator.cc:1090] InUse at 7f3df03e3a00 of size 256 next 75\n",
      "2023-02-24 22:33:07.572111: I tensorflow/tsl/framework/bfc_allocator.cc:1090] InUse at 7f3df03e3b00 of size 256 next 76\n",
      "2023-02-24 22:33:07.572124: I tensorflow/tsl/framework/bfc_allocator.cc:1090] InUse at 7f3df03e3c00 of size 256 next 77\n",
      "2023-02-24 22:33:07.572136: I tensorflow/tsl/framework/bfc_allocator.cc:1090] InUse at 7f3df03e3d00 of size 256 next 78\n",
      "2023-02-24 22:33:07.572149: I tensorflow/tsl/framework/bfc_allocator.cc:1090] InUse at 7f3df03e3e00 of size 256 next 79\n",
      "2023-02-24 22:33:07.572162: I tensorflow/tsl/framework/bfc_allocator.cc:1090] InUse at 7f3df03e3f00 of size 256 next 80\n",
      "2023-02-24 22:33:07.572175: I tensorflow/tsl/framework/bfc_allocator.cc:1090] InUse at 7f3df03e4000 of size 256 next 81\n",
      "2023-02-24 22:33:07.572189: I tensorflow/tsl/framework/bfc_allocator.cc:1090] InUse at 7f3df03e4100 of size 1024 next 82\n",
      "2023-02-24 22:33:07.572201: I tensorflow/tsl/framework/bfc_allocator.cc:1090] InUse at 7f3df03e4500 of size 256 next 84\n",
      "2023-02-24 22:33:07.572214: I tensorflow/tsl/framework/bfc_allocator.cc:1090] Free  at 7f3df03e4600 of size 256 next 85\n",
      "2023-02-24 22:33:07.572228: I tensorflow/tsl/framework/bfc_allocator.cc:1090] InUse at 7f3df03e4700 of size 256 next 87\n",
      "2023-02-24 22:33:07.572241: I tensorflow/tsl/framework/bfc_allocator.cc:1090] Free  at 7f3df03e4800 of size 1024 next 15\n",
      "2023-02-24 22:33:07.572255: I tensorflow/tsl/framework/bfc_allocator.cc:1090] InUse at 7f3df03e4c00 of size 13824 next 16\n",
      "2023-02-24 22:33:07.572268: I tensorflow/tsl/framework/bfc_allocator.cc:1090] InUse at 7f3df03e8200 of size 512 next 34\n",
      "2023-02-24 22:33:07.572281: I tensorflow/tsl/framework/bfc_allocator.cc:1090] InUse at 7f3df03e8400 of size 256 next 33\n",
      "2023-02-24 22:33:07.572294: I tensorflow/tsl/framework/bfc_allocator.cc:1090] InUse at 7f3df03e8500 of size 256 next 35\n",
      "2023-02-24 22:33:07.572310: I tensorflow/tsl/framework/bfc_allocator.cc:1090] InUse at 7f3df03e8600 of size 12032 next 36\n",
      "2023-02-24 22:33:07.572324: I tensorflow/tsl/framework/bfc_allocator.cc:1090] InUse at 7f3df03eb500 of size 23808 next 32\n",
      "2023-02-24 22:33:07.572338: I tensorflow/tsl/framework/bfc_allocator.cc:1090] InUse at 7f3df03f1200 of size 36864 next 30\n",
      "2023-02-24 22:33:07.572352: I tensorflow/tsl/framework/bfc_allocator.cc:1090] InUse at 7f3df03fa200 of size 36864 next 29\n",
      "2023-02-24 22:33:07.572365: I tensorflow/tsl/framework/bfc_allocator.cc:1090] InUse at 7f3df0403200 of size 13824 next 46\n",
      "2023-02-24 22:33:07.572379: I tensorflow/tsl/framework/bfc_allocator.cc:1090] InUse at 7f3df0406800 of size 23040 next 25\n",
      "2023-02-24 22:33:07.572393: I tensorflow/tsl/framework/bfc_allocator.cc:1090] InUse at 7f3df040c200 of size 73728 next 24\n",
      "2023-02-24 22:33:07.572407: I tensorflow/tsl/framework/bfc_allocator.cc:1090] InUse at 7f3df041e200 of size 368640 next 20\n",
      "2023-02-24 22:33:07.572429: I tensorflow/tsl/framework/bfc_allocator.cc:1090] InUse at 7f3df0478200 of size 294912 next 19\n",
      "2023-02-24 22:33:07.572442: I tensorflow/tsl/framework/bfc_allocator.cc:1090] InUse at 7f3df04c0200 of size 73728 next 49\n",
      "2023-02-24 22:33:07.572455: I tensorflow/tsl/framework/bfc_allocator.cc:1090] InUse at 7f3df04d2200 of size 36864 next 51\n",
      "2023-02-24 22:33:07.572469: I tensorflow/tsl/framework/bfc_allocator.cc:1090] InUse at 7f3df04db200 of size 36864 next 53\n",
      "2023-02-24 22:33:07.572483: I tensorflow/tsl/framework/bfc_allocator.cc:1090] InUse at 7f3df04e4200 of size 13824 next 57\n",
      "2023-02-24 22:33:07.572499: I tensorflow/tsl/framework/bfc_allocator.cc:1090] InUse at 7f3df04e7800 of size 294912 next 59\n",
      "2023-02-24 22:33:07.572521: I tensorflow/tsl/framework/bfc_allocator.cc:1090] InUse at 7f3df052f800 of size 73728 next 61\n",
      "2023-02-24 22:33:07.572543: I tensorflow/tsl/framework/bfc_allocator.cc:1090] InUse at 7f3df0541800 of size 36864 next 63\n",
      "2023-02-24 22:33:07.572563: I tensorflow/tsl/framework/bfc_allocator.cc:1090] InUse at 7f3df054a800 of size 36864 next 65\n",
      "2023-02-24 22:33:07.572589: I tensorflow/tsl/framework/bfc_allocator.cc:1090] InUse at 7f3df0553800 of size 12800 next 67\n",
      "2023-02-24 22:33:07.572611: I tensorflow/tsl/framework/bfc_allocator.cc:1090] Free  at 7f3df0556a00 of size 4050176 next 83\n",
      "2023-02-24 22:33:07.572637: I tensorflow/tsl/framework/bfc_allocator.cc:1090] InUse at 7f3df0933700 of size 4050176 next 86\n",
      "2023-02-24 22:33:07.572662: I tensorflow/tsl/framework/bfc_allocator.cc:1090] Free  at 7f3df0d10400 of size 97909760 next 18446744073709551615\n",
      "2023-02-24 22:33:07.572696: I tensorflow/tsl/framework/bfc_allocator.cc:1095]      Summary of in-use Chunks by size: \n",
      "2023-02-24 22:33:07.572723: I tensorflow/tsl/framework/bfc_allocator.cc:1098] 52 Chunks of size 256 totalling 13.0KiB\n",
      "2023-02-24 22:33:07.572749: I tensorflow/tsl/framework/bfc_allocator.cc:1098] 5 Chunks of size 512 totalling 2.5KiB\n",
      "2023-02-24 22:33:07.572773: I tensorflow/tsl/framework/bfc_allocator.cc:1098] 1 Chunks of size 768 totalling 768B\n",
      "2023-02-24 22:33:07.572801: I tensorflow/tsl/framework/bfc_allocator.cc:1098] 2 Chunks of size 1024 totalling 2.0KiB\n",
      "2023-02-24 22:33:07.572826: I tensorflow/tsl/framework/bfc_allocator.cc:1098] 1 Chunks of size 1280 totalling 1.2KiB\n",
      "2023-02-24 22:33:07.572850: I tensorflow/tsl/framework/bfc_allocator.cc:1098] 2 Chunks of size 6144 totalling 12.0KiB\n",
      "2023-02-24 22:33:07.572873: I tensorflow/tsl/framework/bfc_allocator.cc:1098] 1 Chunks of size 12032 totalling 11.8KiB\n",
      "2023-02-24 22:33:07.572900: I tensorflow/tsl/framework/bfc_allocator.cc:1098] 1 Chunks of size 12800 totalling 12.5KiB\n",
      "2023-02-24 22:33:07.572926: I tensorflow/tsl/framework/bfc_allocator.cc:1098] 3 Chunks of size 13824 totalling 40.5KiB\n",
      "2023-02-24 22:33:07.572951: I tensorflow/tsl/framework/bfc_allocator.cc:1098] 1 Chunks of size 23040 totalling 22.5KiB\n",
      "2023-02-24 22:33:07.572978: I tensorflow/tsl/framework/bfc_allocator.cc:1098] 1 Chunks of size 23808 totalling 23.2KiB\n",
      "2023-02-24 22:33:07.573004: I tensorflow/tsl/framework/bfc_allocator.cc:1098] 6 Chunks of size 36864 totalling 216.0KiB\n",
      "2023-02-24 22:33:07.573030: I tensorflow/tsl/framework/bfc_allocator.cc:1098] 3 Chunks of size 73728 totalling 216.0KiB\n",
      "2023-02-24 22:33:07.573056: I tensorflow/tsl/framework/bfc_allocator.cc:1098] 2 Chunks of size 294912 totalling 576.0KiB\n",
      "2023-02-24 22:33:07.573085: I tensorflow/tsl/framework/bfc_allocator.cc:1098] 1 Chunks of size 368640 totalling 360.0KiB\n",
      "2023-02-24 22:33:07.573113: I tensorflow/tsl/framework/bfc_allocator.cc:1098] 2 Chunks of size 4050176 totalling 7.72MiB\n",
      "2023-02-24 22:33:07.573140: I tensorflow/tsl/framework/bfc_allocator.cc:1102] Sum Total of in-use chunks: 9.20MiB\n",
      "2023-02-24 22:33:07.573162: I tensorflow/tsl/framework/bfc_allocator.cc:1104] total_region_allocated_bytes_: 111607808 memory_limit_: 111607808 available bytes: 0 curr_region_allocation_bytes_: 223215616\n",
      "2023-02-24 22:33:07.573201: I tensorflow/tsl/framework/bfc_allocator.cc:1110] Stats: \n",
      "Limit:                       111607808\n",
      "InUse:                         9646592\n",
      "MaxInUse:                     13696768\n",
      "NumAllocs:                         124\n",
      "MaxAllocSize:                  4050176\n",
      "Reserved:                            0\n",
      "PeakReserved:                        0\n",
      "LargestFreeBlock:                    0\n",
      "\n",
      "2023-02-24 22:33:07.573242: W tensorflow/tsl/framework/bfc_allocator.cc:492] ******__*****_______________________________________________________________________________________\n",
      "2023-02-24 22:33:07.573308: W tensorflow/core/framework/op_kernel.cc:1830] OP_REQUIRES failed at conv_ops_fused_impl.h:766 : RESOURCE_EXHAUSTED: OOM when allocating tensor with shape[15,128,150,150] and type float on /job:localhost/replica:0/task:0/device:GPU:0 by allocator GPU_0_bfc\n"
     ]
    },
    {
     "ename": "ResourceExhaustedError",
     "evalue": "Graph execution error:\n\nDetected at node 'sequential/conv2d/Relu' defined at (most recent call last):\n    File \"/home/masoud/anaconda3/lib/python3.9/runpy.py\", line 197, in _run_module_as_main\n      return _run_code(code, main_globals, None,\n    File \"/home/masoud/anaconda3/lib/python3.9/runpy.py\", line 87, in _run_code\n      exec(code, run_globals)\n    File \"/home/masoud/anaconda3/lib/python3.9/site-packages/ipykernel_launcher.py\", line 17, in <module>\n      app.launch_new_instance()\n    File \"/home/masoud/anaconda3/lib/python3.9/site-packages/traitlets/config/application.py\", line 846, in launch_instance\n      app.start()\n    File \"/home/masoud/anaconda3/lib/python3.9/site-packages/ipykernel/kernelapp.py\", line 712, in start\n      self.io_loop.start()\n    File \"/home/masoud/anaconda3/lib/python3.9/site-packages/tornado/platform/asyncio.py\", line 199, in start\n      self.asyncio_loop.run_forever()\n    File \"/home/masoud/anaconda3/lib/python3.9/asyncio/base_events.py\", line 601, in run_forever\n      self._run_once()\n    File \"/home/masoud/anaconda3/lib/python3.9/asyncio/base_events.py\", line 1905, in _run_once\n      handle._run()\n    File \"/home/masoud/anaconda3/lib/python3.9/asyncio/events.py\", line 80, in _run\n      self._context.run(self._callback, *self._args)\n    File \"/home/masoud/anaconda3/lib/python3.9/site-packages/ipykernel/kernelbase.py\", line 510, in dispatch_queue\n      await self.process_one()\n    File \"/home/masoud/anaconda3/lib/python3.9/site-packages/ipykernel/kernelbase.py\", line 499, in process_one\n      await dispatch(*args)\n    File \"/home/masoud/anaconda3/lib/python3.9/site-packages/ipykernel/kernelbase.py\", line 406, in dispatch_shell\n      await result\n    File \"/home/masoud/anaconda3/lib/python3.9/site-packages/ipykernel/kernelbase.py\", line 730, in execute_request\n      reply_content = await reply_content\n    File \"/home/masoud/anaconda3/lib/python3.9/site-packages/ipykernel/ipkernel.py\", line 390, in do_execute\n      res = shell.run_cell(code, store_history=store_history, silent=silent)\n    File \"/home/masoud/anaconda3/lib/python3.9/site-packages/ipykernel/zmqshell.py\", line 528, in run_cell\n      return super().run_cell(*args, **kwargs)\n    File \"/home/masoud/anaconda3/lib/python3.9/site-packages/IPython/core/interactiveshell.py\", line 2914, in run_cell\n      result = self._run_cell(\n    File \"/home/masoud/anaconda3/lib/python3.9/site-packages/IPython/core/interactiveshell.py\", line 2960, in _run_cell\n      return runner(coro)\n    File \"/home/masoud/anaconda3/lib/python3.9/site-packages/IPython/core/async_helpers.py\", line 78, in _pseudo_sync_runner\n      coro.send(None)\n    File \"/home/masoud/anaconda3/lib/python3.9/site-packages/IPython/core/interactiveshell.py\", line 3185, in run_cell_async\n      has_raised = await self.run_ast_nodes(code_ast.body, cell_name,\n    File \"/home/masoud/anaconda3/lib/python3.9/site-packages/IPython/core/interactiveshell.py\", line 3377, in run_ast_nodes\n      if (await self.run_code(code, result,  async_=asy)):\n    File \"/home/masoud/anaconda3/lib/python3.9/site-packages/IPython/core/interactiveshell.py\", line 3457, in run_code\n      exec(code_obj, self.user_global_ns, self.user_ns)\n    File \"/tmp/ipykernel_21468/4000495065.py\", line 1, in <module>\n      history = model.fit(\n    File \"/home/masoud/anaconda3/lib/python3.9/site-packages/keras/utils/traceback_utils.py\", line 65, in error_handler\n      return fn(*args, **kwargs)\n    File \"/home/masoud/anaconda3/lib/python3.9/site-packages/keras/engine/training.py\", line 1650, in fit\n      tmp_logs = self.train_function(iterator)\n    File \"/home/masoud/anaconda3/lib/python3.9/site-packages/keras/engine/training.py\", line 1249, in train_function\n      return step_function(self, iterator)\n    File \"/home/masoud/anaconda3/lib/python3.9/site-packages/keras/engine/training.py\", line 1233, in step_function\n      outputs = model.distribute_strategy.run(run_step, args=(data,))\n    File \"/home/masoud/anaconda3/lib/python3.9/site-packages/keras/engine/training.py\", line 1222, in run_step\n      outputs = model.train_step(data)\n    File \"/home/masoud/anaconda3/lib/python3.9/site-packages/keras/engine/training.py\", line 1023, in train_step\n      y_pred = self(x, training=True)\n    File \"/home/masoud/anaconda3/lib/python3.9/site-packages/keras/utils/traceback_utils.py\", line 65, in error_handler\n      return fn(*args, **kwargs)\n    File \"/home/masoud/anaconda3/lib/python3.9/site-packages/keras/engine/training.py\", line 561, in __call__\n      return super().__call__(*args, **kwargs)\n    File \"/home/masoud/anaconda3/lib/python3.9/site-packages/keras/utils/traceback_utils.py\", line 65, in error_handler\n      return fn(*args, **kwargs)\n    File \"/home/masoud/anaconda3/lib/python3.9/site-packages/keras/engine/base_layer.py\", line 1132, in __call__\n      outputs = call_fn(inputs, *args, **kwargs)\n    File \"/home/masoud/anaconda3/lib/python3.9/site-packages/keras/utils/traceback_utils.py\", line 96, in error_handler\n      return fn(*args, **kwargs)\n    File \"/home/masoud/anaconda3/lib/python3.9/site-packages/keras/engine/sequential.py\", line 413, in call\n      return super().call(inputs, training=training, mask=mask)\n    File \"/home/masoud/anaconda3/lib/python3.9/site-packages/keras/engine/functional.py\", line 511, in call\n      return self._run_internal_graph(inputs, training=training, mask=mask)\n    File \"/home/masoud/anaconda3/lib/python3.9/site-packages/keras/engine/functional.py\", line 668, in _run_internal_graph\n      outputs = node.layer(*args, **kwargs)\n    File \"/home/masoud/anaconda3/lib/python3.9/site-packages/keras/utils/traceback_utils.py\", line 65, in error_handler\n      return fn(*args, **kwargs)\n    File \"/home/masoud/anaconda3/lib/python3.9/site-packages/keras/engine/base_layer.py\", line 1132, in __call__\n      outputs = call_fn(inputs, *args, **kwargs)\n    File \"/home/masoud/anaconda3/lib/python3.9/site-packages/keras/utils/traceback_utils.py\", line 96, in error_handler\n      return fn(*args, **kwargs)\n    File \"/home/masoud/anaconda3/lib/python3.9/site-packages/keras/layers/convolutional/base_conv.py\", line 314, in call\n      return self.activation(outputs)\n    File \"/home/masoud/anaconda3/lib/python3.9/site-packages/keras/activations.py\", line 317, in relu\n      return backend.relu(\n    File \"/home/masoud/anaconda3/lib/python3.9/site-packages/keras/backend.py\", line 5369, in relu\n      x = tf.nn.relu(x)\nNode: 'sequential/conv2d/Relu'\nOOM when allocating tensor with shape[15,128,150,150] and type float on /job:localhost/replica:0/task:0/device:GPU:0 by allocator GPU_0_bfc\n\t [[{{node sequential/conv2d/Relu}}]]\nHint: If you want to see a list of allocated tensors when OOM happens, add report_tensor_allocations_upon_oom to RunOptions for current allocation info. This isn't available when running in Eager mode.\n [Op:__inference_train_function_1293]",
     "output_type": "error",
     "traceback": [
      "\u001b[0;31m---------------------------------------------------------------------------\u001b[0m",
      "\u001b[0;31mResourceExhaustedError\u001b[0m                    Traceback (most recent call last)",
      "\u001b[0;32m/tmp/ipykernel_21468/4000495065.py\u001b[0m in \u001b[0;36m<module>\u001b[0;34m\u001b[0m\n\u001b[0;32m----> 1\u001b[0;31m history = model.fit(\n\u001b[0m\u001b[1;32m      2\u001b[0m     \u001b[0mgenerator\u001b[0m\u001b[0;34m,\u001b[0m\u001b[0;34m\u001b[0m\u001b[0;34m\u001b[0m\u001b[0m\n\u001b[1;32m      3\u001b[0m     \u001b[0mvalidation_data\u001b[0m\u001b[0;34m=\u001b[0m\u001b[0mgenerator_test\u001b[0m\u001b[0;34m,\u001b[0m\u001b[0;34m\u001b[0m\u001b[0;34m\u001b[0m\u001b[0m\n\u001b[1;32m      4\u001b[0m     \u001b[0mepochs\u001b[0m\u001b[0;34m=\u001b[0m\u001b[0;36m20\u001b[0m\u001b[0;34m,\u001b[0m\u001b[0;34m\u001b[0m\u001b[0;34m\u001b[0m\u001b[0m\n\u001b[1;32m      5\u001b[0m )\n",
      "\u001b[0;32m~/anaconda3/lib/python3.9/site-packages/keras/utils/traceback_utils.py\u001b[0m in \u001b[0;36merror_handler\u001b[0;34m(*args, **kwargs)\u001b[0m\n\u001b[1;32m     68\u001b[0m             \u001b[0;31m# To get the full stack trace, call:\u001b[0m\u001b[0;34m\u001b[0m\u001b[0;34m\u001b[0m\u001b[0m\n\u001b[1;32m     69\u001b[0m             \u001b[0;31m# `tf.debugging.disable_traceback_filtering()`\u001b[0m\u001b[0;34m\u001b[0m\u001b[0;34m\u001b[0m\u001b[0m\n\u001b[0;32m---> 70\u001b[0;31m             \u001b[0;32mraise\u001b[0m \u001b[0me\u001b[0m\u001b[0;34m.\u001b[0m\u001b[0mwith_traceback\u001b[0m\u001b[0;34m(\u001b[0m\u001b[0mfiltered_tb\u001b[0m\u001b[0;34m)\u001b[0m \u001b[0;32mfrom\u001b[0m \u001b[0;32mNone\u001b[0m\u001b[0;34m\u001b[0m\u001b[0;34m\u001b[0m\u001b[0m\n\u001b[0m\u001b[1;32m     71\u001b[0m         \u001b[0;32mfinally\u001b[0m\u001b[0;34m:\u001b[0m\u001b[0;34m\u001b[0m\u001b[0;34m\u001b[0m\u001b[0m\n\u001b[1;32m     72\u001b[0m             \u001b[0;32mdel\u001b[0m \u001b[0mfiltered_tb\u001b[0m\u001b[0;34m\u001b[0m\u001b[0;34m\u001b[0m\u001b[0m\n",
      "\u001b[0;32m~/anaconda3/lib/python3.9/site-packages/tensorflow/python/eager/execute.py\u001b[0m in \u001b[0;36mquick_execute\u001b[0;34m(op_name, num_outputs, inputs, attrs, ctx, name)\u001b[0m\n\u001b[1;32m     50\u001b[0m   \u001b[0;32mtry\u001b[0m\u001b[0;34m:\u001b[0m\u001b[0;34m\u001b[0m\u001b[0;34m\u001b[0m\u001b[0m\n\u001b[1;32m     51\u001b[0m     \u001b[0mctx\u001b[0m\u001b[0;34m.\u001b[0m\u001b[0mensure_initialized\u001b[0m\u001b[0;34m(\u001b[0m\u001b[0;34m)\u001b[0m\u001b[0;34m\u001b[0m\u001b[0;34m\u001b[0m\u001b[0m\n\u001b[0;32m---> 52\u001b[0;31m     tensors = pywrap_tfe.TFE_Py_Execute(ctx._handle, device_name, op_name,\n\u001b[0m\u001b[1;32m     53\u001b[0m                                         inputs, attrs, num_outputs)\n\u001b[1;32m     54\u001b[0m   \u001b[0;32mexcept\u001b[0m \u001b[0mcore\u001b[0m\u001b[0;34m.\u001b[0m\u001b[0m_NotOkStatusException\u001b[0m \u001b[0;32mas\u001b[0m \u001b[0me\u001b[0m\u001b[0;34m:\u001b[0m\u001b[0;34m\u001b[0m\u001b[0;34m\u001b[0m\u001b[0m\n",
      "\u001b[0;31mResourceExhaustedError\u001b[0m: Graph execution error:\n\nDetected at node 'sequential/conv2d/Relu' defined at (most recent call last):\n    File \"/home/masoud/anaconda3/lib/python3.9/runpy.py\", line 197, in _run_module_as_main\n      return _run_code(code, main_globals, None,\n    File \"/home/masoud/anaconda3/lib/python3.9/runpy.py\", line 87, in _run_code\n      exec(code, run_globals)\n    File \"/home/masoud/anaconda3/lib/python3.9/site-packages/ipykernel_launcher.py\", line 17, in <module>\n      app.launch_new_instance()\n    File \"/home/masoud/anaconda3/lib/python3.9/site-packages/traitlets/config/application.py\", line 846, in launch_instance\n      app.start()\n    File \"/home/masoud/anaconda3/lib/python3.9/site-packages/ipykernel/kernelapp.py\", line 712, in start\n      self.io_loop.start()\n    File \"/home/masoud/anaconda3/lib/python3.9/site-packages/tornado/platform/asyncio.py\", line 199, in start\n      self.asyncio_loop.run_forever()\n    File \"/home/masoud/anaconda3/lib/python3.9/asyncio/base_events.py\", line 601, in run_forever\n      self._run_once()\n    File \"/home/masoud/anaconda3/lib/python3.9/asyncio/base_events.py\", line 1905, in _run_once\n      handle._run()\n    File \"/home/masoud/anaconda3/lib/python3.9/asyncio/events.py\", line 80, in _run\n      self._context.run(self._callback, *self._args)\n    File \"/home/masoud/anaconda3/lib/python3.9/site-packages/ipykernel/kernelbase.py\", line 510, in dispatch_queue\n      await self.process_one()\n    File \"/home/masoud/anaconda3/lib/python3.9/site-packages/ipykernel/kernelbase.py\", line 499, in process_one\n      await dispatch(*args)\n    File \"/home/masoud/anaconda3/lib/python3.9/site-packages/ipykernel/kernelbase.py\", line 406, in dispatch_shell\n      await result\n    File \"/home/masoud/anaconda3/lib/python3.9/site-packages/ipykernel/kernelbase.py\", line 730, in execute_request\n      reply_content = await reply_content\n    File \"/home/masoud/anaconda3/lib/python3.9/site-packages/ipykernel/ipkernel.py\", line 390, in do_execute\n      res = shell.run_cell(code, store_history=store_history, silent=silent)\n    File \"/home/masoud/anaconda3/lib/python3.9/site-packages/ipykernel/zmqshell.py\", line 528, in run_cell\n      return super().run_cell(*args, **kwargs)\n    File \"/home/masoud/anaconda3/lib/python3.9/site-packages/IPython/core/interactiveshell.py\", line 2914, in run_cell\n      result = self._run_cell(\n    File \"/home/masoud/anaconda3/lib/python3.9/site-packages/IPython/core/interactiveshell.py\", line 2960, in _run_cell\n      return runner(coro)\n    File \"/home/masoud/anaconda3/lib/python3.9/site-packages/IPython/core/async_helpers.py\", line 78, in _pseudo_sync_runner\n      coro.send(None)\n    File \"/home/masoud/anaconda3/lib/python3.9/site-packages/IPython/core/interactiveshell.py\", line 3185, in run_cell_async\n      has_raised = await self.run_ast_nodes(code_ast.body, cell_name,\n    File \"/home/masoud/anaconda3/lib/python3.9/site-packages/IPython/core/interactiveshell.py\", line 3377, in run_ast_nodes\n      if (await self.run_code(code, result,  async_=asy)):\n    File \"/home/masoud/anaconda3/lib/python3.9/site-packages/IPython/core/interactiveshell.py\", line 3457, in run_code\n      exec(code_obj, self.user_global_ns, self.user_ns)\n    File \"/tmp/ipykernel_21468/4000495065.py\", line 1, in <module>\n      history = model.fit(\n    File \"/home/masoud/anaconda3/lib/python3.9/site-packages/keras/utils/traceback_utils.py\", line 65, in error_handler\n      return fn(*args, **kwargs)\n    File \"/home/masoud/anaconda3/lib/python3.9/site-packages/keras/engine/training.py\", line 1650, in fit\n      tmp_logs = self.train_function(iterator)\n    File \"/home/masoud/anaconda3/lib/python3.9/site-packages/keras/engine/training.py\", line 1249, in train_function\n      return step_function(self, iterator)\n    File \"/home/masoud/anaconda3/lib/python3.9/site-packages/keras/engine/training.py\", line 1233, in step_function\n      outputs = model.distribute_strategy.run(run_step, args=(data,))\n    File \"/home/masoud/anaconda3/lib/python3.9/site-packages/keras/engine/training.py\", line 1222, in run_step\n      outputs = model.train_step(data)\n    File \"/home/masoud/anaconda3/lib/python3.9/site-packages/keras/engine/training.py\", line 1023, in train_step\n      y_pred = self(x, training=True)\n    File \"/home/masoud/anaconda3/lib/python3.9/site-packages/keras/utils/traceback_utils.py\", line 65, in error_handler\n      return fn(*args, **kwargs)\n    File \"/home/masoud/anaconda3/lib/python3.9/site-packages/keras/engine/training.py\", line 561, in __call__\n      return super().__call__(*args, **kwargs)\n    File \"/home/masoud/anaconda3/lib/python3.9/site-packages/keras/utils/traceback_utils.py\", line 65, in error_handler\n      return fn(*args, **kwargs)\n    File \"/home/masoud/anaconda3/lib/python3.9/site-packages/keras/engine/base_layer.py\", line 1132, in __call__\n      outputs = call_fn(inputs, *args, **kwargs)\n    File \"/home/masoud/anaconda3/lib/python3.9/site-packages/keras/utils/traceback_utils.py\", line 96, in error_handler\n      return fn(*args, **kwargs)\n    File \"/home/masoud/anaconda3/lib/python3.9/site-packages/keras/engine/sequential.py\", line 413, in call\n      return super().call(inputs, training=training, mask=mask)\n    File \"/home/masoud/anaconda3/lib/python3.9/site-packages/keras/engine/functional.py\", line 511, in call\n      return self._run_internal_graph(inputs, training=training, mask=mask)\n    File \"/home/masoud/anaconda3/lib/python3.9/site-packages/keras/engine/functional.py\", line 668, in _run_internal_graph\n      outputs = node.layer(*args, **kwargs)\n    File \"/home/masoud/anaconda3/lib/python3.9/site-packages/keras/utils/traceback_utils.py\", line 65, in error_handler\n      return fn(*args, **kwargs)\n    File \"/home/masoud/anaconda3/lib/python3.9/site-packages/keras/engine/base_layer.py\", line 1132, in __call__\n      outputs = call_fn(inputs, *args, **kwargs)\n    File \"/home/masoud/anaconda3/lib/python3.9/site-packages/keras/utils/traceback_utils.py\", line 96, in error_handler\n      return fn(*args, **kwargs)\n    File \"/home/masoud/anaconda3/lib/python3.9/site-packages/keras/layers/convolutional/base_conv.py\", line 314, in call\n      return self.activation(outputs)\n    File \"/home/masoud/anaconda3/lib/python3.9/site-packages/keras/activations.py\", line 317, in relu\n      return backend.relu(\n    File \"/home/masoud/anaconda3/lib/python3.9/site-packages/keras/backend.py\", line 5369, in relu\n      x = tf.nn.relu(x)\nNode: 'sequential/conv2d/Relu'\nOOM when allocating tensor with shape[15,128,150,150] and type float on /job:localhost/replica:0/task:0/device:GPU:0 by allocator GPU_0_bfc\n\t [[{{node sequential/conv2d/Relu}}]]\nHint: If you want to see a list of allocated tensors when OOM happens, add report_tensor_allocations_upon_oom to RunOptions for current allocation info. This isn't available when running in Eager mode.\n [Op:__inference_train_function_1293]"
     ]
    }
   ],
   "source": [
    "history = model.fit(\n",
    "    generator,\n",
    "    validation_data=generator_test,\n",
    "    epochs=20,\n",
    ")"
   ]
  },
  {
   "cell_type": "code",
   "execution_count": null,
   "id": "d6b38042",
   "metadata": {},
   "outputs": [],
   "source": [
    "PLT.plot(history.history['accuracy'],color='green')\n",
    "PLT.plot(history.history['val_accuracy'],color='red')"
   ]
  },
  {
   "cell_type": "code",
   "execution_count": null,
   "id": "3df381ba",
   "metadata": {},
   "outputs": [],
   "source": [
    "# model.save('15-scene')\n",
    "# model = models.load_model('15-scene')"
   ]
  },
  {
   "cell_type": "markdown",
   "id": "d6d469ce",
   "metadata": {},
   "source": [
    "# Diffrent Learning rate"
   ]
  },
  {
   "cell_type": "code",
   "execution_count": null,
   "id": "80fe7933",
   "metadata": {},
   "outputs": [],
   "source": [
    "model = Sequential([\n",
    " \n",
    "    \n",
    "    Conv2D(128, 3, strides=1, activation='relu', padding='same'),\n",
    "    MaxPool2D(pool_size=16, strides=2),\n",
    "    \n",
    "    Conv2D(64, 3, strides=1, activation='relu'),\n",
    "    MaxPool2D(pool_size=8, strides=2),\n",
    "    \n",
    "    \n",
    "    Conv2D(32, 3, strides=1, activation='relu'),\n",
    "    MaxPool2D(pool_size=4, strides=2),\n",
    "    \n",
    "    \n",
    "    Conv2D(32, 3, strides=1, activation='relu'),\n",
    "    MaxPool2D(pool_size=2, strides=2),\n",
    "    \n",
    "    \n",
    "    Conv2D(32, 3, strides=1, activation='relu'),\n",
    "    MaxPool2D(pool_size=2, strides=2),\n",
    "    \n",
    "    \n",
    "    Flatten(),\n",
    "    Dense(100, activation='relu'),\n",
    "    Dropout(0.5),\n",
    "    Dense(15, activation='softmax')\n",
    "])\n",
    "\n",
    "model.compile(optimizer=Adam(), loss='categorical_crossentropy', metrics=['accuracy'])"
   ]
  },
  {
   "cell_type": "code",
   "execution_count": null,
   "id": "dc8f5162",
   "metadata": {},
   "outputs": [],
   "source": [
    "model.compile(optimizer=Adam(learning_rate=0.03), loss='categorical_crossentropy', metrics=['accuracy'])"
   ]
  },
  {
   "cell_type": "code",
   "execution_count": null,
   "id": "773545fc",
   "metadata": {},
   "outputs": [],
   "source": [
    "history = model.fit(\n",
    "    generator,\n",
    "    validation_data=generator_test,\n",
    "    epochs=20,\n",
    ")"
   ]
  },
  {
   "cell_type": "code",
   "execution_count": null,
   "id": "3ffa092c",
   "metadata": {},
   "outputs": [],
   "source": [
    "PLT.plot(history.history['accuracy'],color='green')\n",
    "PLT.plot(history.history['val_accuracy'],color='red')"
   ]
  },
  {
   "cell_type": "code",
   "execution_count": null,
   "id": "aaadbaa7",
   "metadata": {},
   "outputs": [],
   "source": []
  },
  {
   "cell_type": "code",
   "execution_count": null,
   "id": "e2a4c64a",
   "metadata": {},
   "outputs": [],
   "source": [
    "model = Sequential([\n",
    " \n",
    "    \n",
    "    Conv2D(128, 3, strides=1, activation='relu', padding='same'),\n",
    "    MaxPool2D(pool_size=16, strides=2),\n",
    "    \n",
    "    Conv2D(64, 3, strides=1, activation='relu'),\n",
    "    MaxPool2D(pool_size=8, strides=2),\n",
    "    \n",
    "    \n",
    "    Conv2D(32, 3, strides=1, activation='relu'),\n",
    "    MaxPool2D(pool_size=4, strides=2),\n",
    "    \n",
    "    \n",
    "    Conv2D(32, 3, strides=1, activation='relu'),\n",
    "    MaxPool2D(pool_size=2, strides=2),\n",
    "    \n",
    "    \n",
    "    Conv2D(32, 3, strides=1, activation='relu'),\n",
    "    MaxPool2D(pool_size=2, strides=2),\n",
    "    \n",
    "    \n",
    "    Flatten(),\n",
    "    Dense(100, activation='relu'),\n",
    "    Dropout(0.5),\n",
    "    Dense(15, activation='softmax')\n",
    "])\n",
    "\n",
    "model.compile(optimizer=Adam(), loss='categorical_crossentropy', metrics=['accuracy'])"
   ]
  },
  {
   "cell_type": "code",
   "execution_count": null,
   "id": "035d0620",
   "metadata": {},
   "outputs": [],
   "source": [
    "model.compile(optimizer=Adam(learning_rate=0.01), loss='categorical_crossentropy', metrics=['accuracy'])"
   ]
  },
  {
   "cell_type": "code",
   "execution_count": null,
   "id": "ee00a566",
   "metadata": {},
   "outputs": [],
   "source": [
    "history = model.fit(\n",
    "    generator,\n",
    "    validation_data=generator_test,\n",
    "    epochs=20,\n",
    ")"
   ]
  },
  {
   "cell_type": "code",
   "execution_count": null,
   "id": "97914026",
   "metadata": {},
   "outputs": [],
   "source": [
    "PLT.plot(history.history['accuracy'],color='green')\n",
    "PLT.plot(history.history['val_accuracy'],color='red')"
   ]
  },
  {
   "cell_type": "code",
   "execution_count": null,
   "id": "0f4324a1",
   "metadata": {},
   "outputs": [],
   "source": []
  },
  {
   "cell_type": "markdown",
   "id": "0b1fc882",
   "metadata": {},
   "source": [
    "# ResNet Evaluation"
   ]
  },
  {
   "cell_type": "code",
   "execution_count": null,
   "id": "b5cbc765",
   "metadata": {},
   "outputs": [],
   "source": [
    "resnet152 = ResNet152(weights='imagenet', input_shape=generator.image_shape, include_top=False)"
   ]
  },
  {
   "cell_type": "code",
   "execution_count": null,
   "id": "eee68bdb",
   "metadata": {},
   "outputs": [],
   "source": [
    "resnet_model = models.Sequential()\n",
    "resnet_model.add(resnet152)\n",
    "resnet_model.add(Flatten())\n",
    "resnet_model.add(Dense(15, activation='softmax'))\n",
    "resnet_model.compile(optimizer=Adam(), loss='categorical_crossentropy', metrics=['accuracy'])"
   ]
  },
  {
   "cell_type": "code",
   "execution_count": null,
   "id": "dd580992",
   "metadata": {},
   "outputs": [],
   "source": [
    "resnet_history = resnet_model.fit(\n",
    "    generator,\n",
    "    validation_data=generator_test,\n",
    "    epochs=200,\n",
    ")"
   ]
  },
  {
   "cell_type": "code",
   "execution_count": null,
   "id": "b7742d1d",
   "metadata": {},
   "outputs": [],
   "source": [
    "PLT.plot(resnet_history.history['accuracy'],color='green')\n",
    "PLT.plot(resnet_history.history['val_accuracy'],color='red')"
   ]
  },
  {
   "cell_type": "code",
   "execution_count": null,
   "id": "d21b9549",
   "metadata": {},
   "outputs": [],
   "source": []
  },
  {
   "cell_type": "code",
   "execution_count": null,
   "id": "7c90fa6f",
   "metadata": {},
   "outputs": [],
   "source": []
  },
  {
   "cell_type": "code",
   "execution_count": null,
   "id": "5e125ec4",
   "metadata": {},
   "outputs": [],
   "source": []
  },
  {
   "cell_type": "code",
   "execution_count": null,
   "id": "83eb5563",
   "metadata": {},
   "outputs": [],
   "source": []
  },
  {
   "cell_type": "code",
   "execution_count": null,
   "id": "d86e2ffd",
   "metadata": {},
   "outputs": [],
   "source": []
  },
  {
   "cell_type": "code",
   "execution_count": null,
   "id": "cdf8f50a",
   "metadata": {},
   "outputs": [],
   "source": []
  },
  {
   "cell_type": "code",
   "execution_count": null,
   "id": "d9910acd",
   "metadata": {},
   "outputs": [],
   "source": []
  },
  {
   "cell_type": "code",
   "execution_count": null,
   "id": "fda8279c",
   "metadata": {},
   "outputs": [],
   "source": []
  },
  {
   "cell_type": "code",
   "execution_count": null,
   "id": "b1262f28",
   "metadata": {},
   "outputs": [],
   "source": []
  },
  {
   "cell_type": "code",
   "execution_count": null,
   "id": "3bf32dc2",
   "metadata": {},
   "outputs": [],
   "source": []
  },
  {
   "cell_type": "code",
   "execution_count": null,
   "id": "300347aa",
   "metadata": {},
   "outputs": [],
   "source": []
  },
  {
   "cell_type": "code",
   "execution_count": null,
   "id": "489c568a",
   "metadata": {},
   "outputs": [],
   "source": []
  },
  {
   "cell_type": "code",
   "execution_count": null,
   "id": "de3a109e",
   "metadata": {},
   "outputs": [],
   "source": []
  },
  {
   "cell_type": "code",
   "execution_count": null,
   "id": "6351548f",
   "metadata": {},
   "outputs": [],
   "source": []
  }
 ],
 "metadata": {
  "kernelspec": {
   "display_name": "Python 3 (ipykernel)",
   "language": "python",
   "name": "python3"
  },
  "language_info": {
   "codemirror_mode": {
    "name": "ipython",
    "version": 3
   },
   "file_extension": ".py",
   "mimetype": "text/x-python",
   "name": "python",
   "nbconvert_exporter": "python",
   "pygments_lexer": "ipython3",
   "version": "3.9.13"
  }
 },
 "nbformat": 4,
 "nbformat_minor": 5
}
