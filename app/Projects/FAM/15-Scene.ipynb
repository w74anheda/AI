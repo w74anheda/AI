{
 "cells": [
  {
   "cell_type": "code",
   "execution_count": 2,
   "id": "112f77eb",
   "metadata": {},
   "outputs": [
    {
     "data": {
      "text/plain": [
       "'/home/masoud/.keras/'"
      ]
     },
     "execution_count": 2,
     "metadata": {},
     "output_type": "execute_result"
    }
   ],
   "source": [
    "import numpy as np\n",
    "import pandas as pd\n",
    "import matplotlib.pyplot as PLT\n",
    "from tensorflow.keras import models, layers, optimizers\n",
    "from tensorflow.keras.applications.resnet import ResNet152, preprocess_input, decode_predictions\n",
    "from tensorflow.keras.preprocessing.image import ImageDataGenerator\n",
    "from tensorflow.keras import Sequential, Model,Input\n",
    "from tensorflow.keras.layers import Dense, Flatten, Conv2D, MaxPool2D,ZeroPadding2D, Dropout, BatchNormalization\n",
    "from tensorflow.keras.utils import to_categorical\n",
    "import os,glob,random,shutil\n",
    "from pathlib import Path\n",
    "from tensorflow.keras.optimizers.legacy import Adam\n",
    "os.path.expanduser('/home/masoud/.keras/')"
   ]
  },
  {
   "cell_type": "code",
   "execution_count": 4,
   "id": "8c3c959b",
   "metadata": {},
   "outputs": [
    {
     "name": "stdout",
     "output_type": "stream",
     "text": [
      "[PhysicalDevice(name='/physical_device:GPU:0', device_type='GPU')]\n"
     ]
    }
   ],
   "source": [
    "import tensorflow as tf; print(tf.config.list_physical_devices('GPU'))"
   ]
  },
  {
   "cell_type": "code",
   "execution_count": 5,
   "id": "dd8dc78f",
   "metadata": {},
   "outputs": [],
   "source": [
    "data_path = os.path.join('__file__', '../../../../datasets/15-Scene/data/')\n",
    "train_test_path = os.path.join('__file__', '../../../../datasets/15-Scene/train_test/')\n",
    "train_path = os.path.join(train_test_path, 'train/')\n",
    "test_path = os.path.join(train_test_path, 'test/')"
   ]
  },
  {
   "cell_type": "code",
   "execution_count": 6,
   "id": "cb97247b",
   "metadata": {},
   "outputs": [],
   "source": [
    "train_count = 100\n",
    "\n",
    "if os.path.isdir(train_test_path):\n",
    "    shutil.rmtree(train_test_path)\n",
    "Path(f'{train_test_path}').mkdir(parents=True, exist_ok=True)\n",
    "\n",
    "for category in os.listdir(data_path):\n",
    "    images = glob.glob(f'{data_path}/{category}/*')\n",
    "    random.shuffle(images)\n",
    "    \n",
    "    # train data\n",
    "    Path(f'{train_path}/{category}/').mkdir(parents=True, exist_ok=True)\n",
    "    \n",
    "    for img in images[:train_count]:\n",
    "        shutil.copyfile(img, f'{train_path}/{category}/{img.split(\"/\")[-1]}')\n",
    "        \n",
    "    # test data\n",
    "    Path(f'{test_path}/{category}/').mkdir(parents=True, exist_ok=True)\n",
    "    for img in images[train_count:]:\n",
    "        shutil.copyfile(img, f'{test_path}/{category}/{img.split(\"/\")[-1]}')"
   ]
  },
  {
   "cell_type": "code",
   "execution_count": 7,
   "id": "1211298d",
   "metadata": {},
   "outputs": [
    {
     "name": "stdout",
     "output_type": "stream",
     "text": [
      "Found 1500 images belonging to 15 classes.\n",
      "Found 2985 images belonging to 15 classes.\n"
     ]
    }
   ],
   "source": [
    "image_generator = ImageDataGenerator()\n",
    "batch_size = 15\n",
    "\n",
    "generator = image_generator.flow_from_directory(\n",
    "    train_path,\n",
    "    class_mode='categorical',\n",
    "    batch_size=batch_size,\n",
    "    target_size=(150,150)\n",
    ")\n",
    "\n",
    "generator_test = image_generator.flow_from_directory(\n",
    "    test_path,\n",
    "    class_mode='categorical',\n",
    "    batch_size=batch_size,\n",
    "    target_size=(150,150)\n",
    ")"
   ]
  },
  {
   "cell_type": "markdown",
   "id": "5ab18b24",
   "metadata": {},
   "source": [
    "# Default laerning rate 0.001"
   ]
  },
  {
   "cell_type": "code",
   "execution_count": 11,
   "id": "3df3ab0d",
   "metadata": {},
   "outputs": [],
   "source": [
    "model = Sequential([\n",
    " \n",
    "    \n",
    "    Conv2D(128, 3, strides=1, activation='relu', padding='same'),\n",
    "    BatchNormalization(axis=-1),\n",
    "    MaxPool2D(pool_size=16, strides=2),\n",
    "    \n",
    "    Conv2D(64, 3, strides=1, activation='relu'),\n",
    "    BatchNormalization(axis=-1),\n",
    "    MaxPool2D(pool_size=8, strides=2),\n",
    "    \n",
    "    \n",
    "    Conv2D(32, 3, strides=1, activation='relu'),\n",
    "    BatchNormalization(axis=-1),\n",
    "    MaxPool2D(pool_size=4, strides=2),\n",
    "    \n",
    "    \n",
    "    Conv2D(32, 3, strides=1, activation='relu'),\n",
    "    BatchNormalization(axis=-1),\n",
    "    MaxPool2D(pool_size=2, strides=2),\n",
    "    \n",
    "    \n",
    "    Conv2D(32, 3, strides=1, activation='relu'),\n",
    "    BatchNormalization(axis=-1),\n",
    "    MaxPool2D(pool_size=2, strides=2),\n",
    "    \n",
    "    Flatten(),\n",
    "    Dense(100, activation='relu'),\n",
    "    Dropout(0.5),\n",
    "    Dense(15, activation='softmax')\n",
    "])\n",
    "\n",
    "model.compile(optimizer=Adam(), loss='categorical_crossentropy', metrics=['accuracy'])"
   ]
  },
  {
   "cell_type": "code",
   "execution_count": null,
   "id": "3e84991e",
   "metadata": {},
   "outputs": [
    {
     "name": "stdout",
     "output_type": "stream",
     "text": [
      "Epoch 1/20\n",
      "100/100 [==============================] - 7s 66ms/step - loss: 2.8451 - accuracy: 0.1187 - val_loss: 3.1159 - val_accuracy: 0.1307\n",
      "Epoch 2/20\n",
      "100/100 [==============================] - 6s 65ms/step - loss: 2.4424 - accuracy: 0.1913 - val_loss: 2.3147 - val_accuracy: 0.2208\n",
      "Epoch 3/20\n",
      "100/100 [==============================] - 7s 65ms/step - loss: 2.2150 - accuracy: 0.2693 - val_loss: 2.0517 - val_accuracy: 0.3625\n",
      "Epoch 4/20\n",
      "100/100 [==============================] - 7s 65ms/step - loss: 2.0414 - accuracy: 0.3113 - val_loss: 1.8844 - val_accuracy: 0.3993\n",
      "Epoch 5/20\n",
      "100/100 [==============================] - 7s 65ms/step - loss: 1.9282 - accuracy: 0.3560 - val_loss: 2.0337 - val_accuracy: 0.3330\n",
      "Epoch 6/20\n",
      "100/100 [==============================] - 7s 65ms/step - loss: 1.8364 - accuracy: 0.3913 - val_loss: 2.2136 - val_accuracy: 0.2549\n",
      "Epoch 7/20\n",
      "100/100 [==============================] - 7s 65ms/step - loss: 1.7272 - accuracy: 0.4173 - val_loss: 2.1807 - val_accuracy: 0.3229\n",
      "Epoch 8/20\n",
      "100/100 [==============================] - 6s 65ms/step - loss: 1.7079 - accuracy: 0.4327 - val_loss: 1.7166 - val_accuracy: 0.4131\n",
      "Epoch 9/20\n",
      "100/100 [==============================] - 6s 65ms/step - loss: 1.5558 - accuracy: 0.4760 - val_loss: 2.0190 - val_accuracy: 0.3307\n",
      "Epoch 10/20\n",
      "100/100 [==============================] - 6s 64ms/step - loss: 1.5272 - accuracy: 0.4907 - val_loss: 2.1852 - val_accuracy: 0.3417\n",
      "Epoch 11/20\n",
      "100/100 [==============================] - 6s 65ms/step - loss: 1.4896 - accuracy: 0.5007 - val_loss: 2.0049 - val_accuracy: 0.3343\n",
      "Epoch 12/20\n",
      "100/100 [==============================] - 6s 64ms/step - loss: 1.4817 - accuracy: 0.4987 - val_loss: 1.7610 - val_accuracy: 0.4312\n",
      "Epoch 13/20\n",
      "100/100 [==============================] - 6s 64ms/step - loss: 1.4014 - accuracy: 0.5347 - val_loss: 1.9944 - val_accuracy: 0.3494\n",
      "Epoch 14/20\n",
      " 99/100 [============================>.] - ETA: 0s - loss: 1.3864 - accuracy: 0.5347"
     ]
    }
   ],
   "source": [
    "history = model.fit(\n",
    "    generator,\n",
    "    validation_data=generator_test,\n",
    "    epochs=20,\n",
    ")"
   ]
  },
  {
   "cell_type": "code",
   "execution_count": null,
   "id": "d6b38042",
   "metadata": {},
   "outputs": [],
   "source": [
    "PLT.plot(history.history['accuracy'],color='green')\n",
    "PLT.plot(history.history['val_accuracy'],color='red')"
   ]
  },
  {
   "cell_type": "code",
   "execution_count": null,
   "id": "3df381ba",
   "metadata": {},
   "outputs": [],
   "source": [
    "# model.save('15-scene')\n",
    "# model = models.load_model('15-scene')"
   ]
  },
  {
   "cell_type": "markdown",
   "id": "d6d469ce",
   "metadata": {},
   "source": [
    "# Diffrent Learning rate"
   ]
  },
  {
   "cell_type": "code",
   "execution_count": null,
   "id": "80fe7933",
   "metadata": {},
   "outputs": [],
   "source": [
    "model = Sequential([\n",
    " \n",
    "    \n",
    "    Conv2D(128, 3, strides=1, activation='relu', padding='same'),\n",
    "    MaxPool2D(pool_size=16, strides=2),\n",
    "    \n",
    "    Conv2D(64, 3, strides=1, activation='relu'),\n",
    "    MaxPool2D(pool_size=8, strides=2),\n",
    "    \n",
    "    \n",
    "    Conv2D(32, 3, strides=1, activation='relu'),\n",
    "    MaxPool2D(pool_size=4, strides=2),\n",
    "    \n",
    "    \n",
    "    Conv2D(32, 3, strides=1, activation='relu'),\n",
    "    MaxPool2D(pool_size=2, strides=2),\n",
    "    \n",
    "    \n",
    "    Conv2D(32, 3, strides=1, activation='relu'),\n",
    "    MaxPool2D(pool_size=2, strides=2),\n",
    "    \n",
    "    \n",
    "    Flatten(),\n",
    "    Dense(100, activation='relu'),\n",
    "    Dropout(0.5),\n",
    "    Dense(15, activation='softmax')\n",
    "])\n",
    "\n",
    "model.compile(optimizer=Adam(), loss='categorical_crossentropy', metrics=['accuracy'])"
   ]
  },
  {
   "cell_type": "code",
   "execution_count": null,
   "id": "dc8f5162",
   "metadata": {},
   "outputs": [],
   "source": [
    "model.compile(optimizer=Adam(learning_rate=0.03), loss='categorical_crossentropy', metrics=['accuracy'])"
   ]
  },
  {
   "cell_type": "code",
   "execution_count": null,
   "id": "773545fc",
   "metadata": {},
   "outputs": [],
   "source": [
    "history = model.fit(\n",
    "    generator,\n",
    "    validation_data=generator_test,\n",
    "    epochs=20,\n",
    ")"
   ]
  },
  {
   "cell_type": "code",
   "execution_count": null,
   "id": "3ffa092c",
   "metadata": {},
   "outputs": [],
   "source": [
    "PLT.plot(history.history['accuracy'],color='green')\n",
    "PLT.plot(history.history['val_accuracy'],color='red')"
   ]
  },
  {
   "cell_type": "code",
   "execution_count": null,
   "id": "aaadbaa7",
   "metadata": {},
   "outputs": [],
   "source": []
  },
  {
   "cell_type": "code",
   "execution_count": null,
   "id": "e2a4c64a",
   "metadata": {},
   "outputs": [],
   "source": [
    "model = Sequential([\n",
    " \n",
    "    \n",
    "    Conv2D(128, 3, strides=1, activation='relu', padding='same'),\n",
    "    MaxPool2D(pool_size=16, strides=2),\n",
    "    \n",
    "    Conv2D(64, 3, strides=1, activation='relu'),\n",
    "    MaxPool2D(pool_size=8, strides=2),\n",
    "    \n",
    "    \n",
    "    Conv2D(32, 3, strides=1, activation='relu'),\n",
    "    MaxPool2D(pool_size=4, strides=2),\n",
    "    \n",
    "    \n",
    "    Conv2D(32, 3, strides=1, activation='relu'),\n",
    "    MaxPool2D(pool_size=2, strides=2),\n",
    "    \n",
    "    \n",
    "    Conv2D(32, 3, strides=1, activation='relu'),\n",
    "    MaxPool2D(pool_size=2, strides=2),\n",
    "    \n",
    "    \n",
    "    Flatten(),\n",
    "    Dense(100, activation='relu'),\n",
    "    Dropout(0.5),\n",
    "    Dense(15, activation='softmax')\n",
    "])\n",
    "\n",
    "model.compile(optimizer=Adam(), loss='categorical_crossentropy', metrics=['accuracy'])"
   ]
  },
  {
   "cell_type": "code",
   "execution_count": null,
   "id": "035d0620",
   "metadata": {},
   "outputs": [],
   "source": [
    "model.compile(optimizer=Adam(learning_rate=0.01), loss='categorical_crossentropy', metrics=['accuracy'])"
   ]
  },
  {
   "cell_type": "code",
   "execution_count": null,
   "id": "ee00a566",
   "metadata": {},
   "outputs": [],
   "source": [
    "history = model.fit(\n",
    "    generator,\n",
    "    validation_data=generator_test,\n",
    "    epochs=20,\n",
    ")"
   ]
  },
  {
   "cell_type": "code",
   "execution_count": null,
   "id": "97914026",
   "metadata": {},
   "outputs": [],
   "source": [
    "PLT.plot(history.history['accuracy'],color='green')\n",
    "PLT.plot(history.history['val_accuracy'],color='red')"
   ]
  },
  {
   "cell_type": "code",
   "execution_count": null,
   "id": "0f4324a1",
   "metadata": {},
   "outputs": [],
   "source": []
  },
  {
   "cell_type": "markdown",
   "id": "0b1fc882",
   "metadata": {},
   "source": [
    "# ResNet Evaluation"
   ]
  },
  {
   "cell_type": "code",
   "execution_count": null,
   "id": "b5cbc765",
   "metadata": {},
   "outputs": [],
   "source": [
    "resnet152 = ResNet152(weights='imagenet', input_shape=generator.image_shape, include_top=False)"
   ]
  },
  {
   "cell_type": "code",
   "execution_count": null,
   "id": "eee68bdb",
   "metadata": {},
   "outputs": [],
   "source": [
    "resnet_model = models.Sequential()\n",
    "resnet_model.add(resnet152)\n",
    "resnet_model.add(Flatten())\n",
    "resnet_model.add(Dense(15, activation='softmax'))\n",
    "resnet_model.compile(optimizer=Adam(), loss='categorical_crossentropy', metrics=['accuracy'])"
   ]
  },
  {
   "cell_type": "code",
   "execution_count": null,
   "id": "dd580992",
   "metadata": {},
   "outputs": [],
   "source": [
    "resnet_history = resnet_model.fit(\n",
    "    generator,\n",
    "    validation_data=generator_test,\n",
    "    epochs=200,\n",
    ")"
   ]
  },
  {
   "cell_type": "code",
   "execution_count": null,
   "id": "b7742d1d",
   "metadata": {},
   "outputs": [],
   "source": [
    "PLT.plot(resnet_history.history['accuracy'],color='green')\n",
    "PLT.plot(resnet_history.history['val_accuracy'],color='red')"
   ]
  },
  {
   "cell_type": "code",
   "execution_count": null,
   "id": "d21b9549",
   "metadata": {},
   "outputs": [],
   "source": []
  },
  {
   "cell_type": "code",
   "execution_count": null,
   "id": "7c90fa6f",
   "metadata": {},
   "outputs": [],
   "source": []
  },
  {
   "cell_type": "code",
   "execution_count": null,
   "id": "5e125ec4",
   "metadata": {},
   "outputs": [],
   "source": []
  },
  {
   "cell_type": "code",
   "execution_count": null,
   "id": "83eb5563",
   "metadata": {},
   "outputs": [],
   "source": []
  },
  {
   "cell_type": "code",
   "execution_count": null,
   "id": "d86e2ffd",
   "metadata": {},
   "outputs": [],
   "source": []
  },
  {
   "cell_type": "code",
   "execution_count": null,
   "id": "cdf8f50a",
   "metadata": {},
   "outputs": [],
   "source": []
  },
  {
   "cell_type": "code",
   "execution_count": null,
   "id": "d9910acd",
   "metadata": {},
   "outputs": [],
   "source": []
  },
  {
   "cell_type": "code",
   "execution_count": null,
   "id": "fda8279c",
   "metadata": {},
   "outputs": [],
   "source": []
  },
  {
   "cell_type": "code",
   "execution_count": null,
   "id": "b1262f28",
   "metadata": {},
   "outputs": [],
   "source": []
  },
  {
   "cell_type": "code",
   "execution_count": null,
   "id": "3bf32dc2",
   "metadata": {},
   "outputs": [],
   "source": []
  },
  {
   "cell_type": "code",
   "execution_count": null,
   "id": "300347aa",
   "metadata": {},
   "outputs": [],
   "source": []
  },
  {
   "cell_type": "code",
   "execution_count": null,
   "id": "489c568a",
   "metadata": {},
   "outputs": [],
   "source": []
  },
  {
   "cell_type": "code",
   "execution_count": null,
   "id": "de3a109e",
   "metadata": {},
   "outputs": [],
   "source": []
  },
  {
   "cell_type": "code",
   "execution_count": null,
   "id": "6351548f",
   "metadata": {},
   "outputs": [],
   "source": []
  }
 ],
 "metadata": {
  "kernelspec": {
   "display_name": "Python 3 (ipykernel)",
   "language": "python",
   "name": "python3"
  },
  "language_info": {
   "codemirror_mode": {
    "name": "ipython",
    "version": 3
   },
   "file_extension": ".py",
   "mimetype": "text/x-python",
   "name": "python",
   "nbconvert_exporter": "python",
   "pygments_lexer": "ipython3",
   "version": "3.9.13"
  }
 },
 "nbformat": 4,
 "nbformat_minor": 5
}
