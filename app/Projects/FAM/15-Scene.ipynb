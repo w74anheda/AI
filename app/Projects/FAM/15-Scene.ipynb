{
 "cells": [
  {
   "cell_type": "code",
   "execution_count": 2,
   "id": "112f77eb",
   "metadata": {},
   "outputs": [
    {
     "data": {
      "text/plain": [
       "'/home/masoud/.keras/'"
      ]
     },
     "execution_count": 2,
     "metadata": {},
     "output_type": "execute_result"
    }
   ],
   "source": [
    "import numpy as np\n",
    "import pandas as pd\n",
    "import matplotlib.pyplot as PLT\n",
    "from tensorflow.keras import models, layers, optimizers\n",
    "from tensorflow.keras.applications.resnet import ResNet152, preprocess_input, decode_predictions\n",
    "from tensorflow.keras.preprocessing.image import ImageDataGenerator\n",
    "from tensorflow.keras import Sequential\n",
    "from tensorflow.keras.layers import Dense, Flatten, Conv2D, MaxPool2D,ZeroPadding2D, Dropout\n",
    "from tensorflow.keras.utils import to_categorical\n",
    "import os\n",
    "from tensorflow.keras.optimizers.legacy import Adam\n",
    "\n",
    "os.path.expanduser('/home/masoud/.keras/')"
   ]
  },
  {
   "cell_type": "code",
   "execution_count": 4,
   "id": "8c3c959b",
   "metadata": {},
   "outputs": [
    {
     "name": "stdout",
     "output_type": "stream",
     "text": [
      "[PhysicalDevice(name='/physical_device:GPU:0', device_type='GPU')]\n"
     ]
    }
   ],
   "source": [
    "import tensorflow as tf; print(tf.config.list_physical_devices('GPU'))"
   ]
  },
  {
   "cell_type": "code",
   "execution_count": 5,
   "id": "1211298d",
   "metadata": {},
   "outputs": [
    {
     "name": "stdout",
     "output_type": "stream",
     "text": [
      "Found 4035 images belonging to 15 classes.\n",
      "Found 450 images belonging to 15 classes.\n"
     ]
    }
   ],
   "source": [
    "image_generator = ImageDataGenerator(\n",
    "    rescale=1.0/255.0\n",
    ")\n",
    "batch_size = 2\n",
    "\n",
    "generator = image_generator.flow_from_directory(\n",
    "    '../../../datasets/15-Scene/train/',\n",
    "    class_mode='categorical',\n",
    "    batch_size=batch_size,\n",
    "    target_size=(150,150)\n",
    ")\n",
    "\n",
    "generator_test = image_generator.flow_from_directory(\n",
    "    '../../../datasets/15-Scene/test',\n",
    "    class_mode='categorical',\n",
    "    batch_size=batch_size,\n",
    "    target_size=(150,150)\n",
    ")"
   ]
  },
  {
   "cell_type": "code",
   "execution_count": 6,
   "id": "0e52bdfb",
   "metadata": {},
   "outputs": [
    {
     "data": {
      "text/plain": [
       "(150, 150, 3)"
      ]
     },
     "execution_count": 6,
     "metadata": {},
     "output_type": "execute_result"
    }
   ],
   "source": [
    "generator.image_shape"
   ]
  },
  {
   "cell_type": "code",
   "execution_count": 13,
   "id": "3df3ab0d",
   "metadata": {},
   "outputs": [],
   "source": [
    "model = Sequential([\n",
    "    ZeroPadding2D(padding=(1,1), input_shape=generator.image_shape),\n",
    "    Conv2D(64, 2, activation='relu'),\n",
    "    Dropout(0.4),\n",
    "    MaxPool2D(pool_size=2),\n",
    "    Conv2D(32, 2, activation='relu', padding='same'),\n",
    "    Dropout(0.4),\n",
    "    MaxPool2D(pool_size=2),\n",
    "    Flatten(),\n",
    "    Dense(50, activation='relu'),\n",
    "#     Dropout(0.5),\n",
    "    Dense(15, activation='softmax')\n",
    "])\n",
    "\n",
    "model.compile(optimizer=Adam(), loss='categorical_crossentropy', metrics=['accuracy'])"
   ]
  },
  {
   "cell_type": "code",
   "execution_count": 89,
   "id": "610418bc",
   "metadata": {},
   "outputs": [],
   "source": [
    "# model.summary()"
   ]
  },
  {
   "cell_type": "code",
   "execution_count": 14,
   "id": "3e84991e",
   "metadata": {},
   "outputs": [
    {
     "name": "stdout",
     "output_type": "stream",
     "text": [
      "Epoch 1/20\n",
      "  12/2018 [..............................] - ETA: 9s - loss: 4.0581 - accuracy: 0.0417      "
     ]
    },
    {
     "name": "stderr",
     "output_type": "stream",
     "text": [
      "2023-02-21 22:32:29.041794: E tensorflow/core/grappler/optimizers/meta_optimizer.cc:954] layout failed: INVALID_ARGUMENT: Size of values 0 does not match size of permutation 4 @ fanin shape insequential_3/dropout_9/dropout/SelectV2-2-TransposeNHWCToNCHW-LayoutOptimizer\n"
     ]
    },
    {
     "name": "stdout",
     "output_type": "stream",
     "text": [
      "2018/2018 [==============================] - 9s 4ms/step - loss: 2.4050 - accuracy: 0.2270 - val_loss: 2.0539 - val_accuracy: 0.3400\n",
      "Epoch 2/20\n",
      "2018/2018 [==============================] - 9s 4ms/step - loss: 1.2672 - accuracy: 0.5869 - val_loss: 1.6719 - val_accuracy: 0.4511\n",
      "Epoch 3/20\n",
      "2018/2018 [==============================] - 9s 4ms/step - loss: 0.5144 - accuracy: 0.8307 - val_loss: 1.8627 - val_accuracy: 0.4511\n",
      "Epoch 4/20\n",
      "2018/2018 [==============================] - 9s 4ms/step - loss: 0.2376 - accuracy: 0.9279 - val_loss: 2.7748 - val_accuracy: 0.3689\n",
      "Epoch 5/20\n",
      "2018/2018 [==============================] - 9s 4ms/step - loss: 0.1683 - accuracy: 0.9532 - val_loss: 2.6054 - val_accuracy: 0.3911\n",
      "Epoch 6/20\n",
      "2018/2018 [==============================] - 9s 4ms/step - loss: 0.1652 - accuracy: 0.9561 - val_loss: 2.6180 - val_accuracy: 0.4422\n",
      "Epoch 7/20\n",
      "2018/2018 [==============================] - 9s 4ms/step - loss: 0.1372 - accuracy: 0.9648 - val_loss: 2.6927 - val_accuracy: 0.4333\n",
      "Epoch 8/20\n",
      "2018/2018 [==============================] - 9s 4ms/step - loss: 0.0916 - accuracy: 0.9732 - val_loss: 2.9766 - val_accuracy: 0.4356\n",
      "Epoch 9/20\n",
      "2018/2018 [==============================] - 9s 4ms/step - loss: 0.0997 - accuracy: 0.9760 - val_loss: 3.6242 - val_accuracy: 0.4311\n",
      "Epoch 10/20\n",
      "2018/2018 [==============================] - 9s 4ms/step - loss: 0.0868 - accuracy: 0.9789 - val_loss: 3.5535 - val_accuracy: 0.4267\n",
      "Epoch 11/20\n",
      "2018/2018 [==============================] - 9s 4ms/step - loss: 0.0915 - accuracy: 0.9774 - val_loss: 3.2309 - val_accuracy: 0.4267\n",
      "Epoch 12/20\n",
      "2018/2018 [==============================] - 9s 4ms/step - loss: 0.0812 - accuracy: 0.9822 - val_loss: 3.5595 - val_accuracy: 0.4333\n",
      "Epoch 13/20\n",
      "2018/2018 [==============================] - 9s 4ms/step - loss: 0.0748 - accuracy: 0.9814 - val_loss: 4.1691 - val_accuracy: 0.4067\n",
      "Epoch 14/20\n",
      "2018/2018 [==============================] - 9s 4ms/step - loss: 0.0768 - accuracy: 0.9814 - val_loss: 3.9875 - val_accuracy: 0.4489\n",
      "Epoch 15/20\n",
      "2018/2018 [==============================] - 9s 4ms/step - loss: 0.0869 - accuracy: 0.9809 - val_loss: 4.0786 - val_accuracy: 0.4067\n",
      "Epoch 16/20\n",
      "2018/2018 [==============================] - 9s 4ms/step - loss: 0.0737 - accuracy: 0.9846 - val_loss: 4.0640 - val_accuracy: 0.4667\n",
      "Epoch 17/20\n",
      "2018/2018 [==============================] - 8s 4ms/step - loss: 0.0588 - accuracy: 0.9864 - val_loss: 4.4605 - val_accuracy: 0.4400\n",
      "Epoch 18/20\n",
      "2018/2018 [==============================] - 9s 4ms/step - loss: 0.0898 - accuracy: 0.9824 - val_loss: 4.6945 - val_accuracy: 0.4133\n",
      "Epoch 19/20\n",
      "2018/2018 [==============================] - 9s 4ms/step - loss: 0.0848 - accuracy: 0.9844 - val_loss: 4.4054 - val_accuracy: 0.4267\n",
      "Epoch 20/20\n",
      "2018/2018 [==============================] - 9s 4ms/step - loss: 0.0630 - accuracy: 0.9849 - val_loss: 4.3423 - val_accuracy: 0.4311\n"
     ]
    }
   ],
   "source": [
    "history = model.fit(\n",
    "    generator,\n",
    "    validation_data=generator_test,\n",
    "    epochs=20,\n",
    ")"
   ]
  },
  {
   "cell_type": "code",
   "execution_count": null,
   "id": "d6b38042",
   "metadata": {},
   "outputs": [],
   "source": [
    "PLT.plot(history.history['accuracy'],color='green')\n",
    "PLT.plot(history.history['val_accuracy'],color='red')"
   ]
  },
  {
   "cell_type": "code",
   "execution_count": null,
   "id": "52df027a",
   "metadata": {},
   "outputs": [],
   "source": []
  },
  {
   "cell_type": "code",
   "execution_count": null,
   "id": "747d73c8",
   "metadata": {},
   "outputs": [],
   "source": []
  },
  {
   "cell_type": "code",
   "execution_count": null,
   "id": "60b62b77",
   "metadata": {},
   "outputs": [],
   "source": []
  },
  {
   "cell_type": "code",
   "execution_count": 17,
   "id": "e03c9bac",
   "metadata": {},
   "outputs": [
    {
     "name": "stdout",
     "output_type": "stream",
     "text": [
      "Downloading data from https://storage.googleapis.com/tensorflow/keras-applications/resnet/resnet152_weights_tf_dim_ordering_tf_kernels_notop.h5\n",
      "234698864/234698864 [==============================] - 996s 4us/step\n"
     ]
    }
   ],
   "source": [
    "model_conv = ResNet152(weights='imagenet', input_shape=(150,150,3), include_top=False)"
   ]
  },
  {
   "cell_type": "code",
   "execution_count": 20,
   "id": "f9814406",
   "metadata": {},
   "outputs": [],
   "source": [
    "model = models.Sequential()\n",
    "model.add(model_conv)\n",
    "model.add(layers.Flatten())\n",
    "model.add(layers.Dense(15,activation='relu' ))\n",
    "# model.add(layers.Dropout(.3))\n",
    "# model.add(layers.Dense(100,activation='relu'))\n",
    "model.add(layers.Dense(15, activation='softmax'))\n",
    "\n",
    "model.compile(optimizer=Adam(), loss='categorical_crossentropy', metrics=['accuracy'])"
   ]
  },
  {
   "cell_type": "code",
   "execution_count": null,
   "id": "76d4748f",
   "metadata": {},
   "outputs": [],
   "source": [
    "history = model.fit(\n",
    "    generator,\n",
    "    validation_data=generator_test,\n",
    "    epochs=20,\n",
    ")"
   ]
  },
  {
   "cell_type": "code",
   "execution_count": null,
   "id": "13082301",
   "metadata": {},
   "outputs": [],
   "source": []
  },
  {
   "cell_type": "code",
   "execution_count": null,
   "id": "0085ed7d",
   "metadata": {},
   "outputs": [],
   "source": []
  },
  {
   "cell_type": "code",
   "execution_count": null,
   "id": "9d69aa84",
   "metadata": {},
   "outputs": [],
   "source": []
  },
  {
   "cell_type": "code",
   "execution_count": null,
   "id": "1a3c09a1",
   "metadata": {},
   "outputs": [],
   "source": []
  },
  {
   "cell_type": "code",
   "execution_count": null,
   "id": "de3a109e",
   "metadata": {},
   "outputs": [],
   "source": []
  },
  {
   "cell_type": "code",
   "execution_count": null,
   "id": "6351548f",
   "metadata": {},
   "outputs": [],
   "source": []
  }
 ],
 "metadata": {
  "kernelspec": {
   "display_name": "Python 3 (ipykernel)",
   "language": "python",
   "name": "python3"
  },
  "language_info": {
   "codemirror_mode": {
    "name": "ipython",
    "version": 3
   },
   "file_extension": ".py",
   "mimetype": "text/x-python",
   "name": "python",
   "nbconvert_exporter": "python",
   "pygments_lexer": "ipython3",
   "version": "3.9.13"
  }
 },
 "nbformat": 4,
 "nbformat_minor": 5
}
