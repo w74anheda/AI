{
 "cells": [
  {
   "cell_type": "code",
   "execution_count": 2,
   "id": "112f77eb",
   "metadata": {},
   "outputs": [],
   "source": [
    "import numpy as np\n",
    "import pandas as pd\n",
    "import matplotlib.pyplot as PLT\n",
    "from tensorflow.keras import models, layers, optimizers\n",
    "from tensorflow.keras.applications.resnet import ResNet152, preprocess_input, decode_predictions\n",
    "from tensorflow.keras.preprocessing.image import ImageDataGenerator\n",
    "from tensorflow.keras import Sequential, Model,Input\n",
    "from tensorflow.keras.layers import Dense, Flatten, Conv2D, MaxPool2D,ZeroPadding2D, Dropout, BatchNormalization\n",
    "from tensorflow.keras.utils import to_categorical\n",
    "import os,glob,random,shutil\n",
    "from pathlib import Path\n",
    "from tensorflow.keras.optimizers.legacy import Adam, SGD\n",
    "from tensorflow.keras.optimizers.schedules import PiecewiseConstantDecay\n",
    "import pickle"
   ]
  },
  {
   "cell_type": "code",
   "execution_count": 4,
   "id": "8c3c959b",
   "metadata": {},
   "outputs": [
    {
     "name": "stdout",
     "output_type": "stream",
     "text": [
      "[PhysicalDevice(name='/physical_device:GPU:0', device_type='GPU')]\n"
     ]
    }
   ],
   "source": [
    "import tensorflow as tf; print(tf.config.list_physical_devices('GPU'))"
   ]
  },
  {
   "cell_type": "code",
   "execution_count": 5,
   "id": "f05845c5",
   "metadata": {},
   "outputs": [],
   "source": [
    "# Define required paths\n",
    "# data_path = 'Datasets/Scene/data'\n",
    "# train_test_path = 'Datasets/Scene/train_test'\n",
    "# train_path = 'Datasets/Scene/train_test/train'\n",
    "# test_path = 'Datasets/Scene/train_test/test'\n",
    "# model_path='Datasets/Scene/model'\n",
    "data_path = os.path.join('__file__', '../../../../datasets/Caltech256/data/')\n",
    "train_test_path = os.path.join('__file__', '../../../../datasets/Caltech256/train_test/')\n",
    "train_path = os.path.join(train_test_path, 'train/')\n",
    "test_path = os.path.join(train_test_path, 'test/')"
   ]
  },
  {
   "cell_type": "code",
   "execution_count": 7,
   "id": "f5385732",
   "metadata": {},
   "outputs": [],
   "source": [
    "# Create Train and Test set randomly per class in different directories\n",
    "train_count = 100\n",
    "\n",
    "if os.path.isdir(train_test_path):\n",
    "    shutil.rmtree(train_test_path)\n",
    "Path(f'{train_test_path}').mkdir(parents=True, exist_ok=True)\n",
    "\n",
    "for category in os.listdir(data_path):\n",
    "    images = glob.glob(f'{data_path}/{category}/*')\n",
    "    random.shuffle(images)\n",
    "    \n",
    "    # Train data\n",
    "    Path(f'{train_path}/{category}/').mkdir(parents=True, exist_ok=True)\n",
    "    \n",
    "    for img in images[:train_count]:\n",
    "        shutil.copyfile(img, f'{train_path}/{category}/'+img.split(\"\\\\\")[-1])\n",
    "        \n",
    "    # Test data\n",
    "    Path(f'{test_path}/{category}/').mkdir(parents=True, exist_ok=True)\n",
    "    for img in images[train_count:]:\n",
    "        shutil.copyfile(img, f'{test_path}/{category}/'+img.split(\"\\\\\")[-1])     "
   ]
  },
  {
   "cell_type": "code",
   "execution_count": 13,
   "id": "1211298d",
   "metadata": {},
   "outputs": [
    {
     "name": "stdout",
     "output_type": "stream",
     "text": [
      "Found 24447 images belonging to 257 classes.\n",
      "Found 6160 images belonging to 257 classes.\n"
     ]
    }
   ],
   "source": [
    "# Load the Training and Testing data\n",
    "image_generator = ImageDataGenerator(\n",
    "    rescale=1.0/255.0\n",
    ")\n",
    "batch_size = 100\n",
    "\n",
    "generator = image_generator.flow_from_directory(\n",
    "    train_path,\n",
    "    class_mode='categorical',\n",
    "    batch_size=batch_size,\n",
    "    target_size=(150,150)\n",
    ")\n",
    "\n",
    "generator_test = image_generator.flow_from_directory(\n",
    "    test_path,\n",
    "    class_mode='categorical',\n",
    "    batch_size=batch_size,\n",
    "    target_size=(150,150)\n",
    ")"
   ]
  },
  {
   "cell_type": "markdown",
   "id": "066e7a84",
   "metadata": {},
   "source": [
    " # Model1"
   ]
  },
  {
   "cell_type": "code",
   "execution_count": 14,
   "id": "3df3ab0d",
   "metadata": {},
   "outputs": [],
   "source": [
    "# 5-layer CNN model1 with default learning rate (lr=0.001) and Adam optimizer\n",
    "\n",
    "# Define the model1\n",
    "model = Sequential([ \n",
    "    \n",
    "    Conv2D(32, 3, strides=1, activation='relu', padding='same',input_shape=(150,150,3)),\n",
    "    BatchNormalization(),\n",
    "    MaxPool2D(pool_size=2),\n",
    "    \n",
    "    Conv2D(64, 3, strides=1, activation='relu'),\n",
    "    BatchNormalization(),\n",
    "    MaxPool2D(pool_size=2),\n",
    "    \n",
    "    Conv2D(128, 3, strides=1, activation='relu'),\n",
    "    BatchNormalization(),\n",
    "    MaxPool2D(pool_size=2, strides=2),\n",
    "    \n",
    "    Conv2D(256, 3, strides=1, activation='relu'),\n",
    "    BatchNormalization(),\n",
    "    MaxPool2D(pool_size=2),\n",
    "    \n",
    "    Conv2D(512, 3, strides=1, activation='relu'),\n",
    "    BatchNormalization(),\n",
    "    MaxPool2D(pool_size=2),\n",
    "    \n",
    "    Flatten(),\n",
    "    Dense(100, activation='relu'),\n",
    "    Dropout(0.2),\n",
    "    Dense(257, activation='softmax')\n",
    "])\n",
    "\n",
    "# Compile the model1\n",
    "model.compile(optimizer=Adam(), loss='categorical_crossentropy', metrics=['accuracy'])"
   ]
  },
  {
   "cell_type": "code",
   "execution_count": 15,
   "id": "3e84991e",
   "metadata": {},
   "outputs": [
    {
     "name": "stdout",
     "output_type": "stream",
     "text": [
      "Epoch 1/20\n",
      "245/245 [==============================] - 48s 188ms/step - loss: 5.4555 - accuracy: 0.0208 - val_loss: 5.3686 - val_accuracy: 0.0242\n",
      "Epoch 2/20\n",
      "245/245 [==============================] - 44s 181ms/step - loss: 5.0282 - accuracy: 0.0546 - val_loss: 4.5250 - val_accuracy: 0.1612\n",
      "Epoch 3/20\n",
      "245/245 [==============================] - 45s 183ms/step - loss: 4.5713 - accuracy: 0.1011 - val_loss: 3.9423 - val_accuracy: 0.2552\n",
      "Epoch 4/20\n",
      "245/245 [==============================] - 45s 183ms/step - loss: 4.1688 - accuracy: 0.1499 - val_loss: 4.1354 - val_accuracy: 0.2265\n",
      "Epoch 5/20\n",
      "245/245 [==============================] - 45s 183ms/step - loss: 3.8174 - accuracy: 0.1936 - val_loss: 3.5916 - val_accuracy: 0.2862\n",
      "Epoch 6/20\n",
      "245/245 [==============================] - 44s 181ms/step - loss: 3.4854 - accuracy: 0.2447 - val_loss: 3.2724 - val_accuracy: 0.3407\n",
      "Epoch 7/20\n",
      "245/245 [==============================] - 45s 182ms/step - loss: 3.1383 - accuracy: 0.2977 - val_loss: 3.1541 - val_accuracy: 0.3570\n",
      "Epoch 8/20\n",
      "245/245 [==============================] - 44s 181ms/step - loss: 2.7772 - accuracy: 0.3554 - val_loss: 3.1788 - val_accuracy: 0.3479\n",
      "Epoch 9/20\n",
      "245/245 [==============================] - 44s 180ms/step - loss: 2.3901 - accuracy: 0.4208 - val_loss: 3.1875 - val_accuracy: 0.3615\n",
      "Epoch 10/20\n",
      "245/245 [==============================] - 44s 180ms/step - loss: 1.9915 - accuracy: 0.4950 - val_loss: 3.1774 - val_accuracy: 0.3818\n",
      "Epoch 11/20\n",
      "245/245 [==============================] - 45s 182ms/step - loss: 1.6027 - accuracy: 0.5767 - val_loss: 3.2564 - val_accuracy: 0.3872\n",
      "Epoch 12/20\n",
      "245/245 [==============================] - 45s 182ms/step - loss: 1.2572 - accuracy: 0.6558 - val_loss: 3.5784 - val_accuracy: 0.3581\n",
      "Epoch 13/20\n",
      "245/245 [==============================] - 45s 183ms/step - loss: 0.9864 - accuracy: 0.7223 - val_loss: 3.8340 - val_accuracy: 0.3662\n",
      "Epoch 14/20\n",
      "245/245 [==============================] - 45s 184ms/step - loss: 0.7938 - accuracy: 0.7737 - val_loss: 4.0068 - val_accuracy: 0.3619\n",
      "Epoch 15/20\n",
      "245/245 [==============================] - 43s 177ms/step - loss: 0.6501 - accuracy: 0.8090 - val_loss: 4.2330 - val_accuracy: 0.3438\n",
      "Epoch 16/20\n",
      "245/245 [==============================] - 44s 180ms/step - loss: 0.5445 - accuracy: 0.8384 - val_loss: 4.3633 - val_accuracy: 0.3703\n",
      "Epoch 17/20\n",
      "245/245 [==============================] - 49s 200ms/step - loss: 0.4870 - accuracy: 0.8532 - val_loss: 4.6725 - val_accuracy: 0.3589\n",
      "Epoch 18/20\n",
      "245/245 [==============================] - 51s 209ms/step - loss: 0.4327 - accuracy: 0.8705 - val_loss: 4.4605 - val_accuracy: 0.3708\n",
      "Epoch 19/20\n",
      "245/245 [==============================] - 50s 206ms/step - loss: 0.4032 - accuracy: 0.8766 - val_loss: 4.8138 - val_accuracy: 0.3607\n",
      "Epoch 20/20\n",
      "245/245 [==============================] - 65s 267ms/step - loss: 0.3770 - accuracy: 0.8835 - val_loss: 5.0738 - val_accuracy: 0.3511\n"
     ]
    }
   ],
   "source": [
    "# Train the model1\n",
    "history = model.fit(\n",
    "    generator,\n",
    "    validation_data=generator_test,\n",
    "    epochs=20,\n",
    "    batch_size=32\n",
    ")"
   ]
  },
  {
   "cell_type": "code",
   "execution_count": 17,
   "id": "db86e943",
   "metadata": {},
   "outputs": [
    {
     "name": "stderr",
     "output_type": "stream",
     "text": [
      "WARNING:absl:Found untraced functions such as _jit_compiled_convolution_op, _jit_compiled_convolution_op, _jit_compiled_convolution_op, _jit_compiled_convolution_op, _jit_compiled_convolution_op while saving (showing 5 of 5). These functions will not be directly callable after loading.\n"
     ]
    },
    {
     "name": "stdout",
     "output_type": "stream",
     "text": [
      "INFO:tensorflow:Assets written to: caltech256/model1/assets\n"
     ]
    },
    {
     "name": "stderr",
     "output_type": "stream",
     "text": [
      "INFO:tensorflow:Assets written to: caltech256/model1/assets\n"
     ]
    },
    {
     "name": "stdout",
     "output_type": "stream",
     "text": [
      "Model: \"sequential_2\"\n",
      "_________________________________________________________________\n",
      " Layer (type)                Output Shape              Param #   \n",
      "=================================================================\n",
      " conv2d_10 (Conv2D)          (None, 150, 150, 32)      896       \n",
      "                                                                 \n",
      " batch_normalization_10 (Bat  (None, 150, 150, 32)     128       \n",
      " chNormalization)                                                \n",
      "                                                                 \n",
      " max_pooling2d_10 (MaxPoolin  (None, 75, 75, 32)       0         \n",
      " g2D)                                                            \n",
      "                                                                 \n",
      " conv2d_11 (Conv2D)          (None, 73, 73, 64)        18496     \n",
      "                                                                 \n",
      " batch_normalization_11 (Bat  (None, 73, 73, 64)       256       \n",
      " chNormalization)                                                \n",
      "                                                                 \n",
      " max_pooling2d_11 (MaxPoolin  (None, 36, 36, 64)       0         \n",
      " g2D)                                                            \n",
      "                                                                 \n",
      " conv2d_12 (Conv2D)          (None, 34, 34, 128)       73856     \n",
      "                                                                 \n",
      " batch_normalization_12 (Bat  (None, 34, 34, 128)      512       \n",
      " chNormalization)                                                \n",
      "                                                                 \n",
      " max_pooling2d_12 (MaxPoolin  (None, 17, 17, 128)      0         \n",
      " g2D)                                                            \n",
      "                                                                 \n",
      " conv2d_13 (Conv2D)          (None, 15, 15, 256)       295168    \n",
      "                                                                 \n",
      " batch_normalization_13 (Bat  (None, 15, 15, 256)      1024      \n",
      " chNormalization)                                                \n",
      "                                                                 \n",
      " max_pooling2d_13 (MaxPoolin  (None, 7, 7, 256)        0         \n",
      " g2D)                                                            \n",
      "                                                                 \n",
      " conv2d_14 (Conv2D)          (None, 5, 5, 512)         1180160   \n",
      "                                                                 \n",
      " batch_normalization_14 (Bat  (None, 5, 5, 512)        2048      \n",
      " chNormalization)                                                \n",
      "                                                                 \n",
      " max_pooling2d_14 (MaxPoolin  (None, 2, 2, 512)        0         \n",
      " g2D)                                                            \n",
      "                                                                 \n",
      " flatten_2 (Flatten)         (None, 2048)              0         \n",
      "                                                                 \n",
      " dense_4 (Dense)             (None, 100)               204900    \n",
      "                                                                 \n",
      " dropout_2 (Dropout)         (None, 100)               0         \n",
      "                                                                 \n",
      " dense_5 (Dense)             (None, 257)               25957     \n",
      "                                                                 \n",
      "=================================================================\n",
      "Total params: 1,803,401\n",
      "Trainable params: 1,801,417\n",
      "Non-trainable params: 1,984\n",
      "_________________________________________________________________\n"
     ]
    }
   ],
   "source": [
    "# Pickle the history object\n",
    "with open('caltech256/history.pickle', 'wb') as f:\n",
    "    pickle.dump(history.history, f)\n",
    "# Save the model1    \n",
    "model.save('caltech256/model1')\n",
    "model.summary()"
   ]
  },
  {
   "cell_type": "code",
   "execution_count": 21,
   "id": "d6b38042",
   "metadata": {
    "scrolled": true
   },
   "outputs": [
    {
     "data": {
      "image/png": "[encoded data removed]",
      "text/plain": [
       "<Figure size 640x480 with 1 Axes>"
      ]
     },
     "metadata": {},
     "output_type": "display_data"
    }
   ],
   "source": [
    "# Plot the model1\n",
    "PLT.plot(history.history['accuracy'],color='green')\n",
    "PLT.plot(history.history['val_accuracy'],color='red')\n",
    "PLT.title('Model1 Accuracy')\n",
    "PLT.ylabel('Accuracy')\n",
    "PLT.xlabel('Epoch')\n",
    "PLT.legend(['Train_Accuracy','Test_Accuracy'], loc='lower right')\n",
    "PLT.show()"
   ]
  },
  {
   "cell_type": "markdown",
   "id": "d325c86d",
   "metadata": {},
   "source": [
    "# Model2 "
   ]
  },
  {
   "cell_type": "code",
   "execution_count": 24,
   "id": "d6f34a15",
   "metadata": {},
   "outputs": [],
   "source": [
    "# 6-layer CNN model2 with default learning rate (lr=0.001) and Adam optimizer\n",
    "\n",
    "# Define the model2\n",
    "model = Sequential([\n",
    "  \n",
    "    Conv2D(32, 3, strides=1, activation='relu', padding='same',input_shape=(150,150,3)),\n",
    "    Conv2D(32, 3, strides=1, activation='relu', padding='same'), \n",
    "    MaxPool2D(pool_size=2),\n",
    "    BatchNormalization(),\n",
    "    Dropout(0.2),\n",
    "    \n",
    "    Conv2D(64, 3, strides=1, activation='relu'),\n",
    "    Conv2D(64, 3, strides=1, activation='relu'),\n",
    "    MaxPool2D(pool_size=2),\n",
    "    BatchNormalization(),\n",
    "    Dropout(0.2),\n",
    "       \n",
    "    Conv2D(64, 3, strides=1, activation='relu'),\n",
    "    Conv2D(64, 3, strides=1, activation='relu'),\n",
    "    MaxPool2D(pool_size=2),\n",
    "    BatchNormalization(),\n",
    "    Dropout(0.2),\n",
    "    \n",
    "    Dense(256, activation='relu'),\n",
    "    Dropout(0.5),\n",
    "    Dense(512, activation='relu'),\n",
    "    Dropout(0.5),\n",
    "    \n",
    "    Flatten(),\n",
    "    Dense(257, activation='softmax')\n",
    "])\n",
    "\n",
    "# Compile the model2\n",
    "model.compile(optimizer=Adam(), loss='categorical_crossentropy', metrics=['accuracy'])"
   ]
  },
  {
   "cell_type": "code",
   "execution_count": 25,
   "id": "9ee973b4",
   "metadata": {},
   "outputs": [
    {
     "name": "stdout",
     "output_type": "stream",
     "text": [
      "Epoch 1/20\n"
     ]
    },
    {
     "name": "stderr",
     "output_type": "stream",
     "text": [
      "2023-02-25 22:22:13.658211: E tensorflow/core/grappler/optimizers/meta_optimizer.cc:954] layout failed: INVALID_ARGUMENT: Size of values 0 does not match size of permutation 4 @ fanin shape insequential_4/dropout_8/dropout/SelectV2-2-TransposeNHWCToNCHW-LayoutOptimizer\n",
      "2023-02-25 22:22:14.672760: W tensorflow/tsl/framework/bfc_allocator.cc:290] Allocator (GPU_0_bfc) ran out of memory trying to allocate 2.09GiB with freed_by_count=0. The caller indicates that this is not a failure, but this may mean that there could be performance gains if more memory were available.\n",
      "2023-02-25 22:22:14.672781: W tensorflow/tsl/framework/bfc_allocator.cc:290] Allocator (GPU_0_bfc) ran out of memory trying to allocate 2.09GiB with freed_by_count=0. The caller indicates that this is not a failure, but this may mean that there could be performance gains if more memory were available.\n",
      "2023-02-25 22:22:14.914560: W tensorflow/tsl/framework/bfc_allocator.cc:290] Allocator (GPU_0_bfc) ran out of memory trying to allocate 3.43GiB with freed_by_count=0. The caller indicates that this is not a failure, but this may mean that there could be performance gains if more memory were available.\n",
      "2023-02-25 22:22:14.914586: W tensorflow/tsl/framework/bfc_allocator.cc:290] Allocator (GPU_0_bfc) ran out of memory trying to allocate 3.43GiB with freed_by_count=0. The caller indicates that this is not a failure, but this may mean that there could be performance gains if more memory were available.\n"
     ]
    },
    {
     "name": "stdout",
     "output_type": "stream",
     "text": [
      "245/245 [==============================] - 68s 271ms/step - loss: 5.7423 - accuracy: 0.0261 - val_loss: 5.3541 - val_accuracy: 0.0729\n",
      "Epoch 2/20\n",
      "245/245 [==============================] - 67s 273ms/step - loss: 4.7442 - accuracy: 0.0947 - val_loss: 4.4175 - val_accuracy: 0.1805\n",
      "Epoch 3/20\n",
      "245/245 [==============================] - 80s 327ms/step - loss: 4.2199 - accuracy: 0.1643 - val_loss: 3.6503 - val_accuracy: 0.3057\n",
      "Epoch 4/20\n",
      "245/245 [==============================] - 70s 285ms/step - loss: 3.7465 - accuracy: 0.2278 - val_loss: 3.5818 - val_accuracy: 0.3261\n",
      "Epoch 5/20\n",
      "245/245 [==============================] - 71s 289ms/step - loss: 3.2767 - accuracy: 0.2933 - val_loss: 3.5853 - val_accuracy: 0.3305\n",
      "Epoch 6/20\n",
      "245/245 [==============================] - 68s 276ms/step - loss: 2.7708 - accuracy: 0.3779 - val_loss: 3.8700 - val_accuracy: 0.3200\n",
      "Epoch 7/20\n",
      "245/245 [==============================] - 67s 275ms/step - loss: 2.2624 - accuracy: 0.4641 - val_loss: 4.6566 - val_accuracy: 0.2961\n",
      "Epoch 8/20\n",
      "245/245 [==============================] - 73s 298ms/step - loss: 1.7723 - accuracy: 0.5559 - val_loss: 4.2855 - val_accuracy: 0.3081\n",
      "Epoch 9/20\n",
      "245/245 [==============================] - 65s 264ms/step - loss: 1.3646 - accuracy: 0.6440 - val_loss: 4.8871 - val_accuracy: 0.3010\n",
      "Epoch 10/20\n",
      "245/245 [==============================] - 63s 258ms/step - loss: 1.0202 - accuracy: 0.7197 - val_loss: 4.6787 - val_accuracy: 0.3401\n",
      "Epoch 11/20\n",
      "245/245 [==============================] - 66s 269ms/step - loss: 0.7902 - accuracy: 0.7796 - val_loss: 5.2273 - val_accuracy: 0.3330\n",
      "Epoch 12/20\n",
      "245/245 [==============================] - 63s 257ms/step - loss: 0.6366 - accuracy: 0.8172 - val_loss: 6.2299 - val_accuracy: 0.3169\n",
      "Epoch 13/20\n",
      "245/245 [==============================] - 69s 280ms/step - loss: 0.5127 - accuracy: 0.8522 - val_loss: 5.6144 - val_accuracy: 0.3409\n",
      "Epoch 14/20\n",
      "245/245 [==============================] - 78s 318ms/step - loss: 0.4398 - accuracy: 0.8689 - val_loss: 5.7964 - val_accuracy: 0.3291\n",
      "Epoch 15/20\n",
      "245/245 [==============================] - 84s 342ms/step - loss: 0.3657 - accuracy: 0.8895 - val_loss: 6.6585 - val_accuracy: 0.3227\n",
      "Epoch 16/20\n",
      "245/245 [==============================] - 136s 553ms/step - loss: 0.3196 - accuracy: 0.9051 - val_loss: 6.0521 - val_accuracy: 0.3429\n",
      "Epoch 17/20\n",
      "245/245 [==============================] - 48s 196ms/step - loss: 0.2767 - accuracy: 0.9170 - val_loss: 6.1490 - val_accuracy: 0.3391\n",
      "Epoch 18/20\n",
      "245/245 [==============================] - 57s 231ms/step - loss: 0.2509 - accuracy: 0.9240 - val_loss: 6.2964 - val_accuracy: 0.3380\n",
      "Epoch 19/20\n",
      "245/245 [==============================] - 56s 229ms/step - loss: 0.2347 - accuracy: 0.9281 - val_loss: 6.3698 - val_accuracy: 0.3477\n",
      "Epoch 20/20\n",
      "245/245 [==============================] - 56s 229ms/step - loss: 0.2067 - accuracy: 0.9364 - val_loss: 6.7678 - val_accuracy: 0.3518\n"
     ]
    }
   ],
   "source": [
    "# Train the model2\n",
    "history1 = model.fit(\n",
    "    generator,\n",
    "    validation_data=generator_test,\n",
    "    epochs=20,\n",
    "    batch_size=32\n",
    ")"
   ]
  },
  {
   "cell_type": "code",
   "execution_count": 26,
   "id": "e8dec82e",
   "metadata": {},
   "outputs": [
    {
     "name": "stderr",
     "output_type": "stream",
     "text": [
      "WARNING:absl:Found untraced functions such as _jit_compiled_convolution_op, _jit_compiled_convolution_op, _jit_compiled_convolution_op, _jit_compiled_convolution_op, _jit_compiled_convolution_op while saving (showing 5 of 6). These functions will not be directly callable after loading.\n"
     ]
    },
    {
     "name": "stdout",
     "output_type": "stream",
     "text": [
      "INFO:tensorflow:Assets written to: caltech256/model2/assets\n"
     ]
    },
    {
     "name": "stderr",
     "output_type": "stream",
     "text": [
      "INFO:tensorflow:Assets written to: caltech256/model2/assets\n"
     ]
    },
    {
     "name": "stdout",
     "output_type": "stream",
     "text": [
      "Model: \"sequential_4\"\n",
      "_________________________________________________________________\n",
      " Layer (type)                Output Shape              Param #   \n",
      "=================================================================\n",
      " conv2d_21 (Conv2D)          (None, 150, 150, 32)      896       \n",
      "                                                                 \n",
      " conv2d_22 (Conv2D)          (None, 150, 150, 32)      9248      \n",
      "                                                                 \n",
      " max_pooling2d_18 (MaxPoolin  (None, 75, 75, 32)       0         \n",
      " g2D)                                                            \n",
      "                                                                 \n",
      " batch_normalization_18 (Bat  (None, 75, 75, 32)       128       \n",
      " chNormalization)                                                \n",
      "                                                                 \n",
      " dropout_8 (Dropout)         (None, 75, 75, 32)        0         \n",
      "                                                                 \n",
      " conv2d_23 (Conv2D)          (None, 73, 73, 64)        18496     \n",
      "                                                                 \n",
      " conv2d_24 (Conv2D)          (None, 71, 71, 64)        36928     \n",
      "                                                                 \n",
      " max_pooling2d_19 (MaxPoolin  (None, 35, 35, 64)       0         \n",
      " g2D)                                                            \n",
      "                                                                 \n",
      " batch_normalization_19 (Bat  (None, 35, 35, 64)       256       \n",
      " chNormalization)                                                \n",
      "                                                                 \n",
      " dropout_9 (Dropout)         (None, 35, 35, 64)        0         \n",
      "                                                                 \n",
      " conv2d_25 (Conv2D)          (None, 33, 33, 64)        36928     \n",
      "                                                                 \n",
      " conv2d_26 (Conv2D)          (None, 31, 31, 64)        36928     \n",
      "                                                                 \n",
      " max_pooling2d_20 (MaxPoolin  (None, 15, 15, 64)       0         \n",
      " g2D)                                                            \n",
      "                                                                 \n",
      " batch_normalization_20 (Bat  (None, 15, 15, 64)       256       \n",
      " chNormalization)                                                \n",
      "                                                                 \n",
      " dropout_10 (Dropout)        (None, 15, 15, 64)        0         \n",
      "                                                                 \n",
      " dense_9 (Dense)             (None, 15, 15, 256)       16640     \n",
      "                                                                 \n",
      " dropout_11 (Dropout)        (None, 15, 15, 256)       0         \n",
      "                                                                 \n",
      " dense_10 (Dense)            (None, 15, 15, 512)       131584    \n",
      "                                                                 \n",
      " dropout_12 (Dropout)        (None, 15, 15, 512)       0         \n",
      "                                                                 \n",
      " flatten_4 (Flatten)         (None, 115200)            0         \n",
      "                                                                 \n",
      " dense_11 (Dense)            (None, 257)               29606657  \n",
      "                                                                 \n",
      "=================================================================\n",
      "Total params: 29,894,945\n",
      "Trainable params: 29,894,625\n",
      "Non-trainable params: 320\n",
      "_________________________________________________________________\n"
     ]
    }
   ],
   "source": [
    "# Pickle the history object\n",
    "with open('caltech256/history1.pickle', 'wb') as f:\n",
    "    pickle.dump(history1.history, f)\n",
    "# Save the model2\n",
    "model.save('caltech256/model2')\n",
    "model.summary()"
   ]
  },
  {
   "cell_type": "code",
   "execution_count": 27,
   "id": "bce3d8de",
   "metadata": {},
   "outputs": [
    {
     "data": {
      "image/png": "[encoded data removed]",
      "text/plain": [
       "<Figure size 640x480 with 1 Axes>"
      ]
     },
     "metadata": {},
     "output_type": "display_data"
    }
   ],
   "source": [
    "# Plot the model2\n",
    "PLT.plot(history1.history['accuracy'],color='green')\n",
    "PLT.plot(history1.history['val_accuracy'],color='red')\n",
    "PLT.title('Model2 Accuracy')\n",
    "PLT.ylabel('Accuracy')\n",
    "PLT.xlabel('Epoch')\n",
    "PLT.legend(['Train_Accuracy','Test_Accuracy'], loc='lower right')\n",
    "PLT.show()"
   ]
  },
  {
   "cell_type": "markdown",
   "id": "94801443",
   "metadata": {},
   "source": [
    "# Model3"
   ]
  },
  {
   "cell_type": "code",
   "execution_count": 30,
   "id": "38514500",
   "metadata": {},
   "outputs": [],
   "source": [
    "## 5-layer CNN model3 with different learning rates for different convolutional layers and Adam optimizer\n",
    "\n",
    "# Define the learning rate schedule\n",
    "boundaries = [5, 10, 15, 20] # Epochs at which to change the learning rate\n",
    "values = [1e-2,1e-3, 1e-4, 1e-5,1e-6] # Learning rates for each boundary\n",
    "learning_rate_fn = PiecewiseConstantDecay(boundaries, values)\n",
    "\n",
    "# Define the model3\n",
    "model = Sequential([\n",
    "     \n",
    "Conv2D(32, 3, strides=1, activation='relu', padding='same',input_shape=(150,150,3),name='conv1'),\n",
    "    BatchNormalization(),\n",
    "    MaxPool2D(pool_size=2),\n",
    "    \n",
    "    Conv2D(64, 3, strides=1, activation='relu',name='conv2'),\n",
    "    BatchNormalization(),\n",
    "    MaxPool2D(pool_size=2),\n",
    "    \n",
    "    \n",
    "    Conv2D(128, 3, strides=1, activation='relu',name='conv3'),\n",
    "    BatchNormalization(),\n",
    "    MaxPool2D(pool_size=2, strides=2),\n",
    "    \n",
    "    \n",
    "    Conv2D(256, 3, strides=1, activation='relu',name='conv4'),\n",
    "    BatchNormalization(),\n",
    "    MaxPool2D(pool_size=2),\n",
    "    \n",
    "    \n",
    "    Conv2D(512, 3, strides=1, activation='relu',name='conv5'),\n",
    "    BatchNormalization(),\n",
    "    MaxPool2D(pool_size=2),\n",
    "     \n",
    "    Flatten(),\n",
    "    Dense(100, activation='relu'),\n",
    "    Dropout(0.5),\n",
    "    Dense(257, activation='softmax')\n",
    "])\n",
    "\n",
    "# Define the optimizer with different learning rates for each convolutional layer\n",
    "opt = tf.keras.optimizers.legacy.Adam(learning_rate=learning_rate_fn)\n",
    "model.get_layer('conv1').optimizer = tf.keras.optimizers.Adam(learning_rate=values[0])\n",
    "model.get_layer('conv2').optimizer = tf.keras.optimizers.Adam(learning_rate=values[1])\n",
    "model.get_layer('conv3').optimizer = tf.keras.optimizers.Adam(learning_rate=values[2])\n",
    "model.get_layer('conv4').optimizer = tf.keras.optimizers.Adam(learning_rate=values[3])\n",
    "model.get_layer('conv5').optimizer = tf.keras.optimizers.Adam(learning_rate=values[4])\n",
    "\n",
    "# Compile the model3\n",
    "model.compile(optimizer=opt, loss='categorical_crossentropy', metrics=['accuracy'])"
   ]
  },
  {
   "cell_type": "code",
   "execution_count": 31,
   "id": "85882ffe",
   "metadata": {},
   "outputs": [
    {
     "name": "stdout",
     "output_type": "stream",
     "text": [
      "Epoch 1/20\n",
      "245/245 [==============================] - 57s 230ms/step - loss: 5.7383 - accuracy: 0.0042 - val_loss: 5.5454 - val_accuracy: 0.0044\n",
      "Epoch 2/20\n",
      "245/245 [==============================] - 60s 244ms/step - loss: 5.6767 - accuracy: 0.0046 - val_loss: 5.5468 - val_accuracy: 0.0052\n",
      "Epoch 3/20\n",
      "245/245 [==============================] - 47s 189ms/step - loss: 5.6567 - accuracy: 0.0043 - val_loss: 5.5468 - val_accuracy: 0.0054\n",
      "Epoch 4/20\n",
      "245/245 [==============================] - 43s 175ms/step - loss: 5.6436 - accuracy: 0.0041 - val_loss: 5.5424 - val_accuracy: 0.0049\n",
      "Epoch 5/20\n",
      "245/245 [==============================] - 43s 174ms/step - loss: 5.6295 - accuracy: 0.0041 - val_loss: 5.5387 - val_accuracy: 0.0055\n",
      "Epoch 6/20\n",
      "245/245 [==============================] - 42s 172ms/step - loss: 5.6211 - accuracy: 0.0040 - val_loss: 5.5364 - val_accuracy: 0.0050\n",
      "Epoch 7/20\n",
      "245/245 [==============================] - 42s 171ms/step - loss: 5.6127 - accuracy: 0.0038 - val_loss: 5.5353 - val_accuracy: 0.0050\n",
      "Epoch 8/20\n",
      "245/245 [==============================] - 42s 171ms/step - loss: 5.6025 - accuracy: 0.0041 - val_loss: 5.5341 - val_accuracy: 0.0045\n",
      "Epoch 9/20\n",
      "245/245 [==============================] - 42s 173ms/step - loss: 5.5995 - accuracy: 0.0047 - val_loss: 5.5336 - val_accuracy: 0.0045\n",
      "Epoch 10/20\n",
      "245/245 [==============================] - 43s 175ms/step - loss: 5.5940 - accuracy: 0.0042 - val_loss: 5.5326 - val_accuracy: 0.0042\n",
      "Epoch 11/20\n",
      "245/245 [==============================] - 41s 169ms/step - loss: 5.5901 - accuracy: 0.0042 - val_loss: 5.5317 - val_accuracy: 0.0041\n",
      "Epoch 12/20\n",
      "245/245 [==============================] - 43s 176ms/step - loss: 5.5806 - accuracy: 0.0044 - val_loss: 5.5314 - val_accuracy: 0.0039\n",
      "Epoch 13/20\n",
      "245/245 [==============================] - 42s 172ms/step - loss: 5.5806 - accuracy: 0.0042 - val_loss: 5.5311 - val_accuracy: 0.0039\n",
      "Epoch 14/20\n",
      "245/245 [==============================] - 44s 178ms/step - loss: 5.5765 - accuracy: 0.0045 - val_loss: 5.5306 - val_accuracy: 0.0042\n",
      "Epoch 15/20\n",
      "245/245 [==============================] - 45s 185ms/step - loss: 5.5734 - accuracy: 0.0047 - val_loss: 5.5306 - val_accuracy: 0.0037\n",
      "Epoch 16/20\n",
      "245/245 [==============================] - 43s 176ms/step - loss: 5.5714 - accuracy: 0.0047 - val_loss: 5.5302 - val_accuracy: 0.0036\n",
      "Epoch 17/20\n",
      "245/245 [==============================] - 49s 200ms/step - loss: 5.5690 - accuracy: 0.0043 - val_loss: 5.5306 - val_accuracy: 0.0034\n",
      "Epoch 18/20\n",
      "245/245 [==============================] - 55s 224ms/step - loss: 5.5685 - accuracy: 0.0052 - val_loss: 5.5302 - val_accuracy: 0.0034\n",
      "Epoch 19/20\n",
      "245/245 [==============================] - 52s 211ms/step - loss: 5.5651 - accuracy: 0.0048 - val_loss: 5.5303 - val_accuracy: 0.0026\n",
      "Epoch 20/20\n",
      "245/245 [==============================] - 51s 207ms/step - loss: 5.5654 - accuracy: 0.0043 - val_loss: 5.5301 - val_accuracy: 0.0032\n"
     ]
    }
   ],
   "source": [
    "# Train the model3\n",
    "history2 = model.fit(\n",
    "    generator,\n",
    "    validation_data=generator_test,\n",
    "    epochs=20,\n",
    ")"
   ]
  },
  {
   "cell_type": "code",
   "execution_count": 32,
   "id": "59609cf2",
   "metadata": {},
   "outputs": [
    {
     "name": "stderr",
     "output_type": "stream",
     "text": [
      "WARNING:absl:Found untraced functions such as _jit_compiled_convolution_op, _jit_compiled_convolution_op, _jit_compiled_convolution_op, _jit_compiled_convolution_op, _jit_compiled_convolution_op while saving (showing 5 of 10). These functions will not be directly callable after loading.\n"
     ]
    },
    {
     "name": "stdout",
     "output_type": "stream",
     "text": [
      "INFO:tensorflow:Assets written to: caltech256/model3/assets\n"
     ]
    },
    {
     "name": "stderr",
     "output_type": "stream",
     "text": [
      "INFO:tensorflow:Assets written to: caltech256/model3/assets\n"
     ]
    },
    {
     "name": "stdout",
     "output_type": "stream",
     "text": [
      "Model: \"sequential_6\"\n",
      "_________________________________________________________________\n",
      " Layer (type)                Output Shape              Param #   \n",
      "=================================================================\n",
      " conv1 (Conv2D)              (None, 150, 150, 32)      896       \n",
      "                                                                 \n",
      " batch_normalization_26 (Bat  (None, 150, 150, 32)     128       \n",
      " chNormalization)                                                \n",
      "                                                                 \n",
      " max_pooling2d_26 (MaxPoolin  (None, 75, 75, 32)       0         \n",
      " g2D)                                                            \n",
      "                                                                 \n",
      " conv2 (Conv2D)              (None, 73, 73, 64)        18496     \n",
      "                                                                 \n",
      " batch_normalization_27 (Bat  (None, 73, 73, 64)       256       \n",
      " chNormalization)                                                \n",
      "                                                                 \n",
      " max_pooling2d_27 (MaxPoolin  (None, 36, 36, 64)       0         \n",
      " g2D)                                                            \n",
      "                                                                 \n",
      " conv3 (Conv2D)              (None, 34, 34, 128)       73856     \n",
      "                                                                 \n",
      " batch_normalization_28 (Bat  (None, 34, 34, 128)      512       \n",
      " chNormalization)                                                \n",
      "                                                                 \n",
      " max_pooling2d_28 (MaxPoolin  (None, 17, 17, 128)      0         \n",
      " g2D)                                                            \n",
      "                                                                 \n",
      " conv4 (Conv2D)              (None, 15, 15, 256)       295168    \n",
      "                                                                 \n",
      " batch_normalization_29 (Bat  (None, 15, 15, 256)      1024      \n",
      " chNormalization)                                                \n",
      "                                                                 \n",
      " max_pooling2d_29 (MaxPoolin  (None, 7, 7, 256)        0         \n",
      " g2D)                                                            \n",
      "                                                                 \n",
      " conv5 (Conv2D)              (None, 5, 5, 512)         1180160   \n",
      "                                                                 \n",
      " batch_normalization_30 (Bat  (None, 5, 5, 512)        2048      \n",
      " chNormalization)                                                \n",
      "                                                                 \n",
      " max_pooling2d_30 (MaxPoolin  (None, 2, 2, 512)        0         \n",
      " g2D)                                                            \n",
      "                                                                 \n",
      " flatten_6 (Flatten)         (None, 2048)              0         \n",
      "                                                                 \n",
      " dense_14 (Dense)            (None, 100)               204900    \n",
      "                                                                 \n",
      " dropout_14 (Dropout)        (None, 100)               0         \n",
      "                                                                 \n",
      " dense_15 (Dense)            (None, 257)               25957     \n",
      "                                                                 \n",
      "=================================================================\n",
      "Total params: 1,803,401\n",
      "Trainable params: 1,801,417\n",
      "Non-trainable params: 1,984\n",
      "_________________________________________________________________\n"
     ]
    }
   ],
   "source": [
    "# Pickle the history object\n",
    "with open('caltech256/history2.pickle', 'wb') as f:\n",
    "    pickle.dump(history2.history, f)\n",
    "# save the model3    \n",
    "model.save('caltech256/model3')\n",
    "model.summary()"
   ]
  },
  {
   "cell_type": "code",
   "execution_count": 33,
   "id": "00618232",
   "metadata": {},
   "outputs": [
    {
     "data": {
      "image/png": "[encoded data removed]",
      "text/plain": [
       "<Figure size 640x480 with 1 Axes>"
      ]
     },
     "metadata": {},
     "output_type": "display_data"
    }
   ],
   "source": [
    "# Plot the model3\n",
    "PLT.plot(history2.history['accuracy'],color='green')\n",
    "PLT.plot(history2.history['val_accuracy'],color='red')\n",
    "PLT.title('Model3 Accuracy')\n",
    "PLT.ylabel('Accuracy')\n",
    "PLT.xlabel('Epoch')\n",
    "PLT.legend(['Train_Accuracy','Test_Accuracy'], loc='lower right')\n",
    "PLT.show()"
   ]
  }
 ],
 "metadata": {
  "kernelspec": {
   "display_name": "Python 3 (ipykernel)",
   "language": "python",
   "name": "python3"
  },
  "language_info": {
   "codemirror_mode": {
    "name": "ipython",
    "version": 3
   },
   "file_extension": ".py",
   "mimetype": "text/x-python",
   "name": "python",
   "nbconvert_exporter": "python",
   "pygments_lexer": "ipython3",
   "version": "3.9.13"
  }
 },
 "nbformat": 4,
 "nbformat_minor": 5
}
